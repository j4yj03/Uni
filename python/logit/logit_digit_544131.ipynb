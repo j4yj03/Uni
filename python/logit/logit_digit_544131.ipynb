{
 "cells": [
  {
   "cell_type": "code",
   "execution_count": 1,
   "metadata": {},
   "outputs": [],
   "source": [
    "###############################################################################\n",
    "# Boston Dataset: lineare Regression\n",
    "# Sidney Göhler 544131\n",
    "#### IKT (M)\n",
    "# Special Engineering SoSe20\n",
    "# Prof. Dr. Andreas Zeiser\n",
    "###############################################################################\n",
    "# Imports\n",
    "import numpy as np\n",
    "import pandas as pd\n",
    "import matplotlib.pyplot as plt\n",
    "from mpl_toolkits.mplot3d import Axes3D\n",
    "from matplotlib import cm\n",
    "import matplotlib.gridspec as gridspec\n",
    "# import seaborn as sns #pip install searborn\n",
    "import logistische_regression as lr\n",
    "\n",
    "from sklearn.datasets import load_digits\n",
    "from scipy.stats.kde import gaussian_kde"
   ]
  },
  {
   "cell_type": "code",
   "execution_count": 2,
   "metadata": {},
   "outputs": [],
   "source": [
    "####################\n",
    "# load datasets\n",
    "####################\n",
    "dataset = load_digits()\n",
    "#print(dataset.DESCR, '\\n', '\\n')\n",
    "X = dataset.data\n",
    "y = dataset.target\n",
    "\n",
    "targets = dataset.target_names\n",
    "images = dataset.images\n",
    "\n"
   ]
  },
  {
   "cell_type": "code",
   "execution_count": 3,
   "metadata": {},
   "outputs": [],
   "source": [
    "mean, std = lr.StandardScaler_fit(X)\n",
    "\n",
    "X = lr.StandardScaler_transform(X, mean, std+10)"
   ]
  },
  {
   "cell_type": "code",
   "execution_count": 4,
   "metadata": {},
   "outputs": [
    {
     "name": "stdout",
     "output_type": "stream",
     "text": [
      "1.3473056603822613 -0.8571148139579597\n"
     ]
    }
   ],
   "source": [
    "print(np.max(X),np.min(X))"
   ]
  },
  {
   "cell_type": "code",
   "execution_count": null,
   "metadata": {
    "scrolled": true
   },
   "outputs": [],
   "source": [
    "for ind in [0,20,500,508,1700,1787]:\n",
    "    print(f'digit = {y[ind]} at index = {ind}')\n",
    "    plt.matshow(images[ind], cmap = cm.cividis)\n",
    "    plt.colorbar()\n",
    "    plt.show()\n",
    "    print(f'{images[ind]}\\n\\n\\n')"
   ]
  },
  {
   "cell_type": "code",
   "execution_count": 5,
   "metadata": {},
   "outputs": [],
   "source": [
    "####################\n",
    "# split dataset (80:20)\n",
    "####################\n",
    "\n",
    "\n",
    "X_train, X_test, y_train, y_test = lr.train_test_split(X, y, 0.8, 0)"
   ]
  },
  {
   "cell_type": "code",
   "execution_count": 6,
   "metadata": {},
   "outputs": [
    {
     "data": {
      "image/png": "[encoded data removed]",
      "text/plain": [
       "<Figure size 648x576 with 1 Axes>"
      ]
     },
     "metadata": {
      "needs_background": "light"
     },
     "output_type": "display_data"
    }
   ],
   "source": [
    "####################\n",
    "# explore trainingset\n",
    "####################\n",
    "\n",
    "# Häufigkeitsverteilung y (target)\n",
    "fig = plt.figure(figsize=(9, 8))\n",
    "\n",
    "labels, counts = np.unique(y_train, return_counts=True)\n",
    "\n",
    "plt.bar(labels, counts, align='center', width=0.95)\n",
    "plt.gca().set_xticks(labels)\n",
    "plt.xlabel('digit')\n",
    "plt.xlim(-1,10)\n",
    "plt.ylabel('count')\n",
    "plt.title('relative Häufigkeitsverteilung der digits der Trainingsdaten')\n",
    "plt.grid(color='0.75', linestyle='-.', linewidth=1, axis='y')\n",
    "plt.show()"
   ]
  },
  {
   "cell_type": "code",
   "execution_count": null,
   "metadata": {},
   "outputs": [],
   "source": [
    "print(labels,counts)"
   ]
  },
  {
   "cell_type": "code",
   "execution_count": null,
   "metadata": {
    "scrolled": false
   },
   "outputs": [],
   "source": [
    "mean_train, std_train = [], []\n",
    "coeffs = []\n",
    "\n",
    "\n",
    "\n",
    "labels = np.arange(-1,1,0.1)\n",
    "xmax = 1\n",
    "xmin = -1\n",
    "\n",
    "for ind, col in enumerate(X_train.T):\n",
    "\n",
    "    # print(df[col].describe())\n",
    "    mean, std = lr.StandardScaler_fit(col)\n",
    "    mean_train.append(mean)\n",
    "    std_train.append(std)\n",
    "    print(f'feature {ind} ({ind}):')\n",
    "    fig1 = plt.figure(figsize=(16, 6))\n",
    "    gs = gridspec.GridSpec(1, 2)\n",
    "    ax = plt.subplot(gs[0])\n",
    "    ax.set_xlabel('black value')\n",
    "    ax.set_ylabel(\"count\")\n",
    "    ax.set_title(f\"relative Häufigkeitsverteilung feature {ind} je Helligkeitswert\")\n",
    "    \n",
    "    label, counts = np.unique(col, return_counts=True)\n",
    "\n",
    "    ax.bar(label, counts, align='center', width=0.08)\n",
    "    ax.set_xticks(labels)\n",
    "    ax.set_xlim(xmin,xmax)\n",
    "    ##\n",
    "    ##\n",
    "    \n",
    "    # Verteilungsdichte bestimmen\n",
    "    # random offset um die covarianz numerisch betimmen zu können\n",
    "    rand = 0.0001*np.random.rand(np.size(col,0))-0.0001\n",
    "    # KDE\n",
    "    k = gaussian_kde(np.vstack([col+rand, y_train]))\n",
    "    xi, yi = np.mgrid[xmin-1:xmax+1:col.size**0.5*1j, y_train.min()-1:y_train.max()+1:y_train.size**0.5*1j]\n",
    "    zi = k(np.vstack([xi.flatten(), yi.flatten()]))\n",
    "    \n",
    "    ax2 = plt.subplot(gs[1])\n",
    "    ax2.set_xlabel('black value')\n",
    "    ax2.set_ylabel(\"digit\")\n",
    "    ax2.set_xticks(labels)\n",
    "    ax2.set_yticks(targets)\n",
    "    ax2.set_ylim(-1,10)\n",
    "    ax2.set_xlim(xmin,xmax)\n",
    "    #ax2.matshow([col,y_train])\n",
    "    \n",
    "    #plot density\n",
    "    #ax2.scatter(col, y_train, alpha=0.1)#, c=col, cmap=cm.cividis)\n",
    "    #im = ax2.pcolormesh(xedges, yedges, Z.T)\n",
    "    im = ax2.pcolormesh(xi, yi, zi.reshape(xi.shape), cmap = cm.cividis, alpha=1)\n",
    "    plt.colorbar(im)\n",
    "    \n",
    "    ##\n",
    "    coeff = np.mean(np.corrcoef(col, y_train.T))\n",
    "    coeffs.append(coeff)\n",
    "    ax2.set_title(f\"Dichteverteilung der Helligkeitswerte feature {ind} je digit\")\n",
    "    plt.show()\n",
    "\n",
    "    #Feature beschreiben\n",
    "    print(f'rows = {np.size(col)}\\nall numeric = {not np.isnan(col).any()} ({col.dtype})\\nmean = {mean}\\nstd = {std}\\ncorrcoef = {coeff}', '\\n', '\\n')\n"
   ]
  },
  {
   "cell_type": "code",
   "execution_count": 21,
   "metadata": {},
   "outputs": [
    {
     "name": "stdout",
     "output_type": "stream",
     "text": [
      "digit 0: 147 train pos label || 31 test pos label\n",
      "digit 1: 147 train pos label || 35 test pos label\n",
      "digit 2: 138 train pos label || 39 test pos label\n",
      "digit 3: 150 train pos label || 33 test pos label\n",
      "digit 4: 137 train pos label || 44 test pos label\n",
      "digit 5: 153 train pos label || 29 test pos label\n",
      "digit 6: 141 train pos label || 40 test pos label\n",
      "digit 7: 139 train pos label || 40 test pos label\n",
      "digit 8: 146 train pos label || 28 test pos label\n",
      "digit 9: 139 train pos label || 41 test pos label\n"
     ]
    }
   ],
   "source": [
    "#X_train_9 =X_train[y_train==9]\n",
    "y_train_t = []\n",
    "y_test_t = []\n",
    "\n",
    "\n",
    "for tar in targets:\n",
    "    y_train_t.append(np.array([1 if y == tar else 0 for y in y_train]))\n",
    "    y_test_t.append(np.array([1 if y == tar else 0 for y in y_test]))\n",
    "    print(f'digit {tar}: {len(y_train_t[tar][y_train_t[tar]==1])} train pos label || {len(y_test_t[tar][y_test_t[tar]==1])} test pos label')\n",
    "    #[147 147 138 150 137 153 141 139 146 139]"
   ]
  },
  {
   "cell_type": "code",
   "execution_count": null,
   "metadata": {},
   "outputs": [
    {
     "name": "stdout",
     "output_type": "stream",
     "text": [
      "0\n",
      "[-1.16274164e+01  0.00000000e+00 -3.23727171e-01 -5.79678185e-02\n",
      "  1.03306431e+00 -4.05367361e-01 -3.21995095e+00 -1.89351060e+00\n",
      " -2.34006596e-01  5.34510995e-04 -8.85712235e-01  4.38510015e-01\n",
      "  1.69706213e+00  2.31882847e+00  3.02329514e+00 -1.41123351e-02\n",
      " -3.20799603e-01 -1.83025953e-02  8.25734190e-01  1.50176525e+00\n",
      "  2.51533707e-02 -3.35380785e+00  3.50678441e+00  3.00800886e-01\n",
      " -1.53069123e-01 -8.83571868e-03  9.21172745e-01  2.73150019e-01\n",
      " -2.05413557e+00 -6.34768113e+00  1.08643364e-01  5.68188417e-01\n",
      " -1.96199723e-02  0.00000000e+00  1.31352335e+00  1.90194380e+00\n",
      " -1.44460634e+00 -5.07784554e+00 -4.79469889e-01  3.10097035e-01\n",
      "  0.00000000e+00 -5.58630198e-02 -1.41084539e-01  3.36410257e+00\n",
      " -4.44564427e+00 -3.13744124e+00 -2.36067451e-02  6.46394104e-01\n",
      "  1.52270275e-02 -1.58182953e-01 -1.14635332e+00  1.08518228e+00\n",
      " -3.44159082e-01  9.36875712e-01 -6.97716652e-01 -2.16807155e+00\n",
      " -7.23848656e-01 -2.23222464e-04 -4.48784914e-01 -1.74001747e+00\n",
      "  1.55509090e+00 -2.22259706e+00 -5.93520136e-01 -1.12467189e+00\n",
      " -6.53316703e-01] 0.0016305438928306342\n",
      "1\n",
      "[-1.75392927e+01  0.00000000e+00  7.46585017e-01  4.59373006e+00\n",
      "  2.73826680e+00 -9.97332107e+00  8.64040053e+00 -4.83813842e+00\n",
      " -2.36460448e-01 -3.01748345e-02 -1.53270342e+01 -7.08434120e+00\n",
      " -4.75908359e+00  4.71546033e+00  5.26184887e+00 -6.61140439e+00\n",
      " -2.10578683e-01  1.73758998e+00  8.76890428e+00  2.82030876e+00\n",
      "  1.32002224e+01  5.14753606e+00 -6.42059143e+00  5.16363475e+00\n",
      " -9.03753817e-01  8.75689840e-01 -9.36423219e-01 -1.93575519e+00\n",
      "  3.64471100e+00  2.61567260e+00  4.69699349e+00 -4.47367024e+00\n",
      "  1.04761538e-03  0.00000000e+00 -1.50430474e+00  3.21764308e+00\n",
      " -1.90221333e+00  2.22551141e+00 -2.89905874e+00 -4.08366134e+00\n",
      "  0.00000000e+00  6.70135726e-03 -1.11236141e+01 -1.08435706e-01\n",
      "  2.30907510e+00 -1.19909929e+00 -4.08537068e+00 -2.68397905e+00\n",
      " -5.39174186e-01 -2.90390460e-02 -4.75652406e+00 -3.71240516e+00\n",
      "  2.48084343e+00  8.35168270e-01  8.91183421e-01 -7.71515567e+00\n",
      "  5.28442327e+00 -1.09993174e-02 -1.60921248e+00 -4.33019444e+00\n",
      " -8.02767442e-02  3.38696175e+00  2.81863602e+00  2.23104141e+00\n",
      "  1.10649969e+00] 0.013399682225866483\n",
      "2\n",
      "[-1.22134639e+01  0.00000000e+00 -3.37619644e-04 -2.25597270e-01\n",
      "  7.58647767e-01  5.63411038e-01 -1.89139461e+00 -1.03086728e+00\n",
      " -1.08527472e-01 -5.56229073e-02  1.81692006e+00  2.52560645e+00\n",
      " -5.14517345e-01  2.99613601e+00 -5.23316341e-01  1.16540328e-01\n",
      "  1.92022449e-02 -1.42992382e-02 -7.23633242e-01  8.79183665e-01\n",
      " -1.85108479e+00  2.03267421e+00 -1.33535996e-01  1.80136026e+00\n",
      "  4.56022552e-02  2.70342220e-04 -2.64715493e+00 -5.39078820e+00\n",
      " -5.93732656e+00 -2.28150613e+00  2.35867005e+00  2.19247417e-01\n",
      "  1.86905348e-03  0.00000000e+00 -2.36036018e+00 -4.08072309e+00\n",
      " -1.28146096e+00 -1.30322351e+00 -3.00851280e+00 -4.09835060e+00\n",
      "  0.00000000e+00  4.38736434e-03  8.79009172e-01  1.27013220e+00\n",
      "  5.46622847e+00 -3.99769780e+00 -4.80705529e+00 -3.84999995e+00\n",
      "  1.40892598e-01  1.04275095e-01  2.58067177e+00  7.51885441e-01\n",
      "  5.50374502e+00  2.60059809e+00  3.37430817e+00  2.46569340e+00\n",
      " -2.21009127e-01  3.46972823e-02  7.50062807e-01  5.28253093e-01\n",
      "  6.29884850e-01  3.18621236e-01  2.95657929e+00  4.07791194e+00\n",
      "  7.72976691e-01] 0.0019554299489899303\n",
      "3\n"
     ]
    }
   ],
   "source": [
    "thetas = []\n",
    "Js = []\n",
    "\n",
    "for tar in targets:\n",
    "    print(tar)\n",
    "    theta, J = lr.LogisticRegression_fit(X_train, y_train_t[tar], 0.3, 3e-4)\n",
    "    print(theta,J)\n",
    "    thetas.append(theta)\n",
    "    Js.append(J)"
   ]
  },
  {
   "cell_type": "code",
   "execution_count": 26,
   "metadata": {},
   "outputs": [
    {
     "name": "stdout",
     "output_type": "stream",
     "text": [
      "0\n",
      "[0 0 0 0 1 0 0 0 0 0 0 0 0 0 0 0 0 0 0 1 0 0 0 0 0 0 0 0 0 0 0 0 0 0 0 0 0\n",
      " 0 1 0 0 0 0 0 0 0 0 0 0 0 0 1 0 0 0 0 0 0 0 0 0 0 0 0 0 0 0 0 0 0 1 0 0 0\n",
      " 0 0 0 1 0 0 0 0 0 0 0 0 0 0 0 0 0 0 0 0 0 0 0 0 0 0 0 0 0 0 0 0 0 0 0 0 0\n",
      " 1 0 0 0 0 1 0 1 0 0 0 0 0 0 0 0 0 1 0 1 0 0 1 1 0 0 0 0 0 0 0 0 0 0 0 0 0\n",
      " 0 0 0 0 0 0 0 0 0 0 0 1 0 0 0 0 0 0 0 0 0 0 0 0 0 0 0 0 0 0 0 0 0 0 0 0 0\n",
      " 0 0 0 1 0 0 0 0 0 0 0 0 1 0 1 0 0 0 0 0 0 0 0 0 0 0 1 1 0 1 0 1 0 0 1 0 0\n",
      " 0 1 0 0 1 0 0 0 0 0 0 0 0 0 0 0 0 0 0 0 0 1 0 0 0 0 0 0 0 0 0 0 0 0 0 0 0\n",
      " 1 0 0 0 0 0 0 0 0 0 0 0 0 0 0 0 0 0 1 0 0 0 0 0 0 0 0 1 0 0 0 0 1 0 0 0 0\n",
      " 1 0 0 0 0 0 0 0 0 0 0 0 0 0 0 0 0 0 0 0 0 0 0 0 0 0 0 0 0 0 0 0 0 0 0 1 0\n",
      " 0 0 0 0 0 0 0 0 0 0 0 0 0 0 0 0 0 0 0 0 0 0 0 0 0 0 0]\n",
      "[0 0 0 0 1 0 0 0 0 0 0 0 0 0 0 0 0 0 0 1 0 0 0 0 0 0 0 0 0 0 0 0 0 0 0 0 0\n",
      " 0 1 0 0 0 0 0 0 0 0 0 0 0 0 1 0 0 0 0 0 0 0 0 0 0 0 0 0 0 0 0 0 0 1 0 0 0\n",
      " 0 0 0 1 0 0 0 0 0 0 0 0 0 0 0 0 0 0 0 0 0 0 0 0 0 0 0 0 0 0 0 0 0 0 0 0 0\n",
      " 1 0 0 0 0 1 0 1 0 0 0 0 0 0 0 0 0 1 0 1 0 0 1 1 0 0 0 0 0 0 0 0 0 0 0 0 0\n",
      " 0 0 0 0 0 0 0 0 0 0 0 1 0 0 0 0 0 0 0 0 0 0 0 0 0 0 0 0 0 0 0 0 0 0 0 0 0\n",
      " 0 0 0 1 0 0 0 0 0 0 0 0 1 0 1 0 0 0 0 0 0 0 0 0 0 0 1 1 0 1 0 1 0 0 1 0 0\n",
      " 0 1 0 0 1 0 0 0 0 0 0 0 0 0 0 0 0 0 0 0 0 1 0 0 0 0 0 0 0 0 0 0 0 0 0 0 0\n",
      " 1 0 0 0 0 0 0 0 0 0 0 0 0 0 0 0 0 0 1 0 0 0 0 0 0 0 0 1 0 0 0 0 1 0 0 0 0\n",
      " 1 0 0 0 0 0 0 0 0 0 0 0 0 0 0 0 0 0 0 0 0 0 0 0 0 0 0 0 0 0 0 0 0 0 0 1 0\n",
      " 0 0 0 0 0 0 0 0 0 0 0 0 0 0 0 0 0 0 0 0 0 0 0 0 0 0 0]\n",
      "Accuracy:  1.0 \n",
      "Precision:  1.0 \n",
      "Recall:  1.0\n"
     ]
    }
   ],
   "source": [
    "for tar in [0]:\n",
    "    print(tar)\n",
    "    tar = 0\n",
    "    y_pred = lr.LogisticRegression_predict(X_test, thetas[tar])\n",
    "    print(y_pred)\n",
    "    print(y_test_t[tar])\n",
    "    acc = lr.accuracy_score(y_pred,y_test_t[tar])\n",
    "    precision = lr.precision_score(y_pred,y_test_t[tar])\n",
    "    recall = lr.recall_score(y_pred,y_test_t[tar])\n",
    "    print('Accuracy: ',acc,'\\nPrecision: ',precision,'\\nRecall: ', recall)\n"
   ]
  },
  {
   "cell_type": "code",
   "execution_count": 22,
   "metadata": {},
   "outputs": [
    {
     "name": "stdout",
     "output_type": "stream",
     "text": [
      "0\n"
     ]
    }
   ],
   "source": [
    "print(len(thetas))"
   ]
  }
 ],
 "metadata": {
  "kernelspec": {
   "display_name": "Python 3",
   "language": "python",
   "name": "python3"
  },
  "language_info": {
   "codemirror_mode": {
    "name": "ipython",
    "version": 3
   },
   "file_extension": ".py",
   "mimetype": "text/x-python",
   "name": "python",
   "nbconvert_exporter": "python",
   "pygments_lexer": "ipython3",
   "version": "3.7.0"
  }
 },
 "nbformat": 4,
 "nbformat_minor": 4
}
