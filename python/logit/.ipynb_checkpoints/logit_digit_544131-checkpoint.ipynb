{
 "cells": [
  {
   "cell_type": "markdown",
   "metadata": {},
   "source": [
    "# Logistische Regression: digits\n",
    "\n",
    "Dieses Jupyter Notebook führt die Ergebnisse des zweiten Projektes im Modul Special Engineering (M30) zum Thema Logistische Regression auf. Als Datenset wird das digits Datenset verwendet."
   ]
  },
  {
   "cell_type": "code",
   "execution_count": 1,
   "metadata": {},
   "outputs": [],
   "source": [
    "###############################################################################\n",
    "# Digits Dataset: Logistische Regression\n",
    "# Sidney Göhler 544131\n",
    "#### IKT (M)\n",
    "# Special Engineering SoSe20\n",
    "# Prof. Dr. Andreas Zeiser\n",
    "###############################################################################\n",
    "# Imports\n",
    "import numpy as np\n",
    "import matplotlib.pyplot as plt\n",
    "from matplotlib import cm\n",
    "import matplotlib.gridspec as gridspec\n",
    "import logistische_regression as lr\n",
    "import time\n",
    "\n",
    "from sklearn.datasets import load_digits\n",
    "from scipy.stats.kde import gaussian_kde\n",
    "\n",
    "%load_ext autoreload\n",
    "%autoreload 2\n"
   ]
  },
  {
   "cell_type": "code",
   "execution_count": 2,
   "metadata": {},
   "outputs": [],
   "source": [
    "# erstellt eine Matrix mit den Kennzahlen einer Konfusions Matrix\n",
    "def confusion_mat(y_true, y_pred):\n",
    "    tn = np.sum((y_true == y_pred) & (y_true == 0))\n",
    "    tp = np.sum((y_true == y_pred) & (y_true == 1))\n",
    "    fp = np.sum((y_true != y_pred) & (y_true == 0))\n",
    "    fn = np.sum((y_true != y_pred) & (y_true == 1))\n",
    "    \n",
    "    return np.array([[tp, fp],[fn, tn]])"
   ]
  },
  {
   "cell_type": "code",
   "execution_count": 3,
   "metadata": {},
   "outputs": [],
   "source": [
    "#berechent den rmse\n",
    "def root_means(y_true, y_pred):\n",
    "\n",
    "    rmse = np.sqrt(np.mean((y_true - y_pred) ** 2))\n",
    "    #mse2 = 1/(len(y_true))*np.sum((y_true - y_pred) ** 2)\n",
    "    #print(mse,mse2)\n",
    "    return rmse"
   ]
  },
  {
   "cell_type": "code",
   "execution_count": 4,
   "metadata": {},
   "outputs": [],
   "source": [
    "#Kreuzvalidierung für eta\n",
    "def crossval(X, y, eta, k,  tol = 3e-4):\n",
    "    time_start = time.time()\n",
    "    \n",
    "    np.random.seed(0)\n",
    "    \n",
    "    train_folds_score = []\n",
    "    validation_folds_score = []\n",
    "    \n",
    "   # print(type(eta))\n",
    "    #eta = list(np.arange(0.5,0.77,0.05))\n",
    "    counter_test= []\n",
    "    rmse_test = []\n",
    "    J_test = []\n",
    "    counter_per_eta = []\n",
    "    rmse_per_eta = []\n",
    "    J_per_eta = []\n",
    "    \n",
    "    #shuffle index once\n",
    "    m = X.shape[0]\n",
    "    index = np.arange(m)\n",
    "    np.random.shuffle(index)\n",
    "    \n",
    "    for i,e in enumerate(eta):\n",
    "        time_start = time.time()\n",
    "        for fold in range(0, k):\n",
    "            \n",
    "            start = int((m/k)*fold)\n",
    "            end = int((m/k)*(fold+1))\n",
    "\n",
    "            # X_train aufteilen in train und val\n",
    "            val = X[index[start:end]]\n",
    "            val_y = y[index[start:end]]\n",
    "            \n",
    "            train = np.concatenate((X[index[:start]], X[index[end:]]))\n",
    "            train_y = np.concatenate((y[index[:start]], y[index[end:]]))\n",
    "            #print(e,np.shape(train),np.shape(val))\n",
    "\n",
    "            theta, J_tr, counter = lr.LogisticRegression_fit(train, train_y, e, tol)\n",
    "\n",
    "            val_pred = lr.LogisticRegression_predict(val, theta)\n",
    "            \n",
    "            counter_test.append(counter)\n",
    "            rmse = root_means(val_y, val_pred)\n",
    "            rmse_test.append(rmse)\n",
    "            J, Jgrad = lr.logistic_cost_function(val, val_y, theta)\n",
    "            J_test.append(J)\n",
    "            #print(f'for eta {e} fold {fold} took {counter} iterations in {time.time()-time_start} seconds ({counter/(time.time()-time_start)} iter/sec)\\nrmse = {rmse}\\nJ = {J}\\n')\n",
    "        \n",
    "        rmse_m = np.mean(rmse_test)\n",
    "        J_m = np.mean(J_test)\n",
    "        counter_m = np.mean(counter_test)\n",
    "        \n",
    "        print(f'\\n##CV {i}##\\nfor eta {e} in {counter_m} iterations'\n",
    "              + f' took {time.time()-time_start} seconds ({counter/(time.time()-time_start)} iter/sec):'\n",
    "              + f'\\nrmse mean = {rmse_m} | diff: {(rmse_m)-rmse_per_eta[-1] if len(rmse_per_eta)>0 else \"0.0\"}'\n",
    "              + f'{\" new min!\" if len(rmse_per_eta)==0 or rmse_m < np.min(rmse_per_eta) else \"\"}'\n",
    "              + f'\\nJ mean = {J_m} | diff: {(J_m)-J_per_eta[-1] if len(J_per_eta)>0 else \"0.0\"}'\n",
    "              + f'{\" new min!\" if len(J_per_eta)==0 or J_m < np.min(J_per_eta) else \"\"}'\n",
    "              + '\\n#########\\n')\n",
    "        \n",
    "        counter_per_eta.append(counter_m)\n",
    "        rmse_per_eta.append(rmse_m )\n",
    "        J_per_eta.append(J_m)\n",
    "        counter_test= []\n",
    "        rmse_test = []\n",
    "        J_test = []\n",
    "\n",
    "        \n",
    "    return eta, rmse_per_eta, J_per_eta, counter_per_eta"
   ]
  },
  {
   "cell_type": "code",
   "execution_count": 5,
   "metadata": {},
   "outputs": [],
   "source": [
    "####################\n",
    "# load datasets\n",
    "####################\n",
    "dataset = load_digits()\n",
    "#print(dataset.DESCR, '\\n', '\\n')\n",
    "X = dataset.data\n",
    "y = dataset.target\n",
    "\n",
    "targets = dataset.target_names\n",
    "images = dataset.images\n",
    "\n"
   ]
  },
  {
   "cell_type": "markdown",
   "metadata": {},
   "source": []
  },
  {
   "cell_type": "markdown",
   "metadata": {},
   "source": [
    "### Visualisieren von einzelnen Ziffern\n",
    "Nachdem das Datenset geladen wurde, können vereinzelte Zahlen illustriert werden."
   ]
  },
  {
   "cell_type": "code",
   "execution_count": 6,
   "metadata": {},
   "outputs": [
    {
     "name": "stdout",
     "output_type": "stream",
     "text": [
      "digit = 0 at index = 0\n"
     ]
    },
    {
     "data": {
      "image/png": "[encoded data removed]",
      "text/plain": [
       "<Figure size 288x288 with 2 Axes>"
      ]
     },
     "metadata": {
      "needs_background": "light"
     },
     "output_type": "display_data"
    },
    {
     "name": "stdout",
     "output_type": "stream",
     "text": [
      "[[ 0.  0.  5. 13.  9.  1.  0.  0.]\n",
      " [ 0.  0. 13. 15. 10. 15.  5.  0.]\n",
      " [ 0.  3. 15.  2.  0. 11.  8.  0.]\n",
      " [ 0.  4. 12.  0.  0.  8.  8.  0.]\n",
      " [ 0.  5.  8.  0.  0.  9.  8.  0.]\n",
      " [ 0.  4. 11.  0.  1. 12.  7.  0.]\n",
      " [ 0.  2. 14.  5. 10. 12.  0.  0.]\n",
      " [ 0.  0.  6. 13. 10.  0.  0.  0.]]\n",
      "\n",
      "\n",
      "\n",
      "digit = 0 at index = 20\n"
     ]
    },
    {
     "data": {
      "image/png": "[encoded data removed]",
      "text/plain": [
       "<Figure size 288x288 with 2 Axes>"
      ]
     },
     "metadata": {
      "needs_background": "light"
     },
     "output_type": "display_data"
    },
    {
     "name": "stdout",
     "output_type": "stream",
     "text": [
      "[[ 0.  0.  3. 13. 11.  7.  0.  0.]\n",
      " [ 0.  0. 11. 16. 16. 16.  2.  0.]\n",
      " [ 0.  4. 16.  9.  1. 14.  2.  0.]\n",
      " [ 0.  4. 16.  0.  0. 16.  2.  0.]\n",
      " [ 0.  0. 16.  1.  0. 12.  8.  0.]\n",
      " [ 0.  0. 15.  9.  0. 13.  6.  0.]\n",
      " [ 0.  0.  9. 14.  9. 14.  1.  0.]\n",
      " [ 0.  0.  2. 12. 13.  4.  0.  0.]]\n",
      "\n",
      "\n",
      "\n",
      "digit = 8 at index = 500\n"
     ]
    },
    {
     "data": {
      "image/png": "[encoded data removed]",
      "text/plain": [
       "<Figure size 288x288 with 2 Axes>"
      ]
     },
     "metadata": {
      "needs_background": "light"
     },
     "output_type": "display_data"
    },
    {
     "name": "stdout",
     "output_type": "stream",
     "text": [
      "[[ 0.  0.  3. 10. 14.  3.  0.  0.]\n",
      " [ 0.  8. 16. 11. 10. 13.  0.  0.]\n",
      " [ 0.  7. 14.  0.  1. 15.  2.  0.]\n",
      " [ 0.  2. 16.  9. 16. 16.  1.  0.]\n",
      " [ 0.  0. 12. 16. 15. 15.  2.  0.]\n",
      " [ 0.  0. 12. 10.  0.  8.  8.  0.]\n",
      " [ 0.  0.  9. 12.  4.  7. 12.  0.]\n",
      " [ 0.  0.  2. 11. 16. 16.  9.  0.]]\n",
      "\n",
      "\n",
      "\n",
      "digit = 8 at index = 508\n"
     ]
    },
    {
     "data": {
      "image/png": "[encoded data removed]",
      "text/plain": [
       "<Figure size 288x288 with 2 Axes>"
      ]
     },
     "metadata": {
      "needs_background": "light"
     },
     "output_type": "display_data"
    },
    {
     "name": "stdout",
     "output_type": "stream",
     "text": [
      "[[ 0.  0.  6. 10.  9.  4.  0.  0.]\n",
      " [ 0.  0. 14. 10. 16. 16.  1.  0.]\n",
      " [ 0.  4. 15.  1.  9. 16.  0.  0.]\n",
      " [ 0.  3. 16. 16. 16.  8.  0.  0.]\n",
      " [ 0.  0. 12. 14. 16.  5.  0.  0.]\n",
      " [ 0.  0. 12.  1.  9. 12.  0.  0.]\n",
      " [ 0.  0. 16.  6. 14.  9.  0.  0.]\n",
      " [ 0.  0.  8. 12.  6.  1.  0.  0.]]\n",
      "\n",
      "\n",
      "\n",
      "digit = 5 at index = 1700\n"
     ]
    },
    {
     "data": {
      "image/png": "[encoded data removed]",
      "text/plain": [
       "<Figure size 288x288 with 2 Axes>"
      ]
     },
     "metadata": {
      "needs_background": "light"
     },
     "output_type": "display_data"
    },
    {
     "name": "stdout",
     "output_type": "stream",
     "text": [
      "[[ 0.  0.  4.  9. 12. 16.  8.  0.]\n",
      " [ 0.  0. 15. 15.  8.  8.  2.  0.]\n",
      " [ 0.  4. 16. 11.  4.  1.  0.  0.]\n",
      " [ 0.  8. 16. 16. 16. 14.  0.  0.]\n",
      " [ 0.  0. 11.  9.  8. 16.  0.  0.]\n",
      " [ 0.  0.  0.  0.  7. 16.  0.  0.]\n",
      " [ 0.  0.  0.  8. 16. 12.  0.  0.]\n",
      " [ 0.  0.  3. 13.  9.  1.  0.  0.]]\n",
      "\n",
      "\n",
      "\n",
      "digit = 5 at index = 1787\n"
     ]
    },
    {
     "data": {
      "image/png": "[encoded data removed]",
      "text/plain": [
       "<Figure size 288x288 with 2 Axes>"
      ]
     },
     "metadata": {
      "needs_background": "light"
     },
     "output_type": "display_data"
    },
    {
     "name": "stdout",
     "output_type": "stream",
     "text": [
      "[[ 0.  0. 10. 16. 15.  1.  0.  0.]\n",
      " [ 0.  0. 16. 12.  5.  0.  0.  0.]\n",
      " [ 0.  2. 16.  9.  4.  0.  0.  0.]\n",
      " [ 0.  4. 16. 16. 16. 14.  2.  0.]\n",
      " [ 0.  1. 10.  4.  1. 16.  4.  0.]\n",
      " [ 0.  0.  0.  0.  2. 16.  7.  0.]\n",
      " [ 0.  0.  7.  8. 14. 16.  3.  0.]\n",
      " [ 0.  0.  6. 13. 10.  4.  0.  0.]]\n",
      "\n",
      "\n",
      "\n"
     ]
    }
   ],
   "source": [
    "for ind in [0,20,500,508,1700,1787]:\n",
    "    print(f'digit = {y[ind]} at index = {ind}')\n",
    "    plt.matshow(images[ind], cmap = cm.inferno)\n",
    "    plt.colorbar()\n",
    "    plt.show()\n",
    "    print(f'{images[ind]}\\n\\n\\n')"
   ]
  },
  {
   "cell_type": "markdown",
   "metadata": {},
   "source": [
    "Zu sehen ist, dass die selben Ziffern häufig minimale Unterschiede untereinander haben. Die Zeilen 3 und 4 wirken stark frequentiert, hingegen die Spalten 0 und 7 sehr schwach.\n",
    "\n",
    "Anzumerken ist noch, dass die Features des Datensets, aufgrund der Tatsache, dass es sich ausschlißelich um Helligkeitswerte handelt, bereits skaliert sind.\n",
    "Ein erneutes skalieren ist somit nicht unbedingt Notwendig aber dennoch ratsam, da das Gradientenabstiegsverfahren wohl deutlich schneller Konvergiert.\n",
    "https://en.wikipedia.org/wiki/Feature_scaling#cite_note-1"
   ]
  },
  {
   "cell_type": "code",
   "execution_count": 7,
   "metadata": {},
   "outputs": [
    {
     "name": "stdout",
     "output_type": "stream",
     "text": [
      "[0.00000000e+00 3.03839733e-01 5.20478575e+00 1.18358375e+01\n",
      " 1.18480801e+01 5.78185865e+00 1.36227045e+00 1.29660545e-01\n",
      " 5.56483027e-03 1.99387869e+00 1.03823038e+01 1.19794101e+01\n",
      " 1.02793545e+01 8.17584864e+00 1.84641068e+00 1.07957707e-01\n",
      " 2.78241514e-03 2.60155815e+00 9.90317195e+00 6.99276572e+00\n",
      " 7.09794101e+00 7.80634391e+00 1.78853645e+00 5.00834725e-02\n",
      " 1.11296605e-03 2.46967168e+00 9.09126322e+00 8.82136895e+00\n",
      " 9.92710072e+00 7.55147468e+00 2.31775181e+00 2.22593211e-03\n",
      " 0.00000000e+00 2.33945465e+00 7.66722315e+00 9.07178631e+00\n",
      " 1.03016138e+01 8.74401781e+00 2.90929327e+00 0.00000000e+00\n",
      " 8.90372844e-03 1.58375070e+00 6.88146912e+00 7.22815804e+00\n",
      " 7.67223150e+00 8.23650529e+00 3.45631608e+00 2.72676683e-02\n",
      " 7.23427935e-03 7.04507513e-01 7.50695604e+00 9.53923205e+00\n",
      " 9.41624930e+00 8.75848637e+00 3.72509738e+00 2.06455203e-01\n",
      " 5.56483027e-04 2.79354480e-01 5.55759599e+00 1.20890373e+01\n",
      " 1.18091263e+01 6.76405120e+00 2.06789093e+00 3.64496383e-01] [0.         0.90693964 4.75350317 4.24765948 4.28619491 5.66484088\n",
      " 3.32484969 1.03709417 0.09419533 3.19527098 5.41994694 3.97643575\n",
      " 4.78134964 6.05127561 3.58532293 0.82768465 0.06235094 3.57530605\n",
      " 5.68918332 5.80104695 6.17400993 6.19559718 3.25896254 0.43847543\n",
      " 0.03334258 3.14565685 6.19031469 5.88129939 6.15038083 5.87092136\n",
      " 3.68543009 0.04712725 0.         3.4794038  6.32292731 6.26664682\n",
      " 5.93183902 5.86901393 3.53629836 0.         0.14514503 2.98098645\n",
      " 6.53613529 6.43958504 6.25776954 5.69394162 4.32974601 0.30727036\n",
      " 0.20416633 1.74566694 5.64292531 5.22549314 5.30057302 6.02947606\n",
      " 4.91803706 0.98412698 0.02358333 0.9340418  5.1015993  4.37347662\n",
      " 4.93257433 5.89898069 4.08940957 1.85960409]\n"
     ]
    }
   ],
   "source": [
    "mean, std = lr.StandardScaler_fit(X)\n",
    "print(mean,std)\n",
    "#X = lr.StandardScaler_transform(X, mean, std+10)\n",
    "#print(np.max(X),np.min(X))"
   ]
  },
  {
   "cell_type": "markdown",
   "metadata": {
    "scrolled": true
   },
   "source": [
    "Auffälig ist dennoch,wenn man sich den Mittelwert und die Standartabweichung der einzelnen Features anschaut, fällt nochmals auf, dass beide bei drei Features jeweils 0.0 ist, was eigentlich bedeuted, dass es zwischen den einzelnen digits bei diesen Features keine Unterschiede gibt, welche für Verhersagungen genutz werden können.\n",
    "Somit könnten diese drei Features komplett ausgeschlossen werden um ggf. Prozessorzeit oder Speicher zu sparen."
   ]
  },
  {
   "cell_type": "code",
   "execution_count": 8,
   "metadata": {},
   "outputs": [
    {
     "name": "stdout",
     "output_type": "stream",
     "text": [
      "(1437, 64) (1437,) \n",
      " (360, 64) (360,)\n"
     ]
    }
   ],
   "source": [
    "####################\n",
    "# split dataset (80:20)\n",
    "####################\n",
    "\n",
    "\n",
    "X_train, X_test, y_train, y_test = lr.train_test_split(X, y, 0.8, 0)\n",
    "\n",
    "print(np.shape(X_train),np.shape(y_train),'\\n',np.shape(X_test),np.shape(y_test))"
   ]
  },
  {
   "cell_type": "code",
   "execution_count": 9,
   "metadata": {},
   "outputs": [
    {
     "name": "stdout",
     "output_type": "stream",
     "text": [
      "[0 1 2 3 4 5 6 7 8 9] \n",
      " [147 147 138 150 137 153 141 139 146 139]\n"
     ]
    },
    {
     "data": {
      "image/png": "[encoded data removed]",
      "text/plain": [
       "<Figure size 648x576 with 1 Axes>"
      ]
     },
     "metadata": {
      "needs_background": "light"
     },
     "output_type": "display_data"
    }
   ],
   "source": [
    "####################\n",
    "# explore trainingset\n",
    "####################\n",
    "\n",
    "# Häufigkeitsverteilung y (target)\n",
    "fig = plt.figure(figsize=(9, 8))\n",
    "\n",
    "labels, counts = np.unique(y_train, return_counts=True)\n",
    "\n",
    "print(labels,'\\n',counts)\n",
    "\n",
    "plt.bar(labels, counts, align='center', width=0.95)\n",
    "plt.gca().set_xticks(labels)\n",
    "plt.xlabel('digit')\n",
    "plt.xlim(-1,10)\n",
    "plt.ylabel('count')\n",
    "plt.title('relative Häufigkeitsverteilung der digits der Trainingsdaten')\n",
    "plt.grid(color='0.75', linestyle='-.', linewidth=1, axis='y')\n",
    "plt.show()"
   ]
  },
  {
   "cell_type": "markdown",
   "metadata": {},
   "source": [
    "Zu sehen ist die Klassenverteilung des Datensets. Anzumerken ist, dass bis auf Klasse 0 und Klasse 1 die Anzahl bei jeder Klassen unterschiedlich ist. Die Klassen des Datensets also nicht ausgeglichen sind."
   ]
  },
  {
   "cell_type": "code",
   "execution_count": null,
   "metadata": {
    "scrolled": false
   },
   "outputs": [
    {
     "name": "stdout",
     "output_type": "stream",
     "text": [
      "feature 0 (0):\n"
     ]
    },
    {
     "name": "stderr",
     "output_type": "stream",
     "text": [
      "c:\\users\\crazy\\appdata\\local\\programs\\python\\python37\\lib\\site-packages\\numpy\\lib\\function_base.py:2534: RuntimeWarning: invalid value encountered in true_divide\n",
      "  c /= stddev[:, None]\n",
      "c:\\users\\crazy\\appdata\\local\\programs\\python\\python37\\lib\\site-packages\\numpy\\lib\\function_base.py:2535: RuntimeWarning: invalid value encountered in true_divide\n",
      "  c /= stddev[None, :]\n"
     ]
    },
    {
     "data": {
      "image/png": "[encoded data removed]",
      "text/plain": [
       "<Figure size 1152x432 with 3 Axes>"
      ]
     },
     "metadata": {
      "needs_background": "light"
     },
     "output_type": "display_data"
    },
    {
     "name": "stdout",
     "output_type": "stream",
     "text": [
      "rows = 1437\n",
      "all numeric = True (float64)\n",
      "mean = 0.0\n",
      "std = 0.0\n",
      "max|min = 0.0|0.0 \n",
      " \n",
      "\n",
      "feature 1 (1):\n"
     ]
    }
   ],
   "source": [
    "mean_train, std_train = [], []\n",
    "coeffs = []\n",
    "\n",
    "\n",
    "\n",
    "labels = np.arange(-0,17,1)\n",
    "xmax = 16.4\n",
    "xmin = -0.4\n",
    "\n",
    "for ind, col in enumerate(X_train.T):\n",
    "\n",
    "    # print(df[col].describe())\n",
    "    mean, std = lr.StandardScaler_fit(col)\n",
    "    mean_train.append(mean)\n",
    "    std_train.append(std)\n",
    "    print(f'feature {ind} ({ind}):')\n",
    "    fig1 = plt.figure(figsize=(16, 6))\n",
    "    gs = gridspec.GridSpec(1, 2)\n",
    "    ax = plt.subplot(gs[0])\n",
    "    ax.set_xlabel('black value')\n",
    "    ax.set_ylabel(\"count\")\n",
    "    ax.set_title(f\"Histogramm der Helligkeitswerte: feature {ind}\")\n",
    "    \n",
    "    label, counts = np.unique(col, return_counts=True)\n",
    "\n",
    "    ax.bar(label, counts, align='center', width=0.5)\n",
    "    ax.set_xticks(labels)\n",
    "    ax.set_xlim(xmin,xmax)\n",
    "    ##\n",
    "    ##\n",
    "    \n",
    "    \n",
    "   # mat = np.array([[col],[y_train]])\n",
    "    \n",
    "    # Verteilungsdichte bestimmen\n",
    "    # random offset um die covarianz numerisch betimmen zu können\n",
    "    rand = 0.0001*np.random.rand(np.size(col,0))-0.0001\n",
    "    # KDE\n",
    "    k = gaussian_kde(np.vstack([col+rand, y_train]))\n",
    "    xi, yi = np.mgrid[xmin:xmax:col.size**0.4*1j, y_train.min()-0.5:y_train.max()+0.5:y_train.size**0.3333*1j]\n",
    "    zi = k(np.vstack([xi.flatten(), yi.flatten()]))\n",
    "    \n",
    "    ax2 = plt.subplot(gs[1])\n",
    "    ax2.set_xlabel('black value')\n",
    "    ax2.set_ylabel(\"digit\")\n",
    "    ax2.set_xticks(labels)\n",
    "    ax2.set_yticks(targets)\n",
    "    ax2.set_ylim(-0.5,9.5)\n",
    "    ax2.set_xlim(xmin,xmax)\n",
    "    #im = ax2.matshow(mat)\n",
    "    \n",
    "    #plot density\n",
    "    #ax2.scatter(col, y_train, alpha=0.1)#, c=col, cmap=cm.cividis)\n",
    "    #im = ax2.pcolormesh(xedges, yedges, Z.T)\n",
    "    im = ax2.pcolormesh(xi, yi, zi.reshape(xi.shape), cmap = cm.inferno, alpha=1)#cm.cividis GnBu YlOrBr viridis magma\n",
    "    plt.colorbar(im)\n",
    "    \n",
    "    ##\n",
    "    coeff = np.mean(np.corrcoef(col, y_train.T))\n",
    "    coeffs.append(coeff)\n",
    "    ax2.set_title(f\"Dichteverteilung der Helligkeitswerte feature {ind} je digit\")\n",
    "    plt.show()\n",
    "\n",
    "    #Feature beschreiben\n",
    "    print(f'rows = {np.size(col)}\\nall numeric = {not np.isnan(col).any()} ({col.dtype})\\nmean = {mean}\\nstd = {std}\\nmax|min = {np.max(col)}|{np.min(col)}', '\\n', '\\n')\n"
   ]
  },
  {
   "cell_type": "markdown",
   "metadata": {},
   "source": [
    "Die oberen Plots zeigen die statistische Verteilung jedes Features auf der linken Seite und die Dichteverteilung jedes Schwarzwertes pro digit, welches von diesem Feature beschrieben wurde, auf der rechten Seite.\n",
    "\n",
    "Anzumerken ist hier, die Features im großen und ganzen nach einem Muster verteilt sind und sich dieses Muster kontinuierlich wiederholt. Feature 26-29, 34-37, 42-45, 50-53 sind in Ihrer Verteilung sehr ähnlich. Vermutlich handelt es sich dabei um Pixel auf den zentralen Spalten der Zahlmatrix.\n",
    "Dazwischen sind die Features wenigen Schwarzwerten zugeteilt.\n",
    "\n",
    "Anzumerken ist auch noch, dass die Visualisierung bei std = 0 derzeit noch fehlerhaft ist.\n",
    "\n",
    "Eine weitere Visualisierungsmöglichkeit wäre hier ein Boxplot, welches weitere statistische Eigenschaften sowie Ausreißer besser Visualisiert werden."
   ]
  },
  {
   "cell_type": "markdown",
   "metadata": {},
   "source": [
    "Um einzelne Zahlen mittels logiostischer Regression klassifizieren zu können muss der target vektor neu definiert werden, da die logistische Regression ausschließlich binäre Klassifizierung ermöglicht.\n",
    "\n",
    "Es wird nachfolgend für jede Zahl ein neuer target Vektor mit Zahl[1]/andere Zahl[2] definiert."
   ]
  },
  {
   "cell_type": "code",
   "execution_count": null,
   "metadata": {},
   "outputs": [],
   "source": [
    "#X_train_9 =X_train[y_train==9]\n",
    "y_train_t = []\n",
    "y_test_t = []\n",
    "\n",
    "\n",
    "for tar in targets:\n",
    "    y_train_t.append(np.array([1 if y == tar else 0 for y in y_train]))\n",
    "    y_test_t.append(np.array([1 if y == tar else 0 for y in y_test]))\n",
    "    print(f'digit {tar}: +{len(y_train_t[tar][y_train_t[tar]==1])}/{len(y_train_t[tar][y_train_t[tar]==0])}- train label || +{len(y_test_t[tar][y_test_t[tar]==1])}/{len(y_test_t[tar][y_test_t[tar]==0])}- test label')\n",
    "    #[147 147 138 150 137 153 141 139 146 139]"
   ]
  },
  {
   "cell_type": "markdown",
   "metadata": {},
   "source": [
    "Es gilt noch zu untersuchen, inwiweit die nicht ausgeglichenen Klassenverteilungen im Datenset, die Vorhersagekraft des Klassifizierers, beeinträchtigt.\n",
    "\n",
    "Dafür müsste man die Datensets weiter anpassen, sodass von jeder Klasse gleich viele Einträge vorhanden sind."
   ]
  },
  {
   "cell_type": "markdown",
   "metadata": {},
   "source": [
    "### Bestimmung der Lernrate mittels CV\n",
    "\n",
    "Da der logistische Klassifizierer mittels Gradienten Abstiegsvefahren trainiert wird, ist es notwendig eine geeignete Schrittweite zu ermitteln, damit der Algorithmus das globale Minima in einer angemessenen Zeit findet.\n",
    "\n",
    "Um einen statistisch aussagekräftigen Parameter zu ermitteln wird hierfür das Kreuzvaidierungsverfahren angewendet."
   ]
  },
  {
   "cell_type": "code",
   "execution_count": null,
   "metadata": {
    "scrolled": true
   },
   "outputs": [],
   "source": [
    "#############################################\n",
    "# Kreuzvalidierung\n",
    "etalist = np.arange(0.04,5.0,0.033)\n",
    "print('CV with\\n',etalist,'\\n',len(etalist),'etas')\n",
    "\n",
    "eta, rmse, J, counter = crossval(y_train_t[9],y_train_t[9], etalist, 5)"
   ]
  },
  {
   "cell_type": "code",
   "execution_count": null,
   "metadata": {
    "scrolled": true
   },
   "outputs": [],
   "source": [
    "\n",
    "eta_min_rmse = eta[np.argmin(rmse)]\n",
    "eta_min_J = eta[np.argmin(J)]\n",
    "\n",
    "print(eta_min_rmse,eta_min_J)"
   ]
  },
  {
   "cell_type": "markdown",
   "metadata": {},
   "source": [
    "Sowohl die Kreuzvalidierung mit dem rmse als auch mit dem logistischen Kosten ermitteln den selben Wert für eta. nachfolgend kann dies geplottet werden."
   ]
  },
  {
   "cell_type": "code",
   "execution_count": null,
   "metadata": {},
   "outputs": [],
   "source": [
    "fig = plt.figure(figsize=(14, 16))\n",
    "gs = gridspec.GridSpec(2, 1)\n",
    "ax = plt.subplot(gs[0])\n",
    "ax2 = plt.subplot(gs[1])\n",
    "#print(np.size(eta),np.size(rmse))\n",
    "ax.plot(eta, rmse, label=f'mean rmse:\\nmin = {np.min(rmse):.5f}\\n @ eta = {eta_min_rmse:.5f}\\n')\n",
    "#print(np.size(eta),np.size(J))\n",
    "ax2.plot(eta, J, label=f'mean J:\\nmin = {np.min(J):.5f}\\n @ eta = {eta_min_J:.5f}\\n', color='g')\n",
    "ax.scatter(eta_min_rmse, np.min(rmse), color='r', marker='o', label='min')\n",
    "ax2.scatter(eta_min_J, np.min(J), color='r', marker='o', label='min')\n",
    "\n",
    "ax.set_xlabel('eta')\n",
    "ax.set_ylabel('root mse')\n",
    "\n",
    "ax2.set_xlabel('eta')\n",
    "ax2.set_ylabel('root mse')\n",
    "\n",
    "ax.legend()\n",
    "ax2.legend()\n",
    "#plt.title('RMSE und J über verschiedene eta')\n",
    "plt.show()\n",
    "\n",
    "\n",
    "\n"
   ]
  },
  {
   "cell_type": "markdown",
   "metadata": {},
   "source": [
    "Zu sehen ist, dass der Kosten bei einem Wert eta = minimal wird."
   ]
  },
  {
   "cell_type": "markdown",
   "metadata": {},
   "source": [
    "### Logistische Regression für das gesamte Trainingset\n",
    "\n",
    "Mit dem ermittelten Parameter für eta können für jede Zahl ein logistisches Modell erzeugt werden, welche jeweile die Zahl als auch nicht Zahl erkennen können."
   ]
  },
  {
   "cell_type": "code",
   "execution_count": null,
   "metadata": {
    "scrolled": true
   },
   "outputs": [],
   "source": [
    "X_train = np.float64(X_train)\n",
    "thetas = []\n",
    "Js = []\n",
    "counters = []\n",
    "for tar in targets:\n",
    "    time_start = time.time()\n",
    "    print(f'learning digit {tar}...')\n",
    "    theta, Jt, counter = lr.LogisticRegression_fit(X_train, y_train_t[tar], eta_min_J, 3e-4)\n",
    "    print('Calculating Thetas done... \\n',theta,'\\n cost =',Jt,'\\n')\n",
    "    thetas.append(theta)\n",
    "    Js.append(Jt)\n",
    "    counters.append(counter)\n",
    "    print(f'took {counter} iterations in {time.time()-time_start} seconds ({counter/(time.time()-time_start)} iter/sec)...\\n\\n')\n"
   ]
  },
  {
   "cell_type": "markdown",
   "metadata": {},
   "source": [
    "Nachfolgend können die entstandenen Modelle validiert werden."
   ]
  },
  {
   "cell_type": "code",
   "execution_count": null,
   "metadata": {
    "scrolled": false
   },
   "outputs": [],
   "source": [
    "for tar in targets:\n",
    "    print(f'#######\\ndigit = {tar}')\n",
    "    #tar = 0\n",
    "    y_pred, h = lr.LogisticRegression_predict(X_test, thetas[tar])\n",
    "    #print(y_pred)\n",
    "    #print(y_test_t[tar])\n",
    "    #print(y_pred)\n",
    "    acc = lr.accuracy_score(y_pred,y_test_t[tar])\n",
    "    precision = lr.precision_score(y_pred,y_test_t[tar])\n",
    "    recall = lr.recall_score(y_pred,y_test_t[tar])\n",
    "    \n",
    "\n",
    "    mat = confusion_mat(y_pred, y_test_t[tar])\n",
    "\n",
    "    mat = mat / np.max(np.abs(mat),axis=0) \n",
    "\n",
    "    fig, ax = plt.subplots(figsize=(8,8))\n",
    "    ax.set_title(f'Confusion Matrix digit {tar}')\n",
    "    ax.set_xlabel('true class')\n",
    "    ax.set_ylabel('predicted class')\n",
    "\n",
    "\n",
    "    for i in range(2):\n",
    "        for j in range(2):\n",
    "            text = ax.text(j, i, mat[i, j],\n",
    "                           ha=\"center\", va=\"center\", color=\"r\")\n",
    "    cax = ax.matshow(mat)\n",
    "    fig.colorbar(cax)\n",
    "    plt.show()\n",
    "\n",
    "#fig1 = plt.figure(figsize=(16, 6))\n",
    "\n",
    "#plt.show()\n",
    "#ax.set_title(f\"relative Häufigkeitsverteilung feature {ind} je Helligkeitswert\")\n",
    "    print('Accuracy: ',acc,'\\nPrecision: ',precision,'\\nRecall: ', recall,'\\n\\n')\n"
   ]
  },
  {
   "cell_type": "markdown",
   "metadata": {},
   "source": [
    "Zu sehen ist, dass die Klassifizierung in \"Zahl\" und  \"andere Zahl\" relativ gut funktioniert hat. Die Zahlen 0, 2, 5, 6 können perfekt validiert werden, was aber ggf auf eine Überapassung hindeutet.\n",
    "\n",
    "Auffälig ist noch, das bei den Zahlen 8 und 9 über 12% der \"anderen Zahlen\" als 8 oder 9 Klassifiziert wurden."
   ]
  },
  {
   "cell_type": "markdown",
   "metadata": {},
   "source": [
    "### Lernkurven und andere Kennzahlen\n",
    "\n",
    "Um zu sehen ob ein traniertes Modell überangepasst ist, wird eine Lernkurve erzeugt. Es werden n Modelle erzeugt welche mit einer steigenden Anzahl an Trainingsdatensätzen triniert wird und anschließend validiert wird.\n",
    "\n",
    "Um Zeit zu sparen wird die Ausschließlich für die Zahl 9 getan. Es sollten aber alle Zahlen überprüft werden."
   ]
  },
  {
   "cell_type": "code",
   "execution_count": null,
   "metadata": {
    "scrolled": true
   },
   "outputs": [],
   "source": [
    "over = range(1,1400,20)\n",
    "time_start = time.time()\n",
    "thetas_lc = []\n",
    "Js_lc = []\n",
    "Js_te = []\n",
    "counters_lc = []\n",
    "\n",
    "prec_tr = []\n",
    "rec_tr = []\n",
    "rmse_tr = []\n",
    "acc_tr = []\n",
    "h_tr = []\n",
    "\n",
    "print(f'learning digit {tar}...')\n",
    "\n",
    "for d in over:\n",
    "    X_train_lc = X_train[:d]\n",
    "    y_train_lc = y_train_t[9][:d]\n",
    "    \n",
    "    \n",
    "\n",
    "    theta, J, counter = lr.LogisticRegression_fit(X_train_lc, y_train_lc, eta_min_J, 3e-4)\n",
    "\n",
    "    print(f'Calculating for {d} samples done... \\n cost =',J,' diff:',J-Js_lc[-1] if len(Js_lc)>0 else False ,'\\n')\n",
    "    thetas_lc.append(theta)\n",
    "    Js_lc.append(J)\n",
    "    counters_lc.append(counter)\n",
    "\n",
    "    y_pred_tr, h = lr.LogisticRegression_predict(X_train_lc, theta)\n",
    "\n",
    "    # Kennzahlen training\n",
    "    rmse_tr.append(root_means(y_train_lc,y_pred_tr))\n",
    "    acc_tr.append(lr.accuracy_score(y_train_lc,y_pred_tr))\n",
    "    prec_tr.append(lr.precision_score(y_train_lc,y_pred_tr))\n",
    "    rec_tr.append(lr.recall_score(y_train_lc,y_pred_tr))\n",
    "    h_tr.append(h)\n",
    "\n",
    "    \n",
    "    if d > 1200:\n",
    "         if np.all(Js_lc[-3] <= J):\n",
    "            print(\"Kosten bleibt gleich oder steigt\")\n",
    "            break\n",
    "\n",
    "            \n",
    "            \n",
    "print(f'took {np.sum(counters_lc)} iterations in {time.time()-time_start} seconds ({np.sum(counters_lc)/(time.time()-time_start)} iter/sec)...\\n\\n')\n",
    "\n"
   ]
  },
  {
   "cell_type": "code",
   "execution_count": null,
   "metadata": {},
   "outputs": [],
   "source": [
    "# Berechnung Kennzahlen Testdata\n",
    "\n",
    "#print(len(thetas_lc))\n",
    "\n",
    "\n",
    "Js_le = []\n",
    "rmse_te = []\n",
    "acc_te = []\n",
    "prec_te = []\n",
    "rec_te = []\n",
    "h_te = []\n",
    "\n",
    "for theta in thetas_lc:\n",
    "    \n",
    "    y_pred_te, h_ = lr.LogisticRegression_predict(X_test, theta)\n",
    "    \n",
    "    J_te, Jgrad = lr.logistic_cost_function(X_test, y_test_t[9], theta)\n",
    "    Js_le.append(J_te)\n",
    "    rmse_te.append(root_means(y_test_t[9],y_pred_te))\n",
    "    acc_te.append(lr.accuracy_score(y_test_t[9],y_pred_te))\n",
    "\n",
    "    prec_te.append(lr.precision_score(y_test_t[9],y_pred_te))\n",
    "    rec_te.append(lr.recall_score(y_test_t[9],y_pred_te))\n",
    "    h_te.append(h_)"
   ]
  },
  {
   "cell_type": "code",
   "execution_count": null,
   "metadata": {
    "scrolled": false
   },
   "outputs": [],
   "source": [
    "over = range(1,d+20,20)\n",
    "overmin_J = over[np.argmin(Js_lc)]\n",
    "overmin_te = over[np.argmin(rmse_te)]\n",
    "overmin_tr = over[np.argmax(acc_te)]\n",
    "overmin_prec = over[np.argmax(prec_te)]\n",
    "overmin_rec = over[np.argmax(rec_te)]\n",
    "text = \"Datensetgröße\"\n",
    "\n",
    "fig = plt.figure(figsize=(14, 32))\n",
    "gs = gridspec.GridSpec(5, 1)\n",
    "ax = plt.subplot(gs[0])\n",
    "ax2 = plt.subplot(gs[2])\n",
    "ax3 = plt.subplot(gs[3])\n",
    "ax4 = plt.subplot(gs[4])\n",
    "ax5 = plt.subplot(gs[1])\n",
    "\n",
    "ax.set_title(f'J bei verschiedener {text}')\n",
    "ax.plot(over, Js_le, label='testdata')\n",
    "ax.plot(over, Js_lc, label='trainingdata')\n",
    "#ax.scatter(overmin_tr, np.min(Js_le), color='r', marker='o', label='min')\n",
    "ax.scatter(overmin_te, np.min(Js_le), color='r', \n",
    "           marker='o', label=f'min = {np.min(Js_lc):.5}\\n @ {overmin_te}')\n",
    "ax.set_ylabel('J')\n",
    "ax.set_xlabel(f'{text}')\n",
    "ax.set_ylim(-0.05,max(Js_le)+0.1)\n",
    "ax.set_xlim(-10,max(over)+1)\n",
    "ax.legend()\n",
    "\n",
    "\n",
    "ax5.set_title(f'RMSE bei verschiedener {text}')\n",
    "ax5.plot(over, rmse_te, label='testdata')\n",
    "ax5.plot(over, rmse_tr, label='trainingdata')\n",
    "#ax.scatter(overmin_tr, np.min(np.sqrt(mse_train)), color='r', marker='o', label='min')\n",
    "ax5.scatter(overmin_te, np.min(rmse_te), color='r', \n",
    "           marker='o', label=f'min = {np.min(rmse_te):.5}\\n @ {overmin_te}')\n",
    "ax5.set_ylabel('root mse')\n",
    "ax5.set_xlabel(f'{text}')\n",
    "ax5.set_ylim(-0.05,max(rmse_te)+0.1)\n",
    "ax5.set_xlim(-10,max(over)+1)\n",
    "ax5.legend()\n",
    "\n",
    "ax2.set_title(f'accuracy bei verschiedener {text}')\n",
    "ax2.plot(over, acc_te, label='testdata')\n",
    "ax2.plot(over, acc_tr, label='trainingdata')\n",
    "#ax2.scatter(overmin_tr, np.min(np.sqrt(mse_train)), color='r', marker='o')\n",
    "ax2.scatter(overmin_tr, np.max(acc_te), color='r',\n",
    "            marker='o', label=f'max = {np.max(acc_te):.5}\\n @ {overmin_tr}')\n",
    "\n",
    "ax2.set_ylabel('accuracy')\n",
    "ax2.set_xlabel(f'{text}')\n",
    "# ax2.set_xlim(110,160)\n",
    "# ax2.set_ylim(2.75,3.7)\n",
    "ax2.set_ylim(min(acc_te)-0.01,1.05)\n",
    "ax2.set_xlim(-10,max(over)+1)\n",
    "ax2.legend()\n",
    "\n",
    "ax3.set_title(f'precision bei verschiedener {text}')\n",
    "ax3.plot(over, prec_te, label='testdata')\n",
    "ax3.plot(over, prec_tr, label='trainingdata')\n",
    "#ax2.scatter(overmin_tr, np.min(np.sqrt(mse_train)), color='r', marker='o')\n",
    "ax3.scatter(overmin_tr, np.max(prec_te), color='r',\n",
    "            marker='o', label=f'max = {np.max(prec_te):.5}\\n @ {overmin_prec}')\n",
    "ax3.set_ylabel('precision')\n",
    "ax3.set_xlabel(f'{text}')\n",
    "# ax2.set_xlim(110,160)\n",
    "# ax2.set_ylim(2.75,3.7)\n",
    "ax3.set_ylim(min(prec_te)-0.05,1.05)\n",
    "ax3.set_xlim(-10,max(over)+1)\n",
    "ax3.legend()\n",
    "\n",
    "ax4.set_title(f'recall bei verschiedener {text}')\n",
    "ax4.plot(over, rec_te, label='testdata')\n",
    "ax4.plot(over, rec_tr, label='trainingdata')\n",
    "#ax2.scatter(overmin_tr, np.min(np.sqrt(mse_train)), color='r', marker='o')\n",
    "ax4.scatter(overmin_rec, np.max(rec_te), color='r',\n",
    "            marker='o', label=f'max = {np.max(rec_te):.5}\\n @ {overmin_rec}')\n",
    "ax4.set_ylabel('recall')\n",
    "ax4.set_xlabel(f'{text}')\n",
    "# ax2.set_xlim(110,160)\n",
    "# ax2.set_ylim(2.75,3.7)\n",
    "ax4.set_ylim(min(rec_te)-0.05,1.05)\n",
    "ax4.set_xlim(-10,max(over)+1)\n",
    "ax4.legend()\n",
    "\n",
    "#plt.savefig(f'learncurve_{text}.png')\n",
    "plt.show()\n"
   ]
  },
  {
   "cell_type": "markdown",
   "metadata": {},
   "source": [
    "Die oben dargestellten Lernkurven zeigen verschiedene Kennzahlen über verschiedene Trainingssetgrößen an. Die orangene Linie zeigt die Kennzahlen nach der Validierung mit den Trainingsdaten während des Trainings und die blaue Linie zeigt die Kennzahlen nach der Validierung mit den unbekannten Testdaten.\n",
    "Zu sehen ist, dass das Modell bis zu einem gewissen Punkt an Überapassung leidet. Grob abgelesen, benötigt das Modell min. 1000 Trainingsdatensätze, um die Zusammenhänge gut genug zu abstrahieren, sodass das Modell bei neuen unbekannten Datensätzen nicht kläglich versagt.\n",
    "Somit wäre auch der Ansatz die Datensetzt auf Klassenbalance hin anzupassen nicht ohne weiteres möglich."
   ]
  },
  {
   "cell_type": "markdown",
   "metadata": {},
   "source": [
    "\n",
    "### Regularisierung\n",
    "Eine Regularisierung dient dazu um bei einem Modell zu verhindern, dass es sich an die Trainingsdaten überanpasst. Von daher ist eine Regularisierung generell sehr Ratsam.\n",
    "In unserer Implemntierung des Gradientenverfahrens wurde eine Toleranz eingeführt, welche den Algorithmus abbricht, sobalt diese unterschritten wurde, womit die entstandenen Modelle in gewisser Weise reguliert sind. Traditionell wird die Regularisierung aber mit einem Faktor bei der Kostenfunktion realisiert, was hier nicht gemacht wurde."
   ]
  }
 ],
 "metadata": {
  "kernelspec": {
   "display_name": "Python 3",
   "language": "python",
   "name": "python3"
  },
  "language_info": {
   "codemirror_mode": {
    "name": "ipython",
    "version": 3
   },
   "file_extension": ".py",
   "mimetype": "text/x-python",
   "name": "python",
   "nbconvert_exporter": "python",
   "pygments_lexer": "ipython3",
   "version": "3.7.0"
  }
 },
 "nbformat": 4,
 "nbformat_minor": 4
}
