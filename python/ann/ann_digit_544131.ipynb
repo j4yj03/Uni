{
 "cells": [
  {
   "cell_type": "markdown",
   "metadata": {},
   "source": [
    "# Logistische Regression: digits\n",
    "\n",
    "Dieses Jupyter Notebook führt die Ergebnisse des zweiten Projektes im Modul Special Engineering (M30) zum Thema Logistische Regression auf. Als Datenset wird das digits Datenset verwendet."
   ]
  },
  {
   "cell_type": "code",
   "execution_count": 1,
   "metadata": {},
   "outputs": [],
   "source": [
    "###############################################################################\n",
    "# Digits Dataset: Logistische Regression\n",
    "# Sidney Göhler 544131\n",
    "#### IKT (M)\n",
    "# Special Engineering SoSe20\n",
    "# Prof. Dr. Andreas Zeiser\n",
    "###############################################################################\n",
    "# Imports\n",
    "import numpy as np\n",
    "import matplotlib.pyplot as plt\n",
    "from matplotlib import cm\n",
    "import matplotlib.gridspec as gridspec\n",
    "\n",
    "from sklearn.datasets import load_digits\n",
    "\n",
    "from sklearn.model_selection import GridSearchCV, ParameterGrid, train_test_split, StratifiedKFold, learning_curve\n",
    "from sklearn.metrics import classification_report, confusion_matrix, make_scorer, f1_score\n",
    "\n",
    "import time\n",
    "import pandas as pd\n",
    "import tensorflow as tf\n",
    "import seaborn as sns\n",
    "\n",
    "from tensorflow.keras import Sequential\n",
    "from tensorflow.keras import layers\n",
    "from tensorflow.keras import regularizers\n",
    "from tensorflow.keras import activations\n",
    "from tensorflow.keras.wrappers.scikit_learn import KerasClassifier\n",
    "from tensorflow.keras.callbacks import ModelCheckpoint, EarlyStopping #, TensorBoard\n",
    "\n",
    "\n",
    "\n",
    "#from scipy.stats.kde import gaussian_kde\n",
    "from scipy.stats import kde, distributions\n",
    "##########################\n",
    "#import helperfunctions\n",
    "import helper\n",
    "\n",
    "%load_ext autoreload\n",
    "%autoreload 2\n"
   ]
  },
  {
   "cell_type": "code",
   "execution_count": 2,
   "metadata": {},
   "outputs": [
    {
     "data": {
      "text/plain": [
       "'2.3.0-tf'"
      ]
     },
     "execution_count": 2,
     "metadata": {},
     "output_type": "execute_result"
    }
   ],
   "source": [
    "tf.keras.__version__"
   ]
  },
  {
   "cell_type": "code",
   "execution_count": null,
   "metadata": {},
   "outputs": [],
   "source": []
  },
  {
   "cell_type": "code",
   "execution_count": null,
   "metadata": {},
   "outputs": [],
   "source": []
  },
  {
   "cell_type": "code",
   "execution_count": 3,
   "metadata": {},
   "outputs": [],
   "source": [
    "####################\n",
    "# load datasets\n",
    "####################\n",
    "dataset = load_digits()\n",
    "#print(dataset.DESCR, '\\n', '\\n')\n",
    "X = dataset.data\n",
    "y = dataset.target\n",
    "\n",
    "targets = dataset.target_names\n",
    "images = dataset.images\n",
    "\n"
   ]
  },
  {
   "cell_type": "markdown",
   "metadata": {},
   "source": []
  },
  {
   "cell_type": "markdown",
   "metadata": {},
   "source": [
    "### Visualisieren von einzelnen Ziffern\n",
    "Nachdem das Datenset geladen wurde, können vereinzelte Zahlen illustriert werden."
   ]
  },
  {
   "cell_type": "code",
   "execution_count": 4,
   "metadata": {
    "scrolled": true
   },
   "outputs": [
    {
     "name": "stdout",
     "output_type": "stream",
     "text": [
      "digit = 0 at index = 0\n"
     ]
    },
    {
     "data": {
      "image/png": "[encoded data removed]",
      "text/plain": [
       "<Figure size 288x288 with 2 Axes>"
      ]
     },
     "metadata": {
      "needs_background": "light"
     },
     "output_type": "display_data"
    },
    {
     "name": "stdout",
     "output_type": "stream",
     "text": [
      "[[ 0.  0.  5. 13.  9.  1.  0.  0.]\n",
      " [ 0.  0. 13. 15. 10. 15.  5.  0.]\n",
      " [ 0.  3. 15.  2.  0. 11.  8.  0.]\n",
      " [ 0.  4. 12.  0.  0.  8.  8.  0.]\n",
      " [ 0.  5.  8.  0.  0.  9.  8.  0.]\n",
      " [ 0.  4. 11.  0.  1. 12.  7.  0.]\n",
      " [ 0.  2. 14.  5. 10. 12.  0.  0.]\n",
      " [ 0.  0.  6. 13. 10.  0.  0.  0.]]\n",
      "\n",
      "\n",
      "\n",
      "digit = 0 at index = 20\n"
     ]
    },
    {
     "data": {
      "image/png": "[encoded data removed]",
      "text/plain": [
       "<Figure size 288x288 with 2 Axes>"
      ]
     },
     "metadata": {
      "needs_background": "light"
     },
     "output_type": "display_data"
    },
    {
     "name": "stdout",
     "output_type": "stream",
     "text": [
      "[[ 0.  0.  3. 13. 11.  7.  0.  0.]\n",
      " [ 0.  0. 11. 16. 16. 16.  2.  0.]\n",
      " [ 0.  4. 16.  9.  1. 14.  2.  0.]\n",
      " [ 0.  4. 16.  0.  0. 16.  2.  0.]\n",
      " [ 0.  0. 16.  1.  0. 12.  8.  0.]\n",
      " [ 0.  0. 15.  9.  0. 13.  6.  0.]\n",
      " [ 0.  0.  9. 14.  9. 14.  1.  0.]\n",
      " [ 0.  0.  2. 12. 13.  4.  0.  0.]]\n",
      "\n",
      "\n",
      "\n",
      "digit = 8 at index = 500\n"
     ]
    },
    {
     "data": {
      "image/png": "[encoded data removed]",
      "text/plain": [
       "<Figure size 288x288 with 2 Axes>"
      ]
     },
     "metadata": {
      "needs_background": "light"
     },
     "output_type": "display_data"
    },
    {
     "name": "stdout",
     "output_type": "stream",
     "text": [
      "[[ 0.  0.  3. 10. 14.  3.  0.  0.]\n",
      " [ 0.  8. 16. 11. 10. 13.  0.  0.]\n",
      " [ 0.  7. 14.  0.  1. 15.  2.  0.]\n",
      " [ 0.  2. 16.  9. 16. 16.  1.  0.]\n",
      " [ 0.  0. 12. 16. 15. 15.  2.  0.]\n",
      " [ 0.  0. 12. 10.  0.  8.  8.  0.]\n",
      " [ 0.  0.  9. 12.  4.  7. 12.  0.]\n",
      " [ 0.  0.  2. 11. 16. 16.  9.  0.]]\n",
      "\n",
      "\n",
      "\n",
      "digit = 8 at index = 508\n"
     ]
    },
    {
     "data": {
      "image/png": "[encoded data removed]",
      "text/plain": [
       "<Figure size 288x288 with 2 Axes>"
      ]
     },
     "metadata": {
      "needs_background": "light"
     },
     "output_type": "display_data"
    },
    {
     "name": "stdout",
     "output_type": "stream",
     "text": [
      "[[ 0.  0.  6. 10.  9.  4.  0.  0.]\n",
      " [ 0.  0. 14. 10. 16. 16.  1.  0.]\n",
      " [ 0.  4. 15.  1.  9. 16.  0.  0.]\n",
      " [ 0.  3. 16. 16. 16.  8.  0.  0.]\n",
      " [ 0.  0. 12. 14. 16.  5.  0.  0.]\n",
      " [ 0.  0. 12.  1.  9. 12.  0.  0.]\n",
      " [ 0.  0. 16.  6. 14.  9.  0.  0.]\n",
      " [ 0.  0.  8. 12.  6.  1.  0.  0.]]\n",
      "\n",
      "\n",
      "\n",
      "digit = 5 at index = 1700\n"
     ]
    },
    {
     "data": {
      "image/png": "[encoded data removed]",
      "text/plain": [
       "<Figure size 288x288 with 2 Axes>"
      ]
     },
     "metadata": {
      "needs_background": "light"
     },
     "output_type": "display_data"
    },
    {
     "name": "stdout",
     "output_type": "stream",
     "text": [
      "[[ 0.  0.  4.  9. 12. 16.  8.  0.]\n",
      " [ 0.  0. 15. 15.  8.  8.  2.  0.]\n",
      " [ 0.  4. 16. 11.  4.  1.  0.  0.]\n",
      " [ 0.  8. 16. 16. 16. 14.  0.  0.]\n",
      " [ 0.  0. 11.  9.  8. 16.  0.  0.]\n",
      " [ 0.  0.  0.  0.  7. 16.  0.  0.]\n",
      " [ 0.  0.  0.  8. 16. 12.  0.  0.]\n",
      " [ 0.  0.  3. 13.  9.  1.  0.  0.]]\n",
      "\n",
      "\n",
      "\n",
      "digit = 5 at index = 1787\n"
     ]
    },
    {
     "data": {
      "image/png": "[encoded data removed]",
      "text/plain": [
       "<Figure size 288x288 with 2 Axes>"
      ]
     },
     "metadata": {
      "needs_background": "light"
     },
     "output_type": "display_data"
    },
    {
     "name": "stdout",
     "output_type": "stream",
     "text": [
      "[[ 0.  0. 10. 16. 15.  1.  0.  0.]\n",
      " [ 0.  0. 16. 12.  5.  0.  0.  0.]\n",
      " [ 0.  2. 16.  9.  4.  0.  0.  0.]\n",
      " [ 0.  4. 16. 16. 16. 14.  2.  0.]\n",
      " [ 0.  1. 10.  4.  1. 16.  4.  0.]\n",
      " [ 0.  0.  0.  0.  2. 16.  7.  0.]\n",
      " [ 0.  0.  7.  8. 14. 16.  3.  0.]\n",
      " [ 0.  0.  6. 13. 10.  4.  0.  0.]]\n",
      "\n",
      "\n",
      "\n"
     ]
    }
   ],
   "source": [
    "for ind in [0,20,500,508,1700,1787]:\n",
    "    print(f'digit = {y[ind]} at index = {ind}')\n",
    "    plt.matshow(images[ind], cmap = cm.inferno)\n",
    "    plt.colorbar()\n",
    "    plt.show()\n",
    "    print(f'{images[ind]}\\n\\n\\n')"
   ]
  },
  {
   "cell_type": "markdown",
   "metadata": {},
   "source": [
    "Zu sehen ist, dass die selben Ziffern häufig minimale Unterschiede untereinander haben. Die Zeilen 3 und 4 wirken stark frequentiert, hingegen die Spalten 0 und 7 sehr schwach.\n",
    "\n",
    "Anzumerken ist noch, dass die Features des Datensets, aufgrund der Tatsache, dass es sich ausschlißelich um Helligkeitswerte handelt, bereits skaliert sind.\n",
    "Ein erneutes skalieren ist somit nicht unbedingt Notwendig aber dennoch ratsam, da das Gradientenabstiegsverfahren wohl deutlich schneller Konvergiert.\n",
    "https://en.wikipedia.org/wiki/Feature_scaling#cite_note-1"
   ]
  },
  {
   "cell_type": "code",
   "execution_count": 5,
   "metadata": {},
   "outputs": [],
   "source": [
    "X = X/16\n",
    "\n",
    "#mean, std = lr.StandardScaler_fit(X)\n",
    "#print(mean,std)\n",
    "#X = lr.StandardScaler_transform(X, mean, std+10)\n",
    "#print(np.max(X),np.min(X))"
   ]
  },
  {
   "cell_type": "code",
   "execution_count": null,
   "metadata": {},
   "outputs": [],
   "source": []
  },
  {
   "cell_type": "markdown",
   "metadata": {
    "scrolled": true
   },
   "source": [
    "Auffälig ist dennoch,wenn man sich den Mittelwert und die Standartabweichung der einzelnen Features anschaut, fällt nochmals auf, dass beide bei drei Features jeweils 0.0 ist, was eigentlich bedeuted, dass es zwischen den einzelnen digits bei diesen Features keine Unterschiede gibt, welche für Verhersagungen genutz werden können.\n",
    "Somit könnten diese drei Features komplett ausgeschlossen werden um ggf. Prozessorzeit oder Speicher zu sparen."
   ]
  },
  {
   "cell_type": "code",
   "execution_count": 6,
   "metadata": {},
   "outputs": [
    {
     "name": "stdout",
     "output_type": "stream",
     "text": [
      "trainset  (1078, 64) (1078,) \n",
      "testset  (359, 64) (359,) \n",
      "validationset  (360, 64) (360,)\n"
     ]
    }
   ],
   "source": [
    "####################\n",
    "# split dataset (80:20)\n",
    "####################\n",
    "\n",
    "\n",
    "X_train, X_test, y_train, y_test = train_test_split(X, y, test_size=0.40, random_state=42)\n",
    "X_test, X_val, y_test, y_val = train_test_split(X_test, y_test, test_size=0.50, random_state=42)\n",
    "\n",
    "print('trainset ',np.shape(X_train),np.shape(y_train),\n",
    "      '\\ntestset ', np.shape(X_test),np.shape(y_test),\n",
    "      '\\nvalidationset ',np.shape(X_val),np.shape(y_val))"
   ]
  },
  {
   "cell_type": "code",
   "execution_count": 7,
   "metadata": {},
   "outputs": [
    {
     "name": "stderr",
     "output_type": "stream",
     "text": [
      "D:\\Documents\\Uni\\!code\\git\\python\\ann\\helper.py:37: UserWarning: In Matplotlib 3.3 individual lines on a stem plot will be added as a LineCollection instead of individual lines. This significantly improves the performance of a stem plot. To remove this warning and switch to the new behaviour, set the \"use_line_collection\" keyword argument to True.\n",
      "  ax2.stem([0],[0.1], '-.')\n"
     ]
    },
    {
     "data": {
      "image/png": "[encoded data removed]",
      "text/plain": [
       "<Figure size 1152x432 with 2 Axes>"
      ]
     },
     "metadata": {
      "needs_background": "light"
     },
     "output_type": "display_data"
    }
   ],
   "source": [
    "\n",
    "helper.plotactivationfunctions()\n",
    "\n"
   ]
  },
  {
   "cell_type": "markdown",
   "metadata": {},
   "source": [
    "Lineare Aktivierungsfunktionen unterliegen einer starken Beschränkung, da eine Komposition linearer Funktionen durch arithmetische Umformungen durch eine einzige lineare Funktion dargestellt werden kann. Für mehrschichtige Verbindungsnetzwerke sind sie deswegen nicht geeignet und finden so nur in einfachen Modellen Anwendung. "
   ]
  },
  {
   "cell_type": "code",
   "execution_count": 8,
   "metadata": {},
   "outputs": [],
   "source": [
    "#https://keras.io/api/layers/regularizers/\n",
    "def create_model(n_hidden_layer=1, n_neurons_per_layer=32, learning_rate=5e-4, optimizer=\"SGD\"):\n",
    "    model = Sequential()\n",
    "\n",
    "    model.add(layers.Dense(64, activation='relu', input_shape=(64,)))\n",
    "    \n",
    "    for lay in range(n_hidden_layer):\n",
    "        model.add(layers.Dense(n_neurons_per_layer, activation='relu', activity_regularizer=regularizers.l2(learning_rate)))\n",
    "\n",
    "    model.add(layers.Dense(10, activation='softmax'))\n",
    "    \n",
    "    model.compile(loss=\"sparse_categorical_crossentropy\",\n",
    "             optimizer=optimizer,\n",
    "             metrics=[\"accuracy\"])\n",
    "    \n",
    "    return model\n",
    "\n",
    "\n",
    "model_path = \"!digit_classifier_{}.h5\".format(time.time())\n",
    "#model_path = \"!digit_classifier_1572964918.600015.h5\"\n",
    "\n",
    "learning_rate = 5e-4\n",
    "nb_epoch = 300\n",
    "nb_batch_size = 20\n",
    "\n",
    "\n",
    "\n",
    "model_sk = KerasClassifier(build_fn=create_model)\n"
   ]
  },
  {
   "cell_type": "code",
   "execution_count": null,
   "metadata": {},
   "outputs": [],
   "source": [
    "model.summary()"
   ]
  },
  {
   "cell_type": "code",
   "execution_count": null,
   "metadata": {},
   "outputs": [],
   "source": [
    "checkpointer = ModelCheckpoint(filepath=model_path,\n",
    "                               verbose=1,\n",
    "                               save_best_only=True)\n",
    "\n",
    "early_stopping = EarlyStopping(patience=5,\n",
    "                               verbose=1,\n",
    "                               restore_best_weights=True)"
   ]
  },
  {
   "cell_type": "code",
   "execution_count": 10,
   "metadata": {
    "scrolled": true
   },
   "outputs": [
    {
     "name": "stdout",
     "output_type": "stream",
     "text": [
      "Fitting 3 folds for each of 12 candidates, totalling 36 fits\n",
      "[CV] learning_rate=0.0005, n_hidden_layer=3, n_neurons_per_layer=64 ..\n"
     ]
    },
    {
     "name": "stderr",
     "output_type": "stream",
     "text": [
      "[Parallel(n_jobs=1)]: Using backend SequentialBackend with 1 concurrent workers.\n"
     ]
    },
    {
     "name": "stdout",
     "output_type": "stream",
     "text": [
      "WARNING:tensorflow:From c:\\users\\crazy\\appdata\\local\\programs\\python\\python37\\lib\\site-packages\\tensorflow\\python\\keras\\wrappers\\scikit_learn.py:241: Sequential.predict_classes (from tensorflow.python.keras.engine.sequential) is deprecated and will be removed after 2021-01-01.\n",
      "Instructions for updating:\n",
      "Please use instead:* `np.argmax(model.predict(x), axis=-1)`,   if your model does multi-class classification   (e.g. if it uses a `softmax` last-layer activation).* `(model.predict(x) > 0.5).astype(\"int32\")`,   if your model does binary classification   (e.g. if it uses a `sigmoid` last-layer activation).\n",
      "[CV]  learning_rate=0.0005, n_hidden_layer=3, n_neurons_per_layer=64, score=0.961, total= 1.2min\n",
      "[CV] learning_rate=0.0005, n_hidden_layer=3, n_neurons_per_layer=64 ..\n"
     ]
    },
    {
     "name": "stderr",
     "output_type": "stream",
     "text": [
      "[Parallel(n_jobs=1)]: Done   1 out of   1 | elapsed:  1.2min remaining:    0.0s\n"
     ]
    },
    {
     "name": "stdout",
     "output_type": "stream",
     "text": [
      "[CV]  learning_rate=0.0005, n_hidden_layer=3, n_neurons_per_layer=64, score=0.958, total= 1.2min\n",
      "[CV] learning_rate=0.0005, n_hidden_layer=3, n_neurons_per_layer=64 ..\n"
     ]
    },
    {
     "name": "stderr",
     "output_type": "stream",
     "text": [
      "[Parallel(n_jobs=1)]: Done   2 out of   2 | elapsed:  2.4min remaining:    0.0s\n"
     ]
    },
    {
     "name": "stdout",
     "output_type": "stream",
     "text": [
      "[CV]  learning_rate=0.0005, n_hidden_layer=3, n_neurons_per_layer=64, score=0.955, total= 1.3min\n",
      "[CV] learning_rate=0.0005, n_hidden_layer=3, n_neurons_per_layer=128 .\n"
     ]
    },
    {
     "name": "stderr",
     "output_type": "stream",
     "text": [
      "[Parallel(n_jobs=1)]: Done   3 out of   3 | elapsed:  3.7min remaining:    0.0s\n"
     ]
    },
    {
     "name": "stdout",
     "output_type": "stream",
     "text": [
      "[CV]  learning_rate=0.0005, n_hidden_layer=3, n_neurons_per_layer=128, score=0.953, total= 1.3min\n",
      "[CV] learning_rate=0.0005, n_hidden_layer=3, n_neurons_per_layer=128 .\n"
     ]
    },
    {
     "name": "stderr",
     "output_type": "stream",
     "text": [
      "[Parallel(n_jobs=1)]: Done   4 out of   4 | elapsed:  5.0min remaining:    0.0s\n"
     ]
    },
    {
     "name": "stdout",
     "output_type": "stream",
     "text": [
      "[CV]  learning_rate=0.0005, n_hidden_layer=3, n_neurons_per_layer=128, score=0.978, total= 1.2min\n",
      "[CV] learning_rate=0.0005, n_hidden_layer=3, n_neurons_per_layer=128 .\n"
     ]
    },
    {
     "name": "stderr",
     "output_type": "stream",
     "text": [
      "[Parallel(n_jobs=1)]: Done   5 out of   5 | elapsed:  6.2min remaining:    0.0s\n"
     ]
    },
    {
     "name": "stdout",
     "output_type": "stream",
     "text": [
      "[CV]  learning_rate=0.0005, n_hidden_layer=3, n_neurons_per_layer=128, score=0.958, total= 1.2min\n",
      "[CV] learning_rate=0.0005, n_hidden_layer=4, n_neurons_per_layer=64 ..\n"
     ]
    },
    {
     "name": "stderr",
     "output_type": "stream",
     "text": [
      "[Parallel(n_jobs=1)]: Done   6 out of   6 | elapsed:  7.5min remaining:    0.0s\n"
     ]
    },
    {
     "name": "stdout",
     "output_type": "stream",
     "text": [
      "[CV]  learning_rate=0.0005, n_hidden_layer=4, n_neurons_per_layer=64, score=0.944, total= 1.3min\n",
      "[CV] learning_rate=0.0005, n_hidden_layer=4, n_neurons_per_layer=64 ..\n"
     ]
    },
    {
     "name": "stderr",
     "output_type": "stream",
     "text": [
      "[Parallel(n_jobs=1)]: Done   7 out of   7 | elapsed:  8.8min remaining:    0.0s\n"
     ]
    },
    {
     "name": "stdout",
     "output_type": "stream",
     "text": [
      "[CV]  learning_rate=0.0005, n_hidden_layer=4, n_neurons_per_layer=64, score=0.966, total= 1.3min\n",
      "[CV] learning_rate=0.0005, n_hidden_layer=4, n_neurons_per_layer=64 ..\n"
     ]
    },
    {
     "name": "stderr",
     "output_type": "stream",
     "text": [
      "[Parallel(n_jobs=1)]: Done   8 out of   8 | elapsed: 10.1min remaining:    0.0s\n"
     ]
    },
    {
     "name": "stdout",
     "output_type": "stream",
     "text": [
      "[CV]  learning_rate=0.0005, n_hidden_layer=4, n_neurons_per_layer=64, score=0.964, total= 1.6min\n",
      "[CV] learning_rate=0.0005, n_hidden_layer=4, n_neurons_per_layer=128 .\n"
     ]
    },
    {
     "name": "stderr",
     "output_type": "stream",
     "text": [
      "[Parallel(n_jobs=1)]: Done   9 out of   9 | elapsed: 11.7min remaining:    0.0s\n"
     ]
    },
    {
     "name": "stdout",
     "output_type": "stream",
     "text": [
      "[CV]  learning_rate=0.0005, n_hidden_layer=4, n_neurons_per_layer=128, score=0.947, total= 1.9min\n",
      "[CV] learning_rate=0.0005, n_hidden_layer=4, n_neurons_per_layer=128 .\n",
      "[CV]  learning_rate=0.0005, n_hidden_layer=4, n_neurons_per_layer=128, score=0.977, total= 1.3min\n",
      "[CV] learning_rate=0.0005, n_hidden_layer=4, n_neurons_per_layer=128 .\n",
      "[CV]  learning_rate=0.0005, n_hidden_layer=4, n_neurons_per_layer=128, score=0.972, total= 1.8min\n",
      "[CV] learning_rate=0.005, n_hidden_layer=3, n_neurons_per_layer=64 ...\n",
      "[CV]  learning_rate=0.005, n_hidden_layer=3, n_neurons_per_layer=64, score=0.953, total= 1.9min\n",
      "[CV] learning_rate=0.005, n_hidden_layer=3, n_neurons_per_layer=64 ...\n",
      "[CV]  learning_rate=0.005, n_hidden_layer=3, n_neurons_per_layer=64, score=0.972, total= 2.3min\n",
      "[CV] learning_rate=0.005, n_hidden_layer=3, n_neurons_per_layer=64 ...\n",
      "[CV]  learning_rate=0.005, n_hidden_layer=3, n_neurons_per_layer=64, score=0.967, total= 2.1min\n",
      "[CV] learning_rate=0.005, n_hidden_layer=3, n_neurons_per_layer=128 ..\n",
      "[CV]  learning_rate=0.005, n_hidden_layer=3, n_neurons_per_layer=128, score=0.956, total= 2.5min\n",
      "[CV] learning_rate=0.005, n_hidden_layer=3, n_neurons_per_layer=128 ..\n",
      "[CV]  learning_rate=0.005, n_hidden_layer=3, n_neurons_per_layer=128, score=0.980, total= 2.8min\n",
      "[CV] learning_rate=0.005, n_hidden_layer=3, n_neurons_per_layer=128 ..\n",
      "[CV]  learning_rate=0.005, n_hidden_layer=3, n_neurons_per_layer=128, score=0.966, total= 2.7min\n",
      "[CV] learning_rate=0.005, n_hidden_layer=4, n_neurons_per_layer=64 ...\n",
      "[CV]  learning_rate=0.005, n_hidden_layer=4, n_neurons_per_layer=64, score=0.953, total= 3.3min\n",
      "[CV] learning_rate=0.005, n_hidden_layer=4, n_neurons_per_layer=64 ...\n",
      "[CV]  learning_rate=0.005, n_hidden_layer=4, n_neurons_per_layer=64, score=0.961, total= 3.2min\n",
      "[CV] learning_rate=0.005, n_hidden_layer=4, n_neurons_per_layer=64 ...\n",
      "[CV]  learning_rate=0.005, n_hidden_layer=4, n_neurons_per_layer=64, score=0.969, total= 2.6min\n",
      "[CV] learning_rate=0.005, n_hidden_layer=4, n_neurons_per_layer=128 ..\n",
      "[CV]  learning_rate=0.005, n_hidden_layer=4, n_neurons_per_layer=128, score=0.950, total= 2.8min\n",
      "[CV] learning_rate=0.005, n_hidden_layer=4, n_neurons_per_layer=128 ..\n",
      "[CV]  learning_rate=0.005, n_hidden_layer=4, n_neurons_per_layer=128, score=0.977, total= 2.8min\n",
      "[CV] learning_rate=0.005, n_hidden_layer=4, n_neurons_per_layer=128 ..\n",
      "[CV]  learning_rate=0.005, n_hidden_layer=4, n_neurons_per_layer=128, score=0.969, total= 2.5min\n",
      "[CV] learning_rate=0.05, n_hidden_layer=3, n_neurons_per_layer=64 ....\n",
      "[CV]  learning_rate=0.05, n_hidden_layer=3, n_neurons_per_layer=64, score=0.945, total= 1.3min\n",
      "[CV] learning_rate=0.05, n_hidden_layer=3, n_neurons_per_layer=64 ....\n",
      "[CV]  learning_rate=0.05, n_hidden_layer=3, n_neurons_per_layer=64, score=0.972, total= 1.2min\n",
      "[CV] learning_rate=0.05, n_hidden_layer=3, n_neurons_per_layer=64 ....\n",
      "[CV]  learning_rate=0.05, n_hidden_layer=3, n_neurons_per_layer=64, score=0.958, total= 1.4min\n",
      "[CV] learning_rate=0.05, n_hidden_layer=3, n_neurons_per_layer=128 ...\n",
      "[CV]  learning_rate=0.05, n_hidden_layer=3, n_neurons_per_layer=128, score=0.953, total= 1.7min\n",
      "[CV] learning_rate=0.05, n_hidden_layer=3, n_neurons_per_layer=128 ...\n",
      "[CV]  learning_rate=0.05, n_hidden_layer=3, n_neurons_per_layer=128, score=0.986, total= 1.7min\n",
      "[CV] learning_rate=0.05, n_hidden_layer=3, n_neurons_per_layer=128 ...\n",
      "[CV]  learning_rate=0.05, n_hidden_layer=3, n_neurons_per_layer=128, score=0.972, total= 1.7min\n",
      "[CV] learning_rate=0.05, n_hidden_layer=4, n_neurons_per_layer=64 ....\n",
      "[CV]  learning_rate=0.05, n_hidden_layer=4, n_neurons_per_layer=64, score=0.939, total= 2.0min\n",
      "[CV] learning_rate=0.05, n_hidden_layer=4, n_neurons_per_layer=64 ....\n",
      "[CV]  learning_rate=0.05, n_hidden_layer=4, n_neurons_per_layer=64, score=0.978, total= 1.9min\n",
      "[CV] learning_rate=0.05, n_hidden_layer=4, n_neurons_per_layer=64 ....\n",
      "[CV]  learning_rate=0.05, n_hidden_layer=4, n_neurons_per_layer=64, score=0.961, total= 1.8min\n",
      "[CV] learning_rate=0.05, n_hidden_layer=4, n_neurons_per_layer=128 ...\n",
      "[CV]  learning_rate=0.05, n_hidden_layer=4, n_neurons_per_layer=128, score=0.951, total= 2.0min\n",
      "[CV] learning_rate=0.05, n_hidden_layer=4, n_neurons_per_layer=128 ...\n",
      "[CV]  learning_rate=0.05, n_hidden_layer=4, n_neurons_per_layer=128, score=0.980, total= 2.3min\n",
      "[CV] learning_rate=0.05, n_hidden_layer=4, n_neurons_per_layer=128 ...\n",
      "[CV]  learning_rate=0.05, n_hidden_layer=4, n_neurons_per_layer=128, score=0.967, total= 2.0min\n"
     ]
    },
    {
     "name": "stderr",
     "output_type": "stream",
     "text": [
      "[Parallel(n_jobs=1)]: Done  36 out of  36 | elapsed: 69.2min finished\n"
     ]
    }
   ],
   "source": [
    "from scipy.stats import reciprocal\n",
    "\n",
    "scorer = make_scorer(f1_score, average='weighted')\n",
    "\n",
    "\n",
    "param_grid = {\n",
    "     #'solver': ['newton-cg', 'lbfgs', 'liblinear', 'sag', 'saga'],\n",
    "    'n_hidden_layer': [3, 4],\n",
    "    'n_neurons_per_layer': [64, 128],\n",
    "    'learning_rate': [5e-4, 5e-3, 5e-2],\n",
    "    #'n_jobs':[-1],\n",
    "    #'random_state': [seed]\n",
    "}\n",
    "\n",
    "grid = GridSearchCV(estimator=model_sk,\n",
    "                    param_grid=param_grid,\n",
    "                    scoring=scorer,\n",
    "                    verbose=10,\n",
    "                    #n_jobs=-1,\n",
    "                    cv=3)\n",
    "\n",
    "grid_result = grid.fit(X_train, y_train, epochs=nb_epoch,\n",
    "                    shuffle=True,\n",
    "                    batch_size=nb_batch_size,\n",
    "                    validation_data=(X_val, y_val),\n",
    "                    verbose=0,\n",
    "                    callbacks=[checkpointer, early_stopping])\n"
   ]
  },
  {
   "cell_type": "code",
   "execution_count": null,
   "metadata": {},
   "outputs": [],
   "source": []
  },
  {
   "cell_type": "code",
   "execution_count": 22,
   "metadata": {},
   "outputs": [
    {
     "name": "stdout",
     "output_type": "stream",
     "text": [
      "{'learning_rate': 0.05, 'n_hidden_layer': 3, 'n_neurons_per_layer': 128} with 0.9705192334892251\n"
     ]
    }
   ],
   "source": [
    "print(f'{grid.best_params_} with {grid.best_score_}')"
   ]
  },
  {
   "cell_type": "code",
   "execution_count": 11,
   "metadata": {},
   "outputs": [
    {
     "name": "stdout",
     "output_type": "stream",
     "text": [
      "Model: \"sequential\"\n",
      "_________________________________________________________________\n",
      "Layer (type)                 Output Shape              Param #   \n",
      "=================================================================\n",
      "dense (Dense)                (None, 64)                4160      \n",
      "_________________________________________________________________\n",
      "dense_1 (Dense)              (None, 32)                2080      \n",
      "_________________________________________________________________\n",
      "dense_2 (Dense)              (None, 10)                330       \n",
      "=================================================================\n",
      "Total params: 6,570\n",
      "Trainable params: 6,570\n",
      "Non-trainable params: 0\n",
      "_________________________________________________________________\n"
     ]
    }
   ],
   "source": []
  },
  {
   "cell_type": "code",
   "execution_count": null,
   "metadata": {},
   "outputs": [],
   "source": [
    "bestmodel = create_model(**grid.best_params_)"
   ]
  },
  {
   "cell_type": "code",
   "execution_count": 12,
   "metadata": {},
   "outputs": [
    {
     "name": "stdout",
     "output_type": "stream",
     "text": [
      "Epoch 1/300\n",
      "54/54 [==============================] - 1s 15ms/step - loss: 2.2834 - accuracy: 0.1364 - val_loss: 2.2257 - val_accuracy: 0.2083\n",
      "Epoch 2/300\n",
      "54/54 [==============================] - 1s 16ms/step - loss: 2.1815 - accuracy: 0.2857 - val_loss: 2.1343 - val_accuracy: 0.3722\n",
      "Epoch 3/300\n",
      "54/54 [==============================] - 1s 12ms/step - loss: 2.0838 - accuracy: 0.4017 - val_loss: 2.0314 - val_accuracy: 0.4833\n",
      "Epoch 4/300\n",
      "54/54 [==============================] - 1s 13ms/step - loss: 1.9720 - accuracy: 0.5288 - val_loss: 1.9091 - val_accuracy: 0.5944\n",
      "Epoch 5/300\n",
      "54/54 [==============================] - 1s 10ms/step - loss: 1.8440 - accuracy: 0.6456 - val_loss: 1.7716 - val_accuracy: 0.6889\n",
      "Epoch 6/300\n",
      "54/54 [==============================] - 1s 11ms/step - loss: 1.7003 - accuracy: 0.6883 - val_loss: 1.6217 - val_accuracy: 0.7361\n",
      "Epoch 7/300\n",
      "54/54 [==============================] - 1s 21ms/step - loss: 1.5453 - accuracy: 0.7365 - val_loss: 1.4652 - val_accuracy: 0.7667\n",
      "Epoch 8/300\n",
      "54/54 [==============================] - 1s 21ms/step - loss: 1.3883 - accuracy: 0.7681 - val_loss: 1.3118 - val_accuracy: 0.8083\n",
      "Epoch 9/300\n",
      "54/54 [==============================] - 1s 19ms/step - loss: 1.2374 - accuracy: 0.8052 - val_loss: 1.1670 - val_accuracy: 0.8056\n",
      "Epoch 10/300\n",
      "54/54 [==============================] - 1s 21ms/step - loss: 1.1008 - accuracy: 0.8293 - val_loss: 1.0391 - val_accuracy: 0.8250\n",
      "Epoch 11/300\n",
      "54/54 [==============================] - 1s 20ms/step - loss: 0.9780 - accuracy: 0.8469 - val_loss: 0.9278 - val_accuracy: 0.8278\n",
      "Epoch 12/300\n",
      "54/54 [==============================] - 1s 20ms/step - loss: 0.8736 - accuracy: 0.8627 - val_loss: 0.8333 - val_accuracy: 0.8417 0s - loss: 0.9110 - accura\n",
      "Epoch 13/300\n",
      "54/54 [==============================] - 1s 21ms/step - loss: 0.7839 - accuracy: 0.8748 - val_loss: 0.7534 - val_accuracy: 0.8667\n",
      "Epoch 14/300\n",
      "54/54 [==============================] - 1s 20ms/step - loss: 0.7091 - accuracy: 0.8887 - val_loss: 0.6847 - val_accuracy: 0.8694\n",
      "Epoch 15/300\n",
      "54/54 [==============================] - 1s 21ms/step - loss: 0.6458 - accuracy: 0.9026 - val_loss: 0.6274 - val_accuracy: 0.8861\n",
      "Epoch 16/300\n",
      "54/54 [==============================] - 1s 17ms/step - loss: 0.5916 - accuracy: 0.9072 - val_loss: 0.5803 - val_accuracy: 0.8889\n",
      "Epoch 17/300\n",
      "54/54 [==============================] - 1s 19ms/step - loss: 0.5474 - accuracy: 0.9128 - val_loss: 0.5408 - val_accuracy: 0.9000\n",
      "Epoch 18/300\n",
      "54/54 [==============================] - 1s 18ms/step - loss: 0.5083 - accuracy: 0.9202 - val_loss: 0.5059 - val_accuracy: 0.9000\n",
      "Epoch 19/300\n",
      "54/54 [==============================] - 1s 18ms/step - loss: 0.4760 - accuracy: 0.9258 - val_loss: 0.4743 - val_accuracy: 0.9139\n",
      "Epoch 20/300\n",
      "54/54 [==============================] - 1s 17ms/step - loss: 0.4450 - accuracy: 0.9295 - val_loss: 0.4515 - val_accuracy: 0.9028\n",
      "Epoch 21/300\n",
      "54/54 [==============================] - 1s 15ms/step - loss: 0.4210 - accuracy: 0.9332 - val_loss: 0.4230 - val_accuracy: 0.9167\n",
      "Epoch 22/300\n",
      "54/54 [==============================] - 1s 16ms/step - loss: 0.3990 - accuracy: 0.9323 - val_loss: 0.4008 - val_accuracy: 0.9333\n",
      "Epoch 23/300\n",
      "54/54 [==============================] - 1s 22ms/step - loss: 0.3790 - accuracy: 0.9388 - val_loss: 0.3851 - val_accuracy: 0.9333\n",
      "Epoch 24/300\n",
      "54/54 [==============================] - 1s 18ms/step - loss: 0.3620 - accuracy: 0.9378 - val_loss: 0.3680 - val_accuracy: 0.9333\n",
      "Epoch 25/300\n",
      "54/54 [==============================] - 1s 22ms/step - loss: 0.3472 - accuracy: 0.9416 - val_loss: 0.3520 - val_accuracy: 0.9306\n",
      "Epoch 26/300\n",
      "54/54 [==============================] - 1s 16ms/step - loss: 0.3328 - accuracy: 0.9490 - val_loss: 0.3415 - val_accuracy: 0.9417\n",
      "Epoch 27/300\n",
      "54/54 [==============================] - 1s 16ms/step - loss: 0.3213 - accuracy: 0.9508 - val_loss: 0.3292 - val_accuracy: 0.9472\n",
      "Epoch 28/300\n",
      "54/54 [==============================] - 1s 22ms/step - loss: 0.3088 - accuracy: 0.9499 - val_loss: 0.3181 - val_accuracy: 0.9472\n",
      "Epoch 29/300\n",
      "54/54 [==============================] - 1s 17ms/step - loss: 0.2987 - accuracy: 0.9536 - val_loss: 0.3087 - val_accuracy: 0.9472\n",
      "Epoch 30/300\n",
      "54/54 [==============================] - 1s 16ms/step - loss: 0.2897 - accuracy: 0.9555 - val_loss: 0.3014 - val_accuracy: 0.9444\n",
      "Epoch 31/300\n",
      "54/54 [==============================] - 1s 17ms/step - loss: 0.2805 - accuracy: 0.9555 - val_loss: 0.2941 - val_accuracy: 0.9528\n",
      "Epoch 32/300\n",
      "54/54 [==============================] - 1s 16ms/step - loss: 0.2718 - accuracy: 0.9601 - val_loss: 0.2887 - val_accuracy: 0.9417\n",
      "Epoch 33/300\n",
      "54/54 [==============================] - 1s 18ms/step - loss: 0.2665 - accuracy: 0.9601 - val_loss: 0.2796 - val_accuracy: 0.9556ss: 0.2688 - ac\n",
      "Epoch 34/300\n",
      "54/54 [==============================] - 1s 15ms/step - loss: 0.2591 - accuracy: 0.9592 - val_loss: 0.2709 - val_accuracy: 0.9556\n",
      "Epoch 35/300\n",
      "54/54 [==============================] - 1s 14ms/step - loss: 0.2529 - accuracy: 0.9601 - val_loss: 0.2653 - val_accuracy: 0.9500\n",
      "Epoch 36/300\n",
      "54/54 [==============================] - 1s 16ms/step - loss: 0.2465 - accuracy: 0.9620 - val_loss: 0.2611 - val_accuracy: 0.9583\n",
      "Epoch 37/300\n",
      "54/54 [==============================] - 1s 18ms/step - loss: 0.2411 - accuracy: 0.9657 - val_loss: 0.2551 - val_accuracy: 0.9583\n",
      "Epoch 38/300\n",
      "54/54 [==============================] - 1s 18ms/step - loss: 0.2358 - accuracy: 0.9629 - val_loss: 0.2486 - val_accuracy: 0.9556\n",
      "Epoch 39/300\n",
      "54/54 [==============================] - 1s 20ms/step - loss: 0.2309 - accuracy: 0.9657 - val_loss: 0.2451 - val_accuracy: 0.9556\n",
      "Epoch 40/300\n",
      "54/54 [==============================] - 1s 18ms/step - loss: 0.2263 - accuracy: 0.9666 - val_loss: 0.2414 - val_accuracy: 0.9528\n",
      "Epoch 41/300\n",
      "54/54 [==============================] - 1s 18ms/step - loss: 0.2207 - accuracy: 0.9703 - val_loss: 0.2396 - val_accuracy: 0.9472\n",
      "Epoch 42/300\n",
      "54/54 [==============================] - 1s 17ms/step - loss: 0.2178 - accuracy: 0.9657 - val_loss: 0.2348 - val_accuracy: 0.9528\n",
      "Epoch 43/300\n",
      "54/54 [==============================] - 1s 17ms/step - loss: 0.2137 - accuracy: 0.9694 - val_loss: 0.2298 - val_accuracy: 0.9528\n",
      "Epoch 44/300\n",
      "54/54 [==============================] - 1s 18ms/step - loss: 0.2093 - accuracy: 0.9685 - val_loss: 0.2273 - val_accuracy: 0.9472\n",
      "Epoch 45/300\n",
      "54/54 [==============================] - 1s 16ms/step - loss: 0.2060 - accuracy: 0.9685 - val_loss: 0.2272 - val_accuracy: 0.9583\n",
      "Epoch 46/300\n",
      "54/54 [==============================] - 1s 18ms/step - loss: 0.2024 - accuracy: 0.9712 - val_loss: 0.2211 - val_accuracy: 0.9556\n",
      "Epoch 47/300\n",
      "54/54 [==============================] - 1s 17ms/step - loss: 0.1997 - accuracy: 0.9694 - val_loss: 0.2169 - val_accuracy: 0.9528\n",
      "Epoch 48/300\n",
      "54/54 [==============================] - 1s 15ms/step - loss: 0.1958 - accuracy: 0.9740 - val_loss: 0.2164 - val_accuracy: 0.9528\n",
      "Epoch 49/300\n",
      "54/54 [==============================] - 1s 17ms/step - loss: 0.1932 - accuracy: 0.9712 - val_loss: 0.2120 - val_accuracy: 0.9556\n",
      "Epoch 50/300\n",
      "54/54 [==============================] - 1s 18ms/step - loss: 0.1902 - accuracy: 0.9722 - val_loss: 0.2104 - val_accuracy: 0.9556\n",
      "Epoch 51/300\n",
      "54/54 [==============================] - 1s 21ms/step - loss: 0.1870 - accuracy: 0.9712 - val_loss: 0.2063 - val_accuracy: 0.9556\n",
      "Epoch 52/300\n",
      "54/54 [==============================] - 1s 17ms/step - loss: 0.1848 - accuracy: 0.9740 - val_loss: 0.2045 - val_accuracy: 0.9583\n",
      "Epoch 53/300\n",
      "54/54 [==============================] - 1s 17ms/step - loss: 0.1819 - accuracy: 0.9750 - val_loss: 0.2032 - val_accuracy: 0.9583\n",
      "Epoch 54/300\n",
      "54/54 [==============================] - 1s 21ms/step - loss: 0.1795 - accuracy: 0.9750 - val_loss: 0.2006 - val_accuracy: 0.9611\n",
      "Epoch 55/300\n",
      "54/54 [==============================] - 1s 14ms/step - loss: 0.1767 - accuracy: 0.9750 - val_loss: 0.1995 - val_accuracy: 0.9611\n",
      "Epoch 56/300\n",
      "54/54 [==============================] - 1s 14ms/step - loss: 0.1750 - accuracy: 0.9740 - val_loss: 0.1960 - val_accuracy: 0.9583\n",
      "Epoch 57/300\n",
      "54/54 [==============================] - 1s 13ms/step - loss: 0.1723 - accuracy: 0.9740 - val_loss: 0.1953 - val_accuracy: 0.9639\n",
      "Epoch 58/300\n"
     ]
    },
    {
     "name": "stdout",
     "output_type": "stream",
     "text": [
      "54/54 [==============================] - 1s 10ms/step - loss: 0.1696 - accuracy: 0.9750 - val_loss: 0.1920 - val_accuracy: 0.9639\n",
      "Epoch 59/300\n",
      "54/54 [==============================] - 1s 18ms/step - loss: 0.1683 - accuracy: 0.9750 - val_loss: 0.1913 - val_accuracy: 0.9611\n",
      "Epoch 60/300\n",
      "54/54 [==============================] - 1s 19ms/step - loss: 0.1655 - accuracy: 0.9750 - val_loss: 0.1904 - val_accuracy: 0.9639\n",
      "Epoch 61/300\n",
      "54/54 [==============================] - 1s 15ms/step - loss: 0.1641 - accuracy: 0.9740 - val_loss: 0.1865 - val_accuracy: 0.9667\n",
      "Epoch 62/300\n",
      "54/54 [==============================] - 1s 16ms/step - loss: 0.1617 - accuracy: 0.9740 - val_loss: 0.1858 - val_accuracy: 0.9611\n",
      "Epoch 63/300\n",
      "54/54 [==============================] - 1s 16ms/step - loss: 0.1599 - accuracy: 0.9759 - val_loss: 0.1845 - val_accuracy: 0.9639\n",
      "Epoch 64/300\n",
      "54/54 [==============================] - 1s 13ms/step - loss: 0.1572 - accuracy: 0.9768 - val_loss: 0.1844 - val_accuracy: 0.9667\n",
      "Epoch 65/300\n",
      "54/54 [==============================] - 1s 12ms/step - loss: 0.1561 - accuracy: 0.9759 - val_loss: 0.1821 - val_accuracy: 0.9667\n",
      "Epoch 66/300\n",
      "54/54 [==============================] - 1s 11ms/step - loss: 0.1544 - accuracy: 0.9777 - val_loss: 0.1810 - val_accuracy: 0.9639\n",
      "Epoch 67/300\n",
      "54/54 [==============================] - 1s 13ms/step - loss: 0.1520 - accuracy: 0.9768 - val_loss: 0.1795 - val_accuracy: 0.9583\n",
      "Epoch 68/300\n",
      "54/54 [==============================] - 1s 11ms/step - loss: 0.1516 - accuracy: 0.9759 - val_loss: 0.1784 - val_accuracy: 0.9667\n",
      "Epoch 69/300\n",
      "54/54 [==============================] - 1s 13ms/step - loss: 0.1489 - accuracy: 0.9768 - val_loss: 0.1781 - val_accuracy: 0.9667\n",
      "Epoch 70/300\n",
      "54/54 [==============================] - 1s 15ms/step - loss: 0.1467 - accuracy: 0.9787 - val_loss: 0.1774 - val_accuracy: 0.9639\n",
      "Epoch 71/300\n",
      "54/54 [==============================] - 1s 10ms/step - loss: 0.1464 - accuracy: 0.9777 - val_loss: 0.1754 - val_accuracy: 0.9611\n",
      "Epoch 72/300\n",
      "54/54 [==============================] - 1s 11ms/step - loss: 0.1445 - accuracy: 0.9796 - val_loss: 0.1736 - val_accuracy: 0.9639\n",
      "Epoch 73/300\n",
      "54/54 [==============================] - 0s 9ms/step - loss: 0.1429 - accuracy: 0.9768 - val_loss: 0.1708 - val_accuracy: 0.9667\n",
      "Epoch 74/300\n",
      "54/54 [==============================] - 0s 9ms/step - loss: 0.1414 - accuracy: 0.9787 - val_loss: 0.1717 - val_accuracy: 0.9667\n",
      "Epoch 75/300\n",
      "54/54 [==============================] - 1s 11ms/step - loss: 0.1399 - accuracy: 0.9805 - val_loss: 0.1706 - val_accuracy: 0.9667\n",
      "Epoch 76/300\n",
      "54/54 [==============================] - 1s 11ms/step - loss: 0.1386 - accuracy: 0.9787 - val_loss: 0.1698 - val_accuracy: 0.9667\n",
      "Epoch 77/300\n",
      "54/54 [==============================] - 1s 19ms/step - loss: 0.1374 - accuracy: 0.9814 - val_loss: 0.1669 - val_accuracy: 0.9639\n",
      "Epoch 78/300\n",
      "54/54 [==============================] - 1s 13ms/step - loss: 0.1366 - accuracy: 0.9805 - val_loss: 0.1663 - val_accuracy: 0.9639\n",
      "Epoch 79/300\n",
      "54/54 [==============================] - 1s 13ms/step - loss: 0.1346 - accuracy: 0.9805 - val_loss: 0.1671 - val_accuracy: 0.9667\n",
      "Epoch 80/300\n",
      "54/54 [==============================] - 1s 20ms/step - loss: 0.1338 - accuracy: 0.9814 - val_loss: 0.1653 - val_accuracy: 0.9639\n",
      "Epoch 81/300\n",
      "54/54 [==============================] - 2s 31ms/step - loss: 0.1326 - accuracy: 0.9814 - val_loss: 0.1646 - val_accuracy: 0.9639\n",
      "Epoch 82/300\n",
      "54/54 [==============================] - 1s 13ms/step - loss: 0.1310 - accuracy: 0.9805 - val_loss: 0.1636 - val_accuracy: 0.9639\n",
      "Epoch 83/300\n",
      "54/54 [==============================] - 1s 12ms/step - loss: 0.1295 - accuracy: 0.9833 - val_loss: 0.1632 - val_accuracy: 0.9694\n",
      "Epoch 84/300\n",
      "54/54 [==============================] - 1s 14ms/step - loss: 0.1288 - accuracy: 0.9824 - val_loss: 0.1610 - val_accuracy: 0.9639\n",
      "Epoch 85/300\n",
      "54/54 [==============================] - 1s 11ms/step - loss: 0.1272 - accuracy: 0.9814 - val_loss: 0.1629 - val_accuracy: 0.9639\n",
      "Epoch 86/300\n",
      "54/54 [==============================] - 1s 14ms/step - loss: 0.1269 - accuracy: 0.9824 - val_loss: 0.1594 - val_accuracy: 0.9667\n",
      "Epoch 87/300\n",
      "54/54 [==============================] - 1s 15ms/step - loss: 0.1252 - accuracy: 0.9824 - val_loss: 0.1600 - val_accuracy: 0.9667\n",
      "Epoch 88/300\n",
      "54/54 [==============================] - 1s 12ms/step - loss: 0.1247 - accuracy: 0.9814 - val_loss: 0.1581 - val_accuracy: 0.9639\n",
      "Epoch 89/300\n",
      "54/54 [==============================] - 1s 13ms/step - loss: 0.1232 - accuracy: 0.9842 - val_loss: 0.1579 - val_accuracy: 0.9667\n",
      "Epoch 90/300\n",
      "54/54 [==============================] - 1s 12ms/step - loss: 0.1225 - accuracy: 0.9824 - val_loss: 0.1577 - val_accuracy: 0.9667\n",
      "Epoch 91/300\n",
      "54/54 [==============================] - 1s 13ms/step - loss: 0.1215 - accuracy: 0.9824 - val_loss: 0.1551 - val_accuracy: 0.9639\n",
      "Epoch 92/300\n",
      "54/54 [==============================] - 1s 12ms/step - loss: 0.1202 - accuracy: 0.9833 - val_loss: 0.1553 - val_accuracy: 0.9667\n",
      "Epoch 93/300\n",
      "54/54 [==============================] - 1s 12ms/step - loss: 0.1194 - accuracy: 0.9833 - val_loss: 0.1553 - val_accuracy: 0.9667\n",
      "Epoch 94/300\n",
      "54/54 [==============================] - 1s 16ms/step - loss: 0.1184 - accuracy: 0.9842 - val_loss: 0.1541 - val_accuracy: 0.9694\n",
      "Epoch 95/300\n",
      "54/54 [==============================] - 1s 11ms/step - loss: 0.1177 - accuracy: 0.9852 - val_loss: 0.1541 - val_accuracy: 0.9667\n",
      "Epoch 96/300\n",
      "54/54 [==============================] - 1s 13ms/step - loss: 0.1164 - accuracy: 0.9879 - val_loss: 0.1526 - val_accuracy: 0.9694\n",
      "Epoch 97/300\n",
      "54/54 [==============================] - 1s 12ms/step - loss: 0.1155 - accuracy: 0.9852 - val_loss: 0.1511 - val_accuracy: 0.9667\n",
      "Epoch 98/300\n",
      "54/54 [==============================] - 1s 11ms/step - loss: 0.1147 - accuracy: 0.9842 - val_loss: 0.1515 - val_accuracy: 0.9667\n",
      "Epoch 99/300\n",
      "54/54 [==============================] - 1s 12ms/step - loss: 0.1135 - accuracy: 0.9852 - val_loss: 0.1499 - val_accuracy: 0.9667\n",
      "Epoch 100/300\n",
      "54/54 [==============================] - 1s 15ms/step - loss: 0.1131 - accuracy: 0.9852 - val_loss: 0.1499 - val_accuracy: 0.9694\n",
      "Epoch 101/300\n",
      "54/54 [==============================] - 1s 17ms/step - loss: 0.1121 - accuracy: 0.9879 - val_loss: 0.1488 - val_accuracy: 0.9667\n",
      "Epoch 102/300\n",
      "54/54 [==============================] - 1s 12ms/step - loss: 0.1111 - accuracy: 0.9870 - val_loss: 0.1492 - val_accuracy: 0.9667\n",
      "Epoch 103/300\n",
      "54/54 [==============================] - 1s 16ms/step - loss: 0.1102 - accuracy: 0.9852 - val_loss: 0.1480 - val_accuracy: 0.9722\n",
      "Epoch 104/300\n",
      "54/54 [==============================] - 1s 11ms/step - loss: 0.1096 - accuracy: 0.9861 - val_loss: 0.1480 - val_accuracy: 0.9667\n",
      "Epoch 105/300\n",
      "54/54 [==============================] - 1s 12ms/step - loss: 0.1087 - accuracy: 0.9870 - val_loss: 0.1469 - val_accuracy: 0.9694\n",
      "Epoch 106/300\n",
      "54/54 [==============================] - 1s 10ms/step - loss: 0.1072 - accuracy: 0.9889 - val_loss: 0.1474 - val_accuracy: 0.9667\n",
      "Epoch 107/300\n",
      "54/54 [==============================] - 1s 11ms/step - loss: 0.1069 - accuracy: 0.9870 - val_loss: 0.1463 - val_accuracy: 0.9722\n",
      "Epoch 108/300\n",
      "54/54 [==============================] - 1s 13ms/step - loss: 0.1064 - accuracy: 0.9879 - val_loss: 0.1455 - val_accuracy: 0.9722\n",
      "Epoch 109/300\n",
      "54/54 [==============================] - 1s 14ms/step - loss: 0.1056 - accuracy: 0.9889 - val_loss: 0.1454 - val_accuracy: 0.9694\n",
      "Epoch 110/300\n",
      "54/54 [==============================] - 1s 11ms/step - loss: 0.1048 - accuracy: 0.9889 - val_loss: 0.1462 - val_accuracy: 0.9722\n",
      "Epoch 111/300\n",
      "54/54 [==============================] - 1s 11ms/step - loss: 0.1042 - accuracy: 0.9870 - val_loss: 0.1446 - val_accuracy: 0.9694\n",
      "Epoch 112/300\n",
      "54/54 [==============================] - 1s 11ms/step - loss: 0.1034 - accuracy: 0.9898 - val_loss: 0.1429 - val_accuracy: 0.9722\n",
      "Epoch 113/300\n",
      "54/54 [==============================] - 1s 11ms/step - loss: 0.1024 - accuracy: 0.9889 - val_loss: 0.1431 - val_accuracy: 0.9694\n",
      "Epoch 114/300\n",
      "54/54 [==============================] - 1s 10ms/step - loss: 0.1022 - accuracy: 0.9898 - val_loss: 0.1422 - val_accuracy: 0.9694\n",
      "Epoch 115/300\n"
     ]
    },
    {
     "name": "stdout",
     "output_type": "stream",
     "text": [
      "54/54 [==============================] - 1s 10ms/step - loss: 0.1014 - accuracy: 0.9907 - val_loss: 0.1418 - val_accuracy: 0.9667\n",
      "Epoch 116/300\n",
      "54/54 [==============================] - 1s 11ms/step - loss: 0.1005 - accuracy: 0.9917 - val_loss: 0.1411 - val_accuracy: 0.9750\n",
      "Epoch 117/300\n",
      "54/54 [==============================] - 1s 10ms/step - loss: 0.1002 - accuracy: 0.9917 - val_loss: 0.1411 - val_accuracy: 0.9694\n",
      "Epoch 118/300\n",
      "54/54 [==============================] - 1s 11ms/step - loss: 0.0983 - accuracy: 0.9935 - val_loss: 0.1420 - val_accuracy: 0.9694\n",
      "Epoch 119/300\n",
      "54/54 [==============================] - 1s 16ms/step - loss: 0.0990 - accuracy: 0.9917 - val_loss: 0.1400 - val_accuracy: 0.9694\n",
      "Epoch 120/300\n",
      "54/54 [==============================] - 1s 10ms/step - loss: 0.0981 - accuracy: 0.9917 - val_loss: 0.1397 - val_accuracy: 0.9722\n",
      "Epoch 121/300\n",
      "54/54 [==============================] - 1s 13ms/step - loss: 0.0976 - accuracy: 0.9917 - val_loss: 0.1391 - val_accuracy: 0.9722\n",
      "Epoch 122/300\n",
      "54/54 [==============================] - 1s 10ms/step - loss: 0.0967 - accuracy: 0.9907 - val_loss: 0.1383 - val_accuracy: 0.9694\n",
      "Epoch 123/300\n",
      "54/54 [==============================] - 1s 11ms/step - loss: 0.0961 - accuracy: 0.9917 - val_loss: 0.1383 - val_accuracy: 0.9694\n",
      "Epoch 124/300\n",
      "54/54 [==============================] - 0s 9ms/step - loss: 0.0955 - accuracy: 0.9926 - val_loss: 0.1385 - val_accuracy: 0.9694\n",
      "Epoch 125/300\n",
      "54/54 [==============================] - 1s 13ms/step - loss: 0.0951 - accuracy: 0.9926 - val_loss: 0.1376 - val_accuracy: 0.9694\n",
      "Epoch 126/300\n",
      "54/54 [==============================] - 1s 10ms/step - loss: 0.0942 - accuracy: 0.9935 - val_loss: 0.1360 - val_accuracy: 0.9694\n",
      "Epoch 127/300\n",
      "54/54 [==============================] - 1s 11ms/step - loss: 0.0938 - accuracy: 0.9935 - val_loss: 0.1358 - val_accuracy: 0.9694\n",
      "Epoch 128/300\n",
      "54/54 [==============================] - 1s 11ms/step - loss: 0.0931 - accuracy: 0.9935 - val_loss: 0.1362 - val_accuracy: 0.9722\n",
      "Epoch 129/300\n",
      "54/54 [==============================] - 1s 11ms/step - loss: 0.0927 - accuracy: 0.9935 - val_loss: 0.1350 - val_accuracy: 0.9722\n",
      "Epoch 130/300\n",
      "54/54 [==============================] - 1s 11ms/step - loss: 0.0916 - accuracy: 0.9944 - val_loss: 0.1350 - val_accuracy: 0.9694\n",
      "Epoch 131/300\n",
      "54/54 [==============================] - 1s 11ms/step - loss: 0.0917 - accuracy: 0.9926 - val_loss: 0.1347 - val_accuracy: 0.9722\n",
      "Epoch 132/300\n",
      "54/54 [==============================] - 1s 13ms/step - loss: 0.0910 - accuracy: 0.9944 - val_loss: 0.1346 - val_accuracy: 0.9694\n",
      "Epoch 133/300\n",
      "54/54 [==============================] - 1s 10ms/step - loss: 0.0902 - accuracy: 0.9954 - val_loss: 0.1348 - val_accuracy: 0.9750\n",
      "Epoch 134/300\n",
      "54/54 [==============================] - 1s 12ms/step - loss: 0.0897 - accuracy: 0.9944 - val_loss: 0.1333 - val_accuracy: 0.9694\n",
      "Epoch 135/300\n",
      "54/54 [==============================] - 1s 11ms/step - loss: 0.0894 - accuracy: 0.9954 - val_loss: 0.1334 - val_accuracy: 0.9694\n",
      "Epoch 136/300\n",
      "54/54 [==============================] - 1s 12ms/step - loss: 0.0889 - accuracy: 0.9954 - val_loss: 0.1339 - val_accuracy: 0.9694\n",
      "Epoch 137/300\n",
      "54/54 [==============================] - 1s 17ms/step - loss: 0.0882 - accuracy: 0.9944 - val_loss: 0.1327 - val_accuracy: 0.9694\n",
      "Epoch 138/300\n",
      "54/54 [==============================] - 1s 11ms/step - loss: 0.0875 - accuracy: 0.9954 - val_loss: 0.1322 - val_accuracy: 0.9722\n",
      "Epoch 139/300\n",
      "54/54 [==============================] - 1s 10ms/step - loss: 0.0873 - accuracy: 0.9954 - val_loss: 0.1309 - val_accuracy: 0.9694\n",
      "Epoch 140/300\n",
      "54/54 [==============================] - 1s 10ms/step - loss: 0.0867 - accuracy: 0.9954 - val_loss: 0.1308 - val_accuracy: 0.9694\n",
      "Epoch 141/300\n",
      "54/54 [==============================] - 1s 13ms/step - loss: 0.0860 - accuracy: 0.9944 - val_loss: 0.1323 - val_accuracy: 0.9722\n",
      "Epoch 142/300\n",
      "54/54 [==============================] - 1s 10ms/step - loss: 0.0857 - accuracy: 0.9954 - val_loss: 0.1310 - val_accuracy: 0.9722\n",
      "Epoch 143/300\n",
      "54/54 [==============================] - 1s 11ms/step - loss: 0.0849 - accuracy: 0.9954 - val_loss: 0.1317 - val_accuracy: 0.9750\n",
      "Epoch 144/300\n",
      "54/54 [==============================] - 1s 10ms/step - loss: 0.0850 - accuracy: 0.9944 - val_loss: 0.1302 - val_accuracy: 0.9750\n",
      "Epoch 145/300\n",
      "54/54 [==============================] - 1s 12ms/step - loss: 0.0844 - accuracy: 0.9954 - val_loss: 0.1301 - val_accuracy: 0.9750\n",
      "Epoch 146/300\n",
      "54/54 [==============================] - 1s 10ms/step - loss: 0.0838 - accuracy: 0.9954 - val_loss: 0.1304 - val_accuracy: 0.9750\n",
      "Epoch 147/300\n",
      "54/54 [==============================] - 1s 11ms/step - loss: 0.0835 - accuracy: 0.9944 - val_loss: 0.1291 - val_accuracy: 0.9750\n",
      "Epoch 148/300\n",
      "54/54 [==============================] - 1s 10ms/step - loss: 0.0831 - accuracy: 0.9954 - val_loss: 0.1301 - val_accuracy: 0.9750\n",
      "Epoch 149/300\n",
      "54/54 [==============================] - 1s 12ms/step - loss: 0.0825 - accuracy: 0.9963 - val_loss: 0.1291 - val_accuracy: 0.9750\n",
      "Epoch 150/300\n",
      "54/54 [==============================] - 1s 12ms/step - loss: 0.0820 - accuracy: 0.9954 - val_loss: 0.1283 - val_accuracy: 0.9750\n",
      "Epoch 151/300\n",
      "54/54 [==============================] - 1s 11ms/step - loss: 0.0816 - accuracy: 0.9954 - val_loss: 0.1280 - val_accuracy: 0.9750\n",
      "Epoch 152/300\n",
      "54/54 [==============================] - 1s 12ms/step - loss: 0.0812 - accuracy: 0.9954 - val_loss: 0.1272 - val_accuracy: 0.9722\n",
      "Epoch 153/300\n",
      "54/54 [==============================] - 1s 13ms/step - loss: 0.0806 - accuracy: 0.9944 - val_loss: 0.1279 - val_accuracy: 0.9750\n",
      "Epoch 154/300\n",
      "54/54 [==============================] - 1s 11ms/step - loss: 0.0805 - accuracy: 0.9954 - val_loss: 0.1266 - val_accuracy: 0.9722\n",
      "Epoch 155/300\n",
      "54/54 [==============================] - 1s 12ms/step - loss: 0.0797 - accuracy: 0.9963 - val_loss: 0.1263 - val_accuracy: 0.9750\n",
      "Epoch 156/300\n",
      "54/54 [==============================] - 1s 13ms/step - loss: 0.0793 - accuracy: 0.9963 - val_loss: 0.1261 - val_accuracy: 0.9778\n",
      "Epoch 157/300\n",
      "54/54 [==============================] - 1s 18ms/step - loss: 0.0793 - accuracy: 0.9954 - val_loss: 0.1265 - val_accuracy: 0.9722\n",
      "Epoch 158/300\n",
      "54/54 [==============================] - 1s 16ms/step - loss: 0.0787 - accuracy: 0.9954 - val_loss: 0.1264 - val_accuracy: 0.9722\n",
      "Epoch 159/300\n",
      "54/54 [==============================] - 1s 15ms/step - loss: 0.0782 - accuracy: 0.9963 - val_loss: 0.1267 - val_accuracy: 0.9722\n",
      "Epoch 160/300\n",
      "54/54 [==============================] - 1s 14ms/step - loss: 0.0779 - accuracy: 0.9954 - val_loss: 0.1259 - val_accuracy: 0.9722\n",
      "Epoch 161/300\n",
      "54/54 [==============================] - 1s 12ms/step - loss: 0.0774 - accuracy: 0.9963 - val_loss: 0.1259 - val_accuracy: 0.9750\n",
      "Epoch 162/300\n",
      "54/54 [==============================] - 1s 14ms/step - loss: 0.0770 - accuracy: 0.9954 - val_loss: 0.1248 - val_accuracy: 0.9750\n",
      "Epoch 163/300\n",
      "54/54 [==============================] - 1s 11ms/step - loss: 0.0769 - accuracy: 0.9963 - val_loss: 0.1249 - val_accuracy: 0.9750\n",
      "Epoch 164/300\n",
      "54/54 [==============================] - 1s 13ms/step - loss: 0.0759 - accuracy: 0.9963 - val_loss: 0.1246 - val_accuracy: 0.9722\n",
      "Epoch 165/300\n",
      "54/54 [==============================] - 1s 12ms/step - loss: 0.0758 - accuracy: 0.9954 - val_loss: 0.1241 - val_accuracy: 0.9722\n",
      "Epoch 166/300\n",
      "54/54 [==============================] - 1s 10ms/step - loss: 0.0754 - accuracy: 0.9972 - val_loss: 0.1240 - val_accuracy: 0.9778\n",
      "Epoch 167/300\n",
      "54/54 [==============================] - 1s 11ms/step - loss: 0.0752 - accuracy: 0.9954 - val_loss: 0.1247 - val_accuracy: 0.9722\n",
      "Epoch 168/300\n",
      "54/54 [==============================] - 1s 12ms/step - loss: 0.0748 - accuracy: 0.9972 - val_loss: 0.1241 - val_accuracy: 0.9750\n",
      "Epoch 169/300\n",
      "54/54 [==============================] - 1s 13ms/step - loss: 0.0746 - accuracy: 0.9963 - val_loss: 0.1240 - val_accuracy: 0.9750\n",
      "Epoch 170/300\n",
      "54/54 [==============================] - 1s 11ms/step - loss: 0.0744 - accuracy: 0.9963 - val_loss: 0.1230 - val_accuracy: 0.9750\n",
      "Epoch 171/300\n",
      "54/54 [==============================] - 1s 18ms/step - loss: 0.0740 - accuracy: 0.9963 - val_loss: 0.1227 - val_accuracy: 0.9750\n"
     ]
    },
    {
     "name": "stdout",
     "output_type": "stream",
     "text": [
      "Epoch 172/300\n",
      "54/54 [==============================] - 1s 15ms/step - loss: 0.0733 - accuracy: 0.9954 - val_loss: 0.1233 - val_accuracy: 0.9722\n",
      "Epoch 173/300\n",
      "54/54 [==============================] - 1s 9ms/step - loss: 0.0732 - accuracy: 0.9963 - val_loss: 0.1230 - val_accuracy: 0.9750\n",
      "Epoch 174/300\n",
      "54/54 [==============================] - 1s 11ms/step - loss: 0.0724 - accuracy: 0.9972 - val_loss: 0.1231 - val_accuracy: 0.9722\n",
      "Epoch 175/300\n",
      "54/54 [==============================] - 1s 11ms/step - loss: 0.0724 - accuracy: 0.9972 - val_loss: 0.1220 - val_accuracy: 0.9750\n",
      "Epoch 176/300\n",
      "54/54 [==============================] - 1s 11ms/step - loss: 0.0720 - accuracy: 0.9963 - val_loss: 0.1218 - val_accuracy: 0.9750\n",
      "Epoch 177/300\n",
      "54/54 [==============================] - 0s 9ms/step - loss: 0.0717 - accuracy: 0.9972 - val_loss: 0.1220 - val_accuracy: 0.9750\n",
      "Epoch 178/300\n",
      "54/54 [==============================] - 1s 11ms/step - loss: 0.0713 - accuracy: 0.9963 - val_loss: 0.1223 - val_accuracy: 0.9750\n",
      "Epoch 179/300\n",
      "54/54 [==============================] - 1s 12ms/step - loss: 0.0711 - accuracy: 0.9963 - val_loss: 0.1218 - val_accuracy: 0.9750\n",
      "Epoch 180/300\n",
      "54/54 [==============================] - 1s 10ms/step - loss: 0.0708 - accuracy: 0.9963 - val_loss: 0.1206 - val_accuracy: 0.9750\n",
      "Epoch 181/300\n",
      "54/54 [==============================] - 1s 13ms/step - loss: 0.0702 - accuracy: 0.9963 - val_loss: 0.1209 - val_accuracy: 0.9750\n",
      "Epoch 182/300\n",
      "54/54 [==============================] - 1s 11ms/step - loss: 0.0701 - accuracy: 0.9963 - val_loss: 0.1210 - val_accuracy: 0.9750\n",
      "Epoch 183/300\n",
      "54/54 [==============================] - 1s 11ms/step - loss: 0.0696 - accuracy: 0.9972 - val_loss: 0.1215 - val_accuracy: 0.9750\n",
      "Epoch 184/300\n",
      "54/54 [==============================] - 1s 11ms/step - loss: 0.0692 - accuracy: 0.9963 - val_loss: 0.1219 - val_accuracy: 0.9750\n",
      "Epoch 185/300\n",
      "54/54 [==============================] - 1s 11ms/step - loss: 0.0694 - accuracy: 0.9963 - val_loss: 0.1205 - val_accuracy: 0.9750\n",
      "Epoch 186/300\n",
      "54/54 [==============================] - 1s 10ms/step - loss: 0.0688 - accuracy: 0.9972 - val_loss: 0.1205 - val_accuracy: 0.9750\n",
      "Epoch 187/300\n",
      "54/54 [==============================] - 1s 16ms/step - loss: 0.0684 - accuracy: 0.9972 - val_loss: 0.1198 - val_accuracy: 0.9750\n",
      "Epoch 188/300\n",
      "54/54 [==============================] - 1s 19ms/step - loss: 0.0683 - accuracy: 0.9963 - val_loss: 0.1197 - val_accuracy: 0.9750\n",
      "Epoch 189/300\n",
      "54/54 [==============================] - 1s 26ms/step - loss: 0.0679 - accuracy: 0.9972 - val_loss: 0.1190 - val_accuracy: 0.9750\n",
      "Epoch 190/300\n",
      "54/54 [==============================] - 2s 34ms/step - loss: 0.0679 - accuracy: 0.9963 - val_loss: 0.1187 - val_accuracy: 0.9750\n",
      "Epoch 191/300\n",
      "54/54 [==============================] - 1s 19ms/step - loss: 0.0675 - accuracy: 0.9963 - val_loss: 0.1186 - val_accuracy: 0.9750\n",
      "Epoch 192/300\n",
      "54/54 [==============================] - 1s 18ms/step - loss: 0.0670 - accuracy: 0.9972 - val_loss: 0.1196 - val_accuracy: 0.9750\n",
      "Epoch 193/300\n",
      "54/54 [==============================] - 1s 14ms/step - loss: 0.0667 - accuracy: 0.9963 - val_loss: 0.1196 - val_accuracy: 0.9778\n",
      "Epoch 194/300\n",
      "54/54 [==============================] - 1s 13ms/step - loss: 0.0667 - accuracy: 0.9972 - val_loss: 0.1187 - val_accuracy: 0.9750\n",
      "Epoch 195/300\n",
      "54/54 [==============================] - 1s 12ms/step - loss: 0.0663 - accuracy: 0.9963 - val_loss: 0.1185 - val_accuracy: 0.9750\n",
      "Epoch 196/300\n",
      "54/54 [==============================] - 1s 12ms/step - loss: 0.0661 - accuracy: 0.9972 - val_loss: 0.1186 - val_accuracy: 0.9750\n",
      "Epoch 197/300\n",
      "54/54 [==============================] - 1s 15ms/step - loss: 0.0656 - accuracy: 0.9972 - val_loss: 0.1187 - val_accuracy: 0.9750\n",
      "Epoch 198/300\n",
      "54/54 [==============================] - 1s 12ms/step - loss: 0.0655 - accuracy: 0.9972 - val_loss: 0.1177 - val_accuracy: 0.9750\n",
      "Epoch 199/300\n",
      "54/54 [==============================] - 1s 13ms/step - loss: 0.0652 - accuracy: 0.9981 - val_loss: 0.1175 - val_accuracy: 0.9778\n",
      "Epoch 200/300\n",
      "54/54 [==============================] - 1s 11ms/step - loss: 0.0649 - accuracy: 0.9981 - val_loss: 0.1175 - val_accuracy: 0.9750\n",
      "Epoch 201/300\n",
      "54/54 [==============================] - 1s 13ms/step - loss: 0.0647 - accuracy: 0.9981 - val_loss: 0.1175 - val_accuracy: 0.9750\n",
      "Epoch 202/300\n",
      "54/54 [==============================] - 1s 13ms/step - loss: 0.0645 - accuracy: 0.9972 - val_loss: 0.1166 - val_accuracy: 0.9778\n",
      "Epoch 203/300\n",
      "54/54 [==============================] - 1s 10ms/step - loss: 0.0641 - accuracy: 0.9981 - val_loss: 0.1171 - val_accuracy: 0.9750\n",
      "Epoch 204/300\n",
      "54/54 [==============================] - 1s 13ms/step - loss: 0.0639 - accuracy: 0.9963 - val_loss: 0.1172 - val_accuracy: 0.9778\n",
      "Epoch 205/300\n",
      "54/54 [==============================] - 1s 12ms/step - loss: 0.0635 - accuracy: 0.9981 - val_loss: 0.1174 - val_accuracy: 0.9750\n",
      "Epoch 206/300\n",
      "54/54 [==============================] - 1s 13ms/step - loss: 0.0634 - accuracy: 0.9981 - val_loss: 0.1168 - val_accuracy: 0.9778\n",
      "Epoch 207/300\n",
      "54/54 [==============================] - 1s 12ms/step - loss: 0.0632 - accuracy: 0.9981 - val_loss: 0.1159 - val_accuracy: 0.9778\n",
      "Epoch 208/300\n",
      "54/54 [==============================] - 1s 13ms/step - loss: 0.0629 - accuracy: 0.9981 - val_loss: 0.1167 - val_accuracy: 0.9778\n",
      "Epoch 209/300\n",
      "54/54 [==============================] - 1s 13ms/step - loss: 0.0627 - accuracy: 0.9981 - val_loss: 0.1166 - val_accuracy: 0.9778\n",
      "Epoch 210/300\n",
      "54/54 [==============================] - 1s 13ms/step - loss: 0.0624 - accuracy: 0.9981 - val_loss: 0.1166 - val_accuracy: 0.9778\n",
      "Epoch 211/300\n",
      "54/54 [==============================] - 1s 12ms/step - loss: 0.0621 - accuracy: 0.9981 - val_loss: 0.1167 - val_accuracy: 0.9750\n",
      "Epoch 212/300\n",
      "54/54 [==============================] - 1s 19ms/step - loss: 0.0618 - accuracy: 0.9981 - val_loss: 0.1157 - val_accuracy: 0.9778\n",
      "Epoch 213/300\n",
      "54/54 [==============================] - 1s 15ms/step - loss: 0.0618 - accuracy: 0.9981 - val_loss: 0.1158 - val_accuracy: 0.9778\n",
      "Epoch 214/300\n",
      "54/54 [==============================] - 1s 16ms/step - loss: 0.0616 - accuracy: 0.9981 - val_loss: 0.1156 - val_accuracy: 0.9778\n",
      "Epoch 215/300\n",
      "54/54 [==============================] - 1s 14ms/step - loss: 0.0613 - accuracy: 0.9972 - val_loss: 0.1153 - val_accuracy: 0.9778\n",
      "Epoch 216/300\n",
      "54/54 [==============================] - 1s 16ms/step - loss: 0.0610 - accuracy: 0.9981 - val_loss: 0.1148 - val_accuracy: 0.9750\n",
      "Epoch 217/300\n",
      "54/54 [==============================] - 1s 14ms/step - loss: 0.0606 - accuracy: 0.9981 - val_loss: 0.1149 - val_accuracy: 0.9778\n",
      "Epoch 218/300\n",
      "54/54 [==============================] - 1s 15ms/step - loss: 0.0606 - accuracy: 0.9981 - val_loss: 0.1144 - val_accuracy: 0.9778\n",
      "Epoch 219/300\n",
      "54/54 [==============================] - 1s 12ms/step - loss: 0.0603 - accuracy: 0.9981 - val_loss: 0.1145 - val_accuracy: 0.9778\n",
      "Epoch 220/300\n",
      "54/54 [==============================] - 1s 14ms/step - loss: 0.0601 - accuracy: 0.9981 - val_loss: 0.1144 - val_accuracy: 0.9750\n",
      "Epoch 221/300\n",
      "54/54 [==============================] - 1s 12ms/step - loss: 0.0599 - accuracy: 0.9981 - val_loss: 0.1144 - val_accuracy: 0.9778\n",
      "Epoch 222/300\n",
      "54/54 [==============================] - 1s 13ms/step - loss: 0.0599 - accuracy: 0.9981 - val_loss: 0.1142 - val_accuracy: 0.9778\n",
      "Epoch 223/300\n",
      "54/54 [==============================] - 1s 13ms/step - loss: 0.0595 - accuracy: 0.9981 - val_loss: 0.1146 - val_accuracy: 0.9750\n",
      "Epoch 224/300\n",
      "54/54 [==============================] - 1s 13ms/step - loss: 0.0593 - accuracy: 0.9981 - val_loss: 0.1138 - val_accuracy: 0.9778\n",
      "Epoch 225/300\n",
      "54/54 [==============================] - 1s 15ms/step - loss: 0.0588 - accuracy: 0.9981 - val_loss: 0.1140 - val_accuracy: 0.9750\n",
      "Epoch 226/300\n",
      "54/54 [==============================] - 1s 14ms/step - loss: 0.0588 - accuracy: 0.9981 - val_loss: 0.1130 - val_accuracy: 0.9750\n",
      "Epoch 227/300\n",
      "54/54 [==============================] - 1s 14ms/step - loss: 0.0585 - accuracy: 0.9981 - val_loss: 0.1134 - val_accuracy: 0.9750\n",
      "Epoch 228/300\n",
      "54/54 [==============================] - 1s 15ms/step - loss: 0.0585 - accuracy: 0.9981 - val_loss: 0.1131 - val_accuracy: 0.9778\n"
     ]
    },
    {
     "name": "stdout",
     "output_type": "stream",
     "text": [
      "Epoch 229/300\n",
      "54/54 [==============================] - 1s 11ms/step - loss: 0.0580 - accuracy: 0.9981 - val_loss: 0.1126 - val_accuracy: 0.9778\n",
      "Epoch 230/300\n",
      "54/54 [==============================] - 1s 11ms/step - loss: 0.0580 - accuracy: 0.9981 - val_loss: 0.1134 - val_accuracy: 0.9778\n",
      "Epoch 231/300\n",
      "54/54 [==============================] - 1s 16ms/step - loss: 0.0578 - accuracy: 0.9981 - val_loss: 0.1136 - val_accuracy: 0.9778\n",
      "Epoch 232/300\n",
      "54/54 [==============================] - 1s 14ms/step - loss: 0.0575 - accuracy: 0.9981 - val_loss: 0.1125 - val_accuracy: 0.9778\n",
      "Epoch 233/300\n",
      "54/54 [==============================] - 1s 13ms/step - loss: 0.0574 - accuracy: 0.9981 - val_loss: 0.1124 - val_accuracy: 0.9778\n",
      "Epoch 234/300\n",
      "54/54 [==============================] - 1s 12ms/step - loss: 0.0571 - accuracy: 0.9981 - val_loss: 0.1130 - val_accuracy: 0.9778\n",
      "Epoch 235/300\n",
      "54/54 [==============================] - 1s 13ms/step - loss: 0.0569 - accuracy: 0.9981 - val_loss: 0.1122 - val_accuracy: 0.9778\n",
      "Epoch 236/300\n",
      "54/54 [==============================] - 1s 10ms/step - loss: 0.0566 - accuracy: 0.9981 - val_loss: 0.1125 - val_accuracy: 0.9778\n",
      "Epoch 237/300\n",
      "54/54 [==============================] - 1s 11ms/step - loss: 0.0566 - accuracy: 0.9981 - val_loss: 0.1125 - val_accuracy: 0.9778\n",
      "Epoch 238/300\n",
      "54/54 [==============================] - 1s 12ms/step - loss: 0.0565 - accuracy: 0.9981 - val_loss: 0.1119 - val_accuracy: 0.9778\n",
      "Epoch 239/300\n",
      "54/54 [==============================] - 1s 15ms/step - loss: 0.0562 - accuracy: 0.9981 - val_loss: 0.1118 - val_accuracy: 0.9778\n",
      "Epoch 240/300\n",
      "54/54 [==============================] - 1s 12ms/step - loss: 0.0558 - accuracy: 0.9981 - val_loss: 0.1111 - val_accuracy: 0.9778\n",
      "Epoch 241/300\n",
      "54/54 [==============================] - 1s 12ms/step - loss: 0.0558 - accuracy: 0.9981 - val_loss: 0.1111 - val_accuracy: 0.9778\n",
      "Epoch 242/300\n",
      "54/54 [==============================] - 1s 15ms/step - loss: 0.0557 - accuracy: 0.9981 - val_loss: 0.1110 - val_accuracy: 0.9778\n",
      "Epoch 243/300\n",
      "54/54 [==============================] - 1s 12ms/step - loss: 0.0556 - accuracy: 0.9981 - val_loss: 0.1113 - val_accuracy: 0.9778\n",
      "Epoch 244/300\n",
      "54/54 [==============================] - 1s 11ms/step - loss: 0.0553 - accuracy: 0.9981 - val_loss: 0.1111 - val_accuracy: 0.9778\n",
      "Epoch 245/300\n",
      "54/54 [==============================] - 1s 11ms/step - loss: 0.0551 - accuracy: 0.9981 - val_loss: 0.1114 - val_accuracy: 0.9778\n",
      "Epoch 246/300\n",
      "54/54 [==============================] - 1s 12ms/step - loss: 0.0550 - accuracy: 0.9981 - val_loss: 0.1111 - val_accuracy: 0.9778\n",
      "Epoch 247/300\n",
      "54/54 [==============================] - 1s 11ms/step - loss: 0.0548 - accuracy: 0.9981 - val_loss: 0.1109 - val_accuracy: 0.9778\n",
      "Epoch 248/300\n",
      "54/54 [==============================] - 1s 12ms/step - loss: 0.0545 - accuracy: 0.9981 - val_loss: 0.1114 - val_accuracy: 0.9778\n",
      "Epoch 249/300\n",
      "54/54 [==============================] - 1s 10ms/step - loss: 0.0543 - accuracy: 0.9981 - val_loss: 0.1114 - val_accuracy: 0.9778\n",
      "Epoch 250/300\n",
      "54/54 [==============================] - 1s 11ms/step - loss: 0.0543 - accuracy: 0.9981 - val_loss: 0.1112 - val_accuracy: 0.9778\n",
      "Epoch 251/300\n",
      "54/54 [==============================] - 1s 12ms/step - loss: 0.0540 - accuracy: 0.9981 - val_loss: 0.1105 - val_accuracy: 0.9778\n",
      "Epoch 252/300\n",
      "54/54 [==============================] - 1s 12ms/step - loss: 0.0538 - accuracy: 0.9981 - val_loss: 0.1101 - val_accuracy: 0.9778\n",
      "Epoch 253/300\n",
      "54/54 [==============================] - 1s 11ms/step - loss: 0.0535 - accuracy: 0.9991 - val_loss: 0.1109 - val_accuracy: 0.9778\n",
      "Epoch 254/300\n",
      "54/54 [==============================] - 1s 10ms/step - loss: 0.0534 - accuracy: 0.9991 - val_loss: 0.1105 - val_accuracy: 0.9778\n",
      "Epoch 255/300\n",
      "54/54 [==============================] - 1s 13ms/step - loss: 0.0535 - accuracy: 0.9981 - val_loss: 0.1104 - val_accuracy: 0.9778\n",
      "Epoch 256/300\n",
      "54/54 [==============================] - 1s 12ms/step - loss: 0.0530 - accuracy: 0.9991 - val_loss: 0.1102 - val_accuracy: 0.9778\n",
      "Epoch 257/300\n",
      "54/54 [==============================] - 1s 10ms/step - loss: 0.0529 - accuracy: 0.9981 - val_loss: 0.1104 - val_accuracy: 0.9778\n",
      "Epoch 258/300\n",
      "54/54 [==============================] - 1s 12ms/step - loss: 0.0528 - accuracy: 0.9991 - val_loss: 0.1099 - val_accuracy: 0.9778\n",
      "Epoch 259/300\n",
      "54/54 [==============================] - 1s 12ms/step - loss: 0.0527 - accuracy: 0.9981 - val_loss: 0.1096 - val_accuracy: 0.9778\n",
      "Epoch 260/300\n",
      "54/54 [==============================] - 1s 12ms/step - loss: 0.0525 - accuracy: 0.9981 - val_loss: 0.1095 - val_accuracy: 0.9778\n",
      "Epoch 261/300\n",
      "54/54 [==============================] - 1s 10ms/step - loss: 0.0523 - accuracy: 0.9981 - val_loss: 0.1098 - val_accuracy: 0.9778\n",
      "Epoch 262/300\n",
      "54/54 [==============================] - 1s 13ms/step - loss: 0.0521 - accuracy: 0.9991 - val_loss: 0.1094 - val_accuracy: 0.9778\n",
      "Epoch 263/300\n",
      "54/54 [==============================] - 1s 14ms/step - loss: 0.0520 - accuracy: 0.9991 - val_loss: 0.1092 - val_accuracy: 0.9778\n",
      "Epoch 264/300\n",
      "54/54 [==============================] - 1s 19ms/step - loss: 0.0518 - accuracy: 0.9991 - val_loss: 0.1089 - val_accuracy: 0.9778\n",
      "Epoch 265/300\n",
      "54/54 [==============================] - 1s 13ms/step - loss: 0.0517 - accuracy: 0.9991 - val_loss: 0.1090 - val_accuracy: 0.9778\n",
      "Epoch 266/300\n",
      "54/54 [==============================] - 1s 12ms/step - loss: 0.0516 - accuracy: 0.9991 - val_loss: 0.1085 - val_accuracy: 0.9778\n",
      "Epoch 267/300\n",
      "54/54 [==============================] - 1s 11ms/step - loss: 0.0514 - accuracy: 0.9991 - val_loss: 0.1085 - val_accuracy: 0.9778\n",
      "Epoch 268/300\n",
      "54/54 [==============================] - 1s 11ms/step - loss: 0.0512 - accuracy: 0.9991 - val_loss: 0.1091 - val_accuracy: 0.9778\n",
      "Epoch 269/300\n",
      "54/54 [==============================] - 1s 12ms/step - loss: 0.0511 - accuracy: 0.9991 - val_loss: 0.1084 - val_accuracy: 0.9778\n",
      "Epoch 270/300\n",
      "54/54 [==============================] - 1s 14ms/step - loss: 0.0510 - accuracy: 0.9981 - val_loss: 0.1080 - val_accuracy: 0.9778\n",
      "Epoch 271/300\n",
      "54/54 [==============================] - 1s 11ms/step - loss: 0.0508 - accuracy: 0.9991 - val_loss: 0.1084 - val_accuracy: 0.9778\n",
      "Epoch 272/300\n",
      "54/54 [==============================] - 1s 11ms/step - loss: 0.0507 - accuracy: 0.9991 - val_loss: 0.1080 - val_accuracy: 0.9778\n",
      "Epoch 273/300\n",
      "54/54 [==============================] - 1s 11ms/step - loss: 0.0504 - accuracy: 0.9991 - val_loss: 0.1073 - val_accuracy: 0.9778\n",
      "Epoch 274/300\n",
      "54/54 [==============================] - 1s 10ms/step - loss: 0.0503 - accuracy: 0.9991 - val_loss: 0.1081 - val_accuracy: 0.9778\n",
      "Epoch 275/300\n",
      "54/54 [==============================] - 1s 12ms/step - loss: 0.0502 - accuracy: 0.9991 - val_loss: 0.1079 - val_accuracy: 0.9778\n",
      "Epoch 276/300\n",
      "54/54 [==============================] - 1s 12ms/step - loss: 0.0500 - accuracy: 1.0000 - val_loss: 0.1073 - val_accuracy: 0.9778\n",
      "Epoch 277/300\n",
      "54/54 [==============================] - 1s 12ms/step - loss: 0.0499 - accuracy: 0.9991 - val_loss: 0.1075 - val_accuracy: 0.9778\n",
      "Epoch 278/300\n",
      "54/54 [==============================] - 1s 12ms/step - loss: 0.0498 - accuracy: 0.9991 - val_loss: 0.1076 - val_accuracy: 0.9778\n",
      "Epoch 279/300\n",
      "54/54 [==============================] - 1s 13ms/step - loss: 0.0496 - accuracy: 0.9991 - val_loss: 0.1077 - val_accuracy: 0.9778\n",
      "Epoch 280/300\n",
      "54/54 [==============================] - 1s 12ms/step - loss: 0.0494 - accuracy: 0.9991 - val_loss: 0.1073 - val_accuracy: 0.9778\n",
      "Epoch 281/300\n",
      "54/54 [==============================] - 1s 13ms/step - loss: 0.0493 - accuracy: 0.9991 - val_loss: 0.1071 - val_accuracy: 0.9778\n",
      "Epoch 282/300\n",
      "54/54 [==============================] - 1s 11ms/step - loss: 0.0493 - accuracy: 0.9991 - val_loss: 0.1072 - val_accuracy: 0.9778\n",
      "Epoch 283/300\n",
      "54/54 [==============================] - 1s 13ms/step - loss: 0.0490 - accuracy: 1.0000 - val_loss: 0.1075 - val_accuracy: 0.9778\n",
      "Epoch 284/300\n",
      "54/54 [==============================] - 1s 12ms/step - loss: 0.0490 - accuracy: 0.9991 - val_loss: 0.1072 - val_accuracy: 0.9778\n",
      "Epoch 285/300\n",
      "54/54 [==============================] - 1s 20ms/step - loss: 0.0488 - accuracy: 0.9991 - val_loss: 0.1068 - val_accuracy: 0.9778\n"
     ]
    },
    {
     "name": "stdout",
     "output_type": "stream",
     "text": [
      "Epoch 286/300\n",
      "54/54 [==============================] - 1s 16ms/step - loss: 0.0487 - accuracy: 0.9991 - val_loss: 0.1068 - val_accuracy: 0.9778\n",
      "Epoch 287/300\n",
      "54/54 [==============================] - 1s 14ms/step - loss: 0.0486 - accuracy: 0.9991 - val_loss: 0.1065 - val_accuracy: 0.9778\n",
      "Epoch 288/300\n",
      "54/54 [==============================] - 1s 12ms/step - loss: 0.0483 - accuracy: 0.9991 - val_loss: 0.1064 - val_accuracy: 0.9778\n",
      "Epoch 289/300\n",
      "54/54 [==============================] - 1s 11ms/step - loss: 0.0483 - accuracy: 1.0000 - val_loss: 0.1063 - val_accuracy: 0.9778\n",
      "Epoch 290/300\n",
      "54/54 [==============================] - 1s 12ms/step - loss: 0.0482 - accuracy: 0.9991 - val_loss: 0.1065 - val_accuracy: 0.9778\n",
      "Epoch 291/300\n",
      "54/54 [==============================] - 1s 12ms/step - loss: 0.0481 - accuracy: 0.9991 - val_loss: 0.1064 - val_accuracy: 0.9778\n",
      "Epoch 292/300\n",
      "54/54 [==============================] - 1s 11ms/step - loss: 0.0479 - accuracy: 0.9991 - val_loss: 0.1063 - val_accuracy: 0.9778\n",
      "Epoch 293/300\n",
      "54/54 [==============================] - 1s 12ms/step - loss: 0.0476 - accuracy: 1.0000 - val_loss: 0.1067 - val_accuracy: 0.9778\n",
      "Epoch 294/300\n",
      "54/54 [==============================] - 1s 13ms/step - loss: 0.0476 - accuracy: 0.9991 - val_loss: 0.1064 - val_accuracy: 0.9778\n",
      "Epoch 295/300\n",
      "54/54 [==============================] - 1s 13ms/step - loss: 0.0475 - accuracy: 0.9991 - val_loss: 0.1064 - val_accuracy: 0.9778\n",
      "Epoch 296/300\n",
      "54/54 [==============================] - 1s 14ms/step - loss: 0.0473 - accuracy: 0.9991 - val_loss: 0.1057 - val_accuracy: 0.9778\n",
      "Epoch 297/300\n",
      "54/54 [==============================] - 1s 17ms/step - loss: 0.0472 - accuracy: 1.0000 - val_loss: 0.1055 - val_accuracy: 0.9778\n",
      "Epoch 298/300\n",
      "54/54 [==============================] - 1s 15ms/step - loss: 0.0471 - accuracy: 0.9991 - val_loss: 0.1055 - val_accuracy: 0.9778\n",
      "Epoch 299/300\n",
      "54/54 [==============================] - 1s 20ms/step - loss: 0.0470 - accuracy: 1.0000 - val_loss: 0.1059 - val_accuracy: 0.9778\n",
      "Epoch 300/300\n",
      "54/54 [==============================] - 1s 11ms/step - loss: 0.0469 - accuracy: 0.9991 - val_loss: 0.1054 - val_accuracy: 0.9778\n"
     ]
    }
   ],
   "source": [
    "history = bestmodel.fit(X_train, y_train, epochs=nb_epoch,\n",
    "                    shuffle=True,\n",
    "                    batch_size=nb_batch_size,\n",
    "                    validation_data=(X_val, y_val),\n",
    "                    verbose=1,\n",
    "                    callbacks=[checkpointer, early_stopping])"
   ]
  },
  {
   "cell_type": "code",
   "execution_count": 13,
   "metadata": {},
   "outputs": [
    {
     "data": {
      "text/plain": [
       "<matplotlib.axes._subplots.AxesSubplot at 0x2220d1c1550>"
      ]
     },
     "execution_count": 13,
     "metadata": {},
     "output_type": "execute_result"
    },
    {
     "data": {
      "image/png": "[encoded data removed]",
      "text/plain": [
       "<Figure size 720x576 with 1 Axes>"
      ]
     },
     "metadata": {
      "needs_background": "light"
     },
     "output_type": "display_data"
    }
   ],
   "source": [
    "pd.DataFrame(history.history).plot(figsize=(10,8))"
   ]
  },
  {
   "cell_type": "code",
   "execution_count": 14,
   "metadata": {},
   "outputs": [],
   "source": [
    "predictions = bestmodel.predict(X_test)\n",
    "\n",
    "y_pred = np.zeros(np.shape(y_test))"
   ]
  },
  {
   "cell_type": "code",
   "execution_count": 15,
   "metadata": {},
   "outputs": [],
   "source": [
    "for ind, pred in enumerate(predictions):\n",
    "    y_pred[ind] = np.argmax(pred)"
   ]
  },
  {
   "cell_type": "code",
   "execution_count": 16,
   "metadata": {},
   "outputs": [],
   "source": [
    "cnf_matrix = confusion_matrix(y_test,y_pred)"
   ]
  },
  {
   "cell_type": "code",
   "execution_count": 17,
   "metadata": {},
   "outputs": [
    {
     "data": {
      "text/plain": [
       "<matplotlib.axes._subplots.AxesSubplot at 0x22295d1bf60>"
      ]
     },
     "execution_count": 17,
     "metadata": {},
     "output_type": "execute_result"
    },
    {
     "data": {
      "image/png": "[encoded data removed]",
      "text/plain": [
       "<Figure size 432x288 with 2 Axes>"
      ]
     },
     "metadata": {
      "needs_background": "light"
     },
     "output_type": "display_data"
    }
   ],
   "source": [
    "sns.heatmap(cnf_matrix, cmap='YlGnBu', annot=True)"
   ]
  },
  {
   "cell_type": "code",
   "execution_count": 18,
   "metadata": {},
   "outputs": [
    {
     "name": "stdout",
     "output_type": "stream",
     "text": [
      "              precision    recall  f1-score   support\n",
      "\n",
      "           0       1.00      1.00      1.00        29\n",
      "           1       0.94      0.97      0.95        30\n",
      "           2       0.96      1.00      0.98        26\n",
      "           3       1.00      1.00      1.00        36\n",
      "           4       1.00      1.00      1.00        39\n",
      "           5       1.00      0.96      0.98        51\n",
      "           6       0.97      1.00      0.99        35\n",
      "           7       1.00      1.00      1.00        39\n",
      "           8       0.93      0.93      0.93        27\n",
      "           9       1.00      0.98      0.99        47\n",
      "\n",
      "    accuracy                           0.98       359\n",
      "   macro avg       0.98      0.98      0.98       359\n",
      "weighted avg       0.98      0.98      0.98       359\n",
      "\n"
     ]
    }
   ],
   "source": [
    "print(classification_report(y_test, y_pred, output_dict=False))"
   ]
  },
  {
   "cell_type": "code",
   "execution_count": 19,
   "metadata": {},
   "outputs": [],
   "source": [
    "# Calculate uncertainty values for each transduced distribution\n",
    "pred_entropies = distributions.entropy(predictions)"
   ]
  },
  {
   "cell_type": "code",
   "execution_count": 20,
   "metadata": {},
   "outputs": [],
   "source": [
    "# Pick the top 10 most uncertain labels\n",
    "uncertainty_index = np.argsort(pred_entropies)[-10:]"
   ]
  },
  {
   "cell_type": "code",
   "execution_count": 21,
   "metadata": {},
   "outputs": [
    {
     "data": {
      "image/png": "[encoded data removed]",
      "text/plain": [
       "<Figure size 720x504 with 10 Axes>"
      ]
     },
     "metadata": {},
     "output_type": "display_data"
    }
   ],
   "source": [
    "# Plot\n",
    "f = plt.figure(figsize=(10, 7))\n",
    "for index, image_index in enumerate(uncertainty_index):\n",
    "    #print(index,image_index)\n",
    "    image = images[image_index]\n",
    "\n",
    "    sub = f.add_subplot(3, 5, index + 1)\n",
    "    sub.imshow(image, cmap=plt.cm.gray_r)\n",
    "    plt.xticks([])\n",
    "    plt.yticks([])\n",
    "    sub.set_title(f'predict: {y_pred[image_index]}\\ntrue: {y[image_index]}')"
   ]
  },
  {
   "cell_type": "code",
   "execution_count": null,
   "metadata": {},
   "outputs": [],
   "source": []
  },
  {
   "cell_type": "code",
   "execution_count": null,
   "metadata": {},
   "outputs": [],
   "source": []
  },
  {
   "cell_type": "code",
   "execution_count": null,
   "metadata": {},
   "outputs": [],
   "source": []
  },
  {
   "cell_type": "code",
   "execution_count": null,
   "metadata": {},
   "outputs": [],
   "source": []
  }
 ],
 "metadata": {
  "kernelspec": {
   "display_name": "Python 3",
   "language": "python",
   "name": "python3"
  },
  "language_info": {
   "codemirror_mode": {
    "name": "ipython",
    "version": 3
   },
   "file_extension": ".py",
   "mimetype": "text/x-python",
   "name": "python",
   "nbconvert_exporter": "python",
   "pygments_lexer": "ipython3",
   "version": "3.7.0"
  }
 },
 "nbformat": 4,
 "nbformat_minor": 4
}
