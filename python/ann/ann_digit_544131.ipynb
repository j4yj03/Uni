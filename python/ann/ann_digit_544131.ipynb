{
 "cells": [
  {
   "cell_type": "markdown",
   "metadata": {},
   "source": [
    "# Neuronale Netze: digits datset\n",
    "\n",
    "Dieses Jupyter Notebook führt die Ergebnisse des dritten Projektes im Modul Special Engineering (M30) zum Thema Neuronale Netze auf. Als Datenset wird das digits Datenset verwendet."
   ]
  },
  {
   "cell_type": "code",
   "execution_count": 1,
   "metadata": {},
   "outputs": [],
   "source": [
    "###############################################################################\n",
    "# Digits Dataset: Neuronales Netz\n",
    "# Sidney Göhler 544131\n",
    "#### IKT (M)\n",
    "# Special Engineering SoSe20\n",
    "# Prof. Dr. Andreas Zeiser\n",
    "###############################################################################\n",
    "# Imports\n",
    "import numpy as np\n",
    "import matplotlib.pyplot as plt\n",
    "from matplotlib import cm\n",
    "import matplotlib.gridspec as gridspec\n",
    "import matplotlib.image as mpimg\n",
    "\n",
    "from sklearn.datasets import load_digits\n",
    "\n",
    "from sklearn.model_selection import GridSearchCV, ParameterGrid, train_test_split, StratifiedKFold, learning_curve\n",
    "from sklearn.metrics import classification_report, confusion_matrix, make_scorer, f1_score\n",
    "\n",
    "import time\n",
    "import pandas as pd\n",
    "import tensorflow as tf\n",
    "import seaborn as sns\n",
    "\n",
    "from tensorflow import keras\n",
    "from tensorflow.keras import Sequential\n",
    "from tensorflow.keras import layers\n",
    "from tensorflow.keras import regularizers\n",
    "from tensorflow.keras import activations\n",
    "\n",
    "from tensorflow.keras.wrappers.scikit_learn import KerasClassifier\n",
    "from tensorflow.keras.callbacks import ModelCheckpoint, EarlyStopping #, TensorBoard\n",
    "\n",
    "##########################\n",
    "#import helperfunctions\n",
    "from helper import plotactivationfunctions\n",
    "\n",
    "%load_ext autoreload\n",
    "%autoreload 2\n"
   ]
  },
  {
   "cell_type": "markdown",
   "metadata": {},
   "source": [
    "Die Vorhersagekraft des Neuronalen Netzes kann unter anderem von der verwendeten Bibliothek abhängig sein."
   ]
  },
  {
   "cell_type": "code",
   "execution_count": 2,
   "metadata": {},
   "outputs": [
    {
     "data": {
      "text/plain": [
       "'2.3.0-tf'"
      ]
     },
     "execution_count": 2,
     "metadata": {},
     "output_type": "execute_result"
    }
   ],
   "source": [
    "tf.keras.__version__"
   ]
  },
  {
   "cell_type": "markdown",
   "metadata": {},
   "source": [
    "# Datenset\n",
    "\n",
    "Es wird das selbe Datenset wie bei der Logistischen Regression verwendet, wodurch sich diese beiden Ansätze miteinander vergleichen lassen.\n",
    "Es handelt sich weiterhin um das digits Datenset welches 1797 8x8 Bilder mit handgeschriebenen Ziffern enthällt."
   ]
  },
  {
   "cell_type": "code",
   "execution_count": 3,
   "metadata": {},
   "outputs": [
    {
     "name": "stdout",
     "output_type": "stream",
     "text": [
      ".. _digits_dataset:\n",
      "\n",
      "Optical recognition of handwritten digits dataset\n",
      "--------------------------------------------------\n",
      "\n",
      "**Data Set Characteristics:**\n",
      "\n",
      "    :Number of Instances: 5620\n",
      "    :Number of Attributes: 64\n",
      "    :Attribute Information: 8x8 image of integer pixels in the range 0..16.\n",
      "    :Missing Attribute Values: None\n",
      "    :Creator: E. Alpaydin (alpaydin '@' boun.edu.tr)\n",
      "    :Date: July; 1998\n",
      "\n",
      "This is a copy of the test set of the UCI ML hand-written digits datasets\n",
      "https://archive.ics.uci.edu/ml/datasets/Optical+Recognition+of+Handwritten+Digits\n",
      "\n",
      "The data set contains images of hand-written digits: 10 classes where\n",
      "each class refers to a digit.\n",
      "\n",
      "Preprocessing programs made available by NIST were used to extract\n",
      "normalized bitmaps of handwritten digits from a preprinted form. From a\n",
      "total of 43 people, 30 contributed to the training set and different 13\n",
      "to the test set. 32x32 bitmaps are divided into nonoverlapping blocks of\n",
      "4x4 and the number of on pixels are counted in each block. This generates\n",
      "an input matrix of 8x8 where each element is an integer in the range\n",
      "0..16. This reduces dimensionality and gives invariance to small\n",
      "distortions.\n",
      "\n",
      "For info on NIST preprocessing routines, see M. D. Garris, J. L. Blue, G.\n",
      "T. Candela, D. L. Dimmick, J. Geist, P. J. Grother, S. A. Janet, and C.\n",
      "L. Wilson, NIST Form-Based Handprint Recognition System, NISTIR 5469,\n",
      "1994.\n",
      "\n",
      ".. topic:: References\n",
      "\n",
      "  - C. Kaynak (1995) Methods of Combining Multiple Classifiers and Their\n",
      "    Applications to Handwritten Digit Recognition, MSc Thesis, Institute of\n",
      "    Graduate Studies in Science and Engineering, Bogazici University.\n",
      "  - E. Alpaydin, C. Kaynak (1998) Cascading Classifiers, Kybernetika.\n",
      "  - Ken Tang and Ponnuthurai N. Suganthan and Xi Yao and A. Kai Qin.\n",
      "    Linear dimensionalityreduction using relevance weighted LDA. School of\n",
      "    Electrical and Electronic Engineering Nanyang Technological University.\n",
      "    2005.\n",
      "  - Claudio Gentile. A New Approximate Maximal Margin Classification\n",
      "    Algorithm. NIPS. 2000. \n",
      " \n",
      "\n"
     ]
    }
   ],
   "source": [
    "####################\n",
    "# load datasets\n",
    "####################\n",
    "dataset = load_digits()\n",
    "print(dataset.DESCR, '\\n', '\\n')\n",
    "X = dataset.data\n",
    "y = dataset.target\n",
    "\n",
    "targets = dataset.target_names\n",
    "images = dataset.images\n",
    "\n"
   ]
  },
  {
   "cell_type": "markdown",
   "metadata": {},
   "source": [
    "### Visualisieren von einzelnen Ziffern\n",
    "Nachdem das Datenset geladen wurde, können vereinzelte Zahlen illustriert werden."
   ]
  },
  {
   "cell_type": "code",
   "execution_count": 4,
   "metadata": {
    "scrolled": true
   },
   "outputs": [
    {
     "name": "stdout",
     "output_type": "stream",
     "text": [
      "digit = 0 at index = 0\n"
     ]
    },
    {
     "data": {
      "image/png": "[encoded data removed]",
      "text/plain": [
       "<Figure size 288x288 with 2 Axes>"
      ]
     },
     "metadata": {
      "needs_background": "light"
     },
     "output_type": "display_data"
    },
    {
     "name": "stdout",
     "output_type": "stream",
     "text": [
      "[[ 0.  0.  5. 13.  9.  1.  0.  0.]\n",
      " [ 0.  0. 13. 15. 10. 15.  5.  0.]\n",
      " [ 0.  3. 15.  2.  0. 11.  8.  0.]\n",
      " [ 0.  4. 12.  0.  0.  8.  8.  0.]\n",
      " [ 0.  5.  8.  0.  0.  9.  8.  0.]\n",
      " [ 0.  4. 11.  0.  1. 12.  7.  0.]\n",
      " [ 0.  2. 14.  5. 10. 12.  0.  0.]\n",
      " [ 0.  0.  6. 13. 10.  0.  0.  0.]]\n",
      "\n",
      "\n",
      "\n",
      "digit = 0 at index = 20\n"
     ]
    },
    {
     "data": {
      "image/png": "[encoded data removed]",
      "text/plain": [
       "<Figure size 288x288 with 2 Axes>"
      ]
     },
     "metadata": {
      "needs_background": "light"
     },
     "output_type": "display_data"
    },
    {
     "name": "stdout",
     "output_type": "stream",
     "text": [
      "[[ 0.  0.  3. 13. 11.  7.  0.  0.]\n",
      " [ 0.  0. 11. 16. 16. 16.  2.  0.]\n",
      " [ 0.  4. 16.  9.  1. 14.  2.  0.]\n",
      " [ 0.  4. 16.  0.  0. 16.  2.  0.]\n",
      " [ 0.  0. 16.  1.  0. 12.  8.  0.]\n",
      " [ 0.  0. 15.  9.  0. 13.  6.  0.]\n",
      " [ 0.  0.  9. 14.  9. 14.  1.  0.]\n",
      " [ 0.  0.  2. 12. 13.  4.  0.  0.]]\n",
      "\n",
      "\n",
      "\n",
      "digit = 8 at index = 500\n"
     ]
    },
    {
     "data": {
      "image/png": "[encoded data removed]",
      "text/plain": [
       "<Figure size 288x288 with 2 Axes>"
      ]
     },
     "metadata": {
      "needs_background": "light"
     },
     "output_type": "display_data"
    },
    {
     "name": "stdout",
     "output_type": "stream",
     "text": [
      "[[ 0.  0.  3. 10. 14.  3.  0.  0.]\n",
      " [ 0.  8. 16. 11. 10. 13.  0.  0.]\n",
      " [ 0.  7. 14.  0.  1. 15.  2.  0.]\n",
      " [ 0.  2. 16.  9. 16. 16.  1.  0.]\n",
      " [ 0.  0. 12. 16. 15. 15.  2.  0.]\n",
      " [ 0.  0. 12. 10.  0.  8.  8.  0.]\n",
      " [ 0.  0.  9. 12.  4.  7. 12.  0.]\n",
      " [ 0.  0.  2. 11. 16. 16.  9.  0.]]\n",
      "\n",
      "\n",
      "\n",
      "digit = 8 at index = 508\n"
     ]
    },
    {
     "data": {
      "image/png": "[encoded data removed]",
      "text/plain": [
       "<Figure size 288x288 with 2 Axes>"
      ]
     },
     "metadata": {
      "needs_background": "light"
     },
     "output_type": "display_data"
    },
    {
     "name": "stdout",
     "output_type": "stream",
     "text": [
      "[[ 0.  0.  6. 10.  9.  4.  0.  0.]\n",
      " [ 0.  0. 14. 10. 16. 16.  1.  0.]\n",
      " [ 0.  4. 15.  1.  9. 16.  0.  0.]\n",
      " [ 0.  3. 16. 16. 16.  8.  0.  0.]\n",
      " [ 0.  0. 12. 14. 16.  5.  0.  0.]\n",
      " [ 0.  0. 12.  1.  9. 12.  0.  0.]\n",
      " [ 0.  0. 16.  6. 14.  9.  0.  0.]\n",
      " [ 0.  0.  8. 12.  6.  1.  0.  0.]]\n",
      "\n",
      "\n",
      "\n",
      "digit = 5 at index = 1700\n"
     ]
    },
    {
     "data": {
      "image/png": "[encoded data removed]",
      "text/plain": [
       "<Figure size 288x288 with 2 Axes>"
      ]
     },
     "metadata": {
      "needs_background": "light"
     },
     "output_type": "display_data"
    },
    {
     "name": "stdout",
     "output_type": "stream",
     "text": [
      "[[ 0.  0.  4.  9. 12. 16.  8.  0.]\n",
      " [ 0.  0. 15. 15.  8.  8.  2.  0.]\n",
      " [ 0.  4. 16. 11.  4.  1.  0.  0.]\n",
      " [ 0.  8. 16. 16. 16. 14.  0.  0.]\n",
      " [ 0.  0. 11.  9.  8. 16.  0.  0.]\n",
      " [ 0.  0.  0.  0.  7. 16.  0.  0.]\n",
      " [ 0.  0.  0.  8. 16. 12.  0.  0.]\n",
      " [ 0.  0.  3. 13.  9.  1.  0.  0.]]\n",
      "\n",
      "\n",
      "\n",
      "digit = 5 at index = 1787\n"
     ]
    },
    {
     "data": {
      "image/png": "[encoded data removed]",
      "text/plain": [
       "<Figure size 288x288 with 2 Axes>"
      ]
     },
     "metadata": {
      "needs_background": "light"
     },
     "output_type": "display_data"
    },
    {
     "name": "stdout",
     "output_type": "stream",
     "text": [
      "[[ 0.  0. 10. 16. 15.  1.  0.  0.]\n",
      " [ 0.  0. 16. 12.  5.  0.  0.  0.]\n",
      " [ 0.  2. 16.  9.  4.  0.  0.  0.]\n",
      " [ 0.  4. 16. 16. 16. 14.  2.  0.]\n",
      " [ 0.  1. 10.  4.  1. 16.  4.  0.]\n",
      " [ 0.  0.  0.  0.  2. 16.  7.  0.]\n",
      " [ 0.  0.  7.  8. 14. 16.  3.  0.]\n",
      " [ 0.  0.  6. 13. 10.  4.  0.  0.]]\n",
      "\n",
      "\n",
      "\n"
     ]
    }
   ],
   "source": [
    "for ind in [0,20,500,508,1700,1787]:\n",
    "    print(f'digit = {y[ind]} at index = {ind}')\n",
    "    plt.matshow(images[ind], cmap = cm.gray_r)\n",
    "    plt.colorbar()\n",
    "    plt.show()\n",
    "    print(f'{images[ind]}\\n\\n\\n')"
   ]
  },
  {
   "cell_type": "markdown",
   "metadata": {},
   "source": [
    "Zu sehen ist, dass die selben Ziffern häufig minimale bis deutliche Unterschiede untereinander haben. Die Zeilen 3 und 4 wirken stark frequentiert, hingegen die Spalten 0 und 7 sehr schwach.\n",
    "\n",
    "Anzumerken ist noch, dass die Features des Datensets, aufgrund der Tatsache, dass es sich ausschlißelich um Helligkeitswerte handelt, bereits skaliert sind.\n",
    "Ein erneutes skalieren ist somit nicht unbedingt Notwendig aber dennoch ratsam, da das Gradientenabstiegsverfahren wohl deutlich schneller Konvergiert.\n",
    "https://en.wikipedia.org/wiki/Feature_scaling#cite_note-1"
   ]
  },
  {
   "cell_type": "markdown",
   "metadata": {},
   "source": [
    "# Feature Vorverarbeitung\n",
    "\n",
    "Bei den Fetures handelt es ausschließlich um numerische Features welche von 0 bis 16 skaliert sind. Es bietet sich an, den Werteberech aufgrund der Tatsache, dass Gradientbasierte Optimierungsverfahren etwas schneller konvergieren können, wenn die Features auf den Wertebereich [0;1] skaliert sind."
   ]
  },
  {
   "cell_type": "code",
   "execution_count": 5,
   "metadata": {},
   "outputs": [],
   "source": [
    "#scale to 0...1\n",
    "X = X/16"
   ]
  },
  {
   "cell_type": "markdown",
   "metadata": {},
   "source": [
    "Anschließend wird das Datenset in Trainingsdate, Testdaten und Validierungsdaten aufgeteilt."
   ]
  },
  {
   "cell_type": "code",
   "execution_count": 6,
   "metadata": {},
   "outputs": [
    {
     "name": "stdout",
     "output_type": "stream",
     "text": [
      "trainset  (1078, 64) (1078,) \n",
      "testset  (359, 64) (359,) \n",
      "validationset  (360, 64) (360,)\n"
     ]
    }
   ],
   "source": [
    "####################\n",
    "# split dataset (60:20:20)\n",
    "####################\n",
    "\n",
    "\n",
    "X_train, X_test, y_train, y_test = train_test_split(X, y, test_size=0.40, random_state=42)\n",
    "X_test, X_val, y_test, y_val = train_test_split(X_test, y_test, test_size=0.50, random_state=42)\n",
    "\n",
    "print('trainset ',np.shape(X_train),np.shape(y_train),\n",
    "      '\\ntestset ', np.shape(X_test),np.shape(y_test),\n",
    "      '\\nvalidationset ',np.shape(X_val),np.shape(y_val))"
   ]
  },
  {
   "cell_type": "markdown",
   "metadata": {},
   "source": [
    "# Hyperparameter des neuronalen Netzes\n",
    "\n",
    "Das Neuronale Netz wird per Backprobation Verfahren trainiert, was bedeutet, dass auf Basis der Differenz zwischen Output und Input mithilfe eines Algorithmus versucht wird, diese Differenz (Kosten) zu minimieren. Bekannt ist bereits das Gradientenabstiegsverfahren, es haben sich aber über die Jahre weitere, oft effizientere Verfahren, herauskristalisiert (z.B. Adam https://arxiv.org/abs/1412.6980).\n",
    "Diese Optimierungsalgorithmen ermitteln möglicherweise Iterativ minima in der Kostenfunktion. Die Schrittweite ist die Lernrate, welche es zu optimieren gilt.\n",
    "\n",
    "Als weiterer Hyperparameter gilt es die Anzahl der versteckten Schichten, sowie die Anzahl der Neuronen Je versteckter Schciht zu ermitteln. Eine zu geringe Komplexität kann zur Unteranpassung, wohingegen eine zu hohe Flexibilität (zu hohe Anzahl an Parametern) zur Überanpassung des Modelles führen kann.\n",
    "Hier gilt es mit verschiedenen Regularisierungstechniken gegenzusteuern, wofür unter anderem der Hyperparameter `dropout` bestimmt werden muss, welcher angiebt mit welcher Wahrscheinlichkeit ein Neuron temporär ignoriert wird.\n",
    "Da wir zum gleichen Zweck in unserem Neuronalen Netz Batch Normalzation verwenden möchten, welche den Input jedes Neurons Mittelwertfrei und auf ein Intervall normalisiert, muss auch der Parameter `momentum` bestimmt werden.\n",
    "\n",
    "Ein weiterer wichtiger Hyperparameter ist die Aktivierungsfunktion jedes einzelnen Neurons, welche die Neuronenausgabe nicht-linear anpasst. Es haben sich über die Zeit immer neue Aktivierungsfunktionen herauskristialsiert, welche jeweils Ihre Vor- und Nachteile haben.\n",
    "State of the art sind (R)eLU und seine Varianten."
   ]
  },
  {
   "cell_type": "code",
   "execution_count": 7,
   "metadata": {},
   "outputs": [
    {
     "name": "stderr",
     "output_type": "stream",
     "text": [
      "C:\\Users\\sigoehler\\Documents\\Uni\\Uni\\python\\ann\\helper.py:37: UserWarning: In Matplotlib 3.3 individual lines on a stem plot will be added as a LineCollection instead of individual lines. This significantly improves the performance of a stem plot. To remove this warning and switch to the new behaviour, set the \"use_line_collection\" keyword argument to True.\n",
      "  ax2.stem([0],[0.1], '-.')\n"
     ]
    },
    {
     "data": {
      "image/png": "[encoded data removed]",
      "text/plain": [
       "<Figure size 1152x432 with 2 Axes>"
      ]
     },
     "metadata": {
      "needs_background": "light"
     },
     "output_type": "display_data"
    }
   ],
   "source": [
    "#plot activation functions\n",
    "plotactivationfunctions()\n"
   ]
  },
  {
   "cell_type": "markdown",
   "metadata": {},
   "source": [
    "Lineare Aktivierungsfunktionen unterliegen einer starken Beschränkung, da eine Komposition linearer Funktionen durch arithmetische Umformungen durch eine einzige lineare Funktion dargestellt werden kann. Für mehrschichtige Verbindungsnetzwerke sind sie deswegen nicht geeignet und finden so nur in einfachen Modellen Anwendung. \n",
    "\n",
    "Die `Batchsize` gibt an mit wie vielen Trainingsinstanzen der Optimierungsalgorithmus pro Iteration rechnen soll. Hohe Batchsizes haben den Vorteil, dass der berechnete Gradient genauer ist, bürgen aber die Gefahr, dass der Algorithmus in einem lokalen Minima oder auf einem Plateau stecken bleibt.\n",
    "Aufgrund einer kleinen Batchsize benötigt der Algorithmus mehr Iterationsschritte und findet möglicherweise deutlich langsamer die richtige Abstiegsrichtung. Aufgrund dessen hat der Algorithmus unter Umständen aber so die Möglichkeit aus lokalen Minima zu entkommen und weiter zu optimieren. "
   ]
  },
  {
   "cell_type": "markdown",
   "metadata": {},
   "source": [
    "Zusammengefasst werden folgende Hyperparameter untersucht:\n",
    "- dropout #https://machinelearningmastery.com/dropout-regularization-deep-learning-models-keras/\n",
    "- Patience\n",
    "- Lernrate\n",
    "- momentum\n",
    "- Anzahl der Hidden Layer\n",
    "- Anzahl der Neuronen je Hidden Layer\n",
    "- die Größe eines Batches #https://datascience.stackexchange.com/questions/12532/does-batch-size-in-keras-have-any-effects-in-results-quality"
   ]
  },
  {
   "cell_type": "markdown",
   "metadata": {},
   "source": [
    "# Definition des Neuronalen Netzes\n",
    "\n",
    "Anschließend wird eine Funktion definiert, welche auf Basis verschiedener Hyperparameter ein Keras Sequential Model sowie weitere Unterstützer zurückgiebt."
   ]
  },
  {
   "cell_type": "code",
   "execution_count": 9,
   "metadata": {},
   "outputs": [],
   "source": [
    "#https://keras.io/api/layers/regularizers/\n",
    "#https://keras.io/api/layers/normalization_layers/batch_normalization/\n",
    "#https://keras.io/api/layers/regularization_layers/dropout/\n",
    "#https://keras.io/api/layers/regularization_layers/activity_regularization/\n",
    "#https://keras.io/api/layers/core_layers/activation/\n",
    "#https://keras.io/api/losses/\n",
    "\n",
    "\n",
    "loss_fn = keras.losses.SparseCategoricalCrossentropy()\n",
    "\n",
    "def create_model(n_hidden_layer=1, n_neurons_per_layer=32, learning_rate=5e-4, momentum=0.9, dropout=0.2, batch_size = 4, patience = 10, optimizer=\"SGD\", txt = \"\"):\n",
    "    model = Sequential()\n",
    "    \n",
    "    model_path = f\"modelle\\!digit_classifier_{time.time()}_{txt}.h5\"\n",
    "    \n",
    "    #nb_batch_size = round(len(X_train) / nb_batches)\n",
    "    \n",
    "    #inputlayer\n",
    "    model.add(layers.Dense(64, activation='relu', input_shape=(64,)))\n",
    "    \n",
    "    #hiddenlayer\n",
    "    for lay in range(n_hidden_layer):\n",
    "        model.add(layers.BatchNormalization(momentum=momentum))\n",
    "        model.add(layers.Dropout(dropout))\n",
    "        model.add(layers.Dense(n_neurons_per_layer, activation='relu', activity_regularizer=regularizers.l2(learning_rate)))\n",
    "    \n",
    "    #outpulayer\n",
    "    model.add(layers.BatchNormalization(momentum=momentum))\n",
    "    model.add(layers.Dense(10, activation='softmax'))\n",
    "    \n",
    "    \n",
    "    \n",
    "    model.compile(loss=loss_fn,\n",
    "             optimizer=optimizer,\n",
    "             metrics=[\"accuracy\"])\n",
    "\n",
    "    \n",
    "    checkpointer = ModelCheckpoint(filepath=model_path,\n",
    "                               verbose=0,\n",
    "                               save_best_only=True)\n",
    "\n",
    "    early_stopping = EarlyStopping(patience=patience,\n",
    "                               verbose=0,\n",
    "                               restore_best_weights=True)\n",
    "    \n",
    "    return model, checkpointer, early_stopping\n",
    "\n",
    "nb_epoch = 1000"
   ]
  },
  {
   "cell_type": "markdown",
   "metadata": {},
   "source": [
    "Zum Einen ist hier Anzumerken, dass die Anzahl der Neuronen in der Eingangsschicht (64) und Ausgangsschicht (10) fix sind, da jede Ziffer aus 64 Pixeln besteht und 10 verschiedene Klassen ermitteln werden sollen. Man hätte evtl auch ein Neuronales Netz mit einem Ausgangsneuron erzeugen können und ggf. den Wert der Ziffer mittels Regression ermitteln können.\n",
    "Die Anzahl der Neuronen in den versteckten Schichten ist variabel und muss ermittelt werden.\n",
    "Zum Anderen wird bis auf in der Ausgangsschicht, jeweils die ReLU Aktivierungsfunktion verwendet.\n",
    "\n",
    "Jede versteckte Schicht beginnt mit einer Batchnormalization Schicht, gefolgt von einer Dropoutschicht, wonach die eigentliche versteckte Schicht kommt. Anzumerken ist hier, dass bei jeder versteckten Schicht ein `activity regulizer` nach der l2 Norm die Kostenfunktion \"teurer\" macht, um einer Überanpassung vorzubeugen.\n",
    "Ziel es ist, große Gewichte zu eliminieren und dadurch die Zerklüftung der Fehleroberfläche zu minimieren. Dadurch können Fehler, die bei der Initialisierung der Startgewichte gemacht wurden, wieder ausgeglichen werden.\n",
    "\n",
    "Als Optimierungsverfahren wird das stochastische Gradientenabstiegsverfahren angewendet, welches im Vergleich zum normalen GD den Gradienten über den Mittelwert einzelner zufällig gewählter Gradienten ermittelt.\n",
    "\n",
    "Das Neuronale Netz wird maximal in 1000 Epochen trainiert, wobei zu hoffen ist, dass deutlich früher ein Minima gefunden werden kann und somit die Trainingsphase frühzeitig beendet werden kann.\n",
    "\n",
    "Als Kostenfunktion wurde der `crossentropy loss` gewählt, welcher den kosten zwischen den 10 Vorhersagungen je Ausgangsneuron und den Labels berechnet, wodurch das Neuronale Netz per Backprobabation angepasst wird."
   ]
  },
  {
   "cell_type": "markdown",
   "metadata": {},
   "source": [
    " "
   ]
  },
  {
   "cell_type": "markdown",
   "metadata": {},
   "source": [
    "# Ermitteln der optimalen Hyperparameter mittels GridSearch\n",
    "\n",
    "Mithilfe eines Parameter Grids werden verschiedene Hyperparameterkombinationen mithilfe des GridSearch Algorithmus geprüft, wobei als Gütekennzahl der F1-Score verwendet wird."
   ]
  },
  {
   "cell_type": "raw",
   "metadata": {
    "scrolled": true
   },
   "source": [
    "#https://neuroforge.de/wie-optimiere-ich-ein-neuronales-netz/\n",
    "model_sk = KerasClassifier(build_fn=create_model)\n",
    "\n",
    "scorer = make_scorer(f1_score, average='weighted')\n",
    "\n",
    "\n",
    "param_grid = {\n",
    "\n",
    "    'n_hidden_layer': [3, 4, 5, 6],\n",
    "    'n_neurons_per_layer': [180, 200, 220, 240, 260],\n",
    "    'learning_rate': [5e-4, 5e-3, 5e-2, 5e-1],\n",
    "    'momentum': [0.999],\n",
    "    'dropout' : [0.1, 0.2, 0.3]\n",
    "    'patience' : [10, 30, 50, 70]\n",
    "}\n",
    "\n",
    "grid = GridSearchCV(estimator = model_sk,\n",
    "                    param_grid=param_grid,\n",
    "                    scoring=scorer,\n",
    "                    verbose=2,\n",
    "                    #n_jobs=-1,\n",
    "                    cv=3)\n",
    "\n",
    "grid_result = grid.fit(X_train, y_train, epochs=nb_epoch,\n",
    "                    shuffle=True,\n",
    "                    validation_data=(X_val, y_val),\n",
    "                    verbose=0,\n",
    "                    callbacks=[checkpointer, early_stopping])\n"
   ]
  },
  {
   "cell_type": "markdown",
   "metadata": {},
   "source": [
    "Nach dem sehr langwierigen Gridsearch Verfahren (>2d) kann die Parameterkonfiguration mit dem höchsten score ermittelt werden. Um die Rechenzeiten zuknftig zu reduzieren bietet es sich ggf. an entweder nicht so viele Hyperparameterkombinationen gleichzeitig zu testen, oder auf andere Verfahren, wie z.B. das Randomizedsearch Verfahren zurückzugreifen."
   ]
  },
  {
   "cell_type": "raw",
   "metadata": {},
   "source": [
    "print(f'{grid.best_params_} with {grid.best_score_}')\n",
    "\n",
    "\n",
    "bestparams = grid.best_params_"
   ]
  },
  {
   "cell_type": "markdown",
   "metadata": {},
   "source": [
    "Da der Gridsearch Algorithmus auf einem anderen Rechner lief hab ich die Hyperparameter hier manuell eingetragen."
   ]
  },
  {
   "cell_type": "code",
   "execution_count": 10,
   "metadata": {},
   "outputs": [],
   "source": [
    "# best params estimated with GS\n",
    "bestparams = {\n",
    "    \"dropout\" : 0.2,\n",
    "    \"learning_rate\": 0.0005,\n",
    "    \"momentum\": 0.999,\n",
    "    \"n_hidden_layer\": 4,\n",
    "    \"n_neurons_per_layer\": 200, \n",
    "    \"batch_size\" : 9,\n",
    "    \"patience\" : 40\n",
    "}\n"
   ]
  },
  {
   "cell_type": "markdown",
   "metadata": {},
   "source": [
    "Anzumerken ist hier noch, dass besonders die Lernrate als auch die Batchsize, also mit wie vielen Trainingsinstanzen der Gradient bestimmt werden soll, einen starken Einfluss auf die Modellqualität haben.\n",
    "Im Großen und Ganzen ergiebt sich die Vorhersagekraft aber aus der Kombination aller Hyperparameter.\n",
    "\n",
    "Der Hyperparameter patience besagt nach wie vielen Epochen ohne weiteren Fortschritt abgebrochen werden soll, wobei hier die Gefahr besteht, dass der Algorithmus zu früh abbricht, da der Grdientabstieg zwar ~0 ist aber noch kein Minima gefunden wurde (Er befindet sich auf einem Plateau)."
   ]
  },
  {
   "cell_type": "markdown",
   "metadata": {},
   "source": [
    "Anschließend kann ein Neuronales Netz auf Basis der ermittelten Parameter erzeugt werden."
   ]
  },
  {
   "cell_type": "code",
   "execution_count": 11,
   "metadata": {},
   "outputs": [
    {
     "name": "stdout",
     "output_type": "stream",
     "text": [
      "Model: \"sequential\"\n",
      "_________________________________________________________________\n",
      "Layer (type)                 Output Shape              Param #   \n",
      "=================================================================\n",
      "dense (Dense)                (None, 64)                4160      \n",
      "_________________________________________________________________\n",
      "batch_normalization (BatchNo (None, 64)                256       \n",
      "_________________________________________________________________\n",
      "dropout (Dropout)            (None, 64)                0         \n",
      "_________________________________________________________________\n",
      "dense_1 (Dense)              (None, 200)               13000     \n",
      "_________________________________________________________________\n",
      "batch_normalization_1 (Batch (None, 200)               800       \n",
      "_________________________________________________________________\n",
      "dropout_1 (Dropout)          (None, 200)               0         \n",
      "_________________________________________________________________\n",
      "dense_2 (Dense)              (None, 200)               40200     \n",
      "_________________________________________________________________\n",
      "batch_normalization_2 (Batch (None, 200)               800       \n",
      "_________________________________________________________________\n",
      "dropout_2 (Dropout)          (None, 200)               0         \n",
      "_________________________________________________________________\n",
      "dense_3 (Dense)              (None, 200)               40200     \n",
      "_________________________________________________________________\n",
      "batch_normalization_3 (Batch (None, 200)               800       \n",
      "_________________________________________________________________\n",
      "dropout_3 (Dropout)          (None, 200)               0         \n",
      "_________________________________________________________________\n",
      "dense_4 (Dense)              (None, 200)               40200     \n",
      "_________________________________________________________________\n",
      "batch_normalization_4 (Batch (None, 200)               800       \n",
      "_________________________________________________________________\n",
      "dense_5 (Dense)              (None, 10)                2010      \n",
      "=================================================================\n",
      "Total params: 143,226\n",
      "Trainable params: 141,498\n",
      "Non-trainable params: 1,728\n",
      "_________________________________________________________________\n"
     ]
    }
   ],
   "source": [
    "bestmodel, checkpointer, early_stopping = create_model(**bestparams)\n",
    "bestmodel.summary()"
   ]
  },
  {
   "cell_type": "markdown",
   "metadata": {},
   "source": [
    "Aufgrund der hohen Anzahl an Parametern muss nachfolgend geprüft werden wie stark sich das Modell an die Trainingsdaten angepasst hat. Bei den nicht Trainierbaren Parametern handel es sich um die Parameter der Batchnormalization Schichten."
   ]
  },
  {
   "cell_type": "markdown",
   "metadata": {},
   "source": [
    "# Training mit dem gesamten Trainingsdatenset\n",
    "\n",
    "Nachfolgend werden die Parameter des Neuronale Netz mit dem gesammten Trainingsdatenset berechnet."
   ]
  },
  {
   "cell_type": "code",
   "execution_count": 12,
   "metadata": {
    "scrolled": true
   },
   "outputs": [
    {
     "name": "stdout",
     "output_type": "stream",
     "text": [
      "Epoch 1/1000\n",
      "120/120 [==============================] - 1s 9ms/step - loss: 1.8606 - accuracy: 0.4592 - val_loss: 2.1097 - val_accuracy: 0.4722\n",
      "Epoch 2/1000\n",
      "120/120 [==============================] - 1s 6ms/step - loss: 1.2217 - accuracy: 0.6577 - val_loss: 2.0250 - val_accuracy: 0.5500\n",
      "Epoch 3/1000\n",
      "120/120 [==============================] - 1s 5ms/step - loss: 1.1155 - accuracy: 0.7087 - val_loss: 1.9483 - val_accuracy: 0.5944\n",
      "Epoch 4/1000\n",
      "120/120 [==============================] - 1s 6ms/step - loss: 1.0178 - accuracy: 0.7430 - val_loss: 1.8512 - val_accuracy: 0.5194\n",
      "Epoch 5/1000\n",
      "120/120 [==============================] - 1s 5ms/step - loss: 0.8915 - accuracy: 0.7941 - val_loss: 1.7407 - val_accuracy: 0.6417\n",
      "Epoch 6/1000\n",
      "120/120 [==============================] - 1s 5ms/step - loss: 0.8781 - accuracy: 0.8061 - val_loss: 1.5613 - val_accuracy: 0.7778\n",
      "Epoch 7/1000\n",
      "120/120 [==============================] - 1s 5ms/step - loss: 0.8651 - accuracy: 0.8089 - val_loss: 1.5116 - val_accuracy: 0.6694\n",
      "Epoch 8/1000\n",
      "120/120 [==============================] - 1s 5ms/step - loss: 0.8462 - accuracy: 0.8284 - val_loss: 1.4303 - val_accuracy: 0.7306\n",
      "Epoch 9/1000\n",
      "120/120 [==============================] - 1s 6ms/step - loss: 0.7989 - accuracy: 0.8154 - val_loss: 1.3130 - val_accuracy: 0.7722\n",
      "Epoch 10/1000\n",
      "120/120 [==============================] - 1s 6ms/step - loss: 0.7173 - accuracy: 0.8525 - val_loss: 1.1749 - val_accuracy: 0.8306\n",
      "Epoch 11/1000\n",
      "120/120 [==============================] - 1s 5ms/step - loss: 0.7565 - accuracy: 0.8386 - val_loss: 1.0571 - val_accuracy: 0.8806\n",
      "Epoch 12/1000\n",
      "120/120 [==============================] - 1s 6ms/step - loss: 0.6969 - accuracy: 0.8516 - val_loss: 0.9715 - val_accuracy: 0.8500\n",
      "Epoch 13/1000\n",
      "120/120 [==============================] - 1s 6ms/step - loss: 0.7141 - accuracy: 0.8469 - val_loss: 0.7568 - val_accuracy: 0.9278\n",
      "Epoch 14/1000\n",
      "120/120 [==============================] - 1s 5ms/step - loss: 0.7024 - accuracy: 0.8544 - val_loss: 0.6523 - val_accuracy: 0.9306\n",
      "Epoch 15/1000\n",
      "120/120 [==============================] - 1s 6ms/step - loss: 0.6821 - accuracy: 0.8525 - val_loss: 0.5392 - val_accuracy: 0.9528\n",
      "Epoch 16/1000\n",
      "120/120 [==============================] - 1s 5ms/step - loss: 0.6392 - accuracy: 0.8794 - val_loss: 0.5017 - val_accuracy: 0.9750\n",
      "Epoch 17/1000\n",
      "120/120 [==============================] - 1s 6ms/step - loss: 0.6543 - accuracy: 0.8840 - val_loss: 0.4720 - val_accuracy: 0.9806\n",
      "Epoch 18/1000\n",
      "120/120 [==============================] - 1s 5ms/step - loss: 0.6407 - accuracy: 0.8785 - val_loss: 0.4188 - val_accuracy: 0.9667\n",
      "Epoch 19/1000\n",
      "120/120 [==============================] - ETA: 0s - loss: 0.6596 - accuracy: 0.87 - 1s 6ms/step - loss: 0.6736 - accuracy: 0.8711 - val_loss: 0.4415 - val_accuracy: 0.9611\n",
      "Epoch 20/1000\n",
      "120/120 [==============================] - 1s 6ms/step - loss: 0.6746 - accuracy: 0.8720 - val_loss: 0.3910 - val_accuracy: 0.9528\n",
      "Epoch 21/1000\n",
      "120/120 [==============================] - 1s 6ms/step - loss: 0.6379 - accuracy: 0.8748 - val_loss: 0.3321 - val_accuracy: 0.9639\n",
      "Epoch 22/1000\n",
      "120/120 [==============================] - 1s 5ms/step - loss: 0.6696 - accuracy: 0.8729 - val_loss: 0.3154 - val_accuracy: 0.9750\n",
      "Epoch 23/1000\n",
      "120/120 [==============================] - 1s 5ms/step - loss: 0.6335 - accuracy: 0.8896 - val_loss: 0.2969 - val_accuracy: 0.9778\n",
      "Epoch 24/1000\n",
      "120/120 [==============================] - 1s 5ms/step - loss: 0.6037 - accuracy: 0.8905 - val_loss: 0.3033 - val_accuracy: 0.9722\n",
      "Epoch 25/1000\n",
      "120/120 [==============================] - 1s 5ms/step - loss: 0.5937 - accuracy: 0.8952 - val_loss: 0.2851 - val_accuracy: 0.9694\n",
      "Epoch 26/1000\n",
      "120/120 [==============================] - 1s 5ms/step - loss: 0.6327 - accuracy: 0.8757 - val_loss: 0.2673 - val_accuracy: 0.9806\n",
      "Epoch 27/1000\n",
      "120/120 [==============================] - 1s 5ms/step - loss: 0.5811 - accuracy: 0.8942 - val_loss: 0.2936 - val_accuracy: 0.9722\n",
      "Epoch 28/1000\n",
      "120/120 [==============================] - 1s 5ms/step - loss: 0.6057 - accuracy: 0.8933 - val_loss: 0.3248 - val_accuracy: 0.9639\n",
      "Epoch 29/1000\n",
      "120/120 [==============================] - 1s 5ms/step - loss: 0.6136 - accuracy: 0.8813 - val_loss: 0.2936 - val_accuracy: 0.9667\n",
      "Epoch 30/1000\n",
      "120/120 [==============================] - 1s 5ms/step - loss: 0.6141 - accuracy: 0.8813 - val_loss: 0.2926 - val_accuracy: 0.9694\n",
      "Epoch 31/1000\n",
      "120/120 [==============================] - 1s 5ms/step - loss: 0.5929 - accuracy: 0.8878 - val_loss: 0.2656 - val_accuracy: 0.9750\n",
      "Epoch 32/1000\n",
      "120/120 [==============================] - 1s 4ms/step - loss: 0.5544 - accuracy: 0.8896 - val_loss: 0.2858 - val_accuracy: 0.9778\n",
      "Epoch 33/1000\n",
      "120/120 [==============================] - 1s 4ms/step - loss: 0.5879 - accuracy: 0.8868 - val_loss: 0.2768 - val_accuracy: 0.9750\n",
      "Epoch 34/1000\n",
      "120/120 [==============================] - 1s 4ms/step - loss: 0.6154 - accuracy: 0.8785 - val_loss: 0.2826 - val_accuracy: 0.9722\n",
      "Epoch 35/1000\n",
      "120/120 [==============================] - 1s 4ms/step - loss: 0.5538 - accuracy: 0.9017 - val_loss: 0.3444 - val_accuracy: 0.9583\n",
      "Epoch 36/1000\n",
      "120/120 [==============================] - 1s 4ms/step - loss: 0.5931 - accuracy: 0.8896 - val_loss: 0.3509 - val_accuracy: 0.9583\n",
      "Epoch 37/1000\n",
      "120/120 [==============================] - 0s 4ms/step - loss: 0.5856 - accuracy: 0.8896 - val_loss: 0.3231 - val_accuracy: 0.9583\n",
      "Epoch 38/1000\n",
      "120/120 [==============================] - 1s 4ms/step - loss: 0.5012 - accuracy: 0.9230 - val_loss: 0.3271 - val_accuracy: 0.9667\n",
      "Epoch 39/1000\n",
      "120/120 [==============================] - 0s 4ms/step - loss: 0.5370 - accuracy: 0.8942 - val_loss: 0.3006 - val_accuracy: 0.9694\n",
      "Epoch 40/1000\n",
      "120/120 [==============================] - 0s 4ms/step - loss: 0.5090 - accuracy: 0.9091 - val_loss: 0.2978 - val_accuracy: 0.9778\n",
      "Epoch 41/1000\n",
      "120/120 [==============================] - 0s 4ms/step - loss: 0.5691 - accuracy: 0.8905 - val_loss: 0.3065 - val_accuracy: 0.9694\n",
      "Epoch 42/1000\n",
      "120/120 [==============================] - 1s 4ms/step - loss: 0.5232 - accuracy: 0.9035 - val_loss: 0.3722 - val_accuracy: 0.9417\n",
      "Epoch 43/1000\n",
      "120/120 [==============================] - 1s 5ms/step - loss: 0.5317 - accuracy: 0.9017 - val_loss: 0.3184 - val_accuracy: 0.9694\n",
      "Epoch 44/1000\n",
      "120/120 [==============================] - 1s 4ms/step - loss: 0.5319 - accuracy: 0.9072 - val_loss: 0.2951 - val_accuracy: 0.9722\n",
      "Epoch 45/1000\n",
      "120/120 [==============================] - 1s 4ms/step - loss: 0.4784 - accuracy: 0.9276 - val_loss: 0.3069 - val_accuracy: 0.9639\n",
      "Epoch 46/1000\n",
      "120/120 [==============================] - 1s 5ms/step - loss: 0.5449 - accuracy: 0.8980 - val_loss: 0.3564 - val_accuracy: 0.9500\n",
      "Epoch 47/1000\n",
      "120/120 [==============================] - 0s 4ms/step - loss: 0.4710 - accuracy: 0.9221 - val_loss: 0.3251 - val_accuracy: 0.9667\n",
      "Epoch 48/1000\n",
      "120/120 [==============================] - 1s 5ms/step - loss: 0.4654 - accuracy: 0.9221 - val_loss: 0.3236 - val_accuracy: 0.9611\n",
      "Epoch 49/1000\n",
      "120/120 [==============================] - 1s 5ms/step - loss: 0.5108 - accuracy: 0.9119 - val_loss: 0.2969 - val_accuracy: 0.9750\n",
      "Epoch 50/1000\n",
      "120/120 [==============================] - 1s 5ms/step - loss: 0.5619 - accuracy: 0.8850 - val_loss: 0.2980 - val_accuracy: 0.9778\n",
      "Epoch 51/1000\n",
      "120/120 [==============================] - 1s 5ms/step - loss: 0.4542 - accuracy: 0.9267 - val_loss: 0.3165 - val_accuracy: 0.9750\n",
      "Epoch 52/1000\n",
      "120/120 [==============================] - 1s 5ms/step - loss: 0.5067 - accuracy: 0.9128 - val_loss: 0.3014 - val_accuracy: 0.9778\n",
      "Epoch 53/1000\n",
      "120/120 [==============================] - 1s 5ms/step - loss: 0.5134 - accuracy: 0.8998 - val_loss: 0.2855 - val_accuracy: 0.9694\n",
      "Epoch 54/1000\n",
      "120/120 [==============================] - 1s 6ms/step - loss: 0.4841 - accuracy: 0.9174 - val_loss: 0.2888 - val_accuracy: 0.9806\n",
      "Epoch 55/1000\n",
      "120/120 [==============================] - 1s 5ms/step - loss: 0.4768 - accuracy: 0.9276 - val_loss: 0.3056 - val_accuracy: 0.9694\n",
      "Epoch 56/1000\n",
      "120/120 [==============================] - 1s 5ms/step - loss: 0.5082 - accuracy: 0.9202 - val_loss: 0.2882 - val_accuracy: 0.9750\n",
      "Epoch 57/1000\n"
     ]
    },
    {
     "name": "stdout",
     "output_type": "stream",
     "text": [
      "120/120 [==============================] - 1s 5ms/step - loss: 0.4915 - accuracy: 0.9267 - val_loss: 0.3043 - val_accuracy: 0.9583\n",
      "Epoch 58/1000\n",
      "120/120 [==============================] - 1s 5ms/step - loss: 0.4156 - accuracy: 0.9425 - val_loss: 0.2763 - val_accuracy: 0.9806\n",
      "Epoch 59/1000\n",
      "120/120 [==============================] - 1s 5ms/step - loss: 0.5124 - accuracy: 0.9035 - val_loss: 0.2874 - val_accuracy: 0.9722\n",
      "Epoch 60/1000\n",
      "120/120 [==============================] - 1s 5ms/step - loss: 0.4978 - accuracy: 0.9091 - val_loss: 0.2744 - val_accuracy: 0.9778\n",
      "Epoch 61/1000\n",
      "120/120 [==============================] - 1s 5ms/step - loss: 0.4759 - accuracy: 0.9082 - val_loss: 0.2764 - val_accuracy: 0.9778\n",
      "Epoch 62/1000\n",
      "120/120 [==============================] - 1s 5ms/step - loss: 0.4949 - accuracy: 0.9147 - val_loss: 0.2965 - val_accuracy: 0.9833\n",
      "Epoch 63/1000\n",
      "120/120 [==============================] - 1s 5ms/step - loss: 0.4785 - accuracy: 0.9184 - val_loss: 0.2886 - val_accuracy: 0.9778\n",
      "Epoch 64/1000\n",
      "120/120 [==============================] - 1s 5ms/step - loss: 0.4643 - accuracy: 0.9267 - val_loss: 0.2658 - val_accuracy: 0.9861\n",
      "Epoch 65/1000\n",
      "120/120 [==============================] - 1s 5ms/step - loss: 0.4525 - accuracy: 0.9323 - val_loss: 0.2734 - val_accuracy: 0.9806\n",
      "Epoch 66/1000\n",
      "120/120 [==============================] - 1s 5ms/step - loss: 0.4627 - accuracy: 0.9230 - val_loss: 0.2812 - val_accuracy: 0.9694\n",
      "Epoch 67/1000\n",
      "120/120 [==============================] - 1s 5ms/step - loss: 0.5039 - accuracy: 0.9091 - val_loss: 0.2332 - val_accuracy: 0.9861\n",
      "Epoch 68/1000\n",
      "120/120 [==============================] - 1s 5ms/step - loss: 0.4324 - accuracy: 0.9221 - val_loss: 0.2722 - val_accuracy: 0.9778\n",
      "Epoch 69/1000\n",
      "120/120 [==============================] - 1s 5ms/step - loss: 0.4725 - accuracy: 0.9174 - val_loss: 0.2530 - val_accuracy: 0.9889\n",
      "Epoch 70/1000\n",
      "120/120 [==============================] - 1s 5ms/step - loss: 0.4944 - accuracy: 0.9082 - val_loss: 0.2405 - val_accuracy: 0.9861\n",
      "Epoch 71/1000\n",
      "120/120 [==============================] - 1s 5ms/step - loss: 0.4688 - accuracy: 0.9165 - val_loss: 0.2729 - val_accuracy: 0.9806\n",
      "Epoch 72/1000\n",
      "120/120 [==============================] - 1s 4ms/step - loss: 0.4348 - accuracy: 0.9249 - val_loss: 0.3026 - val_accuracy: 0.9611\n",
      "Epoch 73/1000\n",
      " 58/120 [=============>................] - ETA: 0s - loss: 0.4445 - accuracy: 0.9234"
     ]
    },
    {
     "name": "stderr",
     "output_type": "stream",
     "text": [
      "ERROR:root:Internal Python error in the inspect module.\n",
      "Below is the traceback from this internal error.\n",
      "\n"
     ]
    },
    {
     "name": "stdout",
     "output_type": "stream",
     "text": [
      "Traceback (most recent call last):\n",
      "  File \"c:\\users\\sigoehler\\appdata\\local\\programs\\python\\python38\\lib\\site-packages\\IPython\\core\\interactiveshell.py\", line 3331, in run_code\n",
      "    exec(code_obj, self.user_global_ns, self.user_ns)\n",
      "  File \"<ipython-input-12-7b2635926766>\", line 3, in <module>\n",
      "    history = bestmodel.fit(X_train, y_train, epochs=nb_epoch,\n",
      "  File \"c:\\users\\sigoehler\\appdata\\local\\programs\\python\\python38\\lib\\site-packages\\tensorflow\\python\\keras\\engine\\training.py\", line 66, in _method_wrapper\n",
      "    return method(self, *args, **kwargs)\n",
      "  File \"c:\\users\\sigoehler\\appdata\\local\\programs\\python\\python38\\lib\\site-packages\\tensorflow\\python\\keras\\engine\\training.py\", line 855, in fit\n",
      "    callbacks.on_train_batch_end(step, logs)\n",
      "  File \"c:\\users\\sigoehler\\appdata\\local\\programs\\python\\python38\\lib\\site-packages\\tensorflow\\python\\keras\\callbacks.py\", line 389, in on_train_batch_end\n",
      "    logs = self._process_logs(logs)\n",
      "  File \"c:\\users\\sigoehler\\appdata\\local\\programs\\python\\python38\\lib\\site-packages\\tensorflow\\python\\keras\\callbacks.py\", line 265, in _process_logs\n",
      "    return tf_utils.to_numpy_or_python_type(logs)\n",
      "  File \"c:\\users\\sigoehler\\appdata\\local\\programs\\python\\python38\\lib\\site-packages\\tensorflow\\python\\keras\\utils\\tf_utils.py\", line 523, in to_numpy_or_python_type\n",
      "    return nest.map_structure(_to_single_numpy_or_python_type, tensors)\n",
      "  File \"c:\\users\\sigoehler\\appdata\\local\\programs\\python\\python38\\lib\\site-packages\\tensorflow\\python\\util\\nest.py\", line 617, in map_structure\n",
      "    structure[0], [func(*x) for x in entries],\n",
      "  File \"c:\\users\\sigoehler\\appdata\\local\\programs\\python\\python38\\lib\\site-packages\\tensorflow\\python\\util\\nest.py\", line 617, in <listcomp>\n",
      "    structure[0], [func(*x) for x in entries],\n",
      "  File \"c:\\users\\sigoehler\\appdata\\local\\programs\\python\\python38\\lib\\site-packages\\tensorflow\\python\\keras\\utils\\tf_utils.py\", line 519, in _to_single_numpy_or_python_type\n",
      "    x = t.numpy()\n",
      "  File \"c:\\users\\sigoehler\\appdata\\local\\programs\\python\\python38\\lib\\site-packages\\tensorflow\\python\\framework\\ops.py\", line 961, in numpy\n",
      "    maybe_arr = self._numpy()  # pylint: disable=protected-access\n",
      "  File \"c:\\users\\sigoehler\\appdata\\local\\programs\\python\\python38\\lib\\site-packages\\tensorflow\\python\\framework\\ops.py\", line 927, in _numpy\n",
      "    return self._numpy_internal()\n",
      "KeyboardInterrupt\n",
      "\n",
      "During handling of the above exception, another exception occurred:\n",
      "\n",
      "Traceback (most recent call last):\n",
      "  File \"c:\\users\\sigoehler\\appdata\\local\\programs\\python\\python38\\lib\\site-packages\\IPython\\core\\interactiveshell.py\", line 2044, in showtraceback\n",
      "    stb = value._render_traceback_()\n",
      "AttributeError: 'KeyboardInterrupt' object has no attribute '_render_traceback_'\n",
      "\n",
      "During handling of the above exception, another exception occurred:\n",
      "\n",
      "Traceback (most recent call last):\n",
      "  File \"c:\\users\\sigoehler\\appdata\\local\\programs\\python\\python38\\lib\\site-packages\\IPython\\core\\ultratb.py\", line 1148, in get_records\n",
      "    return _fixed_getinnerframes(etb, number_of_lines_of_context, tb_offset)\n",
      "  File \"c:\\users\\sigoehler\\appdata\\local\\programs\\python\\python38\\lib\\site-packages\\IPython\\core\\ultratb.py\", line 316, in wrapped\n",
      "    return f(*args, **kwargs)\n",
      "  File \"c:\\users\\sigoehler\\appdata\\local\\programs\\python\\python38\\lib\\site-packages\\IPython\\core\\ultratb.py\", line 350, in _fixed_getinnerframes\n",
      "    records = fix_frame_records_filenames(inspect.getinnerframes(etb, context))\n",
      "  File \"c:\\users\\sigoehler\\appdata\\local\\programs\\python\\python38\\lib\\inspect.py\", line 1503, in getinnerframes\n",
      "    frameinfo = (tb.tb_frame,) + getframeinfo(tb, context)\n",
      "  File \"c:\\users\\sigoehler\\appdata\\local\\programs\\python\\python38\\lib\\inspect.py\", line 1461, in getframeinfo\n",
      "    filename = getsourcefile(frame) or getfile(frame)\n",
      "  File \"c:\\users\\sigoehler\\appdata\\local\\programs\\python\\python38\\lib\\inspect.py\", line 708, in getsourcefile\n",
      "    if getattr(getmodule(object, filename), '__loader__', None) is not None:\n",
      "  File \"c:\\users\\sigoehler\\appdata\\local\\programs\\python\\python38\\lib\\inspect.py\", line 754, in getmodule\n",
      "    os.path.realpath(f)] = module.__name__\n",
      "  File \"c:\\users\\sigoehler\\appdata\\local\\programs\\python\\python38\\lib\\ntpath.py\", line 614, in realpath\n",
      "    path = _getfinalpathname(path)\n",
      "KeyboardInterrupt\n"
     ]
    },
    {
     "ename": "KeyboardInterrupt",
     "evalue": "",
     "output_type": "error",
     "traceback": [
      "\u001b[1;31m---------------------------------------------------------------------------\u001b[0m"
     ]
    }
   ],
   "source": [
    "time_start = time.time()\n",
    "\n",
    "history = bestmodel.fit(X_train, y_train, epochs=nb_epoch,\n",
    "                    shuffle=True,\n",
    "                    batch_size=bestparams['batch_size'],\n",
    "                    validation_data=(X_val, y_val),\n",
    "                    verbose=1,\n",
    "                    callbacks=[checkpointer, early_stopping])\n",
    "\n",
    "print(f'took {time.time()-time_start} seconds..\\n')\n"
   ]
  },
  {
   "cell_type": "markdown",
   "metadata": {},
   "source": [
    "Das Neuronale Netz wurde in 120 Iteration je Epoche trainiert und bricht das Training wegen `early stopping` nach 66 Epochen ab, da scheinbar das beste Modell bereits in den letzten 40 Epochen gefunden wurde.\n",
    "Anschließend werden der `loss` und `accuracy` der Trainingsdaten und Validierungsdaten je Epoche angegeben."
   ]
  },
  {
   "cell_type": "code",
   "execution_count": null,
   "metadata": {
    "scrolled": false
   },
   "outputs": [],
   "source": [
    "ticks = np.arange(0.0,80.0,1)\n",
    "\n",
    "fig = plt.figure(figsize=(16,10))\n",
    "df = pd.DataFrame(history.history)\n",
    "\n",
    "plt.yticks(ticks)\n",
    "plt.ylim(0.1,1.1)\n",
    "plt.xlabel('epochs')\n",
    "plt.plot(df)\n",
    "plt.legend(df.columns)\n",
    "plt.show()"
   ]
  },
  {
   "cell_type": "markdown",
   "metadata": {},
   "source": [
    "Zu sehen sind der `loss` und der `accuracy` Wert der Trainingsdaten und Validierungsdaten je Epoche. Erkennbar ist, dass sich das Modell zu keinem Zeitpunkt perfekt an die Trainingsdatensätze anpasst da der 'accuracy' Wert der Trainingsdaten zu keinem Punkt `0.9323` überschreitet.\n",
    "Bermerkenswert is jedoch, dass die Kennzahlen für die Validierungsdaten ziemlich früh die der Traingsdaten überholen, im Großen und Ganzen aber nah beieinander sind, was für ein gut angepasstes Modell spricht. #https://machinelearningmastery.com/diagnose-overfitting-underfitting-lstm-models/\n",
    "\n",
    "Nach ca. 40 Epochen ist aber erkenntbar, das sich die Kennzahlen stabilisieren und somit das Training frühzeitig beendet werden kann."
   ]
  },
  {
   "cell_type": "markdown",
   "metadata": {},
   "source": [
    " "
   ]
  },
  {
   "cell_type": "markdown",
   "metadata": {},
   "source": [
    "# Vorhersagungen auf den Testdatensätzen und Metriken"
   ]
  },
  {
   "cell_type": "markdown",
   "metadata": {},
   "source": [
    "Nachfolgen werden die Testdatensätze mithilfe des resultierenden Neuronalen Netzes verhergesagt. Anzumerken ist, dass das Neuronal Netz bei seinen Vorhersagungen aufgrund der Netzstruktur für jede trainierte Ziffer eine Wahrscheinlichkeit berechnet, sodass die Vorhergesagt Ziffer die Ziffer mit der höchsten Wahrscheinlichkeit entspricht."
   ]
  },
  {
   "cell_type": "code",
   "execution_count": null,
   "metadata": {},
   "outputs": [],
   "source": [
    "predictions = bestmodel.predict(X_test)\n",
    "\n",
    "y_pred = np.zeros(np.shape(y_test))\n",
    "\n",
    "for ind, pred in enumerate(predictions):\n",
    "    y_pred[ind] = np.argmax(pred)\n",
    "    \n",
    "cnf_matrix = confusion_matrix(y_test,y_pred)\n",
    "\n",
    "fig = plt.figure(figsize=(10,9))\n",
    "sns.heatmap(cnf_matrix, cmap='YlGnBu', annot=True)\n",
    "plt.xlabel('predicted')\n",
    "plt.ylabel('true')\n",
    "plt.show()"
   ]
  },
  {
   "cell_type": "code",
   "execution_count": null,
   "metadata": {},
   "outputs": [],
   "source": [
    "print(classification_report(y_test, y_pred, output_dict=False))"
   ]
  },
  {
   "cell_type": "markdown",
   "metadata": {},
   "source": [
    "Nachfolgend werden zum vergleich nocheinmal die mittels Logistischer Regression ermittelten Metriken aufgeführt."
   ]
  },
  {
   "cell_type": "code",
   "execution_count": null,
   "metadata": {
    "scrolled": false
   },
   "outputs": [],
   "source": [
    "fig = plt.figure(figsize=(7,14))\n",
    "img=mpimg.imread('logitscores.png')\n",
    "imgplot = plt.imshow(img)\n",
    "plt.xticks([])\n",
    "plt.yticks([])\n",
    "plt.show()"
   ]
  },
  {
   "cell_type": "markdown",
   "metadata": {},
   "source": [
    "Zu sehen ist, dass das Neuronale Netz dem Logistischen Klassifizierer bei allen digits gleichwertig oder sogar überlegen ist. Besonders ist dies bei der Fall bei der 3 und der 8. \n",
    "\n",
    "\n",
    "Zu erwähnen ist aber auch, dass das trainieren des Neuronalen Netzes aufgrund der hohen Anzahl der Parameter deutlich länger dauert obwohl die Anzahl der Iterationen aufgrund der early stopping Algorithmen geringer ist.\n",
    "\n",
    "* Logistische Regression: ~65s für 74067 Iterationen\n",
    "\n",
    "* Neuronale Netz: ~121s für 26558‬ Iterationen"
   ]
  },
  {
   "cell_type": "markdown",
   "metadata": {},
   "source": [
    " "
   ]
  },
  {
   "cell_type": "markdown",
   "metadata": {},
   "source": [
    "\n",
    "# Visualisieren der falsch Klassifizierten Zahlen\n",
    "Das resutierende Neuronale Netz hat im Grunde ca. 99% der Ziffern richtig klassifiziert.\n",
    "Nachfolgend werden die falsch Klassifizierten Zahlen mit der berechneten Wahrscheinlichkeit und die eigentliche Klasse illustriert."
   ]
  },
  {
   "cell_type": "code",
   "execution_count": null,
   "metadata": {},
   "outputs": [],
   "source": [
    "# Plot\n",
    "f = plt.figure(figsize=(12, 12))\n",
    "ind  =0\n",
    "mask = y_test != y_pred\n",
    "\n",
    "for i, d in enumerate(X_test):\n",
    "    if mask[i]:\n",
    "        #print(i, y_test[i],y_pred[i])\n",
    "        img = d.reshape(8,8)\n",
    "        sub = f.add_subplot(3, 6, ind+1)\n",
    "        sub.imshow(img, cmap=cm.gray_r)\n",
    "        plt.xticks([])\n",
    "        plt.yticks([])\n",
    "        sub.set_title(f'predict: {int(y_pred[i])}\\n with {np.max(predictions[i]*100):.4}%\\npobabilty.\\n\\ntrue: {y_test[i]}')\n",
    "        ind=ind+1"
   ]
  },
  {
   "cell_type": "markdown",
   "metadata": {},
   "source": [
    "Auffällig ist, dass das resultierende Neuronal Netz aktuell anscheinend weiterhin \"Probleme\" hat die Ziffern 8 und 9 zu erkennen."
   ]
  },
  {
   "cell_type": "markdown",
   "metadata": {},
   "source": [
    " "
   ]
  },
  {
   "cell_type": "markdown",
   "metadata": {},
   "source": [
    "# Lernkurve\n",
    "\n",
    "Abschließend werden n Neuronale Netze mit steigender Anzahl an Traininsdaten trainiert und validiert."
   ]
  },
  {
   "cell_type": "code",
   "execution_count": null,
   "metadata": {
    "scrolled": false
   },
   "outputs": [],
   "source": [
    "loss_test = []\n",
    "loss_train= []\n",
    "loss_val  = []\n",
    "time_start2 = time.time()\n",
    "\n",
    "over = [1 , 2, 4, 6, 8, 10, 14, 18, 22, 26, 30, 36, 42, 52, 62, 72, 82, 92, 102, 112, 122, 142, 162, 182, 202,\n",
    "        222, 242, 264, 284, 308, 328, 348, 368, 388, 400, 410, 420, 430, 444, 468, 490, 520, 550, 580, 610, 640, 670,\n",
    "        700, 730, 760, 790, 810, 820, 830, 850, 880, 930, 960, 990, 1000, 1010, 1020, 1030, 1040]\n",
    "\n",
    "print(f'learning curve for {len(over)} iterations... ')\n",
    "\n",
    "for ind, d in enumerate(over):\n",
    "    time_start = time.time()\n",
    "\n",
    "    X_train_lc = X_train[:d]\n",
    "    y_train_lc = y_train[:d]\n",
    "\n",
    "    \n",
    "    lcmodel, checkpointer, early_stopping = create_model(**bestparams)\n",
    "\n",
    "    \n",
    "    lchistory = lcmodel.fit(X_train_lc, y_train_lc, epochs=nb_epoch,\n",
    "                    shuffle=True,\n",
    "                    batch_size=bestparams['batch_size'],\n",
    "                    validation_data=(X_val, y_val),\n",
    "                    verbose=0,\n",
    "                    callbacks=[checkpointer, early_stopping])\n",
    "    \n",
    "    \n",
    "\n",
    "    predictions = lcmodel.predict(X_test)\n",
    "\n",
    "    \n",
    "    loss_test.append(loss_fn(y_test, predictions))\n",
    "    loss_train.append(np.min(lchistory.history['loss']))\n",
    "    loss_val.append(np.min(lchistory.history['val_loss']))\n",
    "\n",
    "   #print(f'took {time.time()-time_start} seconds..\\n')\n",
    "    print(f'{ind+1}: Calculating for {d} samples done... took {time.time()-time_start:.5}s')\n",
    "    \n",
    "print(f'Done... took {time.time()-time_start2:.8}s')"
   ]
  },
  {
   "cell_type": "code",
   "execution_count": null,
   "metadata": {},
   "outputs": [],
   "source": [
    "fig = plt.figure(figsize=(16,10))\n",
    "\n",
    "#plt.ylim(0,1.1)\n",
    "plt.xlabel('trainingset size')\n",
    "plt.plot(over, loss_test, label='test')\n",
    "plt.plot(over, loss_train, label='train')\n",
    "plt.plot(over, loss_val, label='val')\n",
    "plt.legend()\n",
    "plt.show()\n"
   ]
  },
  {
   "cell_type": "markdown",
   "metadata": {},
   "source": [
    "Der Kosten der Trainingsdaten ist zunächst deutlich geringer als der Kostern der Test- und Validierungsdaten. Ab einer Trainsdatensetgröße von ca. wechselt sich dies ab, der Kosten gegen die Trainingsdaten ist aufgrund der Regularisierung zu keinem Zeitpunkt 0.\n",
    "Das aus den gewählten Hyperparameters resultierende Neuronale Netz scheint die Bilddaten gut zu abstrahieren und scheint weder Unter- noch Überangepasst."
   ]
  },
  {
   "cell_type": "markdown",
   "metadata": {},
   "source": [
    "# Ausblick\n",
    "\n",
    "Dieses Neuronale Netz scheint mit seiner `0.9944` accuracy auf den Validierungsdaten bereits am oberen Limit zu sein, vermutlich wird man durch andere Hyperparameter kaum bessere Ergebnisse erziehlen können.\n",
    "Gerade bei der Bilderkennung haben sich aber sg. convolutional neural networks (CNN) horvorgehoben, welche eine etwas andere Netzstruktur vorweisen, da sie vor dem eigentlich Neuronalen Netz noch ein oder mehrere convolutional Layer haben welche ganze Matrizen als Eingabe haben. \n",
    "#https://www.kaggle.com/amiiiney/digit-recognizer-using-cnn-99-accuracy\n",
    "#https://www.kaggle.com/c/digit-recognizer/discussion/61480\n",
    "#https://de.wikipedia.org/wiki/Convolutional_Neural_Network"
   ]
  },
  {
   "cell_type": "code",
   "execution_count": null,
   "metadata": {},
   "outputs": [],
   "source": []
  }
 ],
 "metadata": {
  "kernelspec": {
   "display_name": "Python 3",
   "language": "python",
   "name": "python3"
  },
  "language_info": {
   "codemirror_mode": {
    "name": "ipython",
    "version": 3
   },
   "file_extension": ".py",
   "mimetype": "text/x-python",
   "name": "python",
   "nbconvert_exporter": "python",
   "pygments_lexer": "ipython3",
   "version": "3.8.0"
  }
 },
 "nbformat": 4,
 "nbformat_minor": 4
}
