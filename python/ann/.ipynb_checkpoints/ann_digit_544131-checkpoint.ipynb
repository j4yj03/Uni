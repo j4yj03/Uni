{
 "cells": [
  {
   "cell_type": "markdown",
   "metadata": {},
   "source": [
    "# Neuronale Netze: digits datset\n",
    "\n",
    "Dieses Jupyter Notebook führt die Ergebnisse des dritten Projektes im Modul Special Engineering (M30) zum Thema Neuronale Netze auf. Als Datenset wird das digits Datenset verwendet."
   ]
  },
  {
   "cell_type": "code",
   "execution_count": 1,
   "metadata": {},
   "outputs": [],
   "source": [
    "###############################################################################\n",
    "# Digits Dataset: Logistische Regression\n",
    "# Sidney Göhler 544131\n",
    "#### IKT (M)\n",
    "# Special Engineering SoSe20\n",
    "# Prof. Dr. Andreas Zeiser\n",
    "###############################################################################\n",
    "# Imports\n",
    "import numpy as np\n",
    "import matplotlib.pyplot as plt\n",
    "from matplotlib import cm\n",
    "import matplotlib.gridspec as gridspec\n",
    "\n",
    "from sklearn.datasets import load_digits\n",
    "\n",
    "from sklearn.model_selection import GridSearchCV, ParameterGrid, train_test_split, StratifiedKFold, learning_curve\n",
    "from sklearn.metrics import classification_report, confusion_matrix, make_scorer, f1_score\n",
    "\n",
    "import time\n",
    "import pandas as pd\n",
    "import tensorflow as tf\n",
    "import seaborn as sns\n",
    "\n",
    "from tensorflow.keras import Sequential\n",
    "from tensorflow.keras import layers\n",
    "from tensorflow.keras import regularizers\n",
    "from tensorflow.keras import activations\n",
    "\n",
    "from tensorflow.keras.wrappers.scikit_learn import KerasClassifier\n",
    "from tensorflow.keras.callbacks import ModelCheckpoint, EarlyStopping #, TensorBoard\n",
    "\n",
    "\n",
    "\n",
    "#from scipy.stats.kde import gaussian_kde\n",
    "from scipy.stats import kde, distributions\n",
    "##########################\n",
    "#import helperfunctions\n",
    "import helper\n",
    "\n",
    "%load_ext autoreload\n",
    "%autoreload 2\n"
   ]
  },
  {
   "cell_type": "code",
   "execution_count": 2,
   "metadata": {},
   "outputs": [
    {
     "data": {
      "text/plain": [
       "'2.3.0-tf'"
      ]
     },
     "execution_count": 2,
     "metadata": {},
     "output_type": "execute_result"
    }
   ],
   "source": [
    "tf.keras.__version__"
   ]
  },
  {
   "cell_type": "code",
   "execution_count": null,
   "metadata": {},
   "outputs": [],
   "source": []
  },
  {
   "cell_type": "code",
   "execution_count": null,
   "metadata": {},
   "outputs": [],
   "source": []
  },
  {
   "cell_type": "code",
   "execution_count": 3,
   "metadata": {},
   "outputs": [],
   "source": [
    "####################\n",
    "# load datasets\n",
    "####################\n",
    "dataset = load_digits()\n",
    "#print(dataset.DESCR, '\\n', '\\n')\n",
    "X = dataset.data\n",
    "y = dataset.target\n",
    "\n",
    "targets = dataset.target_names\n",
    "images = dataset.images\n",
    "\n"
   ]
  },
  {
   "cell_type": "markdown",
   "metadata": {},
   "source": []
  },
  {
   "cell_type": "markdown",
   "metadata": {},
   "source": [
    "### Visualisieren von einzelnen Ziffern\n",
    "Nachdem das Datenset geladen wurde, können vereinzelte Zahlen illustriert werden."
   ]
  },
  {
   "cell_type": "code",
   "execution_count": 15,
   "metadata": {
    "scrolled": true
   },
   "outputs": [
    {
     "name": "stdout",
     "output_type": "stream",
     "text": [
      "digit = 0 at index = 0\n"
     ]
    },
    {
     "data": {
      "image/png": "[encoded data removed]",
      "text/plain": [
       "<Figure size 288x288 with 2 Axes>"
      ]
     },
     "metadata": {
      "needs_background": "light"
     },
     "output_type": "display_data"
    },
    {
     "name": "stdout",
     "output_type": "stream",
     "text": [
      "[[ 0.  0.  5. 13.  9.  1.  0.  0.]\n",
      " [ 0.  0. 13. 15. 10. 15.  5.  0.]\n",
      " [ 0.  3. 15.  2.  0. 11.  8.  0.]\n",
      " [ 0.  4. 12.  0.  0.  8.  8.  0.]\n",
      " [ 0.  5.  8.  0.  0.  9.  8.  0.]\n",
      " [ 0.  4. 11.  0.  1. 12.  7.  0.]\n",
      " [ 0.  2. 14.  5. 10. 12.  0.  0.]\n",
      " [ 0.  0.  6. 13. 10.  0.  0.  0.]]\n",
      "\n",
      "\n",
      "\n",
      "digit = 0 at index = 20\n"
     ]
    },
    {
     "data": {
      "image/png": "[encoded data removed]",
      "text/plain": [
       "<Figure size 288x288 with 2 Axes>"
      ]
     },
     "metadata": {
      "needs_background": "light"
     },
     "output_type": "display_data"
    },
    {
     "name": "stdout",
     "output_type": "stream",
     "text": [
      "[[ 0.  0.  3. 13. 11.  7.  0.  0.]\n",
      " [ 0.  0. 11. 16. 16. 16.  2.  0.]\n",
      " [ 0.  4. 16.  9.  1. 14.  2.  0.]\n",
      " [ 0.  4. 16.  0.  0. 16.  2.  0.]\n",
      " [ 0.  0. 16.  1.  0. 12.  8.  0.]\n",
      " [ 0.  0. 15.  9.  0. 13.  6.  0.]\n",
      " [ 0.  0.  9. 14.  9. 14.  1.  0.]\n",
      " [ 0.  0.  2. 12. 13.  4.  0.  0.]]\n",
      "\n",
      "\n",
      "\n",
      "digit = 8 at index = 500\n"
     ]
    },
    {
     "data": {
      "image/png": "[encoded data removed]",
      "text/plain": [
       "<Figure size 288x288 with 2 Axes>"
      ]
     },
     "metadata": {
      "needs_background": "light"
     },
     "output_type": "display_data"
    },
    {
     "name": "stdout",
     "output_type": "stream",
     "text": [
      "[[ 0.  0.  3. 10. 14.  3.  0.  0.]\n",
      " [ 0.  8. 16. 11. 10. 13.  0.  0.]\n",
      " [ 0.  7. 14.  0.  1. 15.  2.  0.]\n",
      " [ 0.  2. 16.  9. 16. 16.  1.  0.]\n",
      " [ 0.  0. 12. 16. 15. 15.  2.  0.]\n",
      " [ 0.  0. 12. 10.  0.  8.  8.  0.]\n",
      " [ 0.  0.  9. 12.  4.  7. 12.  0.]\n",
      " [ 0.  0.  2. 11. 16. 16.  9.  0.]]\n",
      "\n",
      "\n",
      "\n",
      "digit = 8 at index = 508\n"
     ]
    },
    {
     "data": {
      "image/png": "[encoded data removed]",
      "text/plain": [
       "<Figure size 288x288 with 2 Axes>"
      ]
     },
     "metadata": {
      "needs_background": "light"
     },
     "output_type": "display_data"
    },
    {
     "name": "stdout",
     "output_type": "stream",
     "text": [
      "[[ 0.  0.  6. 10.  9.  4.  0.  0.]\n",
      " [ 0.  0. 14. 10. 16. 16.  1.  0.]\n",
      " [ 0.  4. 15.  1.  9. 16.  0.  0.]\n",
      " [ 0.  3. 16. 16. 16.  8.  0.  0.]\n",
      " [ 0.  0. 12. 14. 16.  5.  0.  0.]\n",
      " [ 0.  0. 12.  1.  9. 12.  0.  0.]\n",
      " [ 0.  0. 16.  6. 14.  9.  0.  0.]\n",
      " [ 0.  0.  8. 12.  6.  1.  0.  0.]]\n",
      "\n",
      "\n",
      "\n",
      "digit = 5 at index = 1700\n"
     ]
    },
    {
     "data": {
      "image/png": "[encoded data removed]",
      "text/plain": [
       "<Figure size 288x288 with 2 Axes>"
      ]
     },
     "metadata": {
      "needs_background": "light"
     },
     "output_type": "display_data"
    },
    {
     "name": "stdout",
     "output_type": "stream",
     "text": [
      "[[ 0.  0.  4.  9. 12. 16.  8.  0.]\n",
      " [ 0.  0. 15. 15.  8.  8.  2.  0.]\n",
      " [ 0.  4. 16. 11.  4.  1.  0.  0.]\n",
      " [ 0.  8. 16. 16. 16. 14.  0.  0.]\n",
      " [ 0.  0. 11.  9.  8. 16.  0.  0.]\n",
      " [ 0.  0.  0.  0.  7. 16.  0.  0.]\n",
      " [ 0.  0.  0.  8. 16. 12.  0.  0.]\n",
      " [ 0.  0.  3. 13.  9.  1.  0.  0.]]\n",
      "\n",
      "\n",
      "\n",
      "digit = 5 at index = 1787\n"
     ]
    },
    {
     "data": {
      "image/png": "[encoded data removed]",
      "text/plain": [
       "<Figure size 288x288 with 2 Axes>"
      ]
     },
     "metadata": {
      "needs_background": "light"
     },
     "output_type": "display_data"
    },
    {
     "name": "stdout",
     "output_type": "stream",
     "text": [
      "[[ 0.  0. 10. 16. 15.  1.  0.  0.]\n",
      " [ 0.  0. 16. 12.  5.  0.  0.  0.]\n",
      " [ 0.  2. 16.  9.  4.  0.  0.  0.]\n",
      " [ 0.  4. 16. 16. 16. 14.  2.  0.]\n",
      " [ 0.  1. 10.  4.  1. 16.  4.  0.]\n",
      " [ 0.  0.  0.  0.  2. 16.  7.  0.]\n",
      " [ 0.  0.  7.  8. 14. 16.  3.  0.]\n",
      " [ 0.  0.  6. 13. 10.  4.  0.  0.]]\n",
      "\n",
      "\n",
      "\n"
     ]
    }
   ],
   "source": [
    "for ind in [0,20,500,508,1700,1787]:\n",
    "    print(f'digit = {y[ind]} at index = {ind}')\n",
    "    plt.matshow(images[ind], cmap = cm.inferno)\n",
    "    plt.colorbar()\n",
    "    plt.show()\n",
    "    print(f'{images[ind]}\\n\\n\\n')"
   ]
  },
  {
   "cell_type": "markdown",
   "metadata": {},
   "source": [
    "Zu sehen ist, dass die selben Ziffern häufig minimale Unterschiede untereinander haben. Die Zeilen 3 und 4 wirken stark frequentiert, hingegen die Spalten 0 und 7 sehr schwach.\n",
    "\n",
    "Anzumerken ist noch, dass die Features des Datensets, aufgrund der Tatsache, dass es sich ausschlißelich um Helligkeitswerte handelt, bereits skaliert sind.\n",
    "Ein erneutes skalieren ist somit nicht unbedingt Notwendig aber dennoch ratsam, da das Gradientenabstiegsverfahren wohl deutlich schneller Konvergiert.\n",
    "https://en.wikipedia.org/wiki/Feature_scaling#cite_note-1"
   ]
  },
  {
   "cell_type": "code",
   "execution_count": 4,
   "metadata": {},
   "outputs": [],
   "source": [
    "#scale to 0...1\n",
    "X = X/16"
   ]
  },
  {
   "cell_type": "code",
   "execution_count": null,
   "metadata": {},
   "outputs": [],
   "source": []
  },
  {
   "cell_type": "markdown",
   "metadata": {
    "scrolled": true
   },
   "source": [
    "Auffälig ist dennoch,wenn man sich den Mittelwert und die Standartabweichung der einzelnen Features anschaut, fällt nochmals auf, dass beide bei drei Features jeweils 0.0 ist, was eigentlich bedeuted, dass es zwischen den einzelnen digits bei diesen Features keine Unterschiede gibt, welche für Verhersagungen genutz werden können.\n",
    "Somit könnten diese drei Features komplett ausgeschlossen werden um ggf. Prozessorzeit oder Speicher zu sparen."
   ]
  },
  {
   "cell_type": "markdown",
   "metadata": {},
   "source": [
    "Anschließend wird das Datenset in Trainingsdate, Testdaten und Validierungsdaten aufgeteilt."
   ]
  },
  {
   "cell_type": "code",
   "execution_count": 5,
   "metadata": {},
   "outputs": [
    {
     "name": "stdout",
     "output_type": "stream",
     "text": [
      "trainset  (1078, 64) (1078,) \n",
      "testset  (359, 64) (359,) \n",
      "validationset  (360, 64) (360,)\n"
     ]
    }
   ],
   "source": [
    "####################\n",
    "# split dataset (60:20:20)\n",
    "####################\n",
    "\n",
    "\n",
    "X_train, X_test, y_train, y_test = train_test_split(X, y, test_size=0.40, random_state=42)\n",
    "X_test, X_val, y_test, y_val = train_test_split(X_test, y_test, test_size=0.50, random_state=42)\n",
    "\n",
    "print('trainset ',np.shape(X_train),np.shape(y_train),\n",
    "      '\\ntestset ', np.shape(X_test),np.shape(y_test),\n",
    "      '\\nvalidationset ',np.shape(X_val),np.shape(y_val))"
   ]
  },
  {
   "cell_type": "code",
   "execution_count": 6,
   "metadata": {},
   "outputs": [
    {
     "name": "stderr",
     "output_type": "stream",
     "text": [
      "D:\\Documents\\Uni\\!code\\git\\python\\ann\\helper.py:37: UserWarning: In Matplotlib 3.3 individual lines on a stem plot will be added as a LineCollection instead of individual lines. This significantly improves the performance of a stem plot. To remove this warning and switch to the new behaviour, set the \"use_line_collection\" keyword argument to True.\n",
      "  ax2.stem([0],[0.1], '-.')\n"
     ]
    },
    {
     "data": {
      "image/png": "[encoded data removed]",
      "text/plain": [
       "<Figure size 1152x432 with 2 Axes>"
      ]
     },
     "metadata": {
      "needs_background": "light"
     },
     "output_type": "display_data"
    }
   ],
   "source": [
    "\n",
    "helper.plotactivationfunctions()\n"
   ]
  },
  {
   "cell_type": "markdown",
   "metadata": {},
   "source": [
    "Lineare Aktivierungsfunktionen unterliegen einer starken Beschränkung, da eine Komposition linearer Funktionen durch arithmetische Umformungen durch eine einzige lineare Funktion dargestellt werden kann. Für mehrschichtige Verbindungsnetzwerke sind sie deswegen nicht geeignet und finden so nur in einfachen Modellen Anwendung. "
   ]
  },
  {
   "cell_type": "code",
   "execution_count": null,
   "metadata": {},
   "outputs": [],
   "source": []
  },
  {
   "cell_type": "code",
   "execution_count": 88,
   "metadata": {},
   "outputs": [],
   "source": [
    "#https://keras.io/api/layers/regularizers/\n",
    "#https://keras.io/api/layers/normalization_layers/batch_normalization/\n",
    "#https://keras.io/api/layers/regularization_layers/dropout/\n",
    "#https://machinelearningmastery.com/dropout-regularization-deep-learning-models-keras/\n",
    "#https://keras.io/api/layers/regularization_layers/activity_regularization/\n",
    "#https://keras.io/api/layers/core_layers/activation/\n",
    "\n",
    "def create_model(n_hidden_layer=1, n_neurons_per_layer=32, learning_rate=5e-4, momentum=0.9, dropout=0.2, optimizer=\"SGD\"):\n",
    "    model = Sequential()\n",
    "    #inputlayer\n",
    "    model.add(layers.Dense(64, activation='relu', input_shape=(64,)))\n",
    "    \n",
    "    #hiddenlayer\n",
    "    for lay in range(n_hidden_layer):\n",
    "        model.add(layers.BatchNormalization(momentum=momentum))\n",
    "        model.add(layers.Dropout(dropout))\n",
    "        model.add(layers.Dense(n_neurons_per_layer, activation='relu', activity_regularizer=regularizers.l2(learning_rate)))\n",
    "    \n",
    "    #outpulayer\n",
    "    model.add(layers.BatchNormalization(momentum=momentum))\n",
    "    model.add(layers.Dense(10, activation='softmax'))\n",
    "    \n",
    "    model.compile(loss=\"sparse_categorical_crossentropy\",\n",
    "             optimizer=optimizer,\n",
    "             metrics=[\"accuracy\"])\n",
    "\n",
    "    \n",
    "    return model\n",
    "\n",
    "\n",
    "model_path = \"!digit_classifier_{}.h5\".format(time.time())\n",
    "#model_path = \"!digit_classifier_1572964918.600015.h5\"\n",
    "\n",
    "#learning_rate = 5e-3\n",
    "nb_epoch = 1000\n",
    "nb_batches = 10\n",
    "#https://datascience.stackexchange.com/questions/12532/does-batch-size-in-keras-have-any-effects-in-results-quality\n",
    "\n",
    "\n",
    "\n",
    "nb_batch_size = round(len(X_train) / nb_batches)\n",
    "\n",
    "\n",
    "checkpointer = ModelCheckpoint(filepath=model_path,\n",
    "                               verbose=0,\n",
    "                               save_best_only=True)\n",
    "\n",
    "early_stopping = EarlyStopping(patience=30,\n",
    "                               verbose=0,\n",
    "                               restore_best_weights=True)\n",
    "\n"
   ]
  },
  {
   "cell_type": "code",
   "execution_count": 87,
   "metadata": {},
   "outputs": [
    {
     "data": {
      "text/plain": [
       "108"
      ]
     },
     "execution_count": 87,
     "metadata": {},
     "output_type": "execute_result"
    }
   ],
   "source": [
    "round(len(X_train) / 10)"
   ]
  },
  {
   "cell_type": "code",
   "execution_count": null,
   "metadata": {},
   "outputs": [],
   "source": []
  },
  {
   "cell_type": "code",
   "execution_count": 26,
   "metadata": {
    "scrolled": true
   },
   "outputs": [
    {
     "name": "stdout",
     "output_type": "stream",
     "text": [
      "Fitting 3 folds for each of 60 candidates, totalling 180 fits\n",
      "[CV] dropout=0.1, learning_rate=0.0005, momentum=0.999, n_hidden_layer=3, n_neurons_per_layer=180 \n"
     ]
    },
    {
     "name": "stderr",
     "output_type": "stream",
     "text": [
      "[Parallel(n_jobs=1)]: Using backend SequentialBackend with 1 concurrent workers.\n"
     ]
    },
    {
     "ename": "KeyboardInterrupt",
     "evalue": "",
     "output_type": "error",
     "traceback": [
      "\u001b[1;31m---------------------------------------------------------------------------\u001b[0m",
      "\u001b[1;31mKeyboardInterrupt\u001b[0m                         Traceback (most recent call last)",
      "\u001b[1;32m<ipython-input-26-6106b3402fda>\u001b[0m in \u001b[0;36m<module>\u001b[1;34m\u001b[0m\n\u001b[0;32m     28\u001b[0m                     \u001b[0mvalidation_data\u001b[0m\u001b[1;33m=\u001b[0m\u001b[1;33m(\u001b[0m\u001b[0mX_val\u001b[0m\u001b[1;33m,\u001b[0m \u001b[0my_val\u001b[0m\u001b[1;33m)\u001b[0m\u001b[1;33m,\u001b[0m\u001b[1;33m\u001b[0m\u001b[0m\n\u001b[0;32m     29\u001b[0m                     \u001b[0mverbose\u001b[0m\u001b[1;33m=\u001b[0m\u001b[1;36m0\u001b[0m\u001b[1;33m,\u001b[0m\u001b[1;33m\u001b[0m\u001b[0m\n\u001b[1;32m---> 30\u001b[1;33m                     callbacks=[checkpointer, early_stopping])\n\u001b[0m",
      "\u001b[1;32mc:\\users\\crazy\\appdata\\local\\programs\\python\\python37\\lib\\site-packages\\sklearn\\model_selection\\_search.py\u001b[0m in \u001b[0;36mfit\u001b[1;34m(self, X, y, groups, **fit_params)\u001b[0m\n\u001b[0;32m    708\u001b[0m                 \u001b[1;32mreturn\u001b[0m \u001b[0mresults\u001b[0m\u001b[1;33m\u001b[0m\u001b[0m\n\u001b[0;32m    709\u001b[0m \u001b[1;33m\u001b[0m\u001b[0m\n\u001b[1;32m--> 710\u001b[1;33m             \u001b[0mself\u001b[0m\u001b[1;33m.\u001b[0m\u001b[0m_run_search\u001b[0m\u001b[1;33m(\u001b[0m\u001b[0mevaluate_candidates\u001b[0m\u001b[1;33m)\u001b[0m\u001b[1;33m\u001b[0m\u001b[0m\n\u001b[0m\u001b[0;32m    711\u001b[0m \u001b[1;33m\u001b[0m\u001b[0m\n\u001b[0;32m    712\u001b[0m         \u001b[1;31m# For multi-metric evaluation, store the best_index_, best_params_ and\u001b[0m\u001b[1;33m\u001b[0m\u001b[1;33m\u001b[0m\u001b[0m\n",
      "\u001b[1;32mc:\\users\\crazy\\appdata\\local\\programs\\python\\python37\\lib\\site-packages\\sklearn\\model_selection\\_search.py\u001b[0m in \u001b[0;36m_run_search\u001b[1;34m(self, evaluate_candidates)\u001b[0m\n\u001b[0;32m   1149\u001b[0m     \u001b[1;32mdef\u001b[0m \u001b[0m_run_search\u001b[0m\u001b[1;33m(\u001b[0m\u001b[0mself\u001b[0m\u001b[1;33m,\u001b[0m \u001b[0mevaluate_candidates\u001b[0m\u001b[1;33m)\u001b[0m\u001b[1;33m:\u001b[0m\u001b[1;33m\u001b[0m\u001b[0m\n\u001b[0;32m   1150\u001b[0m         \u001b[1;34m\"\"\"Search all candidates in param_grid\"\"\"\u001b[0m\u001b[1;33m\u001b[0m\u001b[0m\n\u001b[1;32m-> 1151\u001b[1;33m         \u001b[0mevaluate_candidates\u001b[0m\u001b[1;33m(\u001b[0m\u001b[0mParameterGrid\u001b[0m\u001b[1;33m(\u001b[0m\u001b[0mself\u001b[0m\u001b[1;33m.\u001b[0m\u001b[0mparam_grid\u001b[0m\u001b[1;33m)\u001b[0m\u001b[1;33m)\u001b[0m\u001b[1;33m\u001b[0m\u001b[0m\n\u001b[0m\u001b[0;32m   1152\u001b[0m \u001b[1;33m\u001b[0m\u001b[0m\n\u001b[0;32m   1153\u001b[0m \u001b[1;33m\u001b[0m\u001b[0m\n",
      "\u001b[1;32mc:\\users\\crazy\\appdata\\local\\programs\\python\\python37\\lib\\site-packages\\sklearn\\model_selection\\_search.py\u001b[0m in \u001b[0;36mevaluate_candidates\u001b[1;34m(candidate_params)\u001b[0m\n\u001b[0;32m    687\u001b[0m                                \u001b[1;32mfor\u001b[0m \u001b[0mparameters\u001b[0m\u001b[1;33m,\u001b[0m \u001b[1;33m(\u001b[0m\u001b[0mtrain\u001b[0m\u001b[1;33m,\u001b[0m \u001b[0mtest\u001b[0m\u001b[1;33m)\u001b[0m\u001b[1;33m\u001b[0m\u001b[0m\n\u001b[0;32m    688\u001b[0m                                in product(candidate_params,\n\u001b[1;32m--> 689\u001b[1;33m                                           cv.split(X, y, groups)))\n\u001b[0m\u001b[0;32m    690\u001b[0m \u001b[1;33m\u001b[0m\u001b[0m\n\u001b[0;32m    691\u001b[0m                 \u001b[1;32mif\u001b[0m \u001b[0mlen\u001b[0m\u001b[1;33m(\u001b[0m\u001b[0mout\u001b[0m\u001b[1;33m)\u001b[0m \u001b[1;33m<\u001b[0m \u001b[1;36m1\u001b[0m\u001b[1;33m:\u001b[0m\u001b[1;33m\u001b[0m\u001b[0m\n",
      "\u001b[1;32mc:\\users\\crazy\\appdata\\local\\programs\\python\\python37\\lib\\site-packages\\joblib\\parallel.py\u001b[0m in \u001b[0;36m__call__\u001b[1;34m(self, iterable)\u001b[0m\n\u001b[0;32m   1002\u001b[0m             \u001b[1;31m# remaining jobs.\u001b[0m\u001b[1;33m\u001b[0m\u001b[1;33m\u001b[0m\u001b[0m\n\u001b[0;32m   1003\u001b[0m             \u001b[0mself\u001b[0m\u001b[1;33m.\u001b[0m\u001b[0m_iterating\u001b[0m \u001b[1;33m=\u001b[0m \u001b[1;32mFalse\u001b[0m\u001b[1;33m\u001b[0m\u001b[0m\n\u001b[1;32m-> 1004\u001b[1;33m             \u001b[1;32mif\u001b[0m \u001b[0mself\u001b[0m\u001b[1;33m.\u001b[0m\u001b[0mdispatch_one_batch\u001b[0m\u001b[1;33m(\u001b[0m\u001b[0miterator\u001b[0m\u001b[1;33m)\u001b[0m\u001b[1;33m:\u001b[0m\u001b[1;33m\u001b[0m\u001b[0m\n\u001b[0m\u001b[0;32m   1005\u001b[0m                 \u001b[0mself\u001b[0m\u001b[1;33m.\u001b[0m\u001b[0m_iterating\u001b[0m \u001b[1;33m=\u001b[0m \u001b[0mself\u001b[0m\u001b[1;33m.\u001b[0m\u001b[0m_original_iterator\u001b[0m \u001b[1;32mis\u001b[0m \u001b[1;32mnot\u001b[0m \u001b[1;32mNone\u001b[0m\u001b[1;33m\u001b[0m\u001b[0m\n\u001b[0;32m   1006\u001b[0m \u001b[1;33m\u001b[0m\u001b[0m\n",
      "\u001b[1;32mc:\\users\\crazy\\appdata\\local\\programs\\python\\python37\\lib\\site-packages\\joblib\\parallel.py\u001b[0m in \u001b[0;36mdispatch_one_batch\u001b[1;34m(self, iterator)\u001b[0m\n\u001b[0;32m    833\u001b[0m                 \u001b[1;32mreturn\u001b[0m \u001b[1;32mFalse\u001b[0m\u001b[1;33m\u001b[0m\u001b[0m\n\u001b[0;32m    834\u001b[0m             \u001b[1;32melse\u001b[0m\u001b[1;33m:\u001b[0m\u001b[1;33m\u001b[0m\u001b[0m\n\u001b[1;32m--> 835\u001b[1;33m                 \u001b[0mself\u001b[0m\u001b[1;33m.\u001b[0m\u001b[0m_dispatch\u001b[0m\u001b[1;33m(\u001b[0m\u001b[0mtasks\u001b[0m\u001b[1;33m)\u001b[0m\u001b[1;33m\u001b[0m\u001b[0m\n\u001b[0m\u001b[0;32m    836\u001b[0m                 \u001b[1;32mreturn\u001b[0m \u001b[1;32mTrue\u001b[0m\u001b[1;33m\u001b[0m\u001b[0m\n\u001b[0;32m    837\u001b[0m \u001b[1;33m\u001b[0m\u001b[0m\n",
      "\u001b[1;32mc:\\users\\crazy\\appdata\\local\\programs\\python\\python37\\lib\\site-packages\\joblib\\parallel.py\u001b[0m in \u001b[0;36m_dispatch\u001b[1;34m(self, batch)\u001b[0m\n\u001b[0;32m    752\u001b[0m         \u001b[1;32mwith\u001b[0m \u001b[0mself\u001b[0m\u001b[1;33m.\u001b[0m\u001b[0m_lock\u001b[0m\u001b[1;33m:\u001b[0m\u001b[1;33m\u001b[0m\u001b[0m\n\u001b[0;32m    753\u001b[0m             \u001b[0mjob_idx\u001b[0m \u001b[1;33m=\u001b[0m \u001b[0mlen\u001b[0m\u001b[1;33m(\u001b[0m\u001b[0mself\u001b[0m\u001b[1;33m.\u001b[0m\u001b[0m_jobs\u001b[0m\u001b[1;33m)\u001b[0m\u001b[1;33m\u001b[0m\u001b[0m\n\u001b[1;32m--> 754\u001b[1;33m             \u001b[0mjob\u001b[0m \u001b[1;33m=\u001b[0m \u001b[0mself\u001b[0m\u001b[1;33m.\u001b[0m\u001b[0m_backend\u001b[0m\u001b[1;33m.\u001b[0m\u001b[0mapply_async\u001b[0m\u001b[1;33m(\u001b[0m\u001b[0mbatch\u001b[0m\u001b[1;33m,\u001b[0m \u001b[0mcallback\u001b[0m\u001b[1;33m=\u001b[0m\u001b[0mcb\u001b[0m\u001b[1;33m)\u001b[0m\u001b[1;33m\u001b[0m\u001b[0m\n\u001b[0m\u001b[0;32m    755\u001b[0m             \u001b[1;31m# A job can complete so quickly than its callback is\u001b[0m\u001b[1;33m\u001b[0m\u001b[1;33m\u001b[0m\u001b[0m\n\u001b[0;32m    756\u001b[0m             \u001b[1;31m# called before we get here, causing self._jobs to\u001b[0m\u001b[1;33m\u001b[0m\u001b[1;33m\u001b[0m\u001b[0m\n",
      "\u001b[1;32mc:\\users\\crazy\\appdata\\local\\programs\\python\\python37\\lib\\site-packages\\joblib\\_parallel_backends.py\u001b[0m in \u001b[0;36mapply_async\u001b[1;34m(self, func, callback)\u001b[0m\n\u001b[0;32m    207\u001b[0m     \u001b[1;32mdef\u001b[0m \u001b[0mapply_async\u001b[0m\u001b[1;33m(\u001b[0m\u001b[0mself\u001b[0m\u001b[1;33m,\u001b[0m \u001b[0mfunc\u001b[0m\u001b[1;33m,\u001b[0m \u001b[0mcallback\u001b[0m\u001b[1;33m=\u001b[0m\u001b[1;32mNone\u001b[0m\u001b[1;33m)\u001b[0m\u001b[1;33m:\u001b[0m\u001b[1;33m\u001b[0m\u001b[0m\n\u001b[0;32m    208\u001b[0m         \u001b[1;34m\"\"\"Schedule a func to be run\"\"\"\u001b[0m\u001b[1;33m\u001b[0m\u001b[0m\n\u001b[1;32m--> 209\u001b[1;33m         \u001b[0mresult\u001b[0m \u001b[1;33m=\u001b[0m \u001b[0mImmediateResult\u001b[0m\u001b[1;33m(\u001b[0m\u001b[0mfunc\u001b[0m\u001b[1;33m)\u001b[0m\u001b[1;33m\u001b[0m\u001b[0m\n\u001b[0m\u001b[0;32m    210\u001b[0m         \u001b[1;32mif\u001b[0m \u001b[0mcallback\u001b[0m\u001b[1;33m:\u001b[0m\u001b[1;33m\u001b[0m\u001b[0m\n\u001b[0;32m    211\u001b[0m             \u001b[0mcallback\u001b[0m\u001b[1;33m(\u001b[0m\u001b[0mresult\u001b[0m\u001b[1;33m)\u001b[0m\u001b[1;33m\u001b[0m\u001b[0m\n",
      "\u001b[1;32mc:\\users\\crazy\\appdata\\local\\programs\\python\\python37\\lib\\site-packages\\joblib\\_parallel_backends.py\u001b[0m in \u001b[0;36m__init__\u001b[1;34m(self, batch)\u001b[0m\n\u001b[0;32m    588\u001b[0m         \u001b[1;31m# Don't delay the application, to avoid keeping the input\u001b[0m\u001b[1;33m\u001b[0m\u001b[1;33m\u001b[0m\u001b[0m\n\u001b[0;32m    589\u001b[0m         \u001b[1;31m# arguments in memory\u001b[0m\u001b[1;33m\u001b[0m\u001b[1;33m\u001b[0m\u001b[0m\n\u001b[1;32m--> 590\u001b[1;33m         \u001b[0mself\u001b[0m\u001b[1;33m.\u001b[0m\u001b[0mresults\u001b[0m \u001b[1;33m=\u001b[0m \u001b[0mbatch\u001b[0m\u001b[1;33m(\u001b[0m\u001b[1;33m)\u001b[0m\u001b[1;33m\u001b[0m\u001b[0m\n\u001b[0m\u001b[0;32m    591\u001b[0m \u001b[1;33m\u001b[0m\u001b[0m\n\u001b[0;32m    592\u001b[0m     \u001b[1;32mdef\u001b[0m \u001b[0mget\u001b[0m\u001b[1;33m(\u001b[0m\u001b[0mself\u001b[0m\u001b[1;33m)\u001b[0m\u001b[1;33m:\u001b[0m\u001b[1;33m\u001b[0m\u001b[0m\n",
      "\u001b[1;32mc:\\users\\crazy\\appdata\\local\\programs\\python\\python37\\lib\\site-packages\\joblib\\parallel.py\u001b[0m in \u001b[0;36m__call__\u001b[1;34m(self)\u001b[0m\n\u001b[0;32m    254\u001b[0m         \u001b[1;32mwith\u001b[0m \u001b[0mparallel_backend\u001b[0m\u001b[1;33m(\u001b[0m\u001b[0mself\u001b[0m\u001b[1;33m.\u001b[0m\u001b[0m_backend\u001b[0m\u001b[1;33m,\u001b[0m \u001b[0mn_jobs\u001b[0m\u001b[1;33m=\u001b[0m\u001b[0mself\u001b[0m\u001b[1;33m.\u001b[0m\u001b[0m_n_jobs\u001b[0m\u001b[1;33m)\u001b[0m\u001b[1;33m:\u001b[0m\u001b[1;33m\u001b[0m\u001b[0m\n\u001b[0;32m    255\u001b[0m             return [func(*args, **kwargs)\n\u001b[1;32m--> 256\u001b[1;33m                     for func, args, kwargs in self.items]\n\u001b[0m\u001b[0;32m    257\u001b[0m \u001b[1;33m\u001b[0m\u001b[0m\n\u001b[0;32m    258\u001b[0m     \u001b[1;32mdef\u001b[0m \u001b[0m__len__\u001b[0m\u001b[1;33m(\u001b[0m\u001b[0mself\u001b[0m\u001b[1;33m)\u001b[0m\u001b[1;33m:\u001b[0m\u001b[1;33m\u001b[0m\u001b[0m\n",
      "\u001b[1;32mc:\\users\\crazy\\appdata\\local\\programs\\python\\python37\\lib\\site-packages\\joblib\\parallel.py\u001b[0m in \u001b[0;36m<listcomp>\u001b[1;34m(.0)\u001b[0m\n\u001b[0;32m    254\u001b[0m         \u001b[1;32mwith\u001b[0m \u001b[0mparallel_backend\u001b[0m\u001b[1;33m(\u001b[0m\u001b[0mself\u001b[0m\u001b[1;33m.\u001b[0m\u001b[0m_backend\u001b[0m\u001b[1;33m,\u001b[0m \u001b[0mn_jobs\u001b[0m\u001b[1;33m=\u001b[0m\u001b[0mself\u001b[0m\u001b[1;33m.\u001b[0m\u001b[0m_n_jobs\u001b[0m\u001b[1;33m)\u001b[0m\u001b[1;33m:\u001b[0m\u001b[1;33m\u001b[0m\u001b[0m\n\u001b[0;32m    255\u001b[0m             return [func(*args, **kwargs)\n\u001b[1;32m--> 256\u001b[1;33m                     for func, args, kwargs in self.items]\n\u001b[0m\u001b[0;32m    257\u001b[0m \u001b[1;33m\u001b[0m\u001b[0m\n\u001b[0;32m    258\u001b[0m     \u001b[1;32mdef\u001b[0m \u001b[0m__len__\u001b[0m\u001b[1;33m(\u001b[0m\u001b[0mself\u001b[0m\u001b[1;33m)\u001b[0m\u001b[1;33m:\u001b[0m\u001b[1;33m\u001b[0m\u001b[0m\n",
      "\u001b[1;32mc:\\users\\crazy\\appdata\\local\\programs\\python\\python37\\lib\\site-packages\\sklearn\\model_selection\\_validation.py\u001b[0m in \u001b[0;36m_fit_and_score\u001b[1;34m(estimator, X, y, scorer, train, test, verbose, parameters, fit_params, return_train_score, return_parameters, return_n_test_samples, return_times, return_estimator, error_score)\u001b[0m\n\u001b[0;32m    513\u001b[0m             \u001b[0mestimator\u001b[0m\u001b[1;33m.\u001b[0m\u001b[0mfit\u001b[0m\u001b[1;33m(\u001b[0m\u001b[0mX_train\u001b[0m\u001b[1;33m,\u001b[0m \u001b[1;33m**\u001b[0m\u001b[0mfit_params\u001b[0m\u001b[1;33m)\u001b[0m\u001b[1;33m\u001b[0m\u001b[0m\n\u001b[0;32m    514\u001b[0m         \u001b[1;32melse\u001b[0m\u001b[1;33m:\u001b[0m\u001b[1;33m\u001b[0m\u001b[0m\n\u001b[1;32m--> 515\u001b[1;33m             \u001b[0mestimator\u001b[0m\u001b[1;33m.\u001b[0m\u001b[0mfit\u001b[0m\u001b[1;33m(\u001b[0m\u001b[0mX_train\u001b[0m\u001b[1;33m,\u001b[0m \u001b[0my_train\u001b[0m\u001b[1;33m,\u001b[0m \u001b[1;33m**\u001b[0m\u001b[0mfit_params\u001b[0m\u001b[1;33m)\u001b[0m\u001b[1;33m\u001b[0m\u001b[0m\n\u001b[0m\u001b[0;32m    516\u001b[0m \u001b[1;33m\u001b[0m\u001b[0m\n\u001b[0;32m    517\u001b[0m     \u001b[1;32mexcept\u001b[0m \u001b[0mException\u001b[0m \u001b[1;32mas\u001b[0m \u001b[0me\u001b[0m\u001b[1;33m:\u001b[0m\u001b[1;33m\u001b[0m\u001b[0m\n",
      "\u001b[1;32mc:\\users\\crazy\\appdata\\local\\programs\\python\\python37\\lib\\site-packages\\tensorflow\\python\\keras\\wrappers\\scikit_learn.py\u001b[0m in \u001b[0;36mfit\u001b[1;34m(self, x, y, **kwargs)\u001b[0m\n\u001b[0;32m    221\u001b[0m       \u001b[1;32mraise\u001b[0m \u001b[0mValueError\u001b[0m\u001b[1;33m(\u001b[0m\u001b[1;34m'Invalid shape for y: '\u001b[0m \u001b[1;33m+\u001b[0m \u001b[0mstr\u001b[0m\u001b[1;33m(\u001b[0m\u001b[0my\u001b[0m\u001b[1;33m.\u001b[0m\u001b[0mshape\u001b[0m\u001b[1;33m)\u001b[0m\u001b[1;33m)\u001b[0m\u001b[1;33m\u001b[0m\u001b[0m\n\u001b[0;32m    222\u001b[0m     \u001b[0mself\u001b[0m\u001b[1;33m.\u001b[0m\u001b[0mn_classes_\u001b[0m \u001b[1;33m=\u001b[0m \u001b[0mlen\u001b[0m\u001b[1;33m(\u001b[0m\u001b[0mself\u001b[0m\u001b[1;33m.\u001b[0m\u001b[0mclasses_\u001b[0m\u001b[1;33m)\u001b[0m\u001b[1;33m\u001b[0m\u001b[0m\n\u001b[1;32m--> 223\u001b[1;33m     \u001b[1;32mreturn\u001b[0m \u001b[0msuper\u001b[0m\u001b[1;33m(\u001b[0m\u001b[0mKerasClassifier\u001b[0m\u001b[1;33m,\u001b[0m \u001b[0mself\u001b[0m\u001b[1;33m)\u001b[0m\u001b[1;33m.\u001b[0m\u001b[0mfit\u001b[0m\u001b[1;33m(\u001b[0m\u001b[0mx\u001b[0m\u001b[1;33m,\u001b[0m \u001b[0my\u001b[0m\u001b[1;33m,\u001b[0m \u001b[1;33m**\u001b[0m\u001b[0mkwargs\u001b[0m\u001b[1;33m)\u001b[0m\u001b[1;33m\u001b[0m\u001b[0m\n\u001b[0m\u001b[0;32m    224\u001b[0m \u001b[1;33m\u001b[0m\u001b[0m\n\u001b[0;32m    225\u001b[0m   \u001b[1;32mdef\u001b[0m \u001b[0mpredict\u001b[0m\u001b[1;33m(\u001b[0m\u001b[0mself\u001b[0m\u001b[1;33m,\u001b[0m \u001b[0mx\u001b[0m\u001b[1;33m,\u001b[0m \u001b[1;33m**\u001b[0m\u001b[0mkwargs\u001b[0m\u001b[1;33m)\u001b[0m\u001b[1;33m:\u001b[0m\u001b[1;33m\u001b[0m\u001b[0m\n",
      "\u001b[1;32mc:\\users\\crazy\\appdata\\local\\programs\\python\\python37\\lib\\site-packages\\tensorflow\\python\\keras\\wrappers\\scikit_learn.py\u001b[0m in \u001b[0;36mfit\u001b[1;34m(self, x, y, **kwargs)\u001b[0m\n\u001b[0;32m    164\u001b[0m     \u001b[0mfit_args\u001b[0m\u001b[1;33m.\u001b[0m\u001b[0mupdate\u001b[0m\u001b[1;33m(\u001b[0m\u001b[0mkwargs\u001b[0m\u001b[1;33m)\u001b[0m\u001b[1;33m\u001b[0m\u001b[0m\n\u001b[0;32m    165\u001b[0m \u001b[1;33m\u001b[0m\u001b[0m\n\u001b[1;32m--> 166\u001b[1;33m     \u001b[0mhistory\u001b[0m \u001b[1;33m=\u001b[0m \u001b[0mself\u001b[0m\u001b[1;33m.\u001b[0m\u001b[0mmodel\u001b[0m\u001b[1;33m.\u001b[0m\u001b[0mfit\u001b[0m\u001b[1;33m(\u001b[0m\u001b[0mx\u001b[0m\u001b[1;33m,\u001b[0m \u001b[0my\u001b[0m\u001b[1;33m,\u001b[0m \u001b[1;33m**\u001b[0m\u001b[0mfit_args\u001b[0m\u001b[1;33m)\u001b[0m\u001b[1;33m\u001b[0m\u001b[0m\n\u001b[0m\u001b[0;32m    167\u001b[0m \u001b[1;33m\u001b[0m\u001b[0m\n\u001b[0;32m    168\u001b[0m     \u001b[1;32mreturn\u001b[0m \u001b[0mhistory\u001b[0m\u001b[1;33m\u001b[0m\u001b[0m\n",
      "\u001b[1;32mc:\\users\\crazy\\appdata\\local\\programs\\python\\python37\\lib\\site-packages\\tensorflow\\python\\keras\\engine\\training.py\u001b[0m in \u001b[0;36m_method_wrapper\u001b[1;34m(self, *args, **kwargs)\u001b[0m\n\u001b[0;32m     64\u001b[0m   \u001b[1;32mdef\u001b[0m \u001b[0m_method_wrapper\u001b[0m\u001b[1;33m(\u001b[0m\u001b[0mself\u001b[0m\u001b[1;33m,\u001b[0m \u001b[1;33m*\u001b[0m\u001b[0margs\u001b[0m\u001b[1;33m,\u001b[0m \u001b[1;33m**\u001b[0m\u001b[0mkwargs\u001b[0m\u001b[1;33m)\u001b[0m\u001b[1;33m:\u001b[0m\u001b[1;33m\u001b[0m\u001b[0m\n\u001b[0;32m     65\u001b[0m     \u001b[1;32mif\u001b[0m \u001b[1;32mnot\u001b[0m \u001b[0mself\u001b[0m\u001b[1;33m.\u001b[0m\u001b[0m_in_multi_worker_mode\u001b[0m\u001b[1;33m(\u001b[0m\u001b[1;33m)\u001b[0m\u001b[1;33m:\u001b[0m  \u001b[1;31m# pylint: disable=protected-access\u001b[0m\u001b[1;33m\u001b[0m\u001b[0m\n\u001b[1;32m---> 66\u001b[1;33m       \u001b[1;32mreturn\u001b[0m \u001b[0mmethod\u001b[0m\u001b[1;33m(\u001b[0m\u001b[0mself\u001b[0m\u001b[1;33m,\u001b[0m \u001b[1;33m*\u001b[0m\u001b[0margs\u001b[0m\u001b[1;33m,\u001b[0m \u001b[1;33m**\u001b[0m\u001b[0mkwargs\u001b[0m\u001b[1;33m)\u001b[0m\u001b[1;33m\u001b[0m\u001b[0m\n\u001b[0m\u001b[0;32m     67\u001b[0m \u001b[1;33m\u001b[0m\u001b[0m\n\u001b[0;32m     68\u001b[0m     \u001b[1;31m# Running inside `run_distribute_coordinator` already.\u001b[0m\u001b[1;33m\u001b[0m\u001b[1;33m\u001b[0m\u001b[0m\n",
      "\u001b[1;32mc:\\users\\crazy\\appdata\\local\\programs\\python\\python37\\lib\\site-packages\\tensorflow\\python\\keras\\engine\\training.py\u001b[0m in \u001b[0;36mfit\u001b[1;34m(self, x, y, batch_size, epochs, verbose, callbacks, validation_split, validation_data, shuffle, class_weight, sample_weight, initial_epoch, steps_per_epoch, validation_steps, validation_batch_size, validation_freq, max_queue_size, workers, use_multiprocessing)\u001b[0m\n\u001b[0;32m    870\u001b[0m               \u001b[0mworkers\u001b[0m\u001b[1;33m=\u001b[0m\u001b[0mworkers\u001b[0m\u001b[1;33m,\u001b[0m\u001b[1;33m\u001b[0m\u001b[0m\n\u001b[0;32m    871\u001b[0m               \u001b[0muse_multiprocessing\u001b[0m\u001b[1;33m=\u001b[0m\u001b[0muse_multiprocessing\u001b[0m\u001b[1;33m,\u001b[0m\u001b[1;33m\u001b[0m\u001b[0m\n\u001b[1;32m--> 872\u001b[1;33m               return_dict=True)\n\u001b[0m\u001b[0;32m    873\u001b[0m           \u001b[0mval_logs\u001b[0m \u001b[1;33m=\u001b[0m \u001b[1;33m{\u001b[0m\u001b[1;34m'val_'\u001b[0m \u001b[1;33m+\u001b[0m \u001b[0mname\u001b[0m\u001b[1;33m:\u001b[0m \u001b[0mval\u001b[0m \u001b[1;32mfor\u001b[0m \u001b[0mname\u001b[0m\u001b[1;33m,\u001b[0m \u001b[0mval\u001b[0m \u001b[1;32min\u001b[0m \u001b[0mval_logs\u001b[0m\u001b[1;33m.\u001b[0m\u001b[0mitems\u001b[0m\u001b[1;33m(\u001b[0m\u001b[1;33m)\u001b[0m\u001b[1;33m}\u001b[0m\u001b[1;33m\u001b[0m\u001b[0m\n\u001b[0;32m    874\u001b[0m           \u001b[0mepoch_logs\u001b[0m\u001b[1;33m.\u001b[0m\u001b[0mupdate\u001b[0m\u001b[1;33m(\u001b[0m\u001b[0mval_logs\u001b[0m\u001b[1;33m)\u001b[0m\u001b[1;33m\u001b[0m\u001b[0m\n",
      "\u001b[1;32mc:\\users\\crazy\\appdata\\local\\programs\\python\\python37\\lib\\site-packages\\tensorflow\\python\\keras\\engine\\training.py\u001b[0m in \u001b[0;36m_method_wrapper\u001b[1;34m(self, *args, **kwargs)\u001b[0m\n\u001b[0;32m     64\u001b[0m   \u001b[1;32mdef\u001b[0m \u001b[0m_method_wrapper\u001b[0m\u001b[1;33m(\u001b[0m\u001b[0mself\u001b[0m\u001b[1;33m,\u001b[0m \u001b[1;33m*\u001b[0m\u001b[0margs\u001b[0m\u001b[1;33m,\u001b[0m \u001b[1;33m**\u001b[0m\u001b[0mkwargs\u001b[0m\u001b[1;33m)\u001b[0m\u001b[1;33m:\u001b[0m\u001b[1;33m\u001b[0m\u001b[0m\n\u001b[0;32m     65\u001b[0m     \u001b[1;32mif\u001b[0m \u001b[1;32mnot\u001b[0m \u001b[0mself\u001b[0m\u001b[1;33m.\u001b[0m\u001b[0m_in_multi_worker_mode\u001b[0m\u001b[1;33m(\u001b[0m\u001b[1;33m)\u001b[0m\u001b[1;33m:\u001b[0m  \u001b[1;31m# pylint: disable=protected-access\u001b[0m\u001b[1;33m\u001b[0m\u001b[0m\n\u001b[1;32m---> 66\u001b[1;33m       \u001b[1;32mreturn\u001b[0m \u001b[0mmethod\u001b[0m\u001b[1;33m(\u001b[0m\u001b[0mself\u001b[0m\u001b[1;33m,\u001b[0m \u001b[1;33m*\u001b[0m\u001b[0margs\u001b[0m\u001b[1;33m,\u001b[0m \u001b[1;33m**\u001b[0m\u001b[0mkwargs\u001b[0m\u001b[1;33m)\u001b[0m\u001b[1;33m\u001b[0m\u001b[0m\n\u001b[0m\u001b[0;32m     67\u001b[0m \u001b[1;33m\u001b[0m\u001b[0m\n\u001b[0;32m     68\u001b[0m     \u001b[1;31m# Running inside `run_distribute_coordinator` already.\u001b[0m\u001b[1;33m\u001b[0m\u001b[1;33m\u001b[0m\u001b[0m\n",
      "\u001b[1;32mc:\\users\\crazy\\appdata\\local\\programs\\python\\python37\\lib\\site-packages\\tensorflow\\python\\keras\\engine\\training.py\u001b[0m in \u001b[0;36mevaluate\u001b[1;34m(self, x, y, batch_size, verbose, sample_weight, steps, callbacks, max_queue_size, workers, use_multiprocessing, return_dict)\u001b[0m\n\u001b[0;32m   1079\u001b[0m                 step_num=step):\n\u001b[0;32m   1080\u001b[0m               \u001b[0mcallbacks\u001b[0m\u001b[1;33m.\u001b[0m\u001b[0mon_test_batch_begin\u001b[0m\u001b[1;33m(\u001b[0m\u001b[0mstep\u001b[0m\u001b[1;33m)\u001b[0m\u001b[1;33m\u001b[0m\u001b[0m\n\u001b[1;32m-> 1081\u001b[1;33m               \u001b[0mtmp_logs\u001b[0m \u001b[1;33m=\u001b[0m \u001b[0mtest_function\u001b[0m\u001b[1;33m(\u001b[0m\u001b[0miterator\u001b[0m\u001b[1;33m)\u001b[0m\u001b[1;33m\u001b[0m\u001b[0m\n\u001b[0m\u001b[0;32m   1082\u001b[0m               \u001b[1;31m# Catch OutOfRangeError for Datasets of unknown size.\u001b[0m\u001b[1;33m\u001b[0m\u001b[1;33m\u001b[0m\u001b[0m\n\u001b[0;32m   1083\u001b[0m               \u001b[1;31m# This blocks until the batch has finished executing.\u001b[0m\u001b[1;33m\u001b[0m\u001b[1;33m\u001b[0m\u001b[0m\n",
      "\u001b[1;32mc:\\users\\crazy\\appdata\\local\\programs\\python\\python37\\lib\\site-packages\\tensorflow\\python\\eager\\def_function.py\u001b[0m in \u001b[0;36m__call__\u001b[1;34m(self, *args, **kwds)\u001b[0m\n\u001b[0;32m    578\u001b[0m         \u001b[0mxla_context\u001b[0m\u001b[1;33m.\u001b[0m\u001b[0mExit\u001b[0m\u001b[1;33m(\u001b[0m\u001b[1;33m)\u001b[0m\u001b[1;33m\u001b[0m\u001b[0m\n\u001b[0;32m    579\u001b[0m     \u001b[1;32melse\u001b[0m\u001b[1;33m:\u001b[0m\u001b[1;33m\u001b[0m\u001b[0m\n\u001b[1;32m--> 580\u001b[1;33m       \u001b[0mresult\u001b[0m \u001b[1;33m=\u001b[0m \u001b[0mself\u001b[0m\u001b[1;33m.\u001b[0m\u001b[0m_call\u001b[0m\u001b[1;33m(\u001b[0m\u001b[1;33m*\u001b[0m\u001b[0margs\u001b[0m\u001b[1;33m,\u001b[0m \u001b[1;33m**\u001b[0m\u001b[0mkwds\u001b[0m\u001b[1;33m)\u001b[0m\u001b[1;33m\u001b[0m\u001b[0m\n\u001b[0m\u001b[0;32m    581\u001b[0m \u001b[1;33m\u001b[0m\u001b[0m\n\u001b[0;32m    582\u001b[0m     \u001b[1;32mif\u001b[0m \u001b[0mtracing_count\u001b[0m \u001b[1;33m==\u001b[0m \u001b[0mself\u001b[0m\u001b[1;33m.\u001b[0m\u001b[0m_get_tracing_count\u001b[0m\u001b[1;33m(\u001b[0m\u001b[1;33m)\u001b[0m\u001b[1;33m:\u001b[0m\u001b[1;33m\u001b[0m\u001b[0m\n",
      "\u001b[1;32mc:\\users\\crazy\\appdata\\local\\programs\\python\\python37\\lib\\site-packages\\tensorflow\\python\\eager\\def_function.py\u001b[0m in \u001b[0;36m_call\u001b[1;34m(self, *args, **kwds)\u001b[0m\n\u001b[0;32m    648\u001b[0m               *args, **kwds)\n\u001b[0;32m    649\u001b[0m       \u001b[1;31m# If we did not create any variables the trace we have is good enough.\u001b[0m\u001b[1;33m\u001b[0m\u001b[1;33m\u001b[0m\u001b[0m\n\u001b[1;32m--> 650\u001b[1;33m       \u001b[1;32mreturn\u001b[0m \u001b[0mself\u001b[0m\u001b[1;33m.\u001b[0m\u001b[0m_concrete_stateful_fn\u001b[0m\u001b[1;33m.\u001b[0m\u001b[0m_filtered_call\u001b[0m\u001b[1;33m(\u001b[0m\u001b[0mcanon_args\u001b[0m\u001b[1;33m,\u001b[0m \u001b[0mcanon_kwds\u001b[0m\u001b[1;33m)\u001b[0m  \u001b[1;31m# pylint: disable=protected-access\u001b[0m\u001b[1;33m\u001b[0m\u001b[0m\n\u001b[0m\u001b[0;32m    651\u001b[0m \u001b[1;33m\u001b[0m\u001b[0m\n\u001b[0;32m    652\u001b[0m     \u001b[1;32mdef\u001b[0m \u001b[0mfn_with_cond\u001b[0m\u001b[1;33m(\u001b[0m\u001b[1;33m*\u001b[0m\u001b[0minner_args\u001b[0m\u001b[1;33m,\u001b[0m \u001b[1;33m**\u001b[0m\u001b[0minner_kwds\u001b[0m\u001b[1;33m)\u001b[0m\u001b[1;33m:\u001b[0m\u001b[1;33m\u001b[0m\u001b[0m\n",
      "\u001b[1;32mc:\\users\\crazy\\appdata\\local\\programs\\python\\python37\\lib\\site-packages\\tensorflow\\python\\eager\\function.py\u001b[0m in \u001b[0;36m_filtered_call\u001b[1;34m(self, args, kwargs)\u001b[0m\n\u001b[0;32m   1663\u001b[0m          if isinstance(t, (ops.Tensor,\n\u001b[0;32m   1664\u001b[0m                            resource_variable_ops.BaseResourceVariable))),\n\u001b[1;32m-> 1665\u001b[1;33m         self.captured_inputs)\n\u001b[0m\u001b[0;32m   1666\u001b[0m \u001b[1;33m\u001b[0m\u001b[0m\n\u001b[0;32m   1667\u001b[0m   \u001b[1;32mdef\u001b[0m \u001b[0m_call_flat\u001b[0m\u001b[1;33m(\u001b[0m\u001b[0mself\u001b[0m\u001b[1;33m,\u001b[0m \u001b[0margs\u001b[0m\u001b[1;33m,\u001b[0m \u001b[0mcaptured_inputs\u001b[0m\u001b[1;33m,\u001b[0m \u001b[0mcancellation_manager\u001b[0m\u001b[1;33m=\u001b[0m\u001b[1;32mNone\u001b[0m\u001b[1;33m)\u001b[0m\u001b[1;33m:\u001b[0m\u001b[1;33m\u001b[0m\u001b[0m\n",
      "\u001b[1;32mc:\\users\\crazy\\appdata\\local\\programs\\python\\python37\\lib\\site-packages\\tensorflow\\python\\eager\\function.py\u001b[0m in \u001b[0;36m_call_flat\u001b[1;34m(self, args, captured_inputs, cancellation_manager)\u001b[0m\n\u001b[0;32m   1744\u001b[0m       \u001b[1;31m# No tape is watching; skip to running the function.\u001b[0m\u001b[1;33m\u001b[0m\u001b[1;33m\u001b[0m\u001b[0m\n\u001b[0;32m   1745\u001b[0m       return self._build_call_outputs(self._inference_function.call(\n\u001b[1;32m-> 1746\u001b[1;33m           ctx, args, cancellation_manager=cancellation_manager))\n\u001b[0m\u001b[0;32m   1747\u001b[0m     forward_backward = self._select_forward_and_backward_functions(\n\u001b[0;32m   1748\u001b[0m         \u001b[0margs\u001b[0m\u001b[1;33m,\u001b[0m\u001b[1;33m\u001b[0m\u001b[0m\n",
      "\u001b[1;32mc:\\users\\crazy\\appdata\\local\\programs\\python\\python37\\lib\\site-packages\\tensorflow\\python\\eager\\function.py\u001b[0m in \u001b[0;36mcall\u001b[1;34m(self, ctx, args, cancellation_manager)\u001b[0m\n\u001b[0;32m    596\u001b[0m               \u001b[0minputs\u001b[0m\u001b[1;33m=\u001b[0m\u001b[0margs\u001b[0m\u001b[1;33m,\u001b[0m\u001b[1;33m\u001b[0m\u001b[0m\n\u001b[0;32m    597\u001b[0m               \u001b[0mattrs\u001b[0m\u001b[1;33m=\u001b[0m\u001b[0mattrs\u001b[0m\u001b[1;33m,\u001b[0m\u001b[1;33m\u001b[0m\u001b[0m\n\u001b[1;32m--> 598\u001b[1;33m               ctx=ctx)\n\u001b[0m\u001b[0;32m    599\u001b[0m         \u001b[1;32melse\u001b[0m\u001b[1;33m:\u001b[0m\u001b[1;33m\u001b[0m\u001b[0m\n\u001b[0;32m    600\u001b[0m           outputs = execute.execute_with_cancellation(\n",
      "\u001b[1;32mc:\\users\\crazy\\appdata\\local\\programs\\python\\python37\\lib\\site-packages\\tensorflow\\python\\eager\\execute.py\u001b[0m in \u001b[0;36mquick_execute\u001b[1;34m(op_name, num_outputs, inputs, attrs, ctx, name)\u001b[0m\n\u001b[0;32m     58\u001b[0m     \u001b[0mctx\u001b[0m\u001b[1;33m.\u001b[0m\u001b[0mensure_initialized\u001b[0m\u001b[1;33m(\u001b[0m\u001b[1;33m)\u001b[0m\u001b[1;33m\u001b[0m\u001b[0m\n\u001b[0;32m     59\u001b[0m     tensors = pywrap_tfe.TFE_Py_Execute(ctx._handle, device_name, op_name,\n\u001b[1;32m---> 60\u001b[1;33m                                         inputs, attrs, num_outputs)\n\u001b[0m\u001b[0;32m     61\u001b[0m   \u001b[1;32mexcept\u001b[0m \u001b[0mcore\u001b[0m\u001b[1;33m.\u001b[0m\u001b[0m_NotOkStatusException\u001b[0m \u001b[1;32mas\u001b[0m \u001b[0me\u001b[0m\u001b[1;33m:\u001b[0m\u001b[1;33m\u001b[0m\u001b[0m\n\u001b[0;32m     62\u001b[0m     \u001b[1;32mif\u001b[0m \u001b[0mname\u001b[0m \u001b[1;32mis\u001b[0m \u001b[1;32mnot\u001b[0m \u001b[1;32mNone\u001b[0m\u001b[1;33m:\u001b[0m\u001b[1;33m\u001b[0m\u001b[0m\n",
      "\u001b[1;31mKeyboardInterrupt\u001b[0m: "
     ]
    }
   ],
   "source": [
    "model_sk = KerasClassifier(build_fn=create_model)\n",
    "\n",
    "scorer = make_scorer(f1_score, average='weighted')\n",
    "\n",
    "\n",
    "param_grid = {\n",
    "\n",
    "    'n_hidden_layer': [3, 4, 5, 6],\n",
    "    'n_neurons_per_layer': [180, 200, 220, 240, 260],\n",
    "    'learning_rate': [5e-4],\n",
    "    'momentum': [0.999],\n",
    "    'dropout' : [0.1, 0.2, 0.3]\n",
    "    #'patient' : [10, 30, 50, 70]\n",
    "    #'n_jobs':[-1],\n",
    "    #'random_state': [seed]\n",
    "}\n",
    "\n",
    "grid = GridSearchCV(estimator=model_sk,\n",
    "                    param_grid=param_grid,\n",
    "                    scoring=scorer,\n",
    "                    verbose=2,\n",
    "                    #n_jobs=-1,\n",
    "                    cv=3)\n",
    "\n",
    "grid_result = grid.fit(X_train, y_train, epochs=nb_epoch,\n",
    "                    shuffle=True,\n",
    "                    batch_size=nb_batch_size,\n",
    "                    validation_data=(X_val, y_val),\n",
    "                    verbose=0,\n",
    "                    callbacks=[checkpointer, early_stopping])\n"
   ]
  },
  {
   "cell_type": "code",
   "execution_count": null,
   "metadata": {},
   "outputs": [],
   "source": []
  },
  {
   "cell_type": "code",
   "execution_count": null,
   "metadata": {},
   "outputs": [],
   "source": [
    "print(f'{grid.best_params_} with {grid.best_score_}')"
   ]
  },
  {
   "cell_type": "code",
   "execution_count": 27,
   "metadata": {},
   "outputs": [],
   "source": [
    "best_params_ = {\n",
    "    \"dropout\" : 0.3,\n",
    "    \"learning_rate\": 0.0005,\n",
    "    \"momentum\": 0.999,\n",
    "    \"n_hidden_layer\": 5,\n",
    "    \"n_neurons_per_layer\": 220 \n",
    "}\n"
   ]
  },
  {
   "cell_type": "code",
   "execution_count": 89,
   "metadata": {},
   "outputs": [
    {
     "name": "stdout",
     "output_type": "stream",
     "text": [
      "Model: \"sequential_8\"\n",
      "_________________________________________________________________\n",
      "Layer (type)                 Output Shape              Param #   \n",
      "=================================================================\n",
      "dense_54 (Dense)             (None, 64)                4160      \n",
      "_________________________________________________________________\n",
      "batch_normalization_46 (Batc (None, 64)                256       \n",
      "_________________________________________________________________\n",
      "dropout_38 (Dropout)         (None, 64)                0         \n",
      "_________________________________________________________________\n",
      "dense_55 (Dense)             (None, 220)               14300     \n",
      "_________________________________________________________________\n",
      "batch_normalization_47 (Batc (None, 220)               880       \n",
      "_________________________________________________________________\n",
      "dropout_39 (Dropout)         (None, 220)               0         \n",
      "_________________________________________________________________\n",
      "dense_56 (Dense)             (None, 220)               48620     \n",
      "_________________________________________________________________\n",
      "batch_normalization_48 (Batc (None, 220)               880       \n",
      "_________________________________________________________________\n",
      "dropout_40 (Dropout)         (None, 220)               0         \n",
      "_________________________________________________________________\n",
      "dense_57 (Dense)             (None, 220)               48620     \n",
      "_________________________________________________________________\n",
      "batch_normalization_49 (Batc (None, 220)               880       \n",
      "_________________________________________________________________\n",
      "dropout_41 (Dropout)         (None, 220)               0         \n",
      "_________________________________________________________________\n",
      "dense_58 (Dense)             (None, 220)               48620     \n",
      "_________________________________________________________________\n",
      "batch_normalization_50 (Batc (None, 220)               880       \n",
      "_________________________________________________________________\n",
      "dropout_42 (Dropout)         (None, 220)               0         \n",
      "_________________________________________________________________\n",
      "dense_59 (Dense)             (None, 220)               48620     \n",
      "_________________________________________________________________\n",
      "batch_normalization_51 (Batc (None, 220)               880       \n",
      "_________________________________________________________________\n",
      "dense_60 (Dense)             (None, 10)                2210      \n",
      "=================================================================\n",
      "Total params: 219,806\n",
      "Trainable params: 217,478\n",
      "Non-trainable params: 2,328\n",
      "_________________________________________________________________\n"
     ]
    }
   ],
   "source": [
    "bestmodel = create_model(**best_params_)\n",
    "bestmodel.summary()"
   ]
  },
  {
   "cell_type": "code",
   "execution_count": null,
   "metadata": {},
   "outputs": [],
   "source": []
  },
  {
   "cell_type": "code",
   "execution_count": null,
   "metadata": {},
   "outputs": [
    {
     "name": "stdout",
     "output_type": "stream",
     "text": [
      "Epoch 1/1000\n",
      "10/10 [==============================] - 1s 63ms/step - loss: 3.1488 - accuracy: 0.1456 - val_loss: 2.3005 - val_accuracy: 0.2167\n",
      "Epoch 2/1000\n",
      "10/10 [==============================] - 0s 27ms/step - loss: 2.9119 - accuracy: 0.1716 - val_loss: 2.2941 - val_accuracy: 0.2639\n",
      "Epoch 3/1000\n",
      "10/10 [==============================] - 0s 26ms/step - loss: 2.6750 - accuracy: 0.2134 - val_loss: 2.2879 - val_accuracy: 0.2833\n",
      "Epoch 4/1000\n",
      "10/10 [==============================] - 0s 26ms/step - loss: 2.4391 - accuracy: 0.2820 - val_loss: 2.2805 - val_accuracy: 0.3528\n",
      "Epoch 5/1000\n",
      "10/10 [==============================] - 0s 26ms/step - loss: 2.2130 - accuracy: 0.3627 - val_loss: 2.2736 - val_accuracy: 0.3694\n",
      "Epoch 6/1000\n",
      "10/10 [==============================] - 0s 25ms/step - loss: 2.1094 - accuracy: 0.4026 - val_loss: 2.2661 - val_accuracy: 0.3833\n",
      "Epoch 7/1000\n",
      "10/10 [==============================] - 0s 26ms/step - loss: 2.0083 - accuracy: 0.4258 - val_loss: 2.2593 - val_accuracy: 0.4056\n",
      "Epoch 8/1000\n",
      "10/10 [==============================] - 0s 27ms/step - loss: 1.8147 - accuracy: 0.4944 - val_loss: 2.2504 - val_accuracy: 0.4167\n",
      "Epoch 9/1000\n",
      "10/10 [==============================] - 0s 30ms/step - loss: 1.7929 - accuracy: 0.5019 - val_loss: 2.2414 - val_accuracy: 0.4361\n",
      "Epoch 10/1000\n",
      "10/10 [==============================] - 0s 32ms/step - loss: 1.6408 - accuracy: 0.5705 - val_loss: 2.2318 - val_accuracy: 0.4361\n",
      "Epoch 11/1000\n",
      "10/10 [==============================] - 0s 27ms/step - loss: 1.6014 - accuracy: 0.5863 - val_loss: 2.2233 - val_accuracy: 0.4056\n",
      "Epoch 12/1000\n",
      "10/10 [==============================] - 0s 28ms/step - loss: 1.5073 - accuracy: 0.6169 - val_loss: 2.2156 - val_accuracy: 0.3694\n",
      "Epoch 13/1000\n",
      "10/10 [==============================] - 0s 34ms/step - loss: 1.4702 - accuracy: 0.6382 - val_loss: 2.2054 - val_accuracy: 0.3250\n",
      "Epoch 14/1000\n",
      "10/10 [==============================] - 0s 26ms/step - loss: 1.4709 - accuracy: 0.6466 - val_loss: 2.1967 - val_accuracy: 0.2972\n",
      "Epoch 15/1000\n",
      "10/10 [==============================] - 0s 26ms/step - loss: 1.3698 - accuracy: 0.6688 - val_loss: 2.1870 - val_accuracy: 0.2722\n",
      "Epoch 16/1000\n",
      "10/10 [==============================] - 0s 27ms/step - loss: 1.2578 - accuracy: 0.7041 - val_loss: 2.1787 - val_accuracy: 0.2333\n",
      "Epoch 17/1000\n",
      "10/10 [==============================] - 0s 31ms/step - loss: 1.2880 - accuracy: 0.7022 - val_loss: 2.1709 - val_accuracy: 0.2000\n",
      "Epoch 18/1000\n",
      "10/10 [==============================] - 0s 27ms/step - loss: 1.2085 - accuracy: 0.7319 - val_loss: 2.1632 - val_accuracy: 0.1750\n",
      "Epoch 19/1000\n",
      "10/10 [==============================] - 0s 29ms/step - loss: 1.1859 - accuracy: 0.7551 - val_loss: 2.1557 - val_accuracy: 0.1667\n",
      "Epoch 20/1000\n",
      "10/10 [==============================] - 0s 27ms/step - loss: 1.1695 - accuracy: 0.7468 - val_loss: 2.1486 - val_accuracy: 0.1528\n",
      "Epoch 21/1000\n",
      "10/10 [==============================] - 0s 29ms/step - loss: 1.1071 - accuracy: 0.7746 - val_loss: 2.1400 - val_accuracy: 0.1444\n",
      "Epoch 22/1000\n",
      "10/10 [==============================] - 0s 27ms/step - loss: 1.0928 - accuracy: 0.7727 - val_loss: 2.1328 - val_accuracy: 0.1306\n",
      "Epoch 23/1000\n",
      "10/10 [==============================] - 0s 27ms/step - loss: 1.0910 - accuracy: 0.7727 - val_loss: 2.1256 - val_accuracy: 0.1250\n",
      "Epoch 24/1000\n",
      "10/10 [==============================] - 0s 29ms/step - loss: 1.1267 - accuracy: 0.7588 - val_loss: 2.1180 - val_accuracy: 0.1139\n",
      "Epoch 25/1000\n",
      "10/10 [==============================] - 0s 30ms/step - loss: 1.0750 - accuracy: 0.7764 - val_loss: 2.1103 - val_accuracy: 0.1139\n",
      "Epoch 26/1000\n",
      "10/10 [==============================] - 0s 32ms/step - loss: 1.0497 - accuracy: 0.7755 - val_loss: 2.1024 - val_accuracy: 0.1056\n",
      "Epoch 27/1000\n",
      "10/10 [==============================] - 0s 28ms/step - loss: 0.9833 - accuracy: 0.7996 - val_loss: 2.0935 - val_accuracy: 0.1056\n",
      "Epoch 28/1000\n",
      "10/10 [==============================] - 0s 27ms/step - loss: 1.0001 - accuracy: 0.8071 - val_loss: 2.0852 - val_accuracy: 0.1056\n",
      "Epoch 29/1000\n",
      "10/10 [==============================] - 0s 28ms/step - loss: 0.9680 - accuracy: 0.8182 - val_loss: 2.0764 - val_accuracy: 0.1139\n",
      "Epoch 30/1000\n",
      "10/10 [==============================] - 0s 27ms/step - loss: 1.0173 - accuracy: 0.7931 - val_loss: 2.0684 - val_accuracy: 0.1111\n",
      "Epoch 31/1000\n",
      "10/10 [==============================] - 0s 26ms/step - loss: 0.9712 - accuracy: 0.8135 - val_loss: 2.0603 - val_accuracy: 0.1139\n",
      "Epoch 32/1000\n",
      "10/10 [==============================] - 0s 26ms/step - loss: 0.9325 - accuracy: 0.8340 - val_loss: 2.0508 - val_accuracy: 0.1167\n",
      "Epoch 33/1000\n",
      "10/10 [==============================] - 0s 28ms/step - loss: 0.9727 - accuracy: 0.8145 - val_loss: 2.0445 - val_accuracy: 0.1139\n",
      "Epoch 34/1000\n",
      "10/10 [==============================] - 0s 28ms/step - loss: 0.8985 - accuracy: 0.8442 - val_loss: 2.0348 - val_accuracy: 0.1139\n",
      "Epoch 35/1000\n",
      "10/10 [==============================] - 0s 28ms/step - loss: 0.8805 - accuracy: 0.8386 - val_loss: 2.0285 - val_accuracy: 0.1139\n",
      "Epoch 36/1000\n",
      "10/10 [==============================] - 0s 27ms/step - loss: 0.9106 - accuracy: 0.8321 - val_loss: 2.0180 - val_accuracy: 0.1139\n",
      "Epoch 37/1000\n",
      "10/10 [==============================] - 0s 25ms/step - loss: 0.8933 - accuracy: 0.8460 - val_loss: 2.0138 - val_accuracy: 0.1083\n",
      "Epoch 38/1000\n",
      "10/10 [==============================] - 0s 24ms/step - loss: 0.9195 - accuracy: 0.8386 - val_loss: 2.0010 - val_accuracy: 0.1167\n",
      "Epoch 39/1000\n",
      "10/10 [==============================] - 0s 27ms/step - loss: 0.8796 - accuracy: 0.8386 - val_loss: 1.9945 - val_accuracy: 0.1222\n",
      "Epoch 40/1000\n",
      "10/10 [==============================] - 0s 26ms/step - loss: 0.8961 - accuracy: 0.8479 - val_loss: 1.9849 - val_accuracy: 0.1194\n",
      "Epoch 41/1000\n",
      "10/10 [==============================] - 0s 33ms/step - loss: 0.8333 - accuracy: 0.8553 - val_loss: 1.9758 - val_accuracy: 0.1083\n",
      "Epoch 42/1000\n",
      "10/10 [==============================] - 0s 26ms/step - loss: 0.8565 - accuracy: 0.8627 - val_loss: 1.9658 - val_accuracy: 0.1083\n",
      "Epoch 43/1000\n",
      "10/10 [==============================] - 0s 27ms/step - loss: 0.8448 - accuracy: 0.8460 - val_loss: 1.9538 - val_accuracy: 0.1222\n",
      "Epoch 44/1000\n",
      "10/10 [==============================] - 0s 36ms/step - loss: 0.8558 - accuracy: 0.8497 - val_loss: 1.9471 - val_accuracy: 0.1111\n",
      "Epoch 45/1000\n",
      "10/10 [==============================] - 0s 28ms/step - loss: 0.8297 - accuracy: 0.8664 - val_loss: 1.9389 - val_accuracy: 0.1222\n",
      "Epoch 46/1000\n",
      "10/10 [==============================] - 0s 29ms/step - loss: 0.8638 - accuracy: 0.8497 - val_loss: 1.9300 - val_accuracy: 0.1250\n",
      "Epoch 47/1000\n",
      "10/10 [==============================] - 0s 30ms/step - loss: 0.7938 - accuracy: 0.8813 - val_loss: 1.9225 - val_accuracy: 0.1222\n",
      "Epoch 48/1000\n",
      "10/10 [==============================] - 0s 27ms/step - loss: 0.8094 - accuracy: 0.8720 - val_loss: 1.9129 - val_accuracy: 0.1194\n",
      "Epoch 49/1000\n",
      "10/10 [==============================] - 0s 35ms/step - loss: 0.8167 - accuracy: 0.8683 - val_loss: 1.9024 - val_accuracy: 0.1250\n",
      "Epoch 50/1000\n",
      "10/10 [==============================] - 0s 33ms/step - loss: 0.7967 - accuracy: 0.8766 - val_loss: 1.8918 - val_accuracy: 0.1333\n",
      "Epoch 51/1000\n",
      "10/10 [==============================] - 0s 31ms/step - loss: 0.7999 - accuracy: 0.8840 - val_loss: 1.8833 - val_accuracy: 0.1444\n",
      "Epoch 52/1000\n",
      "10/10 [==============================] - 0s 26ms/step - loss: 0.7792 - accuracy: 0.8822 - val_loss: 1.8753 - val_accuracy: 0.1444\n",
      "Epoch 53/1000\n",
      "10/10 [==============================] - 0s 37ms/step - loss: 0.7637 - accuracy: 0.8878 - val_loss: 1.8647 - val_accuracy: 0.1472\n",
      "Epoch 54/1000\n",
      "10/10 [==============================] - 0s 30ms/step - loss: 0.8393 - accuracy: 0.8571 - val_loss: 1.8618 - val_accuracy: 0.1472\n",
      "Epoch 55/1000\n",
      "10/10 [==============================] - 0s 26ms/step - loss: 0.7814 - accuracy: 0.8887 - val_loss: 1.8605 - val_accuracy: 0.1389\n",
      "Epoch 56/1000\n",
      "10/10 [==============================] - 0s 26ms/step - loss: 0.7665 - accuracy: 0.8859 - val_loss: 1.8550 - val_accuracy: 0.1389\n",
      "Epoch 57/1000\n",
      "10/10 [==============================] - 0s 30ms/step - loss: 0.7915 - accuracy: 0.8813 - val_loss: 1.8482 - val_accuracy: 0.1389\n"
     ]
    },
    {
     "name": "stdout",
     "output_type": "stream",
     "text": [
      "Epoch 58/1000\n",
      "10/10 [==============================] - 0s 33ms/step - loss: 0.7663 - accuracy: 0.8813 - val_loss: 1.8438 - val_accuracy: 0.1333\n",
      "Epoch 59/1000\n",
      "10/10 [==============================] - 0s 32ms/step - loss: 0.7703 - accuracy: 0.8905 - val_loss: 1.8334 - val_accuracy: 0.1361\n",
      "Epoch 60/1000\n",
      "10/10 [==============================] - 0s 29ms/step - loss: 0.7454 - accuracy: 0.8905 - val_loss: 1.8235 - val_accuracy: 0.1389\n",
      "Epoch 61/1000\n",
      "10/10 [==============================] - 0s 17ms/step - loss: 0.7348 - accuracy: 0.8980 - val_loss: 1.8256 - val_accuracy: 0.1333\n",
      "Epoch 62/1000\n",
      "10/10 [==============================] - 0s 28ms/step - loss: 0.7570 - accuracy: 0.8822 - val_loss: 1.8180 - val_accuracy: 0.1361\n",
      "Epoch 63/1000\n",
      "10/10 [==============================] - 0s 31ms/step - loss: 0.7549 - accuracy: 0.8896 - val_loss: 1.8063 - val_accuracy: 0.1444\n",
      "Epoch 64/1000\n",
      "10/10 [==============================] - 0s 18ms/step - loss: 0.7671 - accuracy: 0.8850 - val_loss: 1.8085 - val_accuracy: 0.1444\n",
      "Epoch 65/1000\n",
      "10/10 [==============================] - 0s 26ms/step - loss: 0.7254 - accuracy: 0.9017 - val_loss: 1.8038 - val_accuracy: 0.1389\n",
      "Epoch 66/1000\n",
      "10/10 [==============================] - 0s 28ms/step - loss: 0.7373 - accuracy: 0.8868 - val_loss: 1.7931 - val_accuracy: 0.1500\n",
      "Epoch 67/1000\n",
      "10/10 [==============================] - 0s 30ms/step - loss: 0.7156 - accuracy: 0.8970 - val_loss: 1.7846 - val_accuracy: 0.1500\n",
      "Epoch 68/1000\n",
      "10/10 [==============================] - 0s 29ms/step - loss: 0.7263 - accuracy: 0.8961 - val_loss: 1.7790 - val_accuracy: 0.1500\n",
      "Epoch 69/1000\n",
      "10/10 [==============================] - 0s 31ms/step - loss: 0.7487 - accuracy: 0.8822 - val_loss: 1.7603 - val_accuracy: 0.1500\n",
      "Epoch 70/1000\n",
      "10/10 [==============================] - 0s 36ms/step - loss: 0.7101 - accuracy: 0.9091 - val_loss: 1.7510 - val_accuracy: 0.1583\n",
      "Epoch 71/1000\n",
      "10/10 [==============================] - 0s 33ms/step - loss: 0.7351 - accuracy: 0.8859 - val_loss: 1.7448 - val_accuracy: 0.1667\n",
      "Epoch 72/1000\n",
      "10/10 [==============================] - 0s 33ms/step - loss: 0.7477 - accuracy: 0.8924 - val_loss: 1.7384 - val_accuracy: 0.1611\n",
      "Epoch 73/1000\n",
      "10/10 [==============================] - 0s 23ms/step - loss: 0.7251 - accuracy: 0.8989 - val_loss: 1.7400 - val_accuracy: 0.1611\n",
      "Epoch 74/1000\n",
      "10/10 [==============================] - 0s 34ms/step - loss: 0.7171 - accuracy: 0.8989 - val_loss: 1.7325 - val_accuracy: 0.1611\n",
      "Epoch 75/1000\n",
      "10/10 [==============================] - 0s 34ms/step - loss: 0.6906 - accuracy: 0.9174 - val_loss: 1.7229 - val_accuracy: 0.1750\n",
      "Epoch 76/1000\n",
      "10/10 [==============================] - 0s 34ms/step - loss: 0.7305 - accuracy: 0.9100 - val_loss: 1.7070 - val_accuracy: 0.1861\n",
      "Epoch 77/1000\n",
      "10/10 [==============================] - 0s 34ms/step - loss: 0.6703 - accuracy: 0.9165 - val_loss: 1.7063 - val_accuracy: 0.1861\n",
      "Epoch 78/1000\n",
      "10/10 [==============================] - 0s 36ms/step - loss: 0.7196 - accuracy: 0.8980 - val_loss: 1.6904 - val_accuracy: 0.1917\n",
      "Epoch 79/1000\n",
      "10/10 [==============================] - 0s 23ms/step - loss: 0.6805 - accuracy: 0.9137 - val_loss: 1.6928 - val_accuracy: 0.1889\n",
      "Epoch 80/1000\n",
      "10/10 [==============================] - 0s 34ms/step - loss: 0.6816 - accuracy: 0.9147 - val_loss: 1.6813 - val_accuracy: 0.1972\n",
      "Epoch 81/1000\n",
      "10/10 [==============================] - 0s 33ms/step - loss: 0.6936 - accuracy: 0.9082 - val_loss: 1.6672 - val_accuracy: 0.2111\n",
      "Epoch 82/1000\n",
      "10/10 [==============================] - 0s 32ms/step - loss: 0.7226 - accuracy: 0.8980 - val_loss: 1.6496 - val_accuracy: 0.2250\n",
      "Epoch 83/1000\n",
      "10/10 [==============================] - 0s 35ms/step - loss: 0.6608 - accuracy: 0.9230 - val_loss: 1.6422 - val_accuracy: 0.2250\n",
      "Epoch 84/1000\n",
      "10/10 [==============================] - 0s 24ms/step - loss: 0.7047 - accuracy: 0.8998 - val_loss: 1.6446 - val_accuracy: 0.2111\n",
      "Epoch 85/1000\n",
      "10/10 [==============================] - 0s 33ms/step - loss: 0.6963 - accuracy: 0.9054 - val_loss: 1.6312 - val_accuracy: 0.2222\n",
      "Epoch 86/1000\n",
      "10/10 [==============================] - 0s 22ms/step - loss: 0.6682 - accuracy: 0.9212 - val_loss: 1.6321 - val_accuracy: 0.2333\n",
      "Epoch 87/1000\n",
      "10/10 [==============================] - 0s 34ms/step - loss: 0.6774 - accuracy: 0.9119 - val_loss: 1.6227 - val_accuracy: 0.2361\n",
      "Epoch 88/1000\n",
      "10/10 [==============================] - 0s 24ms/step - loss: 0.6703 - accuracy: 0.9109 - val_loss: 1.6234 - val_accuracy: 0.2333\n",
      "Epoch 89/1000\n",
      "10/10 [==============================] - 0s 35ms/step - loss: 0.6964 - accuracy: 0.9128 - val_loss: 1.6084 - val_accuracy: 0.2528\n",
      "Epoch 90/1000\n",
      "10/10 [==============================] - 0s 24ms/step - loss: 0.6515 - accuracy: 0.9212 - val_loss: 1.6087 - val_accuracy: 0.2417\n",
      "Epoch 91/1000\n",
      "10/10 [==============================] - 0s 34ms/step - loss: 0.6809 - accuracy: 0.9119 - val_loss: 1.5938 - val_accuracy: 0.2583\n",
      "Epoch 92/1000\n",
      "10/10 [==============================] - 0s 23ms/step - loss: 0.6967 - accuracy: 0.9072 - val_loss: 1.5986 - val_accuracy: 0.2500\n",
      "Epoch 93/1000\n",
      "10/10 [==============================] - 0s 34ms/step - loss: 0.6746 - accuracy: 0.9212 - val_loss: 1.5925 - val_accuracy: 0.2500\n",
      "Epoch 94/1000\n",
      "10/10 [==============================] - 0s 34ms/step - loss: 0.6435 - accuracy: 0.9193 - val_loss: 1.5840 - val_accuracy: 0.2528\n",
      "Epoch 95/1000\n",
      "10/10 [==============================] - 0s 23ms/step - loss: 0.6815 - accuracy: 0.9128 - val_loss: 1.5892 - val_accuracy: 0.2500\n",
      "Epoch 96/1000\n",
      "10/10 [==============================] - 0s 23ms/step - loss: 0.6487 - accuracy: 0.9239 - val_loss: 1.5878 - val_accuracy: 0.2556\n",
      "Epoch 97/1000\n",
      "10/10 [==============================] - 0s 25ms/step - loss: 0.6300 - accuracy: 0.9202 - val_loss: 1.6042 - val_accuracy: 0.2472\n",
      "Epoch 98/1000\n",
      "10/10 [==============================] - 0s 22ms/step - loss: 0.6777 - accuracy: 0.9100 - val_loss: 1.5929 - val_accuracy: 0.2528\n",
      "Epoch 99/1000\n",
      "10/10 [==============================] - 0s 35ms/step - loss: 0.6360 - accuracy: 0.9351 - val_loss: 1.5748 - val_accuracy: 0.2639\n",
      "Epoch 100/1000\n",
      "10/10 [==============================] - 0s 33ms/step - loss: 0.6561 - accuracy: 0.9221 - val_loss: 1.5569 - val_accuracy: 0.2778\n",
      "Epoch 101/1000\n",
      "10/10 [==============================] - 0s 33ms/step - loss: 0.6351 - accuracy: 0.9258 - val_loss: 1.5517 - val_accuracy: 0.2806\n",
      "Epoch 102/1000\n",
      "10/10 [==============================] - 0s 34ms/step - loss: 0.6246 - accuracy: 0.9230 - val_loss: 1.5405 - val_accuracy: 0.2889\n",
      "Epoch 103/1000\n",
      "10/10 [==============================] - 0s 34ms/step - loss: 0.6433 - accuracy: 0.9323 - val_loss: 1.5362 - val_accuracy: 0.2889\n",
      "Epoch 104/1000\n",
      "10/10 [==============================] - 0s 41ms/step - loss: 0.6133 - accuracy: 0.9304 - val_loss: 1.5259 - val_accuracy: 0.3000\n",
      "Epoch 105/1000\n",
      "10/10 [==============================] - 0s 24ms/step - loss: 0.6293 - accuracy: 0.9230 - val_loss: 1.5290 - val_accuracy: 0.3056\n",
      "Epoch 106/1000\n",
      "10/10 [==============================] - 0s 35ms/step - loss: 0.6542 - accuracy: 0.9184 - val_loss: 1.5215 - val_accuracy: 0.3000\n",
      "Epoch 107/1000\n",
      "10/10 [==============================] - 0s 35ms/step - loss: 0.6393 - accuracy: 0.9212 - val_loss: 1.4989 - val_accuracy: 0.3194\n",
      "Epoch 108/1000\n",
      "10/10 [==============================] - 0s 38ms/step - loss: 0.6213 - accuracy: 0.9369 - val_loss: 1.4946 - val_accuracy: 0.3167\n",
      "Epoch 109/1000\n",
      "10/10 [==============================] - 0s 35ms/step - loss: 0.6128 - accuracy: 0.9425 - val_loss: 1.4696 - val_accuracy: 0.3278\n",
      "Epoch 110/1000\n",
      "10/10 [==============================] - 0s 34ms/step - loss: 0.6269 - accuracy: 0.9286 - val_loss: 1.4524 - val_accuracy: 0.3361\n",
      "Epoch 111/1000\n",
      "10/10 [==============================] - 0s 35ms/step - loss: 0.6008 - accuracy: 0.9416 - val_loss: 1.4374 - val_accuracy: 0.3444\n",
      "Epoch 112/1000\n",
      "10/10 [==============================] - 0s 33ms/step - loss: 0.6587 - accuracy: 0.9212 - val_loss: 1.4243 - val_accuracy: 0.3500\n",
      "Epoch 113/1000\n",
      "10/10 [==============================] - 0s 23ms/step - loss: 0.6326 - accuracy: 0.9258 - val_loss: 1.4294 - val_accuracy: 0.3417\n",
      "Epoch 114/1000\n",
      "10/10 [==============================] - 0s 35ms/step - loss: 0.6578 - accuracy: 0.9156 - val_loss: 1.4165 - val_accuracy: 0.3528\n"
     ]
    },
    {
     "name": "stdout",
     "output_type": "stream",
     "text": [
      "Epoch 115/1000\n",
      "10/10 [==============================] - 0s 33ms/step - loss: 0.6386 - accuracy: 0.9378 - val_loss: 1.4143 - val_accuracy: 0.3500\n",
      "Epoch 116/1000\n",
      "10/10 [==============================] - 0s 34ms/step - loss: 0.6300 - accuracy: 0.9258 - val_loss: 1.3957 - val_accuracy: 0.3639\n",
      "Epoch 117/1000\n",
      "10/10 [==============================] - ETA: 0s - loss: 0.6263 - accuracy: 0.9295"
     ]
    }
   ],
   "source": [
    "history = bestmodel.fit(X_train, y_train, epochs=nb_epoch,\n",
    "                    shuffle=True,\n",
    "                    batch_size=nb_batch_size,\n",
    "                    validation_data=(X_val, y_val),\n",
    "                    verbose=1,\n",
    "                    callbacks=[checkpointer, early_stopping])"
   ]
  },
  {
   "cell_type": "code",
   "execution_count": null,
   "metadata": {},
   "outputs": [],
   "source": [
    "fig = plt.figure(figsize=(16,10))\n",
    "df = pd.DataFrame(history.history)\n",
    "plt.ylim(0,1.2)\n",
    "plt.xlabel('epochs')\n",
    "plt.plot(df)\n",
    "plt.legend(df.columns)\n",
    "plt.show()"
   ]
  },
  {
   "cell_type": "code",
   "execution_count": null,
   "metadata": {},
   "outputs": [],
   "source": [
    "predictions = bestmodel.predict(X_test)\n",
    "\n",
    "y_pred = np.zeros(np.shape(y_test))"
   ]
  },
  {
   "cell_type": "code",
   "execution_count": null,
   "metadata": {},
   "outputs": [],
   "source": [
    "for ind, pred in enumerate(predictions):\n",
    "    y_pred[ind] = np.argmax(pred)"
   ]
  },
  {
   "cell_type": "code",
   "execution_count": null,
   "metadata": {},
   "outputs": [],
   "source": [
    "cnf_matrix = confusion_matrix(y_test,y_pred)"
   ]
  },
  {
   "cell_type": "code",
   "execution_count": null,
   "metadata": {},
   "outputs": [],
   "source": [
    "fig = plt.figure(figsize=(10,9))\n",
    "sns.heatmap(cnf_matrix, cmap='YlGnBu', annot=True)\n",
    "plt.show()"
   ]
  },
  {
   "cell_type": "code",
   "execution_count": null,
   "metadata": {},
   "outputs": [],
   "source": [
    "print(classification_report(y_test, y_pred, output_dict=False))"
   ]
  },
  {
   "cell_type": "code",
   "execution_count": null,
   "metadata": {},
   "outputs": [],
   "source": []
  },
  {
   "cell_type": "code",
   "execution_count": null,
   "metadata": {},
   "outputs": [],
   "source": []
  },
  {
   "cell_type": "code",
   "execution_count": null,
   "metadata": {},
   "outputs": [],
   "source": [
    "# Plot\n",
    "f = plt.figure(figsize=(12, 12))\n",
    "ind  =0\n",
    "mask = y_test != y_pred\n",
    "\n",
    "for i, d in enumerate(X_test):\n",
    "    if mask[i]:\n",
    "        #print(i, y_test[i],y_pred[i])\n",
    "        img = d.reshape(8,8)\n",
    "        sub = f.add_subplot(3, 6, ind+1)\n",
    "        sub.imshow(img, cmap=plt.cm.gray_r)\n",
    "        plt.xticks([])\n",
    "        plt.yticks([])\n",
    "        sub.set_title(f'predict: {int(y_pred[i])}\\n with {np.max(predictions[i]*100):.4}%\\npobabilty.\\n\\ntrue: {y_test[i]}')\n",
    "        ind=ind+1"
   ]
  },
  {
   "cell_type": "code",
   "execution_count": null,
   "metadata": {},
   "outputs": [],
   "source": []
  },
  {
   "cell_type": "code",
   "execution_count": null,
   "metadata": {},
   "outputs": [],
   "source": []
  },
  {
   "cell_type": "code",
   "execution_count": null,
   "metadata": {},
   "outputs": [],
   "source": []
  },
  {
   "cell_type": "code",
   "execution_count": null,
   "metadata": {},
   "outputs": [],
   "source": []
  },
  {
   "cell_type": "code",
   "execution_count": null,
   "metadata": {},
   "outputs": [],
   "source": []
  }
 ],
 "metadata": {
  "kernelspec": {
   "display_name": "Python 3",
   "language": "python",
   "name": "python3"
  },
  "language_info": {
   "codemirror_mode": {
    "name": "ipython",
    "version": 3
   },
   "file_extension": ".py",
   "mimetype": "text/x-python",
   "name": "python",
   "nbconvert_exporter": "python",
   "pygments_lexer": "ipython3",
   "version": "3.7.0"
  }
 },
 "nbformat": 4,
 "nbformat_minor": 4
}
