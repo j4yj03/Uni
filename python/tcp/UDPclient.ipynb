{
 "cells": [
  {
   "cell_type": "code",
   "execution_count": null,
   "metadata": {},
   "outputs": [],
   "source": [
    "import socket\n",
    "import struct\n",
    "from threading import *\n",
    "\n"
   ]
  },
  {
   "cell_type": "code",
   "execution_count": null,
   "metadata": {},
   "outputs": [],
   "source": [
    "import socket\n",
    "import struct\n",
    "\n",
    "host = \"141.45.180.80\"\n",
    "port = 39999\n",
    "\n",
    "BUFF_SIZE = 1024\n",
    "\n",
    "clientsocket = socket.socket(socket.AF_INET, socket.SOCK_DGRAM)\n",
    "\n",
    "\n",
    "\n",
    "try:\n",
    "    \n",
    "    \n",
    "    clientsocket.connect((host, port))\n",
    "    \n",
    "    while(True): \n",
    "    \n",
    "        inputstr = input(\"Eingabe: \").encode('ASCII')\n",
    "        user = \"sidney\".encode('ASCII')\n",
    "\n",
    "        buf = struct.pack(\"!i8s138s\",4 , user, inputstr)\n",
    "\n",
    "        clientsocket.send(buf)\n",
    "\n",
    "    \n",
    "except Exception as e:   \n",
    "    print('{}: {}'.format(type(e).__name__, str(e.args)))\n",
    "          \n",
    "    \n",
    "finally:\n",
    "    clientsocket.close()\n",
    "    "
   ]
  },
  {
   "cell_type": "code",
   "execution_count": null,
   "metadata": {},
   "outputs": [],
   "source": []
  }
 ],
 "metadata": {
  "kernelspec": {
   "display_name": "Python 3",
   "language": "python",
   "name": "python3"
  }
 },
 "nbformat": 4,
 "nbformat_minor": 4
}
