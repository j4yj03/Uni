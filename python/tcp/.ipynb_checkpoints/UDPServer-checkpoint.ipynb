{
 "cells": [
  {
   "cell_type": "code",
   "execution_count": 1,
   "metadata": {},
   "outputs": [],
   "source": [
    "import socket\n",
    "import struct\n",
    "import sys\n",
    "from threading import Thread\n",
    "from time import sleep"
   ]
  },
  {
   "cell_type": "code",
   "execution_count": 2,
   "metadata": {},
   "outputs": [],
   "source": [
    "host = \"141.45.180.80\"\n",
    "port = 39998"
   ]
  },
  {
   "cell_type": "code",
   "execution_count": 3,
   "metadata": {},
   "outputs": [],
   "source": [
    "class Hole_Punch_Thread(Thread):\n",
    "    def __init__(self,s_socket):\n",
    "        super(Hole_Punch_Thread, self).__init__()\n",
    "        #Thread.__init__(self)\n",
    "        self.s_socket = s_socket\n",
    "        \n",
    "    def run(self):\n",
    "\n",
    "        global port    \n",
    "        buff = b''\n",
    "        while True:\n",
    "            server.sendto(buff,('141.45.180.80', 39998)) #liam.ipv6lab.f1.htw-berlin.de\n",
    "            sleep(5) # sendet alle 5 Sekunden ein UDP-Paket, kann angepasst werden"
   ]
  },
  {
   "cell_type": "code",
   "execution_count": null,
   "metadata": {},
   "outputs": [
    {
     "name": "stdout",
     "output_type": "stream",
     "text": [
      "Socket created\n",
      "[*] UDP_Server started on 192.168.178.38:39998\n",
      "Sidney-PC\n",
      "Server:\u0000\u0000\u0000\u0004sidney\u0000\u000022\u0000\u0000\u0000\u0000\u0000\u0000\u0000\u0000\u0000\u0000\u0000\u0000\u0000\u0000\u0000\u0000\u0000\u0000\u0000\u0000\u0000\u0000\u0000\u0000\u0000\u0000\u0000\u0000\u0000\u0000\u0000\u0000\u0000\u0000\u0000\u0000\u0000\u0000\u0000\u0000\u0000\u0000\u0000\u0000\u0000\u0000\u0000\u0000\u0000\u0000\u0000\u0000\u0000\u0000\u0000\u0000\u0000\u0000\u0000\u0000\u0000\u0000\u0000\u0000\u0000\u0000\u0000\u0000\u0000\u0000\u0000\u0000\u0000\u0000\u0000\u0000\u0000\u0000\u0000\u0000\u0000\u0000\u0000\u0000\u0000\u0000\u0000\u0000\u0000\u0000\u0000\u0000\u0000\u0000\u0000\u0000\u0000\u0000\u0000\u0000\u0000\u0000\u0000\u0000\u0000\u0000\u0000\u0000\u0000\u0000\u0000\u0000\u0000\u0000\u0000\u0000\u0000\u0000\u0000\u0000\u0000\u0000\u0000\u0000\u0000\u0000\u0000\u0000\u0000\u0000\u0000\u0000\u0000\u0000\u0000\u0000\n",
      "\n"
     ]
    }
   ],
   "source": [
    "\n",
    "\n",
    "\n",
    "BUFF_SIZE = 1024\n",
    "\n",
    "\n",
    "try:               # Datagram (UDP) socket\n",
    "    server = socket.socket(socket.AF_INET, socket.SOCK_DGRAM)\n",
    "   # Die folgende Socket-Option erlaubt es einen Server-Socket schnell erneut zu öffnen \n",
    "    server.setsockopt(socket.SOL_SOCKET, socket.SO_REUSEADDR, 1) \n",
    "    print ('Socket created')\n",
    "except socket.error as msg:\n",
    "    print ('Create socket error: ' + str(msg[0]) + ' Message ' + msg[1])\n",
    "    sys.exit()\n",
    "\n",
    "try:               # Bind socket to local host and port\n",
    "    #server.bind((socket.gethostname(),port))\n",
    "    server.bind((\"192.168.178.38\",port))\n",
    "    #server.bind(('',port))\n",
    "    print (\"[*] UDP_Server started on %s:%s\" % server.getsockname())\n",
    "    print (socket.gethostname())\n",
    "except socket.error as msg:\n",
    "    print ('Bind error: ' + str(msg[0]) + ' Message ' + msg[1])\n",
    "    #sys.exit()\n",
    "\n",
    "\n",
    "#UDP-Hole Punch\n",
    "newthread = Hole_Punch_Thread(server) \n",
    "newthread.start()\n",
    "try:\n",
    "    while True:\n",
    "        reply, addr = server.recvfrom(1024)\n",
    "        #bytesAddressPair = server.recvfrom(BUFF_SIZE)\n",
    "        #print(\"Server:%s\"%reply.decode('ASCII'))\n",
    "        \n",
    "        string = struct.unpack(\"!i8s138s\",reply)\n",
    "        \n",
    "        print(string)\n",
    "        #print(bytesAddressPair)\n",
    "        #message = bytesAddressPair[0]\n",
    "\n",
    "        #address = bytesAddressPair[1]\n",
    "\n",
    "        #clientMsg = \"Message from Client:{}\".format(message)\n",
    "        #clientIP  = \"Client IP Address:{}\".format(address)\n",
    "\n",
    "        #print(clientMsg)\n",
    "        #print(clientIP)\n",
    "except Exception as e:   \n",
    "    print('{}: {}'.format(type(e).__name__, str(e.args)))\n",
    "    \n",
    "finally:\n",
    "    server.close()"
   ]
  },
  {
   "cell_type": "code",
   "execution_count": null,
   "metadata": {},
   "outputs": [],
   "source": []
  },
  {
   "cell_type": "code",
   "execution_count": null,
   "metadata": {},
   "outputs": [],
   "source": []
  }
 ],
 "metadata": {
  "kernelspec": {
   "display_name": "Python 3",
   "language": "python",
   "name": "python3"
  },
  "language_info": {
   "codemirror_mode": {
    "name": "ipython",
    "version": 3
   },
   "file_extension": ".py",
   "mimetype": "text/x-python",
   "name": "python",
   "nbconvert_exporter": "python",
   "pygments_lexer": "ipython3",
   "version": "3.7.0"
  }
 },
 "nbformat": 4,
 "nbformat_minor": 4
}
