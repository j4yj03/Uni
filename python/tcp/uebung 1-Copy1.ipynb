{
 "cells": [
  {
   "cell_type": "code",
   "execution_count": 1,
   "metadata": {},
   "outputs": [],
   "source": [
    "import socket\n",
    "from threading import *\n",
    "\n"
   ]
  },
  {
   "cell_type": "code",
   "execution_count": 2,
   "metadata": {},
   "outputs": [
    {
     "name": "stdout",
     "output_type": "stream",
     "text": [
      "Eingabe: hhh\n",
      "ServerEcho to 2.206.212.87:64000 - hhh\n"
     ]
    }
   ],
   "source": [
    "import socket\n",
    "\n",
    "host = \"liam.ipv6lab.f1.htw-berlin.de\"\n",
    "port = 41041\n",
    "BUFF_SIZE = 1024\n",
    "\n",
    "clientsocket = socket.socket(socket.AF_INET, socket.SOCK_STREAM)\n",
    "\n",
    "\n",
    "try:\n",
    "    clientsocket.connect((host, port))\n",
    "    \n",
    "    inputstr = input(\"Eingabe: \").encode('UTF-8')\n",
    "    \n",
    "    \n",
    "    clientsocket.send(inputstr)\n",
    "    \n",
    "    \n",
    "    response = b'' #8-bit ASCII Puffer\n",
    "    \n",
    "    while True:\n",
    "        part = clientsocket.recv(BUFF_SIZE)\n",
    "        response += part\n",
    "        if (not part) or len(part) < BUFF_SIZE:\n",
    "            # either 0 or end of data\n",
    "            break\n",
    "\n",
    "    print(response.decode('UTF-8'))\n",
    "    \n",
    "except Exception as e:   \n",
    "    print('{}: {}'.format(type(e).__name__, str(e.args)))\n",
    "          \n",
    "    \n",
    "finally:\n",
    "    clientsocket.close()\n",
    "    "
   ]
  },
  {
   "cell_type": "code",
   "execution_count": 9,
   "metadata": {},
   "outputs": [
    {
     "name": "stdout",
     "output_type": "stream",
     "text": [
      "Eingabe: dd\n",
      "ServerEcho to 2.206.212.87:63035 - dd\n"
     ]
    }
   ],
   "source": [
    "host = \"liam.ipv6lab.f1.htw-berlin.de\"\n",
    "port = 41041\n",
    "BUFF_SIZE = 1024\n",
    "\n",
    "clientsocket = socket.socket(socket.AF_INET, socket.SOCK_STREAM)\n",
    "\n",
    "\n",
    "try:\n",
    "        \n",
    "    connection = clientsocket.connect_ex((host, port))\n",
    "    \n",
    "    if connection: # connection > 0\n",
    "        raise Exception('Verbindung Fehlgeschlagen')\n",
    "    \n",
    "    inputstr = input(\"Eingabe: \").encode('UTF-8')\n",
    "    \n",
    "    \n",
    "    clientsocket.send(inputstr)\n",
    "    \n",
    "    \n",
    "    response = b'' #8-bit ASCII Puffer\n",
    "    \n",
    "    while True:\n",
    "        part = clientsocket.recv(BUFF_SIZE)\n",
    "        response += part\n",
    "        if (not part) or len(part) < BUFF_SIZE:\n",
    "            # either 0 or end of data\n",
    "            break\n",
    "\n",
    "    print(response.decode('UTF-8'))\n",
    "    \n",
    "except Exception:\n",
    "    \n",
    "    print('Fehler')\n",
    "    \n",
    "finally:\n",
    "    clientsocket.close()"
   ]
  },
  {
   "cell_type": "code",
   "execution_count": 2,
   "metadata": {},
   "outputs": [],
   "source": [
    "# \n",
    "class client(Thread):\n",
    "    def __init__(self, socket, address):\n",
    "        Thread.__init__(self)\n",
    "        self.sock = socket\n",
    "        self.addr = address\n",
    "        self.start()\n",
    "\n",
    "    def run(self):\n",
    "        while 1:\n",
    "            print('Client sent:', self.sock.recv(1024).decode())\n",
    "            self.sock.send(b'Oi you sent something to me')"
   ]
  },
  {
   "cell_type": "code",
   "execution_count": 3,
   "metadata": {},
   "outputs": [],
   "source": [
    "host = \"liam.ipv6lab.f1.htw-berlin.de\"\n",
    "port = 41041"
   ]
  },
  {
   "cell_type": "code",
   "execution_count": 4,
   "metadata": {},
   "outputs": [],
   "source": [
    "\n",
    "serversocket = socket.socket(socket.AF_INET, socket.SOCK_STREAM)"
   ]
  },
  {
   "cell_type": "code",
   "execution_count": 5,
   "metadata": {},
   "outputs": [],
   "source": [
    "\n",
    "#serversocket.bind((host, port))"
   ]
  },
  {
   "cell_type": "code",
   "execution_count": 7,
   "metadata": {},
   "outputs": [
    {
     "name": "stdout",
     "output_type": "stream",
     "text": [
      "hat geklappt\n",
      "\n"
     ]
    }
   ],
   "source": [
    "try:\n",
    "\n",
    "    connection = serversocket.connect((host, port))\n",
    "    print('hat geklappt')\n",
    "    \n",
    "except Exception:\n",
    "    \n",
    "    print('Fehler')\n",
    "    \n",
    "finally:\n",
    "    print()\n",
    "    "
   ]
  },
  {
   "cell_type": "code",
   "execution_count": 4,
   "metadata": {},
   "outputs": [
    {
     "name": "stdout",
     "output_type": "stream",
     "text": [
      "B-NB011\n"
     ]
    }
   ],
   "source": [
    "serversocket.listen(5)\n",
    "print ('server started and listening')\n",
    "\n",
    "while 1:\n",
    "    clientsocket, address = serversocket.accept()\n",
    "    client(clientsocket, address)"
   ]
  },
  {
   "cell_type": "code",
   "execution_count": 10,
   "metadata": {},
   "outputs": [
    {
     "name": "stdout",
     "output_type": "stream",
     "text": [
      "Eingabe: Yooo\n"
     ]
    }
   ],
   "source": [
    "text = input(\"Eingabe: \")"
   ]
  },
  {
   "cell_type": "code",
   "execution_count": null,
   "metadata": {},
   "outputs": [],
   "source": [
    "gg"
   ]
  },
  {
   "cell_type": "code",
   "execution_count": 8,
   "metadata": {},
   "outputs": [
    {
     "name": "stdout",
     "output_type": "stream",
     "text": [
      "<class 'NoneType'>\n"
     ]
    }
   ],
   "source": [
    "print(type(connection))"
   ]
  },
  {
   "cell_type": "code",
   "execution_count": null,
   "metadata": {},
   "outputs": [],
   "source": []
  }
 ],
 "metadata": {
  "kernelspec": {
   "display_name": "Python 3",
   "language": "python",
   "name": "python3"
  },
  "language_info": {
   "codemirror_mode": {
    "name": "ipython",
    "version": 3
   },
   "file_extension": ".py",
   "mimetype": "text/x-python",
   "name": "python",
   "nbconvert_exporter": "python",
   "pygments_lexer": "ipython3",
   "version": "3.8.0"
  }
 },
 "nbformat": 4,
 "nbformat_minor": 4
}
