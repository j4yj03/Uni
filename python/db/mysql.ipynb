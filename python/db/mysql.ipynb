{
 "cells": [
  {
   "cell_type": "code",
   "execution_count": 1,
   "metadata": {},
   "outputs": [],
   "source": [
    "import mysql.connector\n",
    "import getpass "
   ]
  },
  {
   "cell_type": "code",
   "execution_count": 2,
   "metadata": {},
   "outputs": [
    {
     "name": "stdout",
     "output_type": "stream",
     "text": [
      "User: xxxxxx\n",
      "Password: ········\n"
     ]
    }
   ],
   "source": [
    "url = 'xxxx.netcup.net'\n",
    "db = 'xxxxxxx.t_data'\n",
    "user = input('User: ')\n",
    "pwd = getpass.getpass(prompt='Password: ', stream=None) "
   ]
  },
  {
   "cell_type": "code",
   "execution_count": 3,
   "metadata": {},
   "outputs": [
    {
     "name": "stdout",
     "output_type": "stream",
     "text": [
      "Succes.\n"
     ]
    }
   ],
   "source": [
    "try:\n",
    "    mydb = mysql.connector.connect(\n",
    "      host=url,\n",
    "      user=user,\n",
    "      password=pwd\n",
    "    )\n",
    "\n",
    "    mycursor = mydb.cursor()\n",
    "    \n",
    "    print('Succes.')\n",
    "    \n",
    "except Exception as e:\n",
    "    print(f'{type(e).__name__}: {e.args}')\n",
    "\n",
    "finally:\n",
    "    pass"
   ]
  },
  {
   "cell_type": "markdown",
   "metadata": {},
   "source": [
    "## select *"
   ]
  },
  {
   "cell_type": "code",
   "execution_count": 5,
   "metadata": {},
   "outputs": [
    {
     "name": "stdout",
     "output_type": "stream",
     "text": [
      "InternalError: (-1, 'Unread result found', None)\n"
     ]
    }
   ],
   "source": [
    "try:\n",
    "    \n",
    "    \n",
    "    sql = f\"SELECT * FROM {db}\"\n",
    "\n",
    "    mycursor.execute(sql)\n",
    "\n",
    "    myresult = mycursor.fetchall()\n",
    "\n",
    "    for x in myresult:\n",
    "        print(x)\n",
    "    \n",
    "except Exception as e:\n",
    "    print(f'{type(e).__name__}: {e.args}')\n",
    "\n",
    "finally:\n",
    "    pass"
   ]
  },
  {
   "cell_type": "markdown",
   "metadata": {},
   "source": [
    "## Insert Row"
   ]
  },
  {
   "cell_type": "code",
   "execution_count": 6,
   "metadata": {},
   "outputs": [
    {
     "name": "stdout",
     "output_type": "stream",
     "text": [
      "name: ll7\n",
      "InternalError: (-1, 'Unread result found', None)\n"
     ]
    }
   ],
   "source": [
    "try:\n",
    "    \n",
    "    name = input('name: ')\n",
    "    \n",
    "    sql = f\"INSERT INTO {db}(name, lang, level, content) VALUES (%s, %s, %s, %s)\"\n",
    "    val = (\"John\", \"Highway 21\",5,\"kkkkkkk\")\n",
    "    mycursor.execute(sql, val)\n",
    "\n",
    "    mydb.commit()\n",
    "\n",
    "    print(mycursor.rowcount, \"record inserted.\")\n",
    "    \n",
    "except Exception as e:\n",
    "    print(f'{type(e).__name__}: {e.args}')\n",
    "\n",
    "finally:\n",
    "    pass"
   ]
  },
  {
   "cell_type": "markdown",
   "metadata": {},
   "source": [
    "## Delete Row"
   ]
  },
  {
   "cell_type": "code",
   "execution_count": 7,
   "metadata": {},
   "outputs": [
    {
     "name": "stdout",
     "output_type": "stream",
     "text": [
      "Id: 3\n",
      "InternalError: (-1, 'Unread result found', None)\n"
     ]
    }
   ],
   "source": [
    "try:\n",
    "    idx = input('Id: ')\n",
    "    sql = f\"DELETE FROM  {db} WHERE ID = {idx}\"\n",
    "\n",
    "    mycursor.execute(sql)\n",
    "\n",
    "    mydb.commit()\n",
    "\n",
    "    print(mycursor.rowcount, \"record(s) deleted\")\n",
    "\n",
    "except Exception as e:\n",
    "    print(f'{type(e).__name__}: {e.args}')\n",
    "\n",
    "finally:\n",
    "    pass\n"
   ]
  },
  {
   "cell_type": "code",
   "execution_count": null,
   "metadata": {},
   "outputs": [],
   "source": []
  }
 ],
 "metadata": {
  "kernelspec": {
   "display_name": "Python 3",
   "language": "python",
   "name": "python3"
  },
  "language_info": {
   "codemirror_mode": {
    "name": "ipython",
    "version": 3
   },
   "file_extension": ".py",
   "mimetype": "text/x-python",
   "name": "python",
   "nbconvert_exporter": "python",
   "pygments_lexer": "ipython3",
   "version": "3.7.0"
  }
 },
 "nbformat": 4,
 "nbformat_minor": 4
}
