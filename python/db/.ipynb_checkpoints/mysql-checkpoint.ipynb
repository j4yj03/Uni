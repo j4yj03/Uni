{
 "cells": [
  {
   "cell_type": "code",
   "execution_count": 21,
   "metadata": {},
   "outputs": [],
   "source": [
    "import mysql.connector\n",
    "import getpass "
   ]
  },
  {
   "cell_type": "code",
   "execution_count": 22,
   "metadata": {},
   "outputs": [
    {
     "name": "stdout",
     "output_type": "stream",
     "text": [
      "User: web825\n",
      "Password: ········\n"
     ]
    }
   ],
   "source": [
    "url = 'we4c5.netcup.net'\n",
    "db = 'usr_web825_1.t_data'\n",
    "user = input('User: ')\n",
    "pwd = getpass.getpass(prompt='Password: ', stream=None) "
   ]
  },
  {
   "cell_type": "code",
   "execution_count": 23,
   "metadata": {},
   "outputs": [
    {
     "name": "stdout",
     "output_type": "stream",
     "text": [
      "Succes.\n"
     ]
    }
   ],
   "source": [
    "try:\n",
    "    mydb = mysql.connector.connect(\n",
    "      host=url,\n",
    "      user=user,\n",
    "      password=pwd\n",
    "    )\n",
    "\n",
    "    mycursor = mydb.cursor()\n",
    "    \n",
    "    print('Succes.')\n",
    "    \n",
    "except Exception as e:\n",
    "    print(f'{type(e).__name__}: {e.args}')\n",
    "\n",
    "finally:\n",
    "    pass"
   ]
  },
  {
   "cell_type": "markdown",
   "metadata": {},
   "source": [
    "## Insert Row"
   ]
  },
  {
   "cell_type": "code",
   "execution_count": 24,
   "metadata": {},
   "outputs": [
    {
     "name": "stdout",
     "output_type": "stream",
     "text": [
      "name: g\n",
      "ProgrammingError: (1054, \"1054 (42S22): Unknown column 'link' in 'field list'\", '42S22')\n"
     ]
    }
   ],
   "source": [
    "try:\n",
    "    \n",
    "    name = input('name: ')\n",
    "    \n",
    "    sql = f\"INSERT INTO {db}(name, lang, level, content) VALUES (%s, %s, %s, %s)\"\n",
    "    val = (\"John\", \"Highway 21\",5,\"kkkkkkk\")\n",
    "    mycursor.execute(sql, val)\n",
    "\n",
    "    mydb.commit()\n",
    "\n",
    "    print(mycursor.rowcount, \"record inserted.\")\n",
    "    \n",
    "except Exception as e:\n",
    "    print(f'{type(e).__name__}: {e.args}')\n",
    "\n",
    "finally:\n",
    "    pass"
   ]
  },
  {
   "cell_type": "markdown",
   "metadata": {},
   "source": [
    "## Delete Row"
   ]
  },
  {
   "cell_type": "code",
   "execution_count": 17,
   "metadata": {},
   "outputs": [
    {
     "name": "stdout",
     "output_type": "stream",
     "text": [
      "Id: 2\n",
      "1 record(s) deleted\n"
     ]
    }
   ],
   "source": [
    "try:\n",
    "    idx = input('Id: ')\n",
    "    sql = f\"DELETE FROM  {db} WHERE ID = {idx}\"\n",
    "\n",
    "    mycursor.execute(sql)\n",
    "\n",
    "    mydb.commit()\n",
    "\n",
    "    print(mycursor.rowcount, \"record(s) deleted\")\n",
    "\n",
    "except Exception as e:\n",
    "    print(f'{type(e).__name__}: {e.args}')\n",
    "\n",
    "finally:\n",
    "    pass\n"
   ]
  },
  {
   "cell_type": "code",
   "execution_count": null,
   "metadata": {},
   "outputs": [],
   "source": []
  }
 ],
 "metadata": {
  "kernelspec": {
   "display_name": "Python 3",
   "language": "python",
   "name": "python3"
  },
  "language_info": {
   "codemirror_mode": {
    "name": "ipython",
    "version": 3
   },
   "file_extension": ".py",
   "mimetype": "text/x-python",
   "name": "python",
   "nbconvert_exporter": "python",
   "pygments_lexer": "ipython3",
   "version": "3.7.0"
  }
 },
 "nbformat": 4,
 "nbformat_minor": 4
}
