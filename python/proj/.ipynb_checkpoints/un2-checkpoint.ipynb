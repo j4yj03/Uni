{
 "cells": [
  {
   "cell_type": "markdown",
   "metadata": {},
   "source": [
    "# Projekt SE\n",
    "swfqedg\n"
   ]
  },
  {
   "cell_type": "code",
   "execution_count": 1,
   "metadata": {},
   "outputs": [],
   "source": [
    "###############################################################################\n",
    "# blabla\n",
    "# Sidney Göhler 544131\n",
    "#### IKT (M)\n",
    "# Special Engineering SoSe20\n",
    "# Prof. Dr. Andreas Zeiser\n",
    "###############################################################################\n",
    "import pandas as pd\n",
    "import numpy as np\n",
    "\n",
    "from scipy.io import loadmat\n",
    "from scipy.stats import kurtosis\n",
    "from scipy.stats import skew\n",
    "\n",
    "import time\n",
    "from sys import getsizeof\n",
    "\n",
    "from itertools import permutations, count #,izip\n",
    "\n",
    "from pathlib import Path\n",
    "\n",
    "import seaborn as sns\n",
    "import matplotlib.pyplot as plt\n",
    "from matplotlib import cm\n",
    "import matplotlib.gridspec as gridspec\n",
    "import matplotlib.image as mpimg\n",
    "\n",
    "\n",
    "from sklearn.model_selection import train_test_split\n",
    "\n",
    "from sklearn.mixture import GaussianMixture\n",
    "from sklearn.neighbors import LocalOutlierFactor\n",
    "from sklearn.cluster import KMeans\n",
    "from sklearn.svm import OneClassSVM\n",
    "\n",
    "from sklearn.metrics import classification_report, confusion_matrix, roc_curve, auc\n",
    "from sklearn.preprocessing import MinMaxScaler\n",
    "from sklearn.decomposition import PCA\n",
    "from sklearn.manifold import TSNE\n",
    "\n",
    "from keras.layers import Input, Dense, Dropout, LSTM, Conv2D, MaxPooling2D, UpSampling2D\n",
    "from keras import regularizers\n",
    "from keras.losses import BinaryCrossentropy, mean_squared_error, KLDivergence# SparseCategoricalCrossentropy\n",
    "from keras.models import Model\n",
    "from keras.callbacks import ModelCheckpoint, EarlyStopping\n",
    "\n",
    "\n",
    "%load_ext autoreload\n",
    "%autoreload 2"
   ]
  },
  {
   "cell_type": "markdown",
   "metadata": {},
   "source": [
    "Hilfsfunktionen definieren"
   ]
  },
  {
   "cell_type": "code",
   "execution_count": 2,
   "metadata": {},
   "outputs": [],
   "source": [
    "def plot_stats(dr, axis=0, color='tab:blue', plot=False):\n",
    "        \n",
    "    a = (np.std(dr, axis=axis))\n",
    "    b = (np.var(dr, axis=axis))\n",
    "    c = (skew(dr, axis=axis))\n",
    "    d = (kurtosis(dr, axis=axis))\n",
    "    \n",
    "    if plot:\n",
    "        fig = plt.figure(figsize=(15,7))\n",
    "        ax = fig.add_subplot(111)\n",
    "\n",
    "        ax.set_title('Histogramm')\n",
    "        sns.distplot(dr,  ax=ax, color=color);\n",
    "        #ax.legend((*hist.legend_elements()))\n",
    "        plt.show()\n",
    "    \n",
    "    \n",
    "        fig = plt.figure(figsize=(14,14))\n",
    "        ax1 = fig.add_subplot(221)\n",
    "        ax1.plot(a, 'tab:red', label='std')\n",
    "        ax1.legend()\n",
    "        ax2 = fig.add_subplot(222)\n",
    "        ax2.plot(b, 'tab:green', label='var')\n",
    "        ax2.legend()\n",
    "        ax3 = fig.add_subplot(223)\n",
    "        ax3.plot(d, 'tab:purple', label='kurtosis')\n",
    "        ax3.legend()\n",
    "        ax4 = fig.add_subplot(224)\n",
    "        ax4.plot(c, 'tab:olive', label='skew')\n",
    "        ax4.legend()\n",
    "        plt.show()\n",
    "    \n",
    "    return a, b, c, d"
   ]
  },
  {
   "cell_type": "code",
   "execution_count": 3,
   "metadata": {},
   "outputs": [],
   "source": [
    "def clust_eval(y_pred, y_train, name=\"\"):\n",
    "    fig1 = plt.figure(figsize=(16,6))\n",
    "    gs = gridspec.GridSpec(1,2)\n",
    "\n",
    "    ax1 = plt.subplot(gs[0])\n",
    "    cnf_matrix = confusion_matrix(y_train,y_pred)\n",
    "    row_sum = cnf_matrix.sum(axis=1,keepdims=True)\n",
    "    #print(cnf_matrix)\n",
    "    #print(row_sum)\n",
    "    cnf_matrix_norm =cnf_matrix / row_sum\n",
    "    sns.heatmap(cnf_matrix_norm,cmap='YlGnBu',annot=True, xticklabels=[\"1 good\",\"0 defect\"], yticklabels=[\"1 good\",\"0 defect\"])\n",
    "\n",
    "    ax1.set_xlabel(\"Predicted\")\n",
    "    ax1.set_ylabel(\"Actual\")\n",
    "    plt.title(f\"Normalized Confusion Matrix - {name}\")\n",
    "\n",
    "\n",
    "    #ROC Curve Trainingdata \n",
    "\n",
    "\n",
    "\n",
    "    ax3 = plt.subplot(gs[1])\n",
    "\n",
    "    fpr, tpr, thresholds = roc_curve(y_train, y_pred)\n",
    "\n",
    "    roc_auc = auc(fpr, tpr)\n",
    "\n",
    "    \n",
    "    plt.plot(fpr, tpr, lw=1, alpha=0.9,\n",
    "             label='ROC (AUC = %0.2f)' % (roc_auc))\n",
    "\n",
    "\n",
    "    plt.plot([0, 1], [0, 1], linestyle='--', lw=2, color='r',\n",
    "             label='Chance', alpha=.7)\n",
    "\n",
    "\n",
    "    plt.xlim([-0.02, 1.02])\n",
    "    plt.ylim([-0.02, 1.02])\n",
    "    plt.xlabel('False Positive Rate')\n",
    "    plt.ylabel('True Positive Rate')\n",
    "    plt.title(f'ROC Curve - {name}')\n",
    "    plt.legend(loc=\"lower right\")\n",
    "    \n",
    "    return roc_auc"
   ]
  },
  {
   "cell_type": "code",
   "execution_count": 4,
   "metadata": {},
   "outputs": [],
   "source": [
    "def ae_classy(mse, threshold):\n",
    "    y_pred_ae = []\n",
    "\n",
    "    for i, loss in enumerate(mse):\n",
    "\n",
    "        if loss >= threshold:\n",
    "            y_pred_ae.append(0) # defect\n",
    "        else:\n",
    "            y_pred_ae.append(1) # good\n",
    "            \n",
    "    return y_pred_ae"
   ]
  },
  {
   "cell_type": "code",
   "execution_count": 196,
   "metadata": {},
   "outputs": [],
   "source": [
    "def create_model(loss_fn = \"mse\", input_dim=2, file=\"autoencoder.h5\"):    \n",
    "    \n",
    "    input_layer = Input(shape=(input_dim, ))\n",
    "\n",
    "    encoder = Dense(int(input_dim / 2), activation=\"relu\")(input_layer)\n",
    "\n",
    "    dropout = Dropout(0.1)(encoder)\n",
    "\n",
    "    encoder = Dense(int(input_dim / 4), activation=\"relu\")(dropout)\n",
    "\n",
    "    dropout = Dropout(0.1)(encoder)\n",
    "\n",
    "    decoder = Dense(int(input_dim / 2), activation='relu')(dropout)\n",
    "\n",
    "    decoder = Dense(input_dim, activation=None)(decoder)\n",
    "\n",
    "    checkpointer = ModelCheckpoint(filepath=file,\n",
    "                           verbose=0,\n",
    "                           save_best_only=True)\n",
    "\n",
    "    early_stopping = EarlyStopping(patience=patience,\n",
    "                           verbose=0,\n",
    "                           restore_best_weights=True)\n",
    "\n",
    "    \n",
    "    autoencoder = Model(inputs=input_layer, outputs=decoder)\n",
    "    \n",
    "    autoencoder.compile(optimizer='adam', \n",
    "                    loss=loss_fn,\n",
    "                       metrics=['accuracy'])\n",
    "    #autoencoder.compile(optimizer='adadelta',\n",
    "#                    loss='binary_crossentropy', \n",
    "#                    metrics=['accuracy'])\n",
    "\n",
    "    \n",
    "    return autoencoder, checkpointer, early_stopping"
   ]
  },
  {
   "cell_type": "markdown",
   "metadata": {},
   "source": [
    "# MATLAB Matizen laden\n",
    "Die Datensets befinden sich im MATLAB Format und werden zunachst geladen."
   ]
  },
  {
   "cell_type": "code",
   "execution_count": 6,
   "metadata": {},
   "outputs": [
    {
     "name": "stdout",
     "output_type": "stream",
     "text": [
      "112 (111, 17089) 26.413447263145173\n",
      "112 (109, 17236) 16.648241834407273\n",
      "112 (223, 17089) 590.1683374744971\n",
      "112 (218, 17236) 592.5773385229529\n"
     ]
    }
   ],
   "source": [
    "\n",
    "path = \"D:/Documents/Uni/Special Engineering/Projektdaten/\"\n",
    "\n",
    "files = [\"fftArray_defectLines.mat\",\n",
    "         \"fftArray_goodLines.mat\",\n",
    "         \"realSpace_defectLines.mat\",\n",
    "         \"realSpace_goodLines.mat\",\n",
    "         \"timeTable_defectLines.mat\",\n",
    "         \"timeTable_goodLines.mat\"]\n",
    "\n",
    "keys =['fftFeat','fftFeat','realSpace','realSpace','timeTable','timeTable']\n",
    "\n",
    "\n",
    "mat = []\n",
    "data =[]\n",
    "\n",
    "for f in files:\n",
    "    mat.append(loadmat(path+f))\n",
    "\n",
    "    \n",
    "for i, m in enumerate(mat[:-2]):\n",
    "    \n",
    "    ds = m[keys[i]]\n",
    "    \n",
    "    print(getsizeof(ds),np.shape(ds),np.max(ds))\n",
    "    \n",
    "    data.append(pd.DataFrame(ds))\n",
    "    \n",
    "    #data.append(m[keys[i]])\n",
    "#data = mat['fftFeat']"
   ]
  },
  {
   "cell_type": "markdown",
   "metadata": {
    "scrolled": true
   },
   "source": [
    "in erster Linie sind die ersten beiden Datensets interessant.\n"
   ]
  },
  {
   "cell_type": "raw",
   "metadata": {
    "scrolled": false
   },
   "source": [
    "for i, m in enumerate(mat[-1:]):\n",
    "    vec = m['__function_workspace__'][0]\n",
    "    print(len(vec))#-17280000)\n",
    "    data.append(pd.DataFrame(vec))\n",
    "    for _ in m['None']:\n",
    "        for val in _:\n",
    "            for k in val:\n",
    "                print(_,val,k)"
   ]
  },
  {
   "cell_type": "markdown",
   "metadata": {},
   "source": [
    "# Quellen\n",
    "\n",
    "Measures of Skewness and Kurtosis\n",
    "https://www.itl.nist.gov/div898/handbook/eda/section3/eda35b.htm\n"
   ]
  },
  {
   "cell_type": "raw",
   "metadata": {
    "scrolled": false
   },
   "source": [
    "series = []\n",
    "title = ['defect','good']\n",
    "series.append(data[2][0:216].T[0:17089])\n",
    "series.append(data[3][0:216].T[0:17089])\n",
    "\n",
    "le = range(len(series[0])-1)\n",
    "for i in le:\n",
    "    for s,t in zip(series,title):\n",
    "        print(np.shape(s))\n",
    "        \n",
    "        \n",
    "        \n",
    "        fig = plt.figure(figsize=(14,12))\n",
    "        ax = fig.add_subplot(111)\n",
    "        ax.set_title(f'{i} {t}')\n",
    "        plt.plot(s[i])\n",
    "        plt.show()\n",
    "    #mat = ax.matshow(s, cmap = cm.magma)\n",
    "    \n",
    "    #fig.colorbar(mat, ax=ax, orientation='vertical')\n",
    "    #ax.set_aspect('auto')\n"
   ]
  },
  {
   "cell_type": "code",
   "execution_count": null,
   "metadata": {},
   "outputs": [],
   "source": []
  },
  {
   "cell_type": "code",
   "execution_count": null,
   "metadata": {},
   "outputs": [],
   "source": []
  },
  {
   "cell_type": "raw",
   "metadata": {},
   "source": []
  },
  {
   "cell_type": "code",
   "execution_count": null,
   "metadata": {},
   "outputs": [],
   "source": []
  },
  {
   "cell_type": "code",
   "execution_count": null,
   "metadata": {},
   "outputs": [],
   "source": []
  },
  {
   "cell_type": "code",
   "execution_count": 14,
   "metadata": {},
   "outputs": [
    {
     "name": "stdout",
     "output_type": "stream",
     "text": [
      "(218, 17089)\n",
      "(218, 17089)\n"
     ]
    }
   ],
   "source": [
    "\n",
    "series = []\n",
    "title = ['defect','good']\n",
    "\n",
    "#series.append(data[2].T[0:17089].T)\n",
    "#series.append(data[3].T[0:17089].T)\n",
    "series.append(data[2][0:218].T[0:17089].T)\n",
    "series.append(data[3].T[0:17089].T)\n",
    "\n",
    "for s in series:\n",
    "    print(np.shape(s))\n"
   ]
  },
  {
   "cell_type": "markdown",
   "metadata": {},
   "source": [
    "# PCA on Realspace data\n",
    "Aufgrund der extrem hohen Dimensionalistät bietet es sich an die Anzahl der Features mittel Pr zu reduzieren."
   ]
  },
  {
   "cell_type": "code",
   "execution_count": 74,
   "metadata": {
    "scrolled": false
   },
   "outputs": [],
   "source": [
    "series_pca = []\n",
    "pcas = []\n",
    "pca = None\n",
    "\n",
    "\n",
    "\n",
    "for t in series:\n",
    "#\n",
    "   # for i,_ in enumerate(t):\n",
    "    t = t.T\n",
    "    \n",
    "\n",
    "    \n",
    "    #l = np.size(t,1)/10\n",
    "\n",
    "    pca = PCA(n_components=80)\n",
    "    \n",
    "    pc = pca.fit(t)\n",
    "    pcas.append(pc)\n",
    "    trans = pc.transform(t)\n",
    "\n",
    "    series_pca.append(trans)"
   ]
  },
  {
   "cell_type": "markdown",
   "metadata": {},
   "source": [
    "# Real Space\n",
    "\n",
    "Analyse des Real Space"
   ]
  },
  {
   "cell_type": "code",
   "execution_count": 79,
   "metadata": {
    "scrolled": true
   },
   "outputs": [
    {
     "name": "stdout",
     "output_type": "stream",
     "text": [
      "########################################## defect (218, 17089) (17089, 80) ##########################################\n",
      "########################################## good (218, 17089) (17089, 80) ##########################################\n",
      "(17089, 222)\n",
      "(17089, 222)\n"
     ]
    }
   ],
   "source": [
    "X_train_defect = []\n",
    "X_train_defect_pca = []\n",
    "X_train_good = []\n",
    "X_train_good_pca = []\n",
    "#######\n",
    "X_train_pca = []\n",
    "pcas = []\n",
    "pca = None\n",
    "\n",
    "#######\n",
    "\n",
    "\n",
    "for ind, s, sp, t, lab in zip(count(), series, series_pca, title, [0, 1]):\n",
    "    \n",
    "    color = cm.tab10(lab)\n",
    "    \n",
    "    #sp = sp.T\n",
    "    print('##########################################'\n",
    "          ,t,np.shape(s), np.shape(sp),'##########################################')\n",
    "    \n",
    "    \n",
    "    for r in range(len(s.T)):\n",
    "      \n",
    "        se = np.array(s[r])\n",
    "        se_transformed = np.array(sp[r])\n",
    "        \n",
    "        #print(np.shape(se))\n",
    "        \n",
    "        a,b,c,d = plot_stats(se, 0)\n",
    "\n",
    "        \n",
    "        se = np.r_[se, a, b, c, d]\n",
    "        se_transformed = np.r_[se_transformed, a, b, c, d]\n",
    "        \n",
    "        #a,b,c,d = plot_stats(se_transformed, 0)\n",
    "        \n",
    "        #print(lab)\n",
    "        \n",
    "        if (lab==0):\n",
    "            X_train_defect.append(se)\n",
    "            X_train_defect_pca.append(se_transformed)\n",
    "        else:\n",
    "            X_train_good.append(se)\n",
    "            X_train_good_pca.append(se_transformed)\n"
   ]
  },
  {
   "cell_type": "markdown",
   "metadata": {},
   "source": [
    "append stats"
   ]
  },
  {
   "cell_type": "code",
   "execution_count": 80,
   "metadata": {},
   "outputs": [],
   "source": [
    "G = pd.DataFrame(X_train_good)\n",
    "D = pd.DataFrame(X_train_defect)\n",
    "\n",
    "Gp = pd.DataFrame(X_train_good_pca)\n",
    "Dp = pd.DataFrame(X_train_defect_pca)"
   ]
  },
  {
   "cell_type": "code",
   "execution_count": 20,
   "metadata": {},
   "outputs": [
    {
     "name": "stdout",
     "output_type": "stream",
     "text": [
      "(5697, 222) (5696, 222) (5696, 222)\n",
      "(5697, 222) (5696, 222) (5696, 222)\n"
     ]
    }
   ],
   "source": [
    "G_train, G_valid, D_train, D_valid = train_test_split(G, D, test_size=0.6666, shuffle = True)\n",
    "G_test, G_valid, D_test, D_valid = train_test_split(G_valid, D_valid, test_size=0.5, shuffle = True)\n",
    "\n",
    "print(np.shape(G_train),np.shape(G_valid),np.shape(G_test))\n",
    "print(np.shape(D_train),np.shape(D_valid),np.shape(D_test))"
   ]
  },
  {
   "cell_type": "code",
   "execution_count": 81,
   "metadata": {
    "scrolled": true
   },
   "outputs": [
    {
     "name": "stdout",
     "output_type": "stream",
     "text": [
      "(5697, 84) (5696, 84) (5696, 84)\n",
      "(5697, 84) (5696, 84) (5696, 84)\n"
     ]
    }
   ],
   "source": [
    "G_trainp, G_validp, D_trainp, D_validp = train_test_split(Gp, Dp, test_size=0.6666, shuffle = True)\n",
    "G_testp, G_validp, D_testp, D_validp = train_test_split(G_validp, D_validp, test_size=0.5, shuffle = True)\n",
    "\n",
    "print(np.shape(G_trainp),np.shape(G_validp),np.shape(G_testp))\n",
    "print(np.shape(D_trainp),np.shape(D_validp),np.shape(D_testp))"
   ]
  },
  {
   "cell_type": "raw",
   "metadata": {},
   "source": []
  },
  {
   "cell_type": "code",
   "execution_count": null,
   "metadata": {},
   "outputs": [],
   "source": []
  },
  {
   "cell_type": "code",
   "execution_count": null,
   "metadata": {},
   "outputs": [],
   "source": []
  },
  {
   "cell_type": "code",
   "execution_count": null,
   "metadata": {},
   "outputs": [],
   "source": []
  },
  {
   "cell_type": "code",
   "execution_count": null,
   "metadata": {},
   "outputs": [],
   "source": []
  },
  {
   "cell_type": "code",
   "execution_count": null,
   "metadata": {},
   "outputs": [],
   "source": []
  },
  {
   "cell_type": "code",
   "execution_count": null,
   "metadata": {},
   "outputs": [],
   "source": []
  },
  {
   "cell_type": "raw",
   "metadata": {},
   "source": []
  },
  {
   "cell_type": "markdown",
   "metadata": {},
   "source": [
    "# FFT Spektrum\n",
    "\n",
    "Analy des FFT Spektrums"
   ]
  },
  {
   "cell_type": "raw",
   "metadata": {
    "scrolled": true
   },
   "source": []
  },
  {
   "cell_type": "markdown",
   "metadata": {},
   "source": [
    "# concanate trainset"
   ]
  },
  {
   "cell_type": "raw",
   "metadata": {},
   "source": []
  },
  {
   "cell_type": "raw",
   "metadata": {},
   "source": []
  },
  {
   "cell_type": "code",
   "execution_count": null,
   "metadata": {},
   "outputs": [],
   "source": []
  },
  {
   "cell_type": "markdown",
   "metadata": {},
   "source": [
    "# GMM"
   ]
  },
  {
   "cell_type": "code",
   "execution_count": null,
   "metadata": {},
   "outputs": [],
   "source": [
    "aucs = []"
   ]
  },
  {
   "cell_type": "code",
   "execution_count": 119,
   "metadata": {
    "scrolled": true
   },
   "outputs": [
    {
     "name": "stdout",
     "output_type": "stream",
     "text": [
      "(5697, 222)\n",
      "GMM converged = True\n",
      "in 34 iters\n"
     ]
    }
   ],
   "source": [
    "\n",
    "# estimate for y_train==1 (good lines)\n",
    "print(np.shape(G_train))\n",
    "gm_realspace = GaussianMixture(n_components=2,\n",
    "                               covariance_type='diag',\n",
    "                               tol=0.000000001, \n",
    "                               reg_covar=0.00000000001, \n",
    "                               max_iter=100,\n",
    "                               n_init=10,\n",
    "                               init_params='kmeans',\n",
    "                               verbose=0)\n",
    "\n",
    "gm_realspace.fit(Gp)\n",
    "\n",
    "print('GMM converged =',gm_realspace.converged_)\n",
    "print('in',gm_realspace.n_iter_,'iters')\n",
    "#models.append(gm_realspace)"
   ]
  },
  {
   "cell_type": "code",
   "execution_count": 110,
   "metadata": {},
   "outputs": [
    {
     "name": "stdout",
     "output_type": "stream",
     "text": [
      "570\n",
      "570\n",
      "1709\n"
     ]
    }
   ],
   "source": [
    "labels = np.zeros(len(G_trainp))\n",
    "thres = 90\n",
    "\n",
    "\n",
    "# predict on validation and testdata\n",
    "densities = gm_realspace.score_samples(G_validp)\n",
    "density_threshold = np.percentile(densities, thres)\n",
    "\n",
    "outliers = G_validp[densities >= density_threshold]\n",
    "\n",
    "\n",
    "print(len(outliers))\n",
    "#labels[outliers.index] = 1\n",
    "\n",
    "# predict on validation and testdata\n",
    "densities = gm_realspace.score_samples(G_testp)\n",
    "density_threshold = np.percentile(densities, thres)\n",
    "\n",
    "outliers = G_testp[densities >= density_threshold]\n",
    "\n",
    "\n",
    "print(len(outliers))\n",
    "\n",
    "\n",
    "# predict on validation and testdata\n",
    "densities = gm_realspace.score_samples(Gp)\n",
    "density_threshold = np.percentile(densities, thres)\n",
    "\n",
    "outliers = Gp[densities >= density_threshold]\n",
    "\n",
    "\n",
    "print(len(outliers))\n",
    "\n",
    "#for d in densities:\n",
    " #   print(d)"
   ]
  },
  {
   "cell_type": "code",
   "execution_count": 120,
   "metadata": {},
   "outputs": [
    {
     "name": "stdout",
     "output_type": "stream",
     "text": [
      "(17089, 84)\n",
      "1709\n"
     ]
    }
   ],
   "source": [
    "print(np.shape(Gp))\n",
    "densities = gm_realspace.score_samples(Gp)\n",
    "density_threshold = np.percentile(densities, thres)\n",
    "\n",
    "outliers = Gp[densities >= density_threshold]\n",
    "\n",
    "\n",
    "print(len(outliers))"
   ]
  },
  {
   "cell_type": "code",
   "execution_count": 121,
   "metadata": {},
   "outputs": [
    {
     "name": "stdout",
     "output_type": "stream",
     "text": [
      "(17089, 84)\n",
      "1709\n"
     ]
    }
   ],
   "source": [
    "print(np.shape(Dp))\n",
    "densities = gm_realspace.score_samples(Dp)\n",
    "density_threshold = np.percentile(densities, thres)\n",
    "\n",
    "outliers = Dp[densities >= density_threshold]\n",
    "\n",
    "\n",
    "print(len(outliers))"
   ]
  },
  {
   "cell_type": "code",
   "execution_count": null,
   "metadata": {},
   "outputs": [],
   "source": [
    "print(outliers)"
   ]
  },
  {
   "cell_type": "markdown",
   "metadata": {},
   "source": [
    " etewrg"
   ]
  },
  {
   "cell_type": "markdown",
   "metadata": {},
   "source": [
    "# predict scores and identify outliers"
   ]
  },
  {
   "cell_type": "code",
   "execution_count": null,
   "metadata": {},
   "outputs": [],
   "source": [
    "labels = np.zeros(len(X_train))\n",
    "thres = 45\n",
    "\n",
    "\n",
    "# predict on whole DS\n",
    "densities = gm_realspace.score_samples(X_train)\n",
    "density_threshold = np.percentile(densities, thres)\n",
    "\n",
    "outliers = X_train[densities >= density_threshold]\n",
    "\n",
    "labels[outliers.index] = 1"
   ]
  },
  {
   "cell_type": "code",
   "execution_count": null,
   "metadata": {},
   "outputs": [],
   "source": [
    "gmm_auc = clust_eval(labels, Y_train, \"GMM\")\n",
    "aucs.append(gmm_auc)"
   ]
  },
  {
   "cell_type": "code",
   "execution_count": null,
   "metadata": {},
   "outputs": [],
   "source": []
  },
  {
   "cell_type": "code",
   "execution_count": null,
   "metadata": {},
   "outputs": [],
   "source": []
  },
  {
   "cell_type": "markdown",
   "metadata": {},
   "source": [
    "# K-Means"
   ]
  },
  {
   "cell_type": "code",
   "execution_count": null,
   "metadata": {},
   "outputs": [],
   "source": [
    "#K means\n",
    "\n",
    "\n",
    "kmeans = KMeans(n_clusters=2).fit(X_train[Y_train==1])\n",
    "km_label = kmeans.labels_\n",
    "km_center = kmeans.cluster_centers_\n",
    "\n",
    "km_pred = kmeans.predict(X_train)\n"
   ]
  },
  {
   "cell_type": "code",
   "execution_count": null,
   "metadata": {},
   "outputs": [],
   "source": [
    "km_auc = clust_eval(km_pred , Y_train, \"k-means\")\n",
    "aucs.append(km_auc)"
   ]
  },
  {
   "cell_type": "markdown",
   "metadata": {},
   "source": [
    "# One Class SVM"
   ]
  },
  {
   "cell_type": "code",
   "execution_count": null,
   "metadata": {},
   "outputs": [],
   "source": [
    "clf = OneClassSVM(kernel='sigmoid',\n",
    "                  degree=3,\n",
    "                  gamma='auto',\n",
    "                  coef0=1,\n",
    "                  tol=0.00001,\n",
    "                  nu=0.01,\n",
    "                  shrinking=False,\n",
    "                  cache_size=100,\n",
    "                  verbose=False,\n",
    "                  max_iter=10000).fit(X_train[Y_train==1])\n",
    "\n",
    "ocsvm_pred = clf.predict(X_train)\n",
    "\n",
    "\n",
    "ocsvm_pred[ocsvm_pred==-1]=0\n"
   ]
  },
  {
   "cell_type": "code",
   "execution_count": null,
   "metadata": {},
   "outputs": [],
   "source": [
    "svmauc = clust_eval(ocsvm_pred, Y_train, \"OneClass SVM\")\n",
    "aucs.append(svmauc)"
   ]
  },
  {
   "cell_type": "code",
   "execution_count": null,
   "metadata": {},
   "outputs": [],
   "source": []
  },
  {
   "cell_type": "code",
   "execution_count": null,
   "metadata": {},
   "outputs": [],
   "source": []
  },
  {
   "cell_type": "markdown",
   "metadata": {},
   "source": [
    "# Autoencoder"
   ]
  },
  {
   "cell_type": "raw",
   "metadata": {},
   "source": [
    "scaler = MinMaxScaler()\n",
    "scaler.fit(X_train)\n",
    "\n",
    "#print(scaler.data_max_)\n",
    "\n",
    "X_train_ = scaler.transform(X_train)\n",
    "#print(np.max(X_train_))"
   ]
  },
  {
   "cell_type": "raw",
   "metadata": {},
   "source": []
  },
  {
   "cell_type": "code",
   "execution_count": 197,
   "metadata": {},
   "outputs": [],
   "source": [
    "#input_dim = X_train[0].shape[1]\n",
    "\n",
    "loss_fn = \"mse\"#KLDivergence()# mean_squared_error# \"mse\"# MeanSquaredError()# BinaryCrossentropy() loss='kld'\n",
    "\n",
    "file = Path(f'modelle//autoencoder_transposed_{time.time()}.h5').absolute().as_posix()\n",
    "\n",
    "input_dim = Gp.shape[1]\n",
    "\n",
    "nb_epoch = 100\n",
    "batch_size = 5\n",
    "patience = 30"
   ]
  },
  {
   "cell_type": "code",
   "execution_count": null,
   "metadata": {},
   "outputs": [],
   "source": [
    "\n",
    "    "
   ]
  },
  {
   "cell_type": "code",
   "execution_count": 198,
   "metadata": {},
   "outputs": [
    {
     "name": "stdout",
     "output_type": "stream",
     "text": [
      "Model: \"model_5\"\n",
      "_________________________________________________________________\n",
      "Layer (type)                 Output Shape              Param #   \n",
      "=================================================================\n",
      "input_6 (InputLayer)         [(None, 84)]              0         \n",
      "_________________________________________________________________\n",
      "dense_20 (Dense)             (None, 42)                3570      \n",
      "_________________________________________________________________\n",
      "dropout_10 (Dropout)         (None, 42)                0         \n",
      "_________________________________________________________________\n",
      "dense_21 (Dense)             (None, 21)                903       \n",
      "_________________________________________________________________\n",
      "dropout_11 (Dropout)         (None, 21)                0         \n",
      "_________________________________________________________________\n",
      "dense_22 (Dense)             (None, 42)                924       \n",
      "_________________________________________________________________\n",
      "dense_23 (Dense)             (None, 84)                3612      \n",
      "=================================================================\n",
      "Total params: 9,009\n",
      "Trainable params: 9,009\n",
      "Non-trainable params: 0\n",
      "_________________________________________________________________\n"
     ]
    }
   ],
   "source": [
    "\n",
    "autoencoder, checkpointer, early_stopping = create_model(loss_fn, input_dim, file)\n",
    "\n",
    "autoencoder.summary()"
   ]
  },
  {
   "cell_type": "code",
   "execution_count": 199,
   "metadata": {
    "scrolled": true
   },
   "outputs": [
    {
     "name": "stdout",
     "output_type": "stream",
     "text": [
      "saving model to D:/Documents/Uni/!code/git/python/proj/modelle/autoencoder_transposed_1596642501.1104295.h5\n",
      "Epoch 1/100\n",
      "1140/1140 [==============================] - 9s 8ms/step - loss: 0.4468 - accuracy: 0.9524 - val_loss: 0.0444 - val_accuracy: 0.9967\n",
      "Epoch 2/100\n",
      "1140/1140 [==============================] - 9s 8ms/step - loss: 0.1072 - accuracy: 0.9903 - val_loss: 0.0282 - val_accuracy: 0.9928\n",
      "Epoch 3/100\n",
      "1140/1140 [==============================] - 9s 8ms/step - loss: 0.0762 - accuracy: 0.9925 - val_loss: 0.0431 - val_accuracy: 0.9951\n",
      "Epoch 4/100\n",
      "1140/1140 [==============================] - 9s 8ms/step - loss: 0.0686 - accuracy: 0.9916 - val_loss: 0.0399 - val_accuracy: 0.9975\n",
      "Epoch 5/100\n",
      "1140/1140 [==============================] - 9s 8ms/step - loss: 0.0576 - accuracy: 0.9939 - val_loss: 0.0613 - val_accuracy: 0.9956\n",
      "Epoch 6/100\n",
      "1140/1140 [==============================] - 9s 8ms/step - loss: 0.0542 - accuracy: 0.9925 - val_loss: 0.0554 - val_accuracy: 0.9965\n",
      "Epoch 7/100\n",
      "1140/1140 [==============================] - 11s 10ms/step - loss: 0.0496 - accuracy: 0.9919 - val_loss: 0.0725 - val_accuracy: 0.9965\n",
      "Epoch 8/100\n",
      "1140/1140 [==============================] - 10s 9ms/step - loss: 0.0460 - accuracy: 0.9947 - val_loss: 0.0523 - val_accuracy: 0.9963\n",
      "Epoch 9/100\n",
      "1140/1140 [==============================] - 11s 10ms/step - loss: 0.0437 - accuracy: 0.9947 - val_loss: 0.0638 - val_accuracy: 0.9954\n",
      "Epoch 10/100\n",
      "1140/1140 [==============================] - 10s 9ms/step - loss: 0.0424 - accuracy: 0.9949 - val_loss: 0.0375 - val_accuracy: 0.9961\n",
      "Epoch 11/100\n",
      "1140/1140 [==============================] - 10s 9ms/step - loss: 0.0396 - accuracy: 0.9940 - val_loss: 0.0504 - val_accuracy: 0.9981\n",
      "Epoch 12/100\n",
      "1140/1140 [==============================] - 10s 9ms/step - loss: 0.0385 - accuracy: 0.9939 - val_loss: 0.0892 - val_accuracy: 0.9961\n",
      "Epoch 13/100\n",
      "1140/1140 [==============================] - 10s 9ms/step - loss: 0.0391 - accuracy: 0.9937 - val_loss: 0.0817 - val_accuracy: 0.9956\n",
      "Epoch 14/100\n",
      "1140/1140 [==============================] - 11s 9ms/step - loss: 0.0371 - accuracy: 0.9937 - val_loss: 0.0367 - val_accuracy: 0.9958\n",
      "Epoch 15/100\n",
      "1140/1140 [==============================] - 10s 9ms/step - loss: 0.0377 - accuracy: 0.9933 - val_loss: 0.0634 - val_accuracy: 0.9967\n",
      "Epoch 16/100\n",
      "1140/1140 [==============================] - 11s 9ms/step - loss: 0.0330 - accuracy: 0.9947 - val_loss: 0.0661 - val_accuracy: 0.9972\n",
      "Epoch 17/100\n",
      "1140/1140 [==============================] - 10s 9ms/step - loss: 0.0342 - accuracy: 0.9949 - val_loss: 0.0743 - val_accuracy: 0.9954\n",
      "Epoch 18/100\n",
      "1140/1140 [==============================] - 10s 9ms/step - loss: 0.0320 - accuracy: 0.9935 - val_loss: 0.0828 - val_accuracy: 0.9937\n",
      "Epoch 19/100\n",
      "1140/1140 [==============================] - 10s 9ms/step - loss: 0.0297 - accuracy: 0.9926 - val_loss: 0.0732 - val_accuracy: 0.9974\n",
      "Epoch 20/100\n",
      "1140/1140 [==============================] - 10s 9ms/step - loss: 0.0317 - accuracy: 0.9942 - val_loss: 0.0646 - val_accuracy: 0.9970\n",
      "Epoch 21/100\n",
      "1140/1140 [==============================] - 10s 9ms/step - loss: 0.0299 - accuracy: 0.9944 - val_loss: 0.0675 - val_accuracy: 0.9975\n",
      "Epoch 22/100\n",
      "1140/1140 [==============================] - 10s 9ms/step - loss: 0.0304 - accuracy: 0.9933 - val_loss: 0.0753 - val_accuracy: 0.9949\n",
      "Epoch 23/100\n",
      "1140/1140 [==============================] - 10s 9ms/step - loss: 0.0290 - accuracy: 0.9939 - val_loss: 0.0839 - val_accuracy: 0.9921\n",
      "Epoch 24/100\n",
      "1140/1140 [==============================] - 10s 9ms/step - loss: 0.0296 - accuracy: 0.9960 - val_loss: 0.0704 - val_accuracy: 0.9977\n",
      "Epoch 25/100\n",
      "1140/1140 [==============================] - 10s 9ms/step - loss: 0.0281 - accuracy: 0.9937 - val_loss: 0.0546 - val_accuracy: 0.9979\n",
      "Epoch 26/100\n",
      "1140/1140 [==============================] - 10s 9ms/step - loss: 0.0281 - accuracy: 0.9953 - val_loss: 0.0826 - val_accuracy: 0.9970\n",
      "Epoch 27/100\n",
      "1140/1140 [==============================] - 11s 9ms/step - loss: 0.0266 - accuracy: 0.9954 - val_loss: 0.0652 - val_accuracy: 0.9939\n",
      "Epoch 28/100\n",
      "1140/1140 [==============================] - 11s 9ms/step - loss: 0.0280 - accuracy: 0.9951 - val_loss: 0.0847 - val_accuracy: 0.9974\n",
      "Epoch 29/100\n",
      "1140/1140 [==============================] - 10s 9ms/step - loss: 0.0278 - accuracy: 0.9949 - val_loss: 0.0884 - val_accuracy: 0.9965\n",
      "Epoch 30/100\n",
      "1140/1140 [==============================] - 10s 9ms/step - loss: 0.0268 - accuracy: 0.9946 - val_loss: 0.0670 - val_accuracy: 0.9972\n",
      "Epoch 31/100\n",
      "1140/1140 [==============================] - 10s 9ms/step - loss: 0.0270 - accuracy: 0.9949 - val_loss: 0.0850 - val_accuracy: 0.9953\n",
      "Epoch 32/100\n",
      "1140/1140 [==============================] - 11s 9ms/step - loss: 0.0264 - accuracy: 0.9951 - val_loss: 0.0672 - val_accuracy: 0.9967\n"
     ]
    }
   ],
   "source": [
    "print(f'saving model to {file}')\n",
    "history = autoencoder.fit(G_trainp, G_trainp,\n",
    "                    epochs=nb_epoch,\n",
    "                    batch_size=batch_size,\n",
    "                    shuffle=True,                                                                 \n",
    "                    validation_data=(G_validp, G_validp),\n",
    "                    verbose=1,\n",
    "                    callbacks=[checkpointer, early_stopping])\n",
    "\n",
    "#autoencoder.save_weights('./results/ae_weights.h5')"
   ]
  },
  {
   "cell_type": "code",
   "execution_count": 200,
   "metadata": {},
   "outputs": [
    {
     "data": {
      "image/png": "[encoded data removed]",
      "text/plain": [
       "<Figure size 1152x720 with 1 Axes>"
      ]
     },
     "metadata": {
      "needs_background": "light"
     },
     "output_type": "display_data"
    },
    {
     "name": "stdout",
     "output_type": "stream",
     "text": [
      "min val loss: 0.028180863708257675\n"
     ]
    }
   ],
   "source": [
    "#ticks = np.arange(0.0,1.01,0.05)\n",
    "\n",
    "fig = plt.figure(figsize=(16,10))\n",
    "df = pd.DataFrame(history.history)\n",
    "\n",
    "#plt.yticks(ticks)\n",
    "#plt.ylim(0.1,1.05)\n",
    "plt.xlabel('epochs')\n",
    "plt.plot(df)\n",
    "plt.legend(df.columns)\n",
    "plt.show()\n",
    "\n",
    "print('min val loss:',min(history.history['val_loss']))"
   ]
  },
  {
   "cell_type": "code",
   "execution_count": null,
   "metadata": {},
   "outputs": [],
   "source": []
  },
  {
   "cell_type": "code",
   "execution_count": 201,
   "metadata": {},
   "outputs": [
    {
     "data": {
      "image/png": "[encoded data removed]",
      "text/plain": [
       "<Figure size 1296x432 with 1 Axes>"
      ]
     },
     "metadata": {
      "needs_background": "light"
     },
     "output_type": "display_data"
    }
   ],
   "source": [
    "lab = ['train','test','validation']\n",
    "title = ['1 good', '0 defect']\n",
    "sets = [[G_trainp, G_testp, G_validp], [D_trainp, D_testp, D_validp]]\n",
    "\n",
    "\n",
    "for t, set_ in zip(title, sets):\n",
    "    \n",
    "    fig = plt.figure(figsize=(18,6))\n",
    "    plt.ylabel('loss')\n",
    "    plt.xlabel('data index')\n",
    "    plt.grid(linestyle=':', linewidth=0.5)\n",
    "\n",
    "    plt.title(f'autoencoder reconstruction error: {t}')\n",
    "    \n",
    "    for l, s in zip(lab, set_):\n",
    "        \n",
    "        predictions = autoencoder.predict(s)\n",
    "        loss = np.mean(np.power(s - predictions, 2), axis=1)\n",
    "\n",
    "        color = cm.Accent(ind)\n",
    "\n",
    "        error_df = pd.DataFrame({'reconstruction_error': loss})\n",
    "        error_df.sort_index(inplace=True)\n",
    "        error_df.reset_index(inplace=True)\n",
    "\n",
    "        ax.plot(error_df['reconstruction_error'], label=f'{l}', color=color)\n",
    "    \n",
    "    \n",
    "plt.legend()\n",
    "plt.show()"
   ]
  },
  {
   "cell_type": "code",
   "execution_count": null,
   "metadata": {},
   "outputs": [],
   "source": [
    "lab = ['train','test','validation']\n",
    "\n",
    "fig = plt.figure(figsize=(18,6))\n",
    "plt.ylabel('loss')\n",
    "plt.xlabel('data index')\n",
    "plt.grid(linestyle=':', linewidth=0.5)\n",
    "\n",
    "plt.title('autoencoder reconstruction error: Defect Lines')\n",
    "\n",
    "for ind, d in enumerate():\n",
    "    \n",
    "    predictions = autoencoder.predict(d)\n",
    "    loss = np.mean(np.power(d - predictions, 2), axis=1)\n",
    "\n",
    "    color = cm.Accent(ind)\n",
    "    \n",
    "    error_df = pd.DataFrame({'reconstruction_error': loss})\n",
    "    error_df.sort_index(inplace=True)\n",
    "    error_df.reset_index(inplace=True)\n",
    "    \n",
    "    plt.plot(error_df['reconstruction_error'], label=f'{lab[ind]}', color=color)\n",
    "    \n",
    "    \n",
    "plt.legend()\n",
    "plt.show()"
   ]
  },
  {
   "cell_type": "code",
   "execution_count": null,
   "metadata": {},
   "outputs": [],
   "source": [
    "lab = ['0 defect','1 good']\n",
    "\n",
    "fig = plt.figure(figsize=(18,6))\n",
    "plt.ylabel('loss')\n",
    "plt.xlabel('data index')\n",
    "plt.grid(linestyle=':', linewidth=0.5)\n",
    "\n",
    "plt.title('autoencoder reconstruction error')\n",
    "\n",
    "for ind, d in enumerate([Dp, Gp]):\n",
    "    \n",
    "    predictions = autoencoder.predict(d)\n",
    "    loss = np.mean(np.power(d - predictions, 2), axis=1)\n",
    "\n",
    "    color = cm.Dark2(ind)\n",
    "    \n",
    "    error_df = pd.DataFrame({'reconstruction_error': loss})\n",
    "    error_df.sort_index(inplace=True)\n",
    "    error_df.reset_index(inplace=True)\n",
    "    \n",
    "    plt.plot(error_df['reconstruction_error'], label=f'{lab[ind]}', color=color)\n",
    "    \n",
    "    \n",
    "\n",
    "threshold = np.max(error_df[1:]['reconstruction_error'])\n",
    "\n",
    "\n",
    "plt.axhline(threshold,-1,17100, color='tab:grey', linestyle='--', lw=2, alpha=0.5, label='threshold')\n",
    "    \n",
    "plt.legend()\n",
    "plt.show()"
   ]
  },
  {
   "cell_type": "code",
   "execution_count": null,
   "metadata": {},
   "outputs": [],
   "source": []
  },
  {
   "cell_type": "markdown",
   "metadata": {},
   "source": [
    "## classify with autoencoder reconstruction error"
   ]
  },
  {
   "cell_type": "code",
   "execution_count": null,
   "metadata": {},
   "outputs": [],
   "source": [
    "#autoencoder = load_model(\"autoencoder3.h5\")\n",
    "\n",
    "fig = plt.figure(figsize=(18,6))\n",
    "plt.ylabel('loss')\n",
    "plt.xlabel('data index')\n",
    "#plt.ylim((0, 1000))\n",
    "plt.title('autoencoder reconstruction error')\n",
    "\n",
    "plt.grid(linestyle=':', linewidth=0.5)\n",
    "\n",
    "for i in [0, 1]:\n",
    "    predictions = autoencoder.predict(X_train[Y_train==i])\n",
    "    \n",
    "    color = cm.Dark2(i)\n",
    "    \n",
    "    #loss = loss_fn(X_train[Y_train==i], predictions).numpy()\n",
    "    loss = np.mean(np.power(X_train[Y_train==i] - predictions, 2), axis=1)\n",
    "\n",
    "    error_df = pd.DataFrame({'reconstruction_error': loss, 'true_class': Y_train[Y_train==i]})\n",
    "    error_df.sort_index(inplace=True)\n",
    "    error_df.reset_index(inplace=True)\n",
    "    plt.plot(error_df['reconstruction_error'], label=f'{i} {title[i]}', color=color)\n",
    "    \n",
    "\n",
    "predictions = autoencoder.predict(X_train)\n",
    "mse = np.mean(np.power(X_train - predictions, 2), axis=1)\n",
    "threshold = np.max(error_df[1:]['reconstruction_error'])\n",
    "\n",
    "\n",
    "plt.axhline(threshold,-5,235, color='r', linestyle='--', label='threshold')\n",
    "plt.legend()\n",
    "plt.show()\n",
    "\n",
    "print(f'Mean mse of decoded vals: {np.mean(mse)}\\nDecision threshold of decoded vals: {threshold}')\n",
    "\n",
    "\n",
    "y_pred_ae = ae_classy(mse,threshold)\n",
    "        \n",
    "        \n",
    "unique, counts = np.unique(y_pred_ae, return_counts=True)\n",
    "    \n",
    "print('Class prediction done: ',unique,counts)\n"
   ]
  },
  {
   "cell_type": "markdown",
   "metadata": {},
   "source": []
  },
  {
   "cell_type": "code",
   "execution_count": null,
   "metadata": {},
   "outputs": [],
   "source": []
  },
  {
   "cell_type": "code",
   "execution_count": null,
   "metadata": {},
   "outputs": [],
   "source": []
  },
  {
   "cell_type": "code",
   "execution_count": null,
   "metadata": {},
   "outputs": [],
   "source": [
    "y_pred_ae = np.array(y_pred_ae)\n",
    "\n",
    "ae_auc = clust_eval(y_pred_ae, Y_train, \"autoencoder\")\n",
    "aucs.append(ae_auc)"
   ]
  },
  {
   "cell_type": "code",
   "execution_count": null,
   "metadata": {},
   "outputs": [],
   "source": []
  },
  {
   "cell_type": "code",
   "execution_count": null,
   "metadata": {},
   "outputs": [],
   "source": [
    "tit = ['GMM', 'kmeans', 'OCSVM', 'AE']\n",
    "pos = range(len(tit))\n",
    "\n",
    "fig = plt.figure(figsize=(14,7))\n",
    "\n",
    "ax = fig.add_subplot(111)\n",
    "\n",
    "ax.bar(pos, aucs, align='center')\n",
    "plt.xticks(pos, tit)\n",
    "ax.set_title('AUC')\n",
    "\n",
    "\n",
    "\n",
    "\n",
    "for ind, i in enumerate(ax.patches):\n",
    "    ax.annotate(f'{aucs[ind]:.4}', (ind,1), xytext=(0,1), textcoords=\"offset points\",\n",
    "                    ha='center', va='bottom')\n",
    "    \n",
    "plt.show()"
   ]
  },
  {
   "cell_type": "markdown",
   "metadata": {},
   "source": [
    "# Visualisierung des Datensets mit t-SNE"
   ]
  },
  {
   "cell_type": "code",
   "execution_count": null,
   "metadata": {},
   "outputs": [],
   "source": []
  },
  {
   "cell_type": "code",
   "execution_count": null,
   "metadata": {
    "scrolled": true
   },
   "outputs": [],
   "source": [
    "\n",
    "X_train_tsne = []\n",
    "lr = 10\n",
    "\n",
    "p = [3] #[1, 3, 5, 10, 30, 50, 90] \n",
    "\n",
    "\n",
    "for ind, i in enumerate(p):\n",
    "    print(f'##############\\n{ind+1}/{len(p)}: t-sne p={i} learning_rate={lr} for {np.shape(X_train)}\\n##############')\n",
    "    tsne = TSNE(n_components=2,  perplexity=i, learning_rate=lr, verbose=0, angle=0.2, n_jobs=-1)\n",
    "    Y = tsne.fit_transform(X_train)\n",
    "\n",
    "    X_train_tsne.append(Y)"
   ]
  },
  {
   "cell_type": "code",
   "execution_count": null,
   "metadata": {
    "scrolled": false
   },
   "outputs": [],
   "source": [
    "for i, Y in zip(p, X_train_tsne):\n",
    "    print('############## plot',np.shape(Y),' for p =',i,'####################################################################')\n",
    "    fig = plt.figure(figsize=(14,14))\n",
    "    ax = fig.add_subplot(221)\n",
    "    ax.set_title(f'tsne reduced: perplexity={i} GMM class')\n",
    "    scat = ax.scatter(Y[:,0], Y[:,1], marker='.', c=labels , cmap=cm. copper)\n",
    "    plt.legend(*scat.legend_elements(), loc=\"lower left\", title=\"Classes\")\n",
    "    \n",
    "    ax1 = fig.add_subplot(222)\n",
    "    ax1.set_title(f'tsne reduced: perplexity={i} ocsvm class')\n",
    "    scat1 = ax1.scatter(Y[:,0], Y[:,1], marker='.', c=ocsvm_pred , cmap=cm.copper)\n",
    "    plt.legend(*scat1.legend_elements(), loc=\"lower left\", title=\"Classes\")\n",
    "\n",
    "    ax2 = fig.add_subplot(223)\n",
    "    ax2.set_title(f'tsne reduced: perplexity={i} autoencoder class')\n",
    "    scat2 = ax2.scatter(Y[:,0], Y[:,1], marker='.', c=y_pred_ae, cmap=cm.copper)\n",
    "    plt.legend(*scat2.legend_elements(), loc=\"lower left\", title=\"Classes\")\n",
    "    \n",
    "    ax3 = fig.add_subplot(224)\n",
    "    ax3.set_title(f'tsne reduced: perplexity={i} true class')\n",
    "    scat3 = ax3.scatter(Y[:,0], Y[:,1], marker='.', c=Y_train, cmap=cm.copper)\n",
    "    plt.legend(*scat3.legend_elements(), loc=\"lower left\", title=\"Classes\")\n",
    "    \n",
    "    plt.show()\n",
    "    "
   ]
  },
  {
   "cell_type": "code",
   "execution_count": null,
   "metadata": {
    "scrolled": true
   },
   "outputs": [],
   "source": []
  },
  {
   "cell_type": "code",
   "execution_count": null,
   "metadata": {},
   "outputs": [],
   "source": []
  },
  {
   "cell_type": "markdown",
   "metadata": {
    "scrolled": true
   },
   "source": [
    "# Lernkurve Autoencoder"
   ]
  },
  {
   "cell_type": "code",
   "execution_count": null,
   "metadata": {},
   "outputs": [],
   "source": [
    "loss_0 = []\n",
    "loss_1 = []\n",
    "loss_train = []\n",
    "loss_val = []\n",
    "\n",
    "time_start2 = time.time()\n",
    "time_start = time.time()\n",
    "over = [1 ,2 , 3, 4, 6, 8, 10, 12, 14, 16, 18, 20, 22, 24, 26, 28, 30, 32, 37, 42, 47, 52, 57, 62, 67, 72, 77, 82, 87, 92, 97,\n",
    "        102, 107, 112, 122, 142, 152, 162, 172, 182, 192, 202, 212, 222]\n",
    "\n",
    "interval = len(over)/4\n",
    "\n",
    "print(f'learning curve for {len(over)} iterations... ')\n",
    "\n",
    "for ind, d in enumerate(over):\n",
    "    \n",
    "    file = Path(f'lc//autoencoder_{time.time()}_{ind}.h5').absolute().as_posix()\n",
    "\n",
    "    x_train_lc = x_train[y_train==1][:d]\n",
    "    x_valid_lc = x_valid[y_valid==1][:d]\n",
    "    X_train[Y_train==i]\n",
    "    \n",
    "    lcmodel, checkpointer, early_stopping = create_model(loss_fn, input_dim, file)\n",
    "\n",
    "    \n",
    "    lchistory = lcmodel.fit(x_train_lc, x_train_lc,\n",
    "                            epochs=nb_epoch,\n",
    "                            batch_size=batch_size,\n",
    "                            shuffle=True,  \n",
    "                            validation_data=(x_valid_lc, x_valid_lc),\n",
    "                            verbose=0,\n",
    "                            callbacks=[checkpointer, early_stopping])\n",
    "    \n",
    "    loss = []\n",
    "    \n",
    "    for i in [0,1]:\n",
    "        predictions = lcmodel.predict(X_train[Y_train==i])\n",
    "        loss.append(np.mean(np.power(X_train[Y_train==i] - predictions, 2), axis=1))\n",
    "    \n",
    "    loss_train.append(np.mean(lchistory.history['loss']))\n",
    "    loss_val.append(np.mean(lchistory.history['val_loss']))\n",
    "    loss_0.append(np.mean(loss[0]))\n",
    "    loss_1.append(np.mean(loss[1]))\n",
    "    \n",
    "    if (interval==ind+1):\n",
    "        print(f'Done {ind+1} iterations so far.. took {time.time()-time_start:.8}s..')\n",
    "        time_start = time.time()\n",
    "        interval=interval+len(over)/4\n",
    "        \n",
    "print(f'Done... took {time.time()-time_start2:.8}s')"
   ]
  },
  {
   "cell_type": "code",
   "execution_count": null,
   "metadata": {},
   "outputs": [],
   "source": []
  },
  {
   "cell_type": "code",
   "execution_count": null,
   "metadata": {},
   "outputs": [],
   "source": [
    "fig = plt.figure(figsize=(16,10))\n",
    "\n",
    "plt.ylim(0.05,0.37)\n",
    "plt.xlim(-2,225)\n",
    "plt.title('autoencoder lernkurve')\n",
    "plt.xlabel('trainingset size')\n",
    "plt.ylabel('loss')\n",
    "plt.plot(over, loss_0, label='whole 0')\n",
    "plt.plot(over, loss_1, label='whole 1')\n",
    "plt.plot(over, loss_train, label='train')\n",
    "plt.plot(over, loss_val, label='val')\n",
    "plt.legend()\n",
    "plt.show()\n"
   ]
  },
  {
   "cell_type": "code",
   "execution_count": null,
   "metadata": {},
   "outputs": [],
   "source": []
  },
  {
   "cell_type": "code",
   "execution_count": null,
   "metadata": {},
   "outputs": [],
   "source": []
  },
  {
   "cell_type": "markdown",
   "metadata": {},
   "source": [
    "# Fazit"
   ]
  },
  {
   "cell_type": "code",
   "execution_count": null,
   "metadata": {},
   "outputs": [],
   "source": []
  }
 ],
 "metadata": {
  "kernelspec": {
   "display_name": "Python 3",
   "language": "python",
   "name": "python3"
  },
  "language_info": {
   "codemirror_mode": {
    "name": "ipython",
    "version": 3
   },
   "file_extension": ".py",
   "mimetype": "text/x-python",
   "name": "python",
   "nbconvert_exporter": "python",
   "pygments_lexer": "ipython3",
   "version": "3.7.0"
  }
 },
 "nbformat": 4,
 "nbformat_minor": 4
}
