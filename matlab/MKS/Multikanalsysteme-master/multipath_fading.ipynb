{
 "cells": [
  {
   "cell_type": "markdown",
   "metadata": {},
   "source": [
    "# Demonstration of multipath fading\n",
    "\n",
    "This demo is supposed to visualize the effect of [multipath](https://en.wikipedia.org/wiki/Multipath_propagation) [fading](https://en.wikipedia.org/wiki/Fading) in a wireless transmission scenario.\n",
    "\n",
    "This demo is written by [Markus Nölle](https://www.htw-berlin.de/hochschule/personen/person/?eid=9586) for a basic course on [MIMO transmission](https://en.wikipedia.org/wiki/MIMO) hold at the [university of applied siences, Berlin](https://www.htw-berlin.de/)."
   ]
  },
  {
   "cell_type": "markdown",
   "metadata": {},
   "source": [
    "## Import libraries and set defaults"
   ]
  },
  {
   "cell_type": "code",
   "execution_count": 1,
   "metadata": {},
   "outputs": [],
   "source": [
    "import numpy as np\n",
    "import scipy.signal as signal\n",
    "import matplotlib.pyplot as plt\n",
    "import ipywidgets as widgets\n",
    "from mpl_toolkits.axes_grid1.inset_locator import inset_axes\n",
    "\n",
    "plt.style.use('noelle.mplstyle')"
   ]
  },
  {
   "cell_type": "code",
   "execution_count": 2,
   "metadata": {},
   "outputs": [],
   "source": [
    "def rotate(x, y, phi):\n",
    "    xr = x*np.cos(phi) + y*-np.sin(phi)\n",
    "    yr = x*np.sin(phi) + y*np.cos(phi)\n",
    "    \n",
    "    return xr, yr"
   ]
  },
  {
   "cell_type": "code",
   "execution_count": 3,
   "metadata": {},
   "outputs": [],
   "source": [
    "def plotWaves(x, y, axLim, fig, label=None):\n",
    "\n",
    "    fig = plt.figure(fig)    \n",
    "    ax = fig.add_axes((1,1,1,1), label=label)\n",
    "    ax.plot(x, y)\n",
    "    ax.axis((-2, axLim+2, (-axLim+4)/2, (axLim+4)/2))\n",
    "    ax.grid(True)\n",
    "    ax.set_aspect('equal','box')"
   ]
  },
  {
   "cell_type": "markdown",
   "metadata": {},
   "source": [
    "## Frequency selective fading in a simplified two-path scenario\n",
    "\n",
    "For the sake of simplicity, only two propagation paths are considered here. That means that the signal from the transmit antenna propagates via a direct path ([line of sight, LOS](https://en.wikipedia.org/wiki/Line-of-sight_propagation)) on the one hand and via a reflected path ([non line of sight, NLOS](https://en.wikipedia.org/wiki/Non-line-of-sight_propagation)) on the other and these two signals combine at the receive antenna. This scenario is depicted below: The transmitter and receiver are located at point A and B, respectively and the reflection of the NLOS signale takes place at point C.\n",
    "\n",
    "![Dreieck](https://upload.wikimedia.org/wikipedia/commons/d/dd/Dreieck.svg)\n",
    "\n",
    "In this demonstration, the propagation delay ($\\Delta\\tau$) between the LOS and the NLOS path, their amplitude ratio ($\\Delta a$) and the frequency ($f$) of transmitted wave can be varied. \n",
    "\n",
    "It can be observed that the two waves do interfere either constructively or destructively at the receive antenna, depending on their particular frequency. This results in either a large or a small resulting signal amplitude at the reciever. This effect that the propagation channel treats various signal frequencies differently (amplifies some and attenuates others) is called [frequency-selective fading](https://en.wikipedia.org/wiki/Fading#Selective_fading) and is (amongst other effects) responsible for signal distortions in a wireless channel.\n",
    "\n",
    "By changing the propagation delay between the two paths, the frequencies at which the resulting signal is attenuated or amplified changes. Meaning that a different delay completely changes the behaviour of the wireless transmission channel. In this simplified example of only two interacting waves, the frequency dependent pattern of the received signal amplitude is periodic and cosine shaped. The frequency location of the minima and maxima of the received signal amplitude depend on the actual delay $\\Delta\\tau$. Further, the heights of the minima and maxima depend on the ratio of hte amplitudes of the interacting waves $\\Delta a$."
   ]
  },
  {
   "cell_type": "code",
   "execution_count": 4,
   "metadata": {},
   "outputs": [
    {
     "data": {
      "application/vnd.jupyter.widget-view+json": {
       "model_id": "45c1403a16a1466f966bb530c7469d90",
       "version_major": 2,
       "version_minor": 0
      },
      "text/plain": [
       "HBox(children=(FloatSlider(value=2.0, continuous_update=False, description='$\\\\Delta \\\\tau:$', max=8.0, step=1…"
      ]
     },
     "metadata": {},
     "output_type": "display_data"
    },
    {
     "data": {
      "application/vnd.jupyter.widget-view+json": {
       "model_id": "ccb1ce5416fc45a0ad2a2bc5820aaa22",
       "version_major": 2,
       "version_minor": 0
      },
      "text/plain": [
       "Output(layout=Layout(height='350px'))"
      ]
     },
     "metadata": {},
     "output_type": "display_data"
    }
   ],
   "source": [
    "def plot_multipath_fading(d_tau, f, d_amp):\n",
    "\n",
    "    d_x = 1e-3 # step size in m\n",
    "    v = 1 # velocity of the waves in m/s\n",
    "    amp_los = 0.5 # amplitude of los wave\n",
    "    amp_nlos = amp_los * d_amp # amplitude of nlos wave\n",
    "    ratio_b_a = 0.3 # length ratio between path a and b\n",
    "    c = 10 # length of path c (LOS)\n",
    "\n",
    "    b = ratio_b_a*(c+v*d_tau)\n",
    "    a = (c+v*d_tau) - b\n",
    "    B_x = c\n",
    "    B_y = 0\n",
    "\n",
    "    df = 1/((a+b)/v)  \n",
    "    frequencies = np.arange(df/4,2,df/10)\n",
    "\n",
    "    alpha = np.arccos((b**2+c**2-a**2)/(2*b*c))\n",
    "    beta = np.arccos((a**2+c**2-b**2)/(2*a*c))\n",
    "\n",
    "    interference = np.ones_like(frequencies)\n",
    "    # index of selected frequency\n",
    "    f_idx = np.argmin(np.abs(frequencies-f))\n",
    "\n",
    "    for idx, frequency in enumerate(frequencies):\n",
    "\n",
    "        k = 2*np.pi/v*frequency # 2*pi/lambda   \n",
    "        tmp_b_x, tmp_b_y = rotate(np.arange(0,b,d_x), amp_los*np.sin(k*np.arange(0,b,d_x)), alpha)\n",
    "    \n",
    "        C_x, C_y = rotate(b, 0, alpha);\n",
    "        tmp_a_x, tmp_a_y = rotate(np.arange(0,a,d_x), amp_nlos*np.sin(k*(np.arange(0,a,d_x)+b)), -beta)\n",
    "        tmp_a_x = tmp_a_x + C_x\n",
    "        tmp_a_y = tmp_a_y + C_y\n",
    "\n",
    "        tmp_c_x = np.arange(0,c,d_x)\n",
    "        tmp_c_y = amp_los*np.sin(k*np.arange(0,c,d_x))\n",
    "                \n",
    "        interference[idx] = np.abs(amp_los*np.exp(1j*k*((a+b)-d_x)) + amp_nlos*np.exp(1j*k*(c-d_x)))\n",
    "        \n",
    "        if idx == f_idx:\n",
    "            # save wave at selected frequency\n",
    "            w_a_x, w_a_y, w_b_x, w_b_y, w_c_x, w_c_y = tmp_a_x, tmp_a_y, tmp_b_x, tmp_b_y, tmp_c_x, tmp_c_y\n",
    "            los = amp_los*np.exp(1j*k*((a+b)-d_x))\n",
    "            nlos = amp_nlos*np.exp(1j*k*(c-d_x))\n",
    "\n",
    "    reflector_x, reflector_y = rotate(np.arange(-2,2,0.1), 0, (alpha-beta)/2)\n",
    "    reflector_x = reflector_x + C_x\n",
    "    reflector_y = reflector_y + C_y\n",
    "    \n",
    "    # plotting\n",
    "    n_row = 1\n",
    "    n_col = 3\n",
    "    fig_size = [i*j for i,j in zip(plt.rcParams['figure.figsize'], [n_col, n_row])]\n",
    "    fig = plt.figure(figsize=fig_size)\n",
    "    fig.clf()\n",
    "    ax = fig.add_subplot(n_row,n_col,1)\n",
    "    ax.plot(w_a_x,  w_a_y, 'C0')\n",
    "    ax.plot(w_b_x,  w_b_y, 'C0')\n",
    "    ax.plot(w_c_x,  w_c_y, 'C1')\n",
    "    ax.text(-1.5,-0.5,'Tx', size=16)\n",
    "    ax.text(B_x,-0.5,'Rx', size=16)    \n",
    "    ax.axis([-2, c+2, (-c+4)/2, (c+4)/2])    \n",
    "    plt.plot(reflector_x,  reflector_y, 'k')\n",
    "    ax.axis('off')\n",
    "    \n",
    "    axins = inset_axes(ax, width=1, height=1)\n",
    "    axins.plot(w_a_x,  w_a_y, 'C0')\n",
    "    axins.plot(w_c_x,  w_c_y, 'C1')\n",
    "    axins.plot(np.ones(20)*B_x, np.arange(-1,1,0.1), 'C1')\n",
    "    tmp_x, tmp_y = rotate(np.zeros(20), np.arange(-1,1,0.1), -beta)\n",
    "    axins.plot(tmp_x+B_x, tmp_y+B_y, 'C0')\n",
    "    axins.plot(w_a_x[-1], w_a_y[-1], 'C0o', ms=10)\n",
    "    axins.plot(w_c_x[-1], w_c_y[-1], 'C1o', ms=10)\n",
    "    axins.axis([B_x-0.5, B_x+0.5, B_y-0.5, B_y+0.5])\n",
    "    axins.set_xticklabels([])\n",
    "    axins.set_yticklabels([])\n",
    "    axins.set_xticks([])\n",
    "    axins.set_yticks([])\n",
    "    \n",
    "    ax = fig.add_subplot(n_row,n_col,2)\n",
    "    a1 = ax.arrow(0,0,los.real, los.imag, color='C1', width=0.015, length_includes_head=True, label='LOS signal')\n",
    "    a2 = ax.arrow(los.real, los.imag,nlos.real, nlos.imag, color='C0', width=0.015, length_includes_head=True, label='NLOS signal')\n",
    "    a3 = ax.arrow(0, 0,nlos.real+los.real, nlos.imag+los.imag, color='C3', width=0.025, length_includes_head=True, label='combined signal')\n",
    "    ax.axis([-1, 1, -1, 1])\n",
    "    ax.set_xlabel('real part')\n",
    "    ax.set_ylabel('imaginary part')\n",
    "    ax.legend([a1, a2, a3], ['LOS signal', 'NLOS signal', 'combined signal'], loc=3)\n",
    "\n",
    "    ax = fig.add_subplot(n_row,n_col,3)\n",
    "    ax.plot(frequencies, abs(interference),ls='-', color=(0.8,0.8,0.8))\n",
    "    ax.plot(f, abs(interference[f_idx]),'C3o')\n",
    "    ax.axis([0, 2, 0, 1])\n",
    "    ax.set_xlabel('frequency / Hz')\n",
    "    ax.set_ylabel('amplitude at Rx')   \n",
    "    \n",
    "# sliders \n",
    "style = {'description_width': '30%'}\n",
    "w_d_tau = widgets.FloatSlider(min=0, max=8, step=1, value=2.0, continuous_update=False, description=r'$\\Delta \\tau:$', style=style)\n",
    "w_d_amp = widgets.FloatSlider(min=0, max=1.0, step=0.1, value=1.0, continuous_update=False, description=r'$\\Delta a:$', style=style)\n",
    "#w_c = widgets.FloatSlider(min=0, max=20, step=1, value=10.0, continuous_update=False, description=r'$c:$', style=style)\n",
    "#w_ratio_b_a = widgets.FloatSlider(min=0.1, max=1, step=0.1, value=0.33, continuous_update=False, description='ratio b/a:', style=style)\n",
    "w_f = widgets.FloatSlider(min=0, max=2, step=0.01, value=0.1, continuous_update=False, description=r'$f:$', style=style)\n",
    "   \n",
    "ui = widgets.HBox([w_d_tau, w_f, w_d_amp])\n",
    "out = widgets.interactive_output(plot_multipath_fading, {'d_tau':w_d_tau, 'f':w_f, 'd_amp':w_d_amp})\n",
    "\n",
    "out.layout.height = '350px'\n",
    "\n",
    "display(ui, out)"
   ]
  },
  {
   "cell_type": "markdown",
   "metadata": {},
   "source": [
    "## Frequency selective fading in a \"real\" multipath scenario\n",
    "\n",
    "In the more realistic case of multiple NLOS paths, each having different amplidues and delays, the pattern of the frequency selectiveness of the channel is more complex (compare lecture slides)."
   ]
  },
  {
   "cell_type": "markdown",
   "metadata": {},
   "source": [
    "## Frequency selective fading in combination with the Doppler effect\n",
    "\n",
    "The [Doppler effect](https://en.wikipedia.org/wiki/Doppler_effect) causes a frequency shift of the received signal, while the amount of this shift is dependent on the relative velocity and direction of the movement between transmitter and receiver. In a dynamic scenario of moving receive devices (smartphones and handhelds) the frequency of the received LOS and NLOS signals are therefore constantly changing, even when considering a fixed, constant transmit frequency. In combination with the effect of frequency selective fading visualized above, this results in a time varying amplitude of the received signal, commonly refferred to as [fast fading](https://en.wikipedia.org/wiki/Fading#Slow_versus_fast_fading).\n",
    "\n",
    "Two examples of this time varying amplitude fluctuations are shown below:\n",
    "\n",
    "<img src=\"https://upload.wikimedia.org/wikipedia/commons/e/e0/Rayleigh_fading_doppler_10Hz.svg\" width=\"30%\"> <img src=\"https://upload.wikimedia.org/wikipedia/commons/5/5c/Rayleigh_fading_doppler_100Hz.svg\" width=\"30%\">\n"
   ]
  }
 ],
 "metadata": {
  "kernelspec": {
   "display_name": "Python 3",
   "language": "python",
   "name": "python3"
  },
  "language_info": {
   "codemirror_mode": {
    "name": "ipython",
    "version": 3
   },
   "file_extension": ".py",
   "mimetype": "text/x-python",
   "name": "python",
   "nbconvert_exporter": "python",
   "pygments_lexer": "ipython3",
   "version": "3.7.3"
  }
 },
 "nbformat": 4,
 "nbformat_minor": 4
}
